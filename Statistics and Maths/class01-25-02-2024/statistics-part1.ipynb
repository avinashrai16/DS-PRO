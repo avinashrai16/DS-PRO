{
 "cells": [
  {
   "cell_type": "code",
   "execution_count": null,
   "metadata": {},
   "outputs": [],
   "source": [
    "# statistics is used for collecting and analyzing of data\n",
    "# Statistics is a branch of mathematics that involves collecting, analyzing, interpreting, \n",
    "# and presenting numerical data to make informed decisions and predictions about populations or phenomena. \n",
    "# It encompasses methods for summarizing data, drawing inferences, and testing hypotheses to uncover patterns and trends.\n",
    "\n",
    "\n",
    "# statistics is a mathematical science including method of collecting , \n",
    "# organizing and analyzing data in such a way that meaningful conclusion can be drawn from them.\n",
    "\n",
    "# data: data is a piece of information that can be stored and retrieved."
   ]
  },
  {
   "cell_type": "code",
   "execution_count": null,
   "metadata": {},
   "outputs": [],
   "source": [
    "# type of statistics:\n",
    "# Descriptive : When we Describe the data : organizing and summarizing of data population\n",
    "# Descriptive statistics summarize and describe the main features of a dataset. \n",
    "# Examples include measures like mean, median, and mode, providing insights into the central tendency and variability of the data. \n",
    "# For instance, the average height (mean) of a group of people or the most frequently occurring value (mode) in a set of exam scores.\n",
    "# This includes \n",
    "# measures of central tendency (mean, median, mode), \n",
    "# measures of variability (range, variance, standard deviation), \n",
    "# frequency distributions, graphical representations (histograms, box plots), and summary statistics (percentiles, quartiles)\n",
    "\n",
    "\n",
    "\n",
    "# # Inferential:\n",
    "# Inferential statistics involves using sample data to make inferences or predictions about a larger population. \n",
    "# For example, conducting a survey with a sample of voters to predict the outcome of an election for the entire population. \n",
    "# This branch of statistics relies on probability theory and hypothesis testing to draw conclusions about populations based on limited data.\n",
    "# Inferential statistics covers a range of techniques and concepts, \n",
    "# including hypothesis testing, confidence intervals, regression analysis, \n",
    "# analysis of variance (ANOVA), correlation analysis, and \n",
    "# sampling methods such as \n",
    "# random sampling (pick any random item), \n",
    "# stratified sampling (create subgroups and select item from each group), and \n",
    "# cluster sampling (create a cluster and do the analysis).\n",
    "# Systematic sampling: put some logic for selection og item like every odd numbered or every 3rd\n",
    "# These methods are used to draw conclusions, make predictions, \n",
    "# and infer characteristics of populations based on sample data."
   ]
  },
  {
   "cell_type": "markdown",
   "metadata": {},
   "source": [
    "<img src=\"Sampling Techniques.png\" width=\"500\" height=\"300\"/>"
   ]
  },
  {
   "cell_type": "code",
   "execution_count": null,
   "metadata": {},
   "outputs": [],
   "source": []
  }
 ],
 "metadata": {
  "kernelspec": {
   "display_name": "Python 3",
   "language": "python",
   "name": "python3"
  },
  "language_info": {
   "codemirror_mode": {
    "name": "ipython",
    "version": 3
   },
   "file_extension": ".py",
   "mimetype": "text/x-python",
   "name": "python",
   "nbconvert_exporter": "python",
   "pygments_lexer": "ipython3",
   "version": "3.11.8"
  }
 },
 "nbformat": 4,
 "nbformat_minor": 2
}
