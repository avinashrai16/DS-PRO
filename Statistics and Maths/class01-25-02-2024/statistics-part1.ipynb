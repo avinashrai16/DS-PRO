{
 "cells": [
  {
   "cell_type": "code",
   "execution_count": null,
   "metadata": {},
   "outputs": [],
   "source": [
    "# statistics is used for collecting and analyzing of data\n",
    "# Statistics is a branch of mathematics that involves collecting, analyzing, interpreting, \n",
    "# and presenting numerical data to make informed decisions and predictions about populations or phenomena. \n",
    "# It encompasses methods for summarizing data, drawing inferences, and testing hypotheses to uncover patterns and trends.\n",
    "\n",
    "\n",
    "# statistics is a mathematical science including method of collecting , \n",
    "# organizing and analyzing data in such a way that meaningful conclusion can be drawn from them.\n",
    "\n",
    "# data: data is a piece of information that can be stored and retrieved."
   ]
  },
  {
   "cell_type": "code",
   "execution_count": null,
   "metadata": {},
   "outputs": [],
   "source": [
    "# type of statistics:\n",
    "# Descriptive : When we Describe the data : organizing and summarizing of data population\n",
    "# Descriptive statistics summarize and describe the main features of a dataset. \n",
    "# Examples include measures like mean, median, and mode, providing insights into the central tendency and variability of the data. \n",
    "# For instance, the average height (mean) of a group of people or the most frequently occurring value (mode) in a set of exam scores.\n",
    "# This includes \n",
    "# measures of central tendency (mean, median, mode), \n",
    "# measures of variability (range, variance, standard deviation), \n",
    "# frequency distributions, graphical representations (histograms, box plots), and summary statistics (percentiles, quartiles)\n"
   ]
  },
  {
   "cell_type": "code",
   "execution_count": null,
   "metadata": {},
   "outputs": [],
   "source": [
    "# | Descriptive Statistic   | Measures of Central Tendency          | Measures of Dispersion                | Measures of Shape                      | Visualization Techniques             |\n",
    "# |-------------------------|---------------------------------------|---------------------------------------|---------------------------------------|------------------------------------|\n",
    "# | Definition              | Statistical measures that represent   | Statistical measures that indicate    | Statistical measures that describe    | Graphical representations of data  |\n",
    "# |                         | the typical value of a dataset.       | how much the values in a dataset      | the distribution's symmetry and       | characteristics.                   |\n",
    "# | ---------------------------------------------------------------------------------------------------------------                        |                                       | around the central tendency.          | tail heaviness or lightness           |                                    |\n",
    "# | Purpose                 | Provide a summary of the central      | Describe the variability or spread   | Provide information about the shape  | Aid in understanding and          |\n",
    "# |                         | tendency of data, facilitating       | of data points around the central     | of the data distribution.            | interpretation of data,           |\n",
    "# |                         | comparisons and understanding trends.| tendency.                             |                                       | facilitate comparison, and       |\n",
    "# | ---------------------------------------------------------------------------------------------------------------                        |                                       |                                       |                                       | identify patterns.                |\n",
    "# | Key Concepts            | Mean, Median, Mode                    | Range, Variance, Standard Deviation  | Skewness, Kurtosis                    | Histograms, Box Plots, Scatter    |\n",
    "# |---------------------------------------------------------------------------------------------------------------                         |                                       |                                       |                                       | Plots                              |\n",
    "# | Examples of Techniques  | Histograms, Box Plots, Summary Tables | Box Plots, Histograms, Scatter Plots  | Histograms, Box Plots                 | Histograms, Box Plots, Bar Charts |\n",
    "# | ---------------------------------------------------------------------------------------------------------------\n",
    "#     Applications          | Understanding data distribution,      | Assessing variability, Identifying    | Understanding data symmetry,         | Presenting data in a visual       |\n",
    "# |                         | Identifying trends                    | outliers                              | tail heaviness or lightness          | format, Identifying trends,       |\n",
    "# |                         |                                       |                                       |                                      | Comparisons                       |"
   ]
  },
  {
   "cell_type": "code",
   "execution_count": null,
   "metadata": {},
   "outputs": [],
   "source": [
    "# Descriptive Statistics          | Univariate | Bivariate | Multivariate |\n",
    "# ----------------------------------------------------------------------\n",
    "# Analysis of                     |            |           |              |\n",
    "# Number of Variables             |    One     |    Two    |     Three    |\n",
    "# ----------------------------------------------------------------------\n",
    "# Description of Data             | Distribution | Relationship | Joint Variation |\n",
    "# ----------------------------------------------------------------------\n",
    "# Example Techniques              | Mean, Median, | Correlation, | Multiple       |\n",
    "#                                 | Variance      | Scatter plot  | Regression     |\n",
    "# ----------------------------------------------------------------------\n",
    "# Graphical Representations       | Histogram,   | Scatter plot, | 3D Scatter plot,|\n",
    "#                                 | Box Plot     | Line Chart   | Heatmap        |\n",
    "# ----------------------------------------------------------------------"
   ]
  },
  {
   "cell_type": "code",
   "execution_count": null,
   "metadata": {},
   "outputs": [],
   "source": [
    "# Descriptive Statistic       | Graphical Representation\n",
    "# -------------------------------------------------------------\n",
    "# Mean                        | Histogram, Box Plot\n",
    "# Median                      | Box Plot, Histogram\n",
    "# Mode                        | Histogram, Bar Chart\n",
    "# Variance                    | Histogram, Box Plot\n",
    "# Standard Deviation          | Box Plot, Histogram\n",
    "# Range                       | Box Plot, Histogram\n",
    "# Interquartile Range (IQR)   | Box Plot\n",
    "# Frequency Distribution      | Histogram, Bar Chart, Pie Chart\n",
    "# Percentile                  | Box Plot, Percentile Plot\n",
    "# Skewness                    | Histogram\n",
    "# Kurtosis                    | Histogram\n",
    "# Correlation Coefficient     | Scatter Plot, Heatmap\n",
    "# Covariance                  | Scatter Plot, Heatmap"
   ]
  },
  {
   "cell_type": "code",
   "execution_count": null,
   "metadata": {},
   "outputs": [],
   "source": [
    "# # Inferential:\n",
    "# Inferential statistics involves using sample data to make inferences or predictions about a larger population. \n",
    "# For example, conducting a survey with a sample of voters to predict the outcome of an election for the entire population. \n",
    "# This branch of statistics relies on probability theory and hypothesis testing to draw conclusions about populations based on limited data.\n",
    "# Inferential statistics covers a range of techniques and concepts, \n",
    "# including hypothesis testing, confidence intervals, regression analysis, \n",
    "# analysis of variance (ANOVA), correlation analysis, and \n",
    "# sampling methods such as \n",
    "# random sampling (pick any random item), \n",
    "# stratified sampling (create subgroups and select item from each group), and \n",
    "# cluster sampling (create a cluster and do the analysis).\n",
    "# Systematic sampling: put some logic for selection og item like every odd numbered or every 3rd\n",
    "# These methods are used to draw conclusions, make predictions, \n",
    "# and infer characteristics of populations based on sample data."
   ]
  },
  {
   "cell_type": "markdown",
   "metadata": {},
   "source": [
    "<img src=\"Sampling Techniques.png\" width=\"500\" height=\"300\"/>"
   ]
  },
  {
   "cell_type": "code",
   "execution_count": null,
   "metadata": {},
   "outputs": [],
   "source": [
    "#                                 | Inferential Statistics               |\n",
    "# ----------------------------------------------------------------------\n",
    "# Definition                      | Statistical methods used to make     |\n",
    "#                                 | inferences or predictions about      |\n",
    "#                                 | a population based on sample data.   |\n",
    "# ----------------------------------------------------------------------\n",
    "# Purpose                         | To draw conclusions, make estimates, |\n",
    "#                                 | or test hypotheses about a population|\n",
    "#                                 | using sample data.                   |\n",
    "# ----------------------------------------------------------------------\n",
    "# Key Concepts                    | Confidence intervals, hypothesis     |\n",
    "#                                 | testing, p-values, significance      |\n",
    "#                                 | levels, sampling distributions,     |\n",
    "#                                 | regression analysis, ANOVA, etc.    |\n",
    "# ----------------------------------------------------------------------\n",
    "# Examples of Techniques          | t-tests, chi-square tests, ANOVA,   |\n",
    "#                                 | regression analysis, correlation    |\n",
    "#                                 | analysis, factor analysis, etc.      |\n",
    "# ----------------------------------------------------------------------\n",
    "# Applications                    | Scientific research, quality control,|\n",
    "#                                 | market research, opinion polling,    |\n",
    "#                                 | medical studies, etc.                |\n",
    "# ----------------------------------------------------------------------\n"
   ]
  },
  {
   "cell_type": "code",
   "execution_count": null,
   "metadata": {},
   "outputs": [],
   "source": [
    "#  Inferential Statistics          | Univariate Inferential  | Bivariate Inferential  | Multivariate Inferential |\n",
    "# ---------------------------------------------------------------------------------------------------------------\n",
    "# Analysis of                      |                         |                        |                           |\n",
    "# Number of Variables              |           One           |          Two           |            Three          |\n",
    "# ---------------------------------------------------------------------------------------------------------------\n",
    "# Nature of Analysis               |       Population        |    Population with     |      Population with      |\n",
    "#                                  |        Parameter        |    Two Parameters      |      Multiple Parameters  |\n",
    "# ---------------------------------------------------------------------------------------------------------------\n",
    "# Example Techniques               |    One-sample t-test,   |    Paired t-test,       |    MANOVA (Multivariate   |\n",
    "#                                  |    One-way ANOVA,       |    Pearson correlation, |    Analysis of Variance), |\n",
    "#                                  |    Chi-square test,     |    Linear regression,   |    Canonical correlation, |\n",
    "#                                  |    Z-test,              |    Logistic regression, |    Structural equation    |\n",
    "#                                  |    etc.                 |    etc.                 |    modeling, etc.         |\n",
    "# ---------------------------------------------------------------------------------------------------------------\n",
    "# Common Applications              |    Comparing a sample   |    Assessing the        |    Understanding the      |\n",
    "#                                  |    mean to a known     |    relationship between  |    joint effects of       |\n",
    "#                                  |    population mean,     |    two variables,       |    multiple independent   |\n",
    "#                                  |    Testing categorical  |    Predicting an outcome|    variables on one or    |\n",
    "#                                  |    associations,        |    variable based on    |    more dependent         |\n",
    "#                                  |    etc.                 |    another variable,    |    variables,             |\n",
    "#                                  |                         |    etc.                 |    Testing complex        |\n",
    "#                                  |                         |                         |    hypotheses, etc.       |\n",
    "# ---------------------------------------------------------------------------------------------------------------"
   ]
  },
  {
   "cell_type": "code",
   "execution_count": null,
   "metadata": {},
   "outputs": [],
   "source": [
    "# Inferential Statistic        | Graphical Representation\n",
    "# -------------------------------------------------------------\n",
    "# Confidence Interval          | Error Bar Plot, Line Plot\n",
    "# Hypothesis Testing (p-value) | Histogram, Box Plot, Scatter Plot\n",
    "# Regression Analysis           | Scatter Plot with Regression Line\n",
    "# ANOVA (Analysis of Variance) | Box Plot, Bar Chart\n",
    "# T-test                        | Box Plot, Histogram\n",
    "# Chi-square Test               | Bar Chart, Heatmap\n",
    "# Correlation Coefficient       | Scatter Plot, Heatmap\n",
    "# Effect Size                   | Forest Plot, Violin Plot\n",
    "# Power Analysis                | Power Curve Plot"
   ]
  },
  {
   "cell_type": "markdown",
   "metadata": {},
   "source": [
    "Data Types: need to update"
   ]
  },
  {
   "cell_type": "markdown",
   "metadata": {},
   "source": [
    "scale of measurement :"
   ]
  },
  {
   "cell_type": "code",
   "execution_count": null,
   "metadata": {},
   "outputs": [],
   "source": [
    "\n",
    "# Nominal Scale (categorical data):\n",
    "# The nominal scale is the simplest level of measurement that categorizes variables into distinct, non-ordered categories or groups.\n",
    "# Nominal data represent qualitative characteristics and do not have a numerical value.\n",
    "# Examples include gender, race, eye color, and types of cars.\n",
    "# Statistical operations on nominal data are limited to frequency counts and mode.\n",
    "\n",
    "# Ordinal Scale (categorical data):\n",
    "# The ordinal scale classifies variables into ordered categories or ranks without specifying the exact differences between categories.\n",
    "# Ordinal data represent relative rankings or positions.\n",
    "# Examples:\n",
    "# include educational attainment (e.g., elementary, high school, college), \n",
    "# Like rt scale responses (e.g., strongly agree, agree, neutral, disagree, strongly disagree).\n",
    "# Statistical operations include median, mode, percentiles, and non-parametric tests like Mann-Whitney U test and Kruskal-Wallis test.\n",
    "\n",
    "# Interval Scale (qualitative data):\n",
    "# The interval scale orders variables based on equal intervals between values, but there is no true zero point.\n",
    "# Interval data allow for meaningful differences between values but do not have a meaningful zero point.\n",
    "# Examples include temperature measured in Celsius or Fahrenheit, calendar years.\n",
    "# Statistical operations include mean, standard deviation, median, mode, and parametric tests like t-tests and ANOVA.\n",
    "\n",
    "# Ratio Scale (qualitative data):\n",
    "# The ratio scale is similar to the interval scale but includes a true zero point, indicating the absence of the measured quantity.\n",
    "# Ratio data possess a meaningful zero point and allow for meaningful ratios between values.\n",
    "# Examples include height, weight, age, income, and time in seconds.\n",
    "# Statistical operations include mean, median, mode, standard deviation, coefficient of variation, and ratio statistics.\n"
   ]
  },
  {
   "cell_type": "code",
   "execution_count": null,
   "metadata": {},
   "outputs": [],
   "source": [
    "# | Scale of Measurement | Description                                            | Examples                                       | Statistical Operations              |\n",
    "# |----------------------|--------------------------------------------------------|----------------------------------------------- |-------------------------------------|\n",
    "# | Nominal              | Categories with no inherent order or numerical value   | Gender (Male, Female), Eye Color, Race         | Frequency counts, Mode              |\n",
    "# | Ordinal              | Categories with a defined order but no fixed intervals | Like rt scale responses, Educational attainment| Median, Mode, Percentiles           |\n",
    "# | Interval             | Ordered categories with equal intervals, no true zero  | Temperature(Celsius, Fahrenheit),Calendar years| Mean, Standard Deviation, t-tests   |\n",
    "# | Ratio                | Ordered categories with equal intervals and a true zero| Height, Weight, Age, Income, Time in seconds   | Mean, Median, Standard Deviation    |\n"
   ]
  },
  {
   "cell_type": "code",
   "execution_count": null,
   "metadata": {},
   "outputs": [],
   "source": [
    "# | Aspect                   | Nominal Scale                      | Ordinal Scale                           | Interval Scale                                      | Ratio Scale                                       |\n",
    "# |--------------------------|------------------------------------|-----------------------------------------|-----------------------------------------------------|---------------------------------------------------|\n",
    "# | Order of Categories      | No inherent order or ranking      | Ordered categories                      | Ordered categories with equal intervals              | Ordered categories with equal intervals and true zero  |\n",
    "# | Example                  | Gender (Male, Female), Eye Color  | Likert scale responses, Educational attainment  | Temperature (Celsius, Fahrenheit), Calendar years | Height, Weight, Age, Income, Time in seconds      |\n",
    "# | Arithmetic Operations    | Not meaningful                    | Not meaningful                         | Addition, subtraction, but multiplication and division not meaningful | All arithmetic operations meaningful            |\n",
    "# | Examples of Operations   | Frequency counts, Mode            | Median, Mode, Percentiles              | Mean, Standard Deviation, t-tests                    | Mean, Median, Standard Deviation                  |\n",
    "# | Zero Point               | No zero point                     | No zero point                          | No true zero point                                  | True zero point                                  |\n",
    "# | Example of Zero Point    | None                              | None                                    | None                                                | Absence of the measured quantity                  |"
   ]
  },
  {
   "cell_type": "markdown",
   "metadata": {},
   "source": [
    "Types of Analytics"
   ]
  },
  {
   "cell_type": "code",
   "execution_count": null,
   "metadata": {},
   "outputs": [],
   "source": [
    "# Analytics refers to the systematic computational analysis of data or statistics. There are various types of analytics, each serving specific purposes and utilizing different techniques. Here are some of the main types of analytics:\n",
    "\n",
    "# 1. **Descriptive Analytics**:\n",
    "#    - Descriptive analytics focuses on summarizing historical data to understand what has happened in the past.\n",
    "#    - It involves techniques such as data aggregation, data visualization, and summary statistics.\n",
    "#    - Descriptive analytics provides insights into trends, patterns, and relationships within the data.\n",
    "\n",
    "# 2. **Diagnostic Analytics**:\n",
    "#    - Diagnostic analytics involves analyzing data to determine why certain events occurred.\n",
    "#    - It aims to identify the root causes of problems or opportunities by examining historical data and relationships.\n",
    "#    - Techniques include correlation analysis, root cause analysis, and hypothesis testing.\n",
    "\n",
    "# 3. **Predictive Analytics**:\n",
    "#    - Predictive analytics aims to forecast future outcomes based on historical data and statistical algorithms.\n",
    "#    - It uses techniques such as regression analysis, time series forecasting, and machine learning models.\n",
    "#    - Predictive analytics helps organizations anticipate trends, behavior, and events to make proactive decisions.\n",
    "\n",
    "# 4. **Prescriptive Analytics**:\n",
    "#    - Prescriptive analytics focuses on providing recommendations or decisions to optimize outcomes.\n",
    "#    - It combines insights from descriptive, diagnostic, and predictive analytics to suggest the best course of action.\n",
    "#    - Techniques include optimization algorithms, simulation models, and decision analysis.\n",
    "\n",
    "# 5. **Text Analytics**:\n",
    "#    - Text analytics involves analyzing unstructured textual data to extract insights and patterns.\n",
    "#    - It includes techniques such as natural language processing (NLP), sentiment analysis, and text mining.\n",
    "#    - Text analytics is used to analyze customer feedback, social media posts, and textual documents.\n",
    "\n",
    "# 6. **Big Data Analytics**:\n",
    "#    - Big data analytics involves analyzing large and complex datasets to uncover hidden patterns, correlations, and trends.\n",
    "#    - It requires specialized tools and technologies to process, store, and analyze massive volumes of data.\n",
    "#    - Techniques include distributed computing frameworks, parallel processing, and advanced analytics algorithms.\n",
    "\n",
    "# 7. **Real-time Analytics**:\n",
    "#    - Real-time analytics involves analyzing data as it is generated or collected to make immediate decisions.\n",
    "#    - It requires fast data processing capabilities and low-latency systems to analyze data in real-time.\n",
    "#    - Real-time analytics is used in applications such as financial trading, fraud detection, and IoT (Internet of Things) monitoring.\n",
    "\n",
    "# Each type of analytics plays a crucial role in helping organizations derive insights, \n",
    "# make informed decisions, and gain a competitive advantage in today's data-driven world. \n",
    "# Depending on the business objectives and data available, organizations may leverage one or more types of analytics to extract value \n",
    "# from their data."
   ]
  },
  {
   "cell_type": "markdown",
   "metadata": {},
   "source": [
    "**Descriptive Analytics**:"
   ]
  },
  {
   "cell_type": "code",
   "execution_count": null,
   "metadata": {},
   "outputs": [],
   "source": [
    "#  **Descriptive Analytics**:\n",
    "# doing the descriptive analytics means not to add /subtract anything to data\n",
    "\n",
    "# Types of Descriptive statistics :\n",
    "\n",
    "# Descriptive statistics are used to summarize and describe the basic features of a dataset. \n",
    "# There are various types of descriptive statistics that provide insights into different aspects of the data. \n",
    "# Here are some common types of descriptive statistics:\n",
    "\n",
    "# 1. **Measures of Central Tendency**:\n",
    "#    - These statistics describe the center or average of a dataset.\n",
    "#    - Common measures include:\n",
    "#      - Mean: The average value of the dataset.\n",
    "#      - Median: The middle value of the dataset when arranged in ascending order.\n",
    "#      - Mode: The most frequently occurring value in the dataset.\n",
    "\n",
    "# 2. **Measures of Dispersion**:\n",
    "#    - These statistics quantify the spread or variability of the data points.\n",
    "#    - Common measures include:\n",
    "#      - Range: The difference between the maximum and minimum values in the dataset.\n",
    "#      - Variance: The average of the squared differences from the mean.\n",
    "#      - Standard Deviation: The square root of the variance, providing a measure of the average distance of data points from the mean.\n",
    "\n",
    "# 3. **Measures of Shape**:\n",
    "#    - These statistics describe the shape of the distribution of data.\n",
    "#    - Common measures include:\n",
    "#      - Skewness: Measures the asymmetry of the distribution.\n",
    "#      - Kurtosis: Measures the peakedness or flatness of the distribution.\n",
    "\n",
    "# 3.1 **Measures of Symmetry**:\n",
    "#  Measures of symmetry specifically focus on whether the distribution is symmetric or not.\n",
    "#  They assess if the distribution can be divided into equal halves by a central point (e.g., the mean or median).\n",
    "#  If a distribution is symmetric, it means that the shape of the distribution is the same on both sides of the central point.\n",
    "#  Measures of symmetry are often used in conjunction with measures of shape to provide a comprehensive understanding of the distribution of data.\n",
    "# - Common measures include: Assess whether the distribution is symmetric or skewed.\n",
    "\n",
    "# 4. **Frequency Distribution**:\n",
    "#    - Frequency distribution summarizes the number of times each value occurs in the dataset.\n",
    "#    - It can be presented as a table or a histogram.\n",
    "\n",
    "# 5. **Percentiles**:\n",
    "#    - Percentiles divide the dataset into hundredths and represent the value below which a given percentage of observations fall.\n",
    "#    - The median, for example, represents the 50th percentile.\n",
    "\n",
    "# 6. **Summary Statistics**:\n",
    "#    - Summary statistics provide a concise summary of key characteristics of the dataset.\n",
    "#    - They may include minimum, maximum, quartiles, and percentiles.\n",
    "\n",
    "# 7. **Correlation Coefficients**:\n",
    "#    - Correlation coefficients measure the strength and direction of the linear relationship between two variables.\n",
    "#    - Common measures include Pearson correlation coefficient and Spearman rank correlation coefficient.\n",
    "\n",
    "# 8. **Cross tabs and Contingency Tables**:\n",
    "#    - These statistics summarize the relationship between two categorical variables.\n",
    "\n",
    "# These descriptive statistics help analysts understand the central tendency, variability, distribution, and relationships within a dataset. \n",
    "# They are essential for data exploration, hypothesis generation, and decision-making in various fields such as business, research, and social sciences.\n"
   ]
  }
 ],
 "metadata": {
  "kernelspec": {
   "display_name": "Python 3",
   "language": "python",
   "name": "python3"
  },
  "language_info": {
   "codemirror_mode": {
    "name": "ipython",
    "version": 3
   },
   "file_extension": ".py",
   "mimetype": "text/x-python",
   "name": "python",
   "nbconvert_exporter": "python",
   "pygments_lexer": "ipython3",
   "version": "3.11.8"
  }
 },
 "nbformat": 4,
 "nbformat_minor": 2
}
