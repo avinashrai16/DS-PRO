{
 "cells": [
  {
   "cell_type": "markdown",
   "metadata": {},
   "source": [
    "**Measures of Dispersion or Spread**"
   ]
  },
  {
   "cell_type": "markdown",
   "metadata": {},
   "source": [
    "**Mean Deviation,Variance,Standard Deviation**"
   ]
  },
  {
   "cell_type": "markdown",
   "metadata": {},
   "source": [
    "--------"
   ]
  },
  {
   "cell_type": "markdown",
   "metadata": {},
   "source": [
    "**Mean Deviation** :Mean Deviation is the average absolute deviation of each value in a dataset from the mean of the dataset."
   ]
  },
  {
   "cell_type": "markdown",
   "metadata": {},
   "source": [
    "**Formula of Mean Deviation:**\n",
    "\n",
    "<img src=\"mean-deviation.png\" width=\"350\" height=\"200\"/>"
   ]
  },
  {
   "cell_type": "markdown",
   "metadata": {},
   "source": [
    "**EXAMPLE**\n",
    "    Here's a simple example to illustrate Mean Deviation:\n",
    "\n",
    "    Let's say we have a dataset: {5, 7, 9, 11, 13}\n",
    "\n",
    "    1. First, find the mean (average) of the dataset:\n",
    "    {Mean} = {5 + 7 + 9 + 11 + 13}/{5} = {45}/{5} = 9 \n",
    "\n",
    "    2. Next, calculate the absolute deviations of each data point from the mean:\n",
    "    - For 5: ( |5 - 9| = 4 )\n",
    "    - For 7: ( |7 - 9| = 2 )\n",
    "    - For 9: ( |9 - 9| = 0 )\n",
    "    - For 11: ( |11 - 9| = 2 )\n",
    "    - For 13: ( |13 - 9| = 4 )\n",
    "\n",
    "    3. Now, find the mean of these absolute deviations:\n",
    "    {Mean Deviation} = frac{4 + 2 + 0 + 2 + 4}/{5} = frac{12}/{5} = 2.4 \n",
    "\n",
    "    So, the Mean Deviation of the dataset {5, 7, 9, 11, 13} is 2.4."
   ]
  },
  {
   "cell_type": "markdown",
   "metadata": {},
   "source": [
    "-------"
   ]
  },
  {
   "cell_type": "markdown",
   "metadata": {},
   "source": [
    "**Variance** : Variance is the average of the squared differences between each data point and the mean of the dataset."
   ]
  },
  {
   "cell_type": "markdown",
   "metadata": {},
   "source": [
    "**Formula of Variance:**\n",
    "\n",
    "<img src=\"variance-formula.png\" width=\"350\" height=\"200\"/>"
   ]
  },
  {
   "cell_type": "markdown",
   "metadata": {},
   "source": [
    "**Example**\n",
    "    Sure, here's an example to illustrate the calculation of variance:\n",
    "\n",
    "    Suppose we have a dataset of exam scores: {85, 90, 88, 92, 95}.\n",
    "\n",
    "    1. Calculate the mean:\n",
    "    {Mean} = {85 + 90 + 88 + 92 + 95}/{5} = {450}/{5} = 90 \n",
    "\n",
    "    2. Calculate the squared differences between each data point and the mean:\n",
    "    (85 - 90)^2 = (-5)^2 = 25\n",
    "    (90 - 90)^2 = (0)^2 = 0 \n",
    "    (88 - 90)^2 = (-2)^2 = 4\n",
    "    (92 - 90)^2 = (2)^2 = 4 \n",
    "    (95 - 90)^2 = (5)^2 = 25 \n",
    "\n",
    "    3. Calculate the average of the squared differences (variance):\n",
    "    {Variance} = {25 + 0 + 4 + 4 + 25}/{5} = {58}/{5} = 11.6 \n",
    "\n",
    "    So, the variance of the exam scores dataset is 11.6."
   ]
  },
  {
   "cell_type": "markdown",
   "metadata": {},
   "source": [
    "-------"
   ]
  },
  {
   "cell_type": "markdown",
   "metadata": {},
   "source": [
    "**Standard Deviation** :Standard Deviation is the square root of the average of the squared differences between each data point and the mean of the dataset."
   ]
  },
  {
   "cell_type": "markdown",
   "metadata": {},
   "source": [
    "**Formula of Standard Deviation:**\n",
    "\n",
    "<img src=\"Standard-Deviation-Formula.png\" width=\"350\" height=\"200\"/>"
   ]
  },
  {
   "cell_type": "markdown",
   "metadata": {},
   "source": [
    "**Example** to illustrate the calculation of the standard deviation:\n",
    "\n",
    "    Let's consider a dataset representing the daily temperatures in Celsius for a week: {20, 22, 24, 26, 28, 30, 32}\n",
    "\n",
    "    1. Find the mean (average) of the dataset:\n",
    "    text{Mean} = {20 + 22 + 24 + 26 + 28 + 30 + 32}/{7} = {182}/{7} approx 26\n",
    "\n",
    "    2. Calculate the squared differences between each data point and the mean:\n",
    "    {Squared Differences: } (20 - 26)^2, (22 - 26)^2, (24 - 26)^2, (26 - 26)^2, (28 - 26)^2, (30 - 26)^2, (32 - 26)^2 \n",
    "\n",
    "    [ = 36, 16, 4, 0, 4, 16, 36 ]\n",
    "\n",
    "    3. Find the average of these squared differences:\n",
    "    {Average of Squared Differences} = {36 + 16 + 4 + 0 + 4 + 16 + 36}/{7} = {112}/{7} approx 16\n",
    "\n",
    "    4. Take the square root of the average of squared differences to find the standard deviation:\n",
    "    {Standard Deviation} = sqrt{16} = 4 ]\n",
    "\n",
    "    So, the standard deviation of the daily temperatures dataset {20, 22, 24, 26, 28, 30, 32} is 4 Celsius."
   ]
  },
  {
   "cell_type": "markdown",
   "metadata": {},
   "source": [
    "------------"
   ]
  },
  {
   "cell_type": "markdown",
   "metadata": {},
   "source": [
    "Here's a chart summarizing the key differences between standard deviation and variance:\n",
    "\n",
    "| **Aspect**            | **Standard Deviation**                               | **Variance**                                           |\n",
    "|-----------------------|-------------------------------------------------------|--------------------------------------------------------|\n",
    "| **Definition**        | Measure of the dispersion of data from the mean.      | Average of the squared differences from the mean.      |\n",
    "| **Symbol**            | \\( \\sigma \\) or \\( s \\)                               | \\( \\sigma^2 \\) or \\( s^2 \\)                             |\n",
    "| **Unit**              | Same as the original data.                            | Square of the original data's unit.                     |\n",
    "| **Interpretability**  | More interpretable, directly in the same unit.       | Less interpretable, squared units.                     |\n",
    "| **Outlier Sensitivity** | Sensitive to outliers in the dataset.               | Less sensitive to outliers due to squaring effect.      |\n",
    "| **Mathematical Use**  | Useful in statistical analysis and data interpretation. | Used in mathematical calculations and certain analyses. |\n",
    "\n",
    "This chart should help you understand the key differences between standard deviation and variance, and when each measure is most appropriate for use."
   ]
  },
  {
   "cell_type": "markdown",
   "metadata": {},
   "source": []
  }
 ],
 "metadata": {
  "language_info": {
   "name": "python"
  }
 },
 "nbformat": 4,
 "nbformat_minor": 2
}
