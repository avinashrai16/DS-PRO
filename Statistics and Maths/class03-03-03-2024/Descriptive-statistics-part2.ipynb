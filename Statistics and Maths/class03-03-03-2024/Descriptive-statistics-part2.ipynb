{
 "cells": [
  {
   "cell_type": "markdown",
   "metadata": {},
   "source": [
    "-----------------\n",
    "--------------"
   ]
  },
  {
   "cell_type": "markdown",
   "metadata": {},
   "source": [
    "**Measures of Dispersion or Spread**"
   ]
  },
  {
   "cell_type": "markdown",
   "metadata": {},
   "source": [
    "**Mean Deviation,Variance,Standard Deviation**"
   ]
  },
  {
   "cell_type": "markdown",
   "metadata": {},
   "source": [
    "--------"
   ]
  },
  {
   "cell_type": "markdown",
   "metadata": {},
   "source": [
    "**Mean Deviation** :Mean Deviation is the average absolute deviation of each value in a dataset from the mean of the dataset."
   ]
  },
  {
   "cell_type": "markdown",
   "metadata": {},
   "source": [
    "**Formula of Mean Deviation:**\n",
    "\n",
    "<img src=\"mean-deviation.png\" width=\"350\" height=\"200\"/>"
   ]
  },
  {
   "cell_type": "markdown",
   "metadata": {},
   "source": [
    "**EXAMPLE**\n",
    "    Here's a simple example to illustrate Mean Deviation:\n",
    "\n",
    "    Let's say we have a dataset: {5, 7, 9, 11, 13}\n",
    "\n",
    "    1. First, find the mean (average) of the dataset:\n",
    "    {Mean} = {5 + 7 + 9 + 11 + 13}/{5} = {45}/{5} = 9 \n",
    "\n",
    "    2. Next, calculate the absolute deviations of each data point from the mean:\n",
    "    - For 5: ( |5 - 9| = 4 )\n",
    "    - For 7: ( |7 - 9| = 2 )\n",
    "    - For 9: ( |9 - 9| = 0 )\n",
    "    - For 11: ( |11 - 9| = 2 )\n",
    "    - For 13: ( |13 - 9| = 4 )\n",
    "\n",
    "    3. Now, find the mean of these absolute deviations:\n",
    "    {Mean Deviation} = frac{4 + 2 + 0 + 2 + 4}/{5} = frac{12}/{5} = 2.4 \n",
    "\n",
    "    So, the Mean Deviation of the dataset {5, 7, 9, 11, 13} is 2.4."
   ]
  },
  {
   "cell_type": "markdown",
   "metadata": {},
   "source": [
    "-------"
   ]
  },
  {
   "cell_type": "markdown",
   "metadata": {},
   "source": [
    "**Variance** : Variance is the average of the squared differences between each data point and the mean of the dataset."
   ]
  },
  {
   "cell_type": "markdown",
   "metadata": {},
   "source": [
    "**Formula of Variance:**\n",
    "\n",
    "<img src=\"variance-formula.png\" width=\"350\" height=\"200\"/>"
   ]
  },
  {
   "cell_type": "markdown",
   "metadata": {},
   "source": [
    "**Example**\n",
    "    Sure, here's an example to illustrate the calculation of variance:\n",
    "\n",
    "    Suppose we have a dataset of exam scores: {85, 90, 88, 92, 95}.\n",
    "\n",
    "    1. Calculate the mean:\n",
    "    {Mean} = {85 + 90 + 88 + 92 + 95}/{5} = {450}/{5} = 90 \n",
    "\n",
    "    2. Calculate the squared differences between each data point and the mean:\n",
    "    (85 - 90)^2 = (-5)^2 = 25\n",
    "    (90 - 90)^2 = (0)^2 = 0 \n",
    "    (88 - 90)^2 = (-2)^2 = 4\n",
    "    (92 - 90)^2 = (2)^2 = 4 \n",
    "    (95 - 90)^2 = (5)^2 = 25 \n",
    "\n",
    "    3. Calculate the average of the squared differences (variance):\n",
    "    {Variance} = {25 + 0 + 4 + 4 + 25}/{5} = {58}/{5} = 11.6 \n",
    "\n",
    "    So, the variance of the exam scores dataset is 11.6."
   ]
  },
  {
   "cell_type": "markdown",
   "metadata": {},
   "source": [
    "-------"
   ]
  },
  {
   "cell_type": "markdown",
   "metadata": {},
   "source": [
    "**Standard Deviation** :Standard Deviation is the square root of the average of the squared differences between each data point and the mean of the dataset.\n",
    " \n",
    "In other terms standard deviation is the square root of variance value"
   ]
  },
  {
   "cell_type": "markdown",
   "metadata": {},
   "source": [
    "**Formula of Standard Deviation:**\n",
    "\n",
    "<img src=\"Standard-Deviation-Formula.png\" width=\"350\" height=\"200\"/>"
   ]
  },
  {
   "cell_type": "markdown",
   "metadata": {},
   "source": [
    "**Example** to illustrate the calculation of the standard deviation:\n",
    "\n",
    "    Let's consider a dataset representing the daily temperatures in Celsius for a week: {20, 22, 24, 26, 28, 30, 32}\n",
    "\n",
    "    1. Find the mean (average) of the dataset:\n",
    "    text{Mean} = {20 + 22 + 24 + 26 + 28 + 30 + 32}/{7} = {182}/{7} approx 26\n",
    "\n",
    "    2. Calculate the squared differences between each data point and the mean:\n",
    "    {Squared Differences: } (20 - 26)^2, (22 - 26)^2, (24 - 26)^2, (26 - 26)^2, (28 - 26)^2, (30 - 26)^2, (32 - 26)^2 \n",
    "\n",
    "    [ = 36, 16, 4, 0, 4, 16, 36 ]\n",
    "\n",
    "    3. Find the average of these squared differences:\n",
    "    {Average of Squared Differences} = {36 + 16 + 4 + 0 + 4 + 16 + 36}/{7} = {112}/{7} approx 16\n",
    "\n",
    "    4. Take the square root of the average of squared differences to find the standard deviation:\n",
    "    {Standard Deviation} = sqrt{16} = 4 ]\n",
    "\n",
    "    So, the standard deviation of the daily temperatures dataset {20, 22, 24, 26, 28, 30, 32} is 4 Celsius."
   ]
  },
  {
   "cell_type": "markdown",
   "metadata": {},
   "source": [
    "------------"
   ]
  },
  {
   "cell_type": "markdown",
   "metadata": {},
   "source": [
    "Here's a chart summarizing the key differences between standard deviation and variance:\n",
    "\n",
    "| **Aspect**            | **Standard Deviation**                               | **Variance**                                           |\n",
    "|-----------------------|-------------------------------------------------------|--------------------------------------------------------|\n",
    "| **Definition**        | Measure of the dispersion of data from the mean.      | Average of the squared differences from the mean.      |\n",
    "| **Symbol**            | \\( \\sigma \\) or \\( s \\)                               | \\( \\sigma^2 \\) or \\( s^2 \\)                             |\n",
    "| **Unit**              | Same as the original data.                            | Square of the original data's unit.                     |\n",
    "| **Interpretability**  | More interpretable, directly in the same unit.       | Less interpretable, squared units.                     |\n",
    "| **Outlier Sensitivity** | Sensitive to outliers in the dataset.               | Less sensitive to outliers due to squaring effect.      |\n",
    "| **Mathematical Use**  | Useful in statistical analysis and data interpretation. | Used in mathematical calculations and certain analyses. |\n",
    "\n",
    "This chart should help you understand the key differences between standard deviation and variance, and when each measure is most appropriate for use."
   ]
  },
  {
   "cell_type": "markdown",
   "metadata": {},
   "source": [
    "Here's a comparison chart summarizing the characteristics and best use cases for Standard Deviation, Variance, and Mean Deviation:\n",
    "\n",
    "| Measure          | Characteristics                                          | Best Use Cases                                     |\n",
    "|------------------|----------------------------------------------------------|----------------------------------------------------|\n",
    "| Standard Deviation | - Represents average deviation from the mean. <br> - Sensitive to outliers. <br> - Measured in the same units as the original data. | - Understanding the spread of data. <br> - Comparing variability between datasets. <br> - When the distribution is approximately normal. |\n",
    "| Variance           | - Square of the standard deviation. <br> - Not as intuitive in terms of units. <br> - Useful for mathematical operations and statistical analyses. | - Advanced statistical analysis. <br> - When simplifying calculations involving squared deviations. |\n",
    "| Mean Deviation     | - Represents the average absolute deviation from the mean. <br> - Less sensitive to outliers. <br> - Does not consider the direction of deviations. | - When outliers significantly affect standard deviation. <br> - Understanding the average deviation from the mean. |\n",
    "\n",
    "Each measure has its own strengths and is suitable for different analytical purposes, depending on the nature of the data and the objectives of the analysis."
   ]
  },
  {
   "cell_type": "markdown",
   "metadata": {},
   "source": [
    "------\n",
    "-----"
   ]
  },
  {
   "cell_type": "markdown",
   "metadata": {},
   "source": [
    "**Measures of Symmetricity**"
   ]
  },
  {
   "cell_type": "markdown",
   "metadata": {},
   "source": [
    "Measures of symmetry are statistical metrics that quantify the degree of symmetry or asymmetry in a distribution. Symmetry refers to the property where one half of the distribution mirrors the other half when folded along a central point or axis.\n",
    "\n",
    "Here are some common measures of symmetry:\n",
    "\n",
    "1. **Skewness**:\n",
    "   - Skewness measures the degree of asymmetry in a distribution.\n",
    "   - A skewness value of zero indicates a perfectly symmetrical distribution.\n",
    "   - Positive skewness indicates that the right tail of the distribution is longer or fatter than the left tail.\n",
    "   - Negative skewness indicates that the left tail of the distribution is longer or fatter than the right tail.\n",
    "\n",
    "2. **Kurtosis**:\n",
    "   - Kurtosis measures the peakedness or flatness of a distribution relative to the normal distribution (the bell curve).\n",
    "   - A kurtosis value of zero indicates a normal distribution.\n",
    "   - Positive kurtosis (leptokurtic) indicates a distribution with heavier tails and a sharper peak than the normal distribution.\n",
    "   - Negative kurtosis (platykurtic) indicates a distribution with lighter tails and a flatter peak than the normal distribution.\n",
    "\n",
    "3. **Pearson's Median Skewness Coefficient**:\n",
    "   - This coefficient measures the asymmetry of a distribution based on the difference between the mean and median.\n",
    "   - It's calculated as 3*((Mean - Median)/Standard Deviation).\n",
    "   - A value close to zero suggests symmetry; positive values indicate right skew, and negative values indicate left skew.\n",
    "\n",
    "4. **L-moments**:\n",
    "   - L-moments are statistical quantities used to characterize the shape of probability distributions.\n",
    "   - They provide robust measures of location, scale, and shape.\n",
    "   - L-skewness and L-kurtosis are the third and fourth L-moments, respectively, which provide measures of skewness and kurtosis similar to moments but are more robust to outliers.\n",
    "\n",
    "These measures help statisticians and analysts understand the shape and characteristics of a dataset's distribution, aiding in descriptive and inferential statistics. They are essential for modeling and analyzing data in various fields, including finance, economics, and engineering."
   ]
  },
  {
   "cell_type": "markdown",
   "metadata": {},
   "source": [
    "---"
   ]
  },
  {
   "cell_type": "markdown",
   "metadata": {},
   "source": [
    "**Skewness**\n",
    "\n",
    "Skewness is a statistical measure that quantifies the asymmetry of the probability distribution of a real-valued random variable about its mean. It indicates the lack of symmetry in a dataset's distribution.\n",
    "\n",
    "Here's how skewness is typically defined:\n",
    "\n",
    "1. **Positive Skewness (Right Skewed)**: \n",
    "   - A distribution is positively skewed if the tail on the right side (larger values) of the distribution is longer or fatter than the left side.\n",
    "   - The mean is typically greater than the median in positively skewed distributions.\n",
    "   - Examples include income distribution, where a few individuals earn extremely high salaries, resulting in a right-skewed distribution.\n",
    "\n",
    "2. **Negative Skewness (Left Skewed)**:\n",
    "   - A distribution is negatively skewed if the tail on the left side (smaller values) of the distribution is longer or fatter than the right side.\n",
    "   - The mean is typically less than the median in negatively skewed distributions.\n",
    "   - Examples include exam scores, where a few students perform poorly, resulting in a left-skewed distribution.\n",
    "\n",
    "Skewness can help in understanding the shape and nature of a dataset's distribution. It's a crucial measure in descriptive statistics and is often considered when analyzing datasets and making decisions based on them."
   ]
  },
  {
   "cell_type": "markdown",
   "metadata": {},
   "source": [
    "**Skewness:**\n",
    "\n",
    "<img src=\"Skew-details.png\" width=\"850\" height=\"200\"/>"
   ]
  },
  {
   "cell_type": "markdown",
   "metadata": {},
   "source": [
    "**Formula of Skewness:**\n",
    "\n",
    "<img src=\"skweness-formula.jpg\" width=\"350\" height=\"200\"/>"
   ]
  },
  {
   "cell_type": "markdown",
   "metadata": {},
   "source": [
    "tabular representation of the concepts \"fairly symmetric,\" \"moderately skewed,\" and \"highly skewed\" to illustrate their characteristics:\n",
    "\n",
    "| Symmetry / Skewness    | Description                                                                                  | Example                                                |\n",
    "|-------------------------|----------------------------------------------------------------------------------------------|--------------------------------------------------------|\n",
    "| Fairly Symmetric        | Distribution is approximately balanced around its central value.                             | Heights or weights of a population                     |\n",
    "| Moderately Skewed       | Distribution shows some degree of asymmetry but not extreme.                                  | Income distribution                                    |\n",
    "| Highly Skewed           | Distribution exhibits significant asymmetry, with one tail much longer or fatter than the other. | Wealth distribution                                   |\n",
    "\n",
    "This tabular representation outlines the characteristics and examples associated with each level of symmetry or skewness in a distribution. It can help in understanding and categorizing different types of data distributions based on their properties. If you have access to visualization tools or programming environments like Python with Matplotlib, you can create graphical representations of distributions to further illustrate these concepts.\n",
    "\n",
    "if Skewness is from 0.5 to 0 or 0 to -0.5 for **Fairly Symmetric**\n",
    "\n",
    "if Skewness is from 1 to 0 or 0 to -1 for **Moderately Skewed**\n",
    "\n",
    "if Skewness is more than 1 to 0 or 0 to -1 for **Highly Skewed**"
   ]
  },
  {
   "cell_type": "markdown",
   "metadata": {},
   "source": [
    "---"
   ]
  },
  {
   "cell_type": "markdown",
   "metadata": {},
   "source": [
    "**Kurtosis**"
   ]
  },
  {
   "cell_type": "markdown",
   "metadata": {},
   "source": [
    "Kurtosis is a statistical measure that describes the shape of a probability distribution's tails in relation to its central peak. It quantifies whether the tails of a distribution are heavy (outliers are more frequent) or light (outliers are less frequent) compared to a normal distribution.\n",
    "\n",
    "Here's a breakdown of different levels of kurtosis and their characteristics:\n",
    "\n",
    "1. **Mesokurtic**:\n",
    "   - A distribution with mesokurtic kurtosis is similar to a normal distribution.\n",
    "   - It has the same kurtosis as a normal distribution (typically 0).\n",
    "   - The tails of the distribution have the same weight as a normal distribution.\n",
    "\n",
    "2. **Leptokurtic**:\n",
    "   - A leptokurtic distribution has \"heavy\" tails compared to a normal distribution.\n",
    "   - It has positive kurtosis, indicating that extreme values (outliers) occur more frequently than in a normal distribution.\n",
    "   - The peak of the distribution is higher and sharper than that of a normal distribution.\n",
    "\n",
    "3. **Platykurtic**:\n",
    "   - A platykurtic distribution has \"light\" tails compared to a normal distribution.\n",
    "   - It has negative kurtosis, indicating that extreme values (outliers) occur less frequently than in a normal distribution.\n",
    "   - The peak of the distribution is lower and broader than that of a normal distribution.\n",
    "\n",
    "A kurtosis value of 3 is often used as a benchmark for normality. Values greater than 3 indicate leptokurtic distributions, while values less than 3 indicate platykurtic distributions.\n",
    "\n",
    "Understanding the kurtosis of a distribution can help in identifying the presence of outliers or extreme values and in selecting appropriate statistical techniques for data analysis."
   ]
  },
  {
   "cell_type": "markdown",
   "metadata": {},
   "source": [
    "**Formula of Kurtosis:**\n",
    "\n",
    "<img src=\"kurtosis-formula.jpg\" width=\"350\" height=\"200\"/>"
   ]
  },
  {
   "cell_type": "markdown",
   "metadata": {},
   "source": [
    "**Kurtosis:**\n",
    "\n",
    "<img src=\"Kurtosis_layout.png\" width=\"350\" height=\"200\"/>"
   ]
  },
  {
   "cell_type": "markdown",
   "metadata": {},
   "source": []
  }
 ],
 "metadata": {
  "language_info": {
   "name": "python"
  }
 },
 "nbformat": 4,
 "nbformat_minor": 2
}
