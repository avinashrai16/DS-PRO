{
 "cells": [
  {
   "cell_type": "markdown",
   "metadata": {},
   "source": [
    "**Probability**"
   ]
  },
  {
   "cell_type": "markdown",
   "metadata": {},
   "source": [
    "    **Covariance**\n",
    "\n",
    "    Covariance is a measure of the extent to which two random variables change together. It quantifies the degree to which two variables tend to deviate from their means in a similar way. \n",
    "\n",
    "Mathematically, the covariance between two random variables \\(X\\) and \\(Y\\) is denoted as \\(cov(X,Y)\\) and is defined as:\n",
    "\n",
    "\\[ cov(X,Y) = \\frac{1}{n} \\sum_{i=1}^{n} (x_i - \\bar{x})(y_i - \\bar{y}) \\]\n",
    "\n",
    "Where:\n",
    "- \\(n\\) is the number of observations.\n",
    "- \\(x_i\\) and \\(y_i\\) are individual observations of the variables \\(X\\) and \\(Y\\) respectively.\n",
    "- \\(\\bar{x}\\) and \\(\\bar{y}\\) are the means of the variables \\(X\\) and \\(Y\\) respectively.\n",
    "\n",
    "The sign of the covariance indicates the tendency in the linear relationship between the variables:\n",
    "- Positive covariance indicates that as one variable increases, the other tends to increase as well.\n",
    "- Negative covariance indicates that as one variable increases, the other tends to decrease.\n",
    "- Covariance close to zero suggests that there is no linear relationship between the variables.\n",
    "\n",
    "One drawback of covariance is that its value is not standardized, which means it is dependent on the scale of the variables. As a result, it's hard to interpret the magnitude of the covariance.\n",
    "\n",
    "Covariance is often used in conjunction with correlation. While covariance measures the direction of the linear relationship between variables, correlation standardizes this measure to a range between -1 and 1, making it easier to interpret the strength and direction of the relationship."
   ]
  },
  {
   "cell_type": "markdown",
   "metadata": {},
   "source": [
    "**Formula of Covariance:**\n",
    "\n",
    "<img src=\"covariance-Formula.png\" width=\"450\" height=\"200\"/>"
   ]
  },
  {
   "cell_type": "markdown",
   "metadata": {},
   "source": [
    "**Example**\n",
    "\n",
    "Certainly, let's go through the example again to calculate the covariance between the heights of fathers and sons using the given dataset:\n",
    "\n",
    "Here's the dataset:\n",
    "\n",
    "| Father's Height (in inches) | Son's Height (in inches) |\n",
    "|------------------------------|---------------------------|\n",
    "|            68                |             70            |\n",
    "|            72                |             74            |\n",
    "|            66                |             68            |\n",
    "|            71                |             72            |\n",
    "|            69                |             71            |\n",
    "\n",
    "First, we calculate the means of the father's heights bar{x} and the son's heights bar{y}:\n",
    "\n",
    "bar{x} = {68 + 72 + 66 + 71 + 69}/{5} = {346}/{5} = 69.2 inches\n",
    "\n",
    "bar{y} = {70 + 74 + 68 + 72 + 71}/{5} = {355}/{5} = 71  inches\n",
    "\n",
    "Now, we can calculate the covariance using the formula:\n",
    "\n",
    "Substituting the values:\n",
    "\n",
    "cov(X,Y) = (68 - 69.2)(70 - 71) + (72 - 69.2)(74 - 71) + (66 - 69.2)(68 - 71) + (71 - 69.2)(72 - 71) + (69 - 69.2)(71 - 71) / 5\n",
    " \n",
    "cov(X,Y) = (-1.2)(-1) + (2.8)(3) + (-3.2)(-3) + (1.8)(1) + (-0.2)(0) / 5\n",
    "\n",
    "cov(X,Y) = 1.2 + 8.4 + 9.6 + 1.8 + 0 / 5\n",
    "\n",
    "cov(X,Y) = {21}/{5} = 4.2 Square inch\n",
    "\n",
    "So, the covariance between the heights of fathers and sons in this dataset is 4.2."
   ]
  },
  {
   "cell_type": "markdown",
   "metadata": {},
   "source": [
    "**drawbacks**\n",
    "\n",
    "covariance has unit/dimension attached to it\n",
    "\n",
    "the range can vary from -infinity to +infinity"
   ]
  },
  {
   "cell_type": "markdown",
   "metadata": {},
   "source": [
    "-----"
   ]
  },
  {
   "cell_type": "markdown",
   "metadata": {},
   "source": [
    "    **Correlation**"
   ]
  },
  {
   "cell_type": "markdown",
   "metadata": {},
   "source": [
    "In probability theory and statistics, correlation refers to the measure of the relationship between two random variables. It indicates the extent to which the variables tend to move together. Correlation is often denoted by the symbol \"r\" and ranges between -1 and 1.\n",
    "\n",
    "Here's what different correlation values indicate:\n",
    "\n",
    "1. **Positive Correlation (r > 0)**: When one variable increases, the other variable tends to increase as well.\n",
    "2. **Negative Correlation (r < 0)**: When one variable increases, the other variable tends to decrease.\n",
    "3. **No Correlation (r = 0)**: There is no systematic relationship between the variables.\n",
    "\n",
    "The correlation coefficient, denoted by \"r,\" can be calculated using various methods. One common method is Pearson's correlation coefficient, which measures the linear relationship between two variables. It is calculated using the following formula:\n",
    "\n",
    "r = sum((x_i - bar{x})(y_i - bar{y})) / sqrt((sum(x_i - bar{x})^2) * (sum(y_i - bar{y})^2))\n",
    "\n",
    "Where:\n",
    "- \\( x_i \\) and \\( y_i \\) are the individual data points.\n",
    "- \\( \\bar{x} \\) and \\( \\bar{y} \\) are the means of the variables \\( x \\) and \\( y \\), respectively.\n",
    "\n",
    "Correlation is widely used in various fields such as economics, finance, psychology, and epidemiology to analyze relationships between variables and make predictions based on those relationships. However, it's important to note that correlation does not imply causation. Two variables may be correlated, but that does not necessarily mean that one variable causes the other to change."
   ]
  },
  {
   "cell_type": "markdown",
   "metadata": {},
   "source": [
    "**Formula of Pearson's Correlation :**\n",
    "\n",
    "<img src=\"formula-for-pearson-correlation-coefficient.webp\" width=\"450\" height=\"200\"/>"
   ]
  },
  {
   "cell_type": "markdown",
   "metadata": {},
   "source": [
    "**Example**\n",
    "\n",
    "Certainly! Let's consider an example involving the correlation between the number of hours spent studying and the exam scores of students.\n",
    "\n",
    "Suppose we have data from a class of students, where we recorded both the number of hours each student spent studying for an exam and their corresponding exam scores. We want to investigate whether there is a correlation between these two variables.\n",
    "\n",
    "Here's a hypothetical dataset:\n",
    "\n",
    "| Student | Hours Studied (x) | Exam Score (y) |\n",
    "|---------|--------------------|----------------|\n",
    "| 1       | 5                  | 75             |\n",
    "| 2       | 3                  | 60             |\n",
    "| 3       | 7                  | 85             |\n",
    "| 4       | 4                  | 65             |\n",
    "| 5       | 6                  | 80             |\n",
    "\n",
    "To calculate the correlation coefficient (Pearson's correlation coefficient, denoted as \\( r \\)) between the number of hours studied and exam scores, we use the formula mentioned earlier.\n",
    "\n",
    "First, we need to calculate the mean values of hours studied bar{x} and exam scores bar{y}:\n",
    "\n",
    "bar{x} = {5 + 3 + 7 + 4 + 6}{5} = {25}{5} = 5 hours\n",
    "\n",
    "bar{y} = {75 + 60 + 85 + 65 + 80}{5} = {365}{5} = 73  points\n",
    "\n",
    "Now, we can use the formula to calculate  r:\n",
    "\n",
    "Substituting the values:\n",
    "\n",
    "r = (5-5)(75-73) + (3-5)(60-73) + (7-5)(85-73) + (4-5)(65-73) + (6-5)(80-73) / sqrt{(5-5)^2 + (3-5)^2 + (7-5)^2 + (4-5)^2 + (6-5)^2} *{(75-73)^2 + (60-73)^2 + (85-73)^2 + (65-73)^2 + (80-73)^2} \n",
    "\n",
    "r = 0 * 2 + (-2) * (-13) + 2 * 12 + (-1) * (-8) + 1 * 7 / sqrt{0^2 + (-2)^2 + 2^2 + (-1)^2 + 1^2} * {2^2 + (-13)^2 + 12^2 + (-8)^2 + 7^2}\n",
    "\n",
    "r = 0 + 26 + 24 + 8 + 7 / sqrt{0 + 4 + 4 + 1 + 1} * {4 + 169 + 144 + 64 + 49}\n",
    "\n",
    "r = 65 / sqrt({10} * {430}) = 65 / sqrt({4300})\n",
    "\n",
    "r ≈ 65 /65\n",
    "\n",
    "r ≈ 65 /65 ≈ 1\n",
    "\n",
    "So, the correlation coefficient \\( r \\) is approximately 1.\n",
    "\n",
    "Since \\( r \\) is positive and one, it suggests a positive correlation between the number of hours studied and the exam scores. This means that as the number of hours studied increases, the correlation between the number of hours studied and the exam scores is very strong."
   ]
  },
  {
   "cell_type": "markdown",
   "metadata": {},
   "source": [
    "**Formula of Correlation in terms of Covariance:**\n",
    "\n",
    "<img src=\"correlation-formula-covariance.png\" width=\"550\" height=\"200\"/>"
   ]
  },
  {
   "cell_type": "markdown",
   "metadata": {},
   "source": [
    "**Example**\n",
    "\n",
    "Let's consider an example to illustrate the relationship between correlation and covariance using the given formula.\n",
    "\n",
    "Suppose we have a dataset that consists of the following observations for two variables, X and Y:\n",
    "\n",
    "X = [2, 4, 6, 8, 10]\n",
    "Y = [1, 3, 5, 7, 9]\n",
    "\n",
    "First, we need to calculate the means of X and Y:\n",
    "\n",
    "bar{X} = {2 + 4 + 6 + 8 + 10}/{5} = {30}/{5} = 6 \n",
    "bar{Y} = {1 + 3 + 5 + 7 + 9}/{5} = {25}/{5} = 5 \n",
    "\n",
    "Next, we calculate the covariance between X and Y:\n",
    "\n",
    "cov(X,Y) = [(2 - 6)(1 - 5) + (4 - 6)(3 - 5) + (6 - 6)(5 - 5) + (8 - 6)(7 - 5) + (10 - 6)(9 - 5)] / 5\n",
    "\n",
    "cov(X,Y) = [(-4)(-4) + (-2)(-2) + (0)(0) + (2)(2) + (4)(4)] / 5\n",
    "\n",
    "cov(X,Y) = [16 + 4 + 0 + 4 + 16] / 5\n",
    "\n",
    "cov(X,Y) = {40}/{5} = 8 \n",
    "\n",
    "Now, we need to calculate the standard deviations of X and Y:\n",
    "\n",
    "To find the standard deviation, we calculate the square root of the variance. \n",
    "Variance is the average of the squared differences from the Mean.\n",
    "For X:\n",
    "{Variance of } X = sum{(x_i - bar{X})^2}/{n} \n",
    "                = {(2-6)^2 + (4-6)^2 + (6-6)^2 + (8-6)^2 + (10-6)^2}/{5}\n",
    "                = {16 + 4 + 0 + 4 + 16}/{5}\n",
    "                = {40}/{5} = 8\n",
    "\n",
    "So, the standard deviation sigma_X of (X) is ( sqrt{8} = 2.828 ).\n",
    "\n",
    "For Y, we follow the same process and find the standard deviation sigma_Y  to be (2.828) as well.\n",
    "\n",
    "Now, we can calculate the correlation coefficient using the formula:\n",
    "\n",
    "r = cov(X,Y)/ (sigma_X * sigma_Y)\n",
    "r = {8}/{2.828 * 2.828} = {8}/{8} = 1\n",
    "\n",
    "The correlation coefficient \\(r\\) between \\(X\\) and \\(Y\\) is 1, indicating a perfect positive linear relationship between the variables. This means that as the values of \\(X\\) increase, the values of \\(Y\\) also increase in a perfectly linear fashion."
   ]
  },
  {
   "cell_type": "markdown",
   "metadata": {},
   "source": [
    "**Spearman Rank coefficient**\n",
    "\n",
    "\n",
    "Spearman's rank correlation coefficient, denoted by \\( \\rho \\) (rho), is a non-parametric measure of the strength and direction of association between two ranked variables. It assesses how well the relationship between two variables can be described using a monotonic function. Unlike Pearson's correlation coefficient, Spearman's correlation does not assume that the data are normally distributed.\n",
    "\n",
    "Spearman's rank correlation coefficient is calculated as follows:\n",
    "\n",
    "1. Rank the values for each variable separately, assigning ranks from 1 to \\( n \\), where \\( n \\) is the number of observations. If there are ties, assign the average rank to the tied values.\n",
    "\n",
    "2. Calculate the difference between the ranks for each pair of observations. Square these differences.\n",
    "\n",
    "\n",
    "Spearman's rank correlation coefficient ranges from -1 to 1:\n",
    "- \\( \\rho = 1 \\) indicates a perfect positive monotonic relationship.\n",
    "- \\( \\rho = -1 \\) indicates a perfect negative monotonic relationship.\n",
    "- \\( \\rho = 0 \\) indicates no monotonic relationship.\n",
    "\n",
    "Spearman's correlation is commonly used when the relationship between variables is suspected to be monotonic but not necessarily linear, or when the data may contain outliers.\n",
    "\n",
    "It's worth noting that Spearman's correlation does not indicate causation between variables but rather assesses the strength and direction of their association based on their ranks.\n",
    "\n",
    "**Formula of Correlation in terms of speraman-coefficient:**\n",
    "\n",
    "<img src=\"speraman-coeeficient.png\" width=\"250\" height=\"150\"/>\n",
    "\n",
    "\n"
   ]
  },
  {
   "cell_type": "markdown",
   "metadata": {},
   "source": [
    "    **Example**\n",
    "\n",
    "\n",
    "    Let's consider a simple example to illustrate Spearman's rank correlation coefficient.\n",
    "\n",
    "Suppose we have data on the hours of study and the corresponding exam scores of five students:\n",
    "\n",
    "| Hours of Study | Exam Score |\n",
    "|----------------|------------|\n",
    "| 3              | 65         |\n",
    "| 5              | 75         |\n",
    "| 2              | 60         |\n",
    "| 6              | 80         |\n",
    "| 4              | 70         |\n",
    "\n",
    "To compute Spearman's rank correlation coefficient, we first need to rank the data for both variables:\n",
    "\n",
    "For Hours of Study:\n",
    "- 2 -> Rank 1\n",
    "- 3 -> Rank 2\n",
    "- 4 -> Rank 3\n",
    "- 5 -> Rank 4\n",
    "- 6 -> Rank 5\n",
    "\n",
    "For Exam Score:\n",
    "- 60 -> Rank 1\n",
    "- 65 -> Rank 2\n",
    "- 70 -> Rank 3\n",
    "- 75 -> Rank 4\n",
    "- 80 -> Rank 5\n",
    "\n",
    "Now, we calculate the differences between the ranks of corresponding pairs of observations:\n",
    "\n",
    "| Hours of Study | Exam Score | Rank (Hours) | Rank (Exam) | \\( d \\)   | \\( d^2 \\) |\n",
    "|----------------|------------|--------------|-------------|---------|----------|\n",
    "| 3              | 65         | 2            | 2           | 0       | 0        |\n",
    "| 5              | 75         | 4            | 4           | 0       | 0        |\n",
    "| 2              | 60         | 1            | 1           | 0       | 0        |\n",
    "| 6              | 80         | 5            | 5           | 0       | 0        |\n",
    "| 4              | 70         | 3            | 3           | 0       | 0        |\n",
    "\n",
    "Now, we can compute Spearman's rank correlation coefficient (\\( \\rho \\)):\n",
    "\n",
    "rho = 1 - {6 \\times \\sum d^2}/{{n(n^2 - 1)}} \n",
    "\n",
    "rho = 1 - {6 \\times (0 + 0 + 0 + 0 + 0)}/{{5(5^2 - 1)}}\n",
    "\n",
    "rho = 1 - {{0}}/{{5 *24}}\n",
    "\n",
    "rho = 1 - {{0}}/{{120}}\n",
    "\n",
    "rho = 1 - 0\n",
    "\n",
    "rho = 1 \n",
    "\n",
    "The Spearman's rank correlation coefficient for this dataset is 1, indicating a perfect positive monotonic relationship between the hours of study and the exam scores. In other words, as the hours of study increase, the exam scores also increase in a perfect monotonic fashion."
   ]
  },
  {
   "cell_type": "markdown",
   "metadata": {},
   "source": [
    "-----"
   ]
  },
  {
   "cell_type": "markdown",
   "metadata": {},
   "source": [
    "Certainly! Here's a comparison of covariance and correlation in a chart:\n",
    "\n",
    "| Feature          | Covariance                             | Correlation                         |\n",
    "|------------------|----------------------------------------|-------------------------------------|\n",
    "| Definition       | Measures degree of change between two variables | Standardized measure of linear relationship |\n",
    "| Scale            | Not standardized, depends on units      | Standardized, ranges from -1 to 1   |\n",
    "| Interpretation   | Directional, not standardized           | Direction and strength of linear relationship |\n",
    "| Range            | Can take any real value                 | Always between -1 and 1              |\n",
    "| Standardization  | Not standardized                        | Standardized by dividing by product of standard deviations |\n",
    "| Applicability    | Useful for understanding direction      | Widely used for interpretation and comparison |\n",
    "\n",
    "I hope this helps illustrate the key differences between covariance and correlation."
   ]
  },
  {
   "cell_type": "markdown",
   "metadata": {},
   "source": [
    "------------------\n",
    "-----------------------"
   ]
  },
  {
   "cell_type": "markdown",
   "metadata": {},
   "source": [
    "**Probability**"
   ]
  },
  {
   "cell_type": "markdown",
   "metadata": {},
   "source": [
    "Probability is the measure of the likelihood of an event occurring, quantified between 0 and 1. It provides a mathematical framework to model and understand uncertainty and randomness in various phenomena."
   ]
  },
  {
   "cell_type": "markdown",
   "metadata": {},
   "source": [
    "Experiment: A repeatable procedure with a set of possible result\n",
    "\n",
    "Sample Space : All possible outcome of an experiment\n",
    "\n",
    "Event: one or more outcome of experiment\n",
    "\n",
    "Basic counting principle: The basic counting principle states that if there are n_1 ways to do one thing and n_2 ways to do another thing, then there are n_1 * n_2 ways to do both things together. It is fundamental in combinatorics and is used to calculate the total number of outcomes in a sequence of events.\n",
    " This counting works in independent event\n",
    " \n",
    " Independent event : that does not affect each other\n",
    " "
   ]
  },
  {
   "cell_type": "markdown",
   "metadata": {},
   "source": [
    "**Probability Principles**\n",
    "\n",
    "Probability is the measure of the likelihood of an event occurring, quantified between 0 and 1. It provides a mathematical framework to model and understand uncertainty and randomness in various phenomena.\n",
    "\n",
    "probability = share of success / total no of possible outcomes\n",
    "\n",
    "relative frequency :Relative frequency is the ratio of the number of times an event occurs to the total number of observations, serving as an empirical estimation of probability. As the number of trials increases, relative frequency tends to converge towards the theoretical probability of an event.\n",
    "\n",
    "    **Probability Principles**:\n",
    "1. The exact outcome cannot be predicted.\n",
    "2. All possible outcomes are known.\n",
    "3. Equally likely outcome.\n",
    "4. Repeatable under uniform condition."
   ]
  },
  {
   "cell_type": "markdown",
   "metadata": {},
   "source": [
    "**Probability Rule**\n",
    "\n",
    "1. Probability can not be more than 1 or less than zero\n",
    "2. Sum of all probability will always going to be one\n",
    "3. complement rule.\n",
    "4. general addition rule : P(A or B) = P(A)+P(B)-P(A and B) # where A,B is the event\n",
    "    Special case of disjoint events (can not occur together) = P(A or B) = P(A)+P(B)\n",
    "\n",
    "Conditional probability is the probability of an event occurring given that another event has already occurred. It's denoted as \n",
    "P(A∣B), the probability of event A given event B."
   ]
  },
  {
   "cell_type": "markdown",
   "metadata": {},
   "source": [
    "**Formula of Conditional probability:**\n",
    "\n",
    "<img src=\"condtional-probablity.png\" width=\"250\" height=\"150\"/>"
   ]
  },
  {
   "cell_type": "markdown",
   "metadata": {},
   "source": [
    "**Question**:\n",
    "\n",
    "16 ppl study French\n",
    "21 study spanish\n",
    "there are 30 people altogether\n",
    "Ans:\n",
    "common ppl for French and Spanish = 7\n",
    "\n",
    "* P(French): 16/30\n",
    "* P(Spanish): 21/30\n",
    "* P(FOnly) : 9/30\n",
    "* P(SOnly): 14/30\n",
    "* P(F or S) :30/30\n",
    "* P(F and S) :7/30"
   ]
  },
  {
   "cell_type": "markdown",
   "metadata": {},
   "source": [
    "**Bayes' Theorem**"
   ]
  },
  {
   "cell_type": "markdown",
   "metadata": {},
   "source": [
    "**Formula of Bayes' Theorem:**\n",
    "\n",
    "<img src=\"Bayes Theorem.jpg\" width=\"550\" height=\"250\"/>"
   ]
  },
  {
   "cell_type": "markdown",
   "metadata": {},
   "source": []
  }
 ],
 "metadata": {
  "language_info": {
   "name": "python"
  }
 },
 "nbformat": 4,
 "nbformat_minor": 2
}
