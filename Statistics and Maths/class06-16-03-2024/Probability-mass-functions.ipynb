{
 "cells": [
  {
   "cell_type": "markdown",
   "metadata": {},
   "source": [
    "**Discrete Uniform Distribution**\n",
    "    * The Discrete Uniform Distribution describes outcomes where each value in a finite set of possibilities has an equal probability of occurring, with a constant **PMF** across the range.\n",
    "    * The outcomes are discrete in nature\n",
    "    * The outcomes are independent\n",
    "\n",
    "    E.G. : Rolling a dice, tossing a coin\n"
   ]
  },
  {
   "cell_type": "markdown",
   "metadata": {},
   "source": [
    "![Discrete Uniform Distribution](https://upload.wikimedia.org/wikipedia/commons/1/1f/Uniform_discrete_pmf_svg.svg)\n",
    "\n",
    "**n = 6 where n = b(max random values) − a (min random values) + 1**"
   ]
  },
  {
   "cell_type": "markdown",
   "metadata": {},
   "source": [
    "**mean of discrete uniform distribution = a+b/2**\n",
    "    The mean of a Discrete Uniform Distribution is calculated as the average of the minimum and maximum values in the range of the distribution. It can be expressed as:\n",
    "\n",
    "    Mean = Minimum + Maximum / 2\n",
    "​\n",
    "\n",
    "\n",
    "**variance of discrete uniform distribution = n^2-1/12**\n",
    "\n",
    "For a Discrete Uniform Distribution with minimum value a and maximum value b, the variance is calculated as:\n",
    "\n",
    "    Variance = ((b - a + 1)^2 - 1)/12"
   ]
  },
  {
   "cell_type": "markdown",
   "metadata": {},
   "source": [
    "![Discrete Uniform Distribution Formula](https://calcworkshop.com/wp-content/uploads/mean-variance-uniform-distribution.png)"
   ]
  },
  {
   "cell_type": "markdown",
   "metadata": {},
   "source": [
    "So, using our previous example of the box of 12 donuts, where you randomly select one donut without looking. Let’s identify the distribution and calculate it’s mean and variance.\n",
    "\n",
    "\n",
    "![Calculation](https://calcworkshop.com/wp-content/uploads/example-discrete-uniform-distribution.png)"
   ]
  },
  {
   "cell_type": "markdown",
   "metadata": {},
   "source": [
    "[Proof](<https://proofwiki.org/wiki/Variance_of_Discrete_Uniform_Distribution#:~:text=Let%20X%20be%20a%20discrete,)%3Dn2%E2%88%92112>)"
   ]
  },
  {
   "cell_type": "markdown",
   "metadata": {},
   "source": [
    "--------------"
   ]
  },
  {
   "cell_type": "markdown",
   "metadata": {},
   "source": [
    "**Continuous Uniform Distribution**\n",
    "\n",
    "The Continuous Uniform Distribution is a probability distribution that describes a continuous random variable where all intervals of the same length within its range have an equal probability of occurring. It is characterized by a constant **probability density function (PDF)** across its range.\n",
    "\n",
    "Area under the curve will always be 1"
   ]
  },
  {
   "cell_type": "markdown",
   "metadata": {},
   "source": [
    "![Continuous Uniform Distribution](https://calcworkshop.com/wp-content/uploads/continuous-uniform-distribution-property.png)"
   ]
  },
  {
   "cell_type": "markdown",
   "metadata": {},
   "source": [
    "**Formulas**\n",
    "![Continuous Uniform Distribution Formulas](https://calcworkshop.com/wp-content/uploads/continuous-uniform-distribution-formulas.png)"
   ]
  },
  {
   "cell_type": "markdown",
   "metadata": {},
   "source": [
    "**Calculation**\n",
    "![Continuous Uniform Distribution Calculation](https://calcworkshop.com/wp-content/uploads/continuous-uniform-distribution-example.png)"
   ]
  },
  {
   "cell_type": "markdown",
   "metadata": {},
   "source": [
    "<img src=\"Continuous Uniform Distribution.jpg\" width=\"550\" height=\"350\"/>"
   ]
  },
  {
   "cell_type": "markdown",
   "metadata": {},
   "source": [
    "    **Question (Continuous Uniform Distribution)**\n",
    "    The number of items sold in a shop is uniformly distributed with max and min item sold 50 and 20 respectively\n",
    "    what is rge probability of daily sales to fall between 25 and 40\n",
    "\n",
    "\n",
    "\n",
    "P(25 <= X <= 40>) = area of 25 to 40\n",
    "\n",
    "max =50 \n",
    "\n",
    "min = 20\n",
    "\n",
    "width = 40 -25 = 15\n",
    "\n",
    "height = 1/b-a = 1/50-20 = 1/30\n",
    "\n",
    "area of 25 to 40 = 1/30 *15 = 0.5\n",
    "\n",
    "so P(25 <= X <= 40>) = 0.5\n",
    "\n",
    "    "
   ]
  },
  {
   "cell_type": "markdown",
   "metadata": {},
   "source": [
    "      **Question (Continuous Uniform Distribution)**\n",
    "\n",
    "   The amount of time for pizza delivery is uniformly distributed b/w 15 & 60 mins - what is standard deviation of the amount of time it takes for pizza to be delivered \n",
    "\n",
    "   Variance = (b-a)^2 /12 = (60-15)^2  /12 = 168.75\n",
    "   \n",
    "   Standard deviation = Square root of Variance  = Square root of 168.75 = 12.99 ~ 13"
   ]
  },
  {
   "cell_type": "markdown",
   "metadata": {},
   "source": [
    "----------\n",
    "----------"
   ]
  },
  {
   "cell_type": "markdown",
   "metadata": {},
   "source": [
    "**Distributions in PMF and PDF**"
   ]
  },
  {
   "cell_type": "markdown",
   "metadata": {},
   "source": [
    "<u>Distributions in PMF</u>"
   ]
  },
  {
   "cell_type": "markdown",
   "metadata": {},
   "source": [
    "        **Bernoulli Distribution:**\n",
    "    The Bernoulli Distribution models the outcome of a single experiment with two possible outcomes: success (usually coded as 1) with probability  p and failure (coded as 0) with probability  1 - p"
   ]
  },
  {
   "cell_type": "markdown",
   "metadata": {},
   "source": [
    "**Bernoulli distribution example: Tossing a coin**\n",
    "The coin toss example is perhaps the easiest way to explain Bernoulli distribution. Let’s say that the outcome of “heads” is a “success,” while an outcome of “tails” is a “failure.” In this instance:\n",
    "\n",
    "The probability of a successful outcome (landing on heads) is written as p\n",
    "The probability of a failure (landing on tails), written as q, is calculated  as 1 **–** p\n",
    "With a standard coin, we know that there’s a 50/50 chance of landing on either heads or tails. So, in this case:\n",
    "\n",
    "p = 0.5\n",
    "q = 1– **0.5\n",
    "So, in our coin toss example, both p and q = 0.5. On a graph, you’d represent the probability of a failure as “0” and the probability of success as “1,” both on the y-axis.\n",
    "\n",
    "<img src=\"https://d3mm2s9r15iqcv.cloudfront.net/en/wp-content/uploads/old-blog-uploads/bernoulli-distribution-simple-coin-toss.png\" alt=\"Fomrula\" width=\"550\" height=\"350\"/>\n"
   ]
  },
  {
   "cell_type": "markdown",
   "metadata": {},
   "source": [
    "**PMF Function for Bernoulli:**\n",
    "\n",
    "![Function](https://wikimedia.org/api/rest_v1/media/math/render/svg/5fff3412509e73816dc2b28405b93c34f89ee487)\n",
    "\n",
    "![Function](https://wikimedia.org/api/rest_v1/media/math/render/svg/614e0c64d59f0ff2e926deafcb2de6e502394fac)"
   ]
  },
  {
   "cell_type": "markdown",
   "metadata": {},
   "source": [
    "**Mean for Bernoulli**\n",
    "\n",
    "![Function](https://wikimedia.org/api/rest_v1/media/math/render/svg/0eb41a45634ab84b13b83cb1488b626aa2129285)\n",
    "\n",
    "This is due to the fact that for a Bernoulli distributed random variable X \n",
    "Pr(X=1)=p and Pr(X=0)=q we find\n",
    "\n",
    "![Function](https://wikimedia.org/api/rest_v1/media/math/render/svg/5011326253761bfe33bc3d51773a83268b8a56b7)"
   ]
  },
  {
   "cell_type": "markdown",
   "metadata": {},
   "source": [
    "**Variance for Bernoulli**\n",
    "\n",
    "![Function](https://wikimedia.org/api/rest_v1/media/math/render/svg/2d4e26d8a1fdfb90e91a2fafd5fb3841de88f1fb)\n",
    "\n",
    "We first find\n",
    "\n",
    "![Function](https://wikimedia.org/api/rest_v1/media/math/render/svg/1bf32718a7a52087297a46d9ebc177ee0c80df07)\n",
    "\n",
    "From this follows\n",
    "\n",
    "![Function](https://wikimedia.org/api/rest_v1/media/math/render/svg/41972e4aade1430eb47d46a91051f00a583e0c45)"
   ]
  },
  {
   "cell_type": "markdown",
   "metadata": {},
   "source": [
    "**Condition of Bernoulli distribution**\n",
    "\n",
    "1. no of trials should be finite\n",
    "2. each trail should be independent\n",
    "3. only 2 possible out come 1 or 0\n",
    "4. Probability of each output should be same in every trail"
   ]
  },
  {
   "cell_type": "markdown",
   "metadata": {},
   "source": [
    "    **Example**: tossing a coin , probability of getting 3 and not 3 while throwing a dice(as the outcome is limited to 2)\n",
    "    In ML : Classification if the outcome is 2 at max\n"
   ]
  },
  {
   "cell_type": "markdown",
   "metadata": {},
   "source": [
    "**Binomial Distribution**\n",
    "\n",
    "The Binomial Distribution describes the number of successes in a fixed number of independent trials, each with the same probability of success."
   ]
  },
  {
   "cell_type": "markdown",
   "metadata": {},
   "source": [
    "![Formula](https://www.onlinemathlearning.com/image-files/binomial-distribution-formula.png)"
   ]
  },
  {
   "cell_type": "markdown",
   "metadata": {},
   "source": [
    "    ** Question** With 3 tosses what is the probability of getting 2 heads ?\n",
    "\n",
    "    using above formula:\n",
    "\n",
    "    n= 3 , x = 2 , p =0.5,q =0.5\n",
    "    3! = 6, 2! = 2\n",
    "\n",
    "    (3!/(3-2)!2!)*0.5^2*0.5^1 = 3*0.5^3 = 0.375"
   ]
  },
  {
   "cell_type": "markdown",
   "metadata": {},
   "source": [
    "**Binomial distribution mean and variance**\n",
    "\n",
    "<img src=\"https://slideplayer.com/slide/13490231/82/images/4/Binomial+Distribution%3A+Formulas.jpg\" alt=\"Fomaula\" width=\"550\" height=\"350\"/>"
   ]
  },
  {
   "cell_type": "markdown",
   "metadata": {},
   "source": []
  }
 ],
 "metadata": {
  "language_info": {
   "name": "python"
  }
 },
 "nbformat": 4,
 "nbformat_minor": 2
}
