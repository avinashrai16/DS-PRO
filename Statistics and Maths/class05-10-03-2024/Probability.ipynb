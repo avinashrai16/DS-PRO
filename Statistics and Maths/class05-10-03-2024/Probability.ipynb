{
 "cells": [
  {
   "cell_type": "markdown",
   "metadata": {},
   "source": [
    "**Bayes' Theorem**"
   ]
  },
  {
   "cell_type": "markdown",
   "metadata": {},
   "source": [
    "**Formula of Bayes' Theorem:**\n",
    "\n",
    "<img src=\"Bayes Theorem-1.jpg\" width=\"550\" height=\"350\"/>"
   ]
  },
  {
   "cell_type": "markdown",
   "metadata": {},
   "source": [
    "Q1 : The term **Free** occurs in 20% of the emails marked as spam. 0.1% of non spam emails include the term **Free**. 50% of the emails are spam.calculate probability that an email is spam if the word **Free** appears in it.\n",
    "\n",
    "    **Answer**\n",
    "    P(spam) = 0.5 (# 50% of the emails are spam)\n",
    "    P(Free|Spam) = 0.2(#the term Free occurs in 20% of the emails marked as spam)\n",
    "    P(Free|NonSpam) = 0.001(#0.1% of non spam emails include the term Free)\n",
    "\n",
    "    P(Spam|Free) = P(Free|Spam)*P(Spam) / P(Free)\n",
    "    =0.2*0.5/0.001 = 0.1/0.001 = 100%\n"
   ]
  },
  {
   "cell_type": "markdown",
   "metadata": {},
   "source": [
    "Q2: 10% of patients in a clinic have liver disease. 5% of  the clinic patients are alcoholic, among these 7% patients diagnose with liver disease are alcoholic. What is the probability of patients having liver disease given that he is an alcoholic\n",
    "\n",
    "    **Answer**\n",
    "    P(A) = 0.10 # Probability of having liver disease\n",
    "    P(B) = 0.05 # Probability of alcoholic\n",
    "    p(B|A) = 0.07 # 5% of  the clinic patients are alcoholic, among these 7% patients diagnose with liver disease are alcoholic\n",
    "    P(A|B) = p(B|A)*P(A) / p(B|A)\n",
    "    =0.07*0.10/0.05=0.14\n"
   ]
  },
  {
   "cell_type": "markdown",
   "metadata": {},
   "source": [
    "Q3: In a factory 30% of the products are defective , if a defective product is randomly selected what is the probability that it was produced by machine A, given that machine A produces 60% of defective products.\n",
    "\n",
    "**Law of total probability ** ??\n",
    "\n",
    "    **Answer**\n",
    "    D: Selected product is defective.\n",
    "    A: Product is produced by Machine A.\n",
    "    We're given the following probabilities:\n",
    "    P(D∣A)=0.60: Probability that a product produced by Machine A is defective.\n",
    "    P(A)=0.50: Probability that a product is produced by Machine A (assuming only two machines exist).\n",
    "    P(D)=0.30: Probability that a randomly selected product is defective.\n",
    "    P(A∣D), the probability that the selected product is produced by Machine A given that it is defective.\n",
    "    We can use Bayes' theorem:\n",
    "    P(A∣D)= P(D∣A)*P(A)/P(D)\n",
    "    ​\n",
    "    Substituting the given values:\n",
    "    =0.60×0.50/0.30 = 0.30/0.30\n",
    "    P(A∣D)=1\n",
    "\n",
    "    So, the probability that the selected defective product was produced by Machine A, given that it is defective, is 1 or 100%. This means that if the product is defective, it is certain to have come from Machine A according to the given probabilities."
   ]
  },
  {
   "cell_type": "markdown",
   "metadata": {},
   "source": [
    "**Use Case Bayes theorem**\n",
    "\n",
    "Let's consider a simple use case involving Bayes' theorem applied to weather forecasting. Imagine we want to predict whether to play outdoor sports based on two factors: outlook (sunny, overcast, rainy) and temperature (hot, mild, cool).\n",
    "\n",
    "Here's how we can frame the problem using Bayes' theorem:\n",
    "\n",
    "Events: \n",
    "\n",
    "    A: Play (the decision to play outdoor sports).\n",
    "\n",
    "    B: Outlook and temperature (combined event).\n",
    "Given Probabilities:\n",
    "\n",
    "    P(A): Probability of playing (prior probability).\n",
    "\n",
    "    P(B∣A): Probability of observing specific outlook and temperature given that we decide to play.\n",
    "\n",
    "    P(B): Total probability of observing the given outlook and temperature.\n",
    "    \n",
    "We can gather historical data or conduct surveys to estimate these probabilities.\n",
    "Let's assume we have the following probabilities from historical data:\n",
    "\n",
    "    P(A)=0.50 (50% chance of playing on any given day).\n",
    "\n",
    "    P(B∣A): The probability of observing specific weather conditions given that we decide to play.\n",
    "\n",
    "    P(B): The total probability of observing the given weather conditions.\n",
    "\n",
    "\n",
    "Here's a simple table representing some hypothetical data:\n",
    "\n",
    "| Outlook   | Temperature | Play   |\n",
    "|-----------|-------------|--------|\n",
    "| Sunny     | Hot         | Yes    |\n",
    "| Sunny     | Hot         | No     |\n",
    "| Overcast  | Hot         | Yes    |\n",
    "| Rainy     | Mild        | Yes    |\n",
    "| Rainy     | Cool        | No     |\n",
    "| Overcast  | Cool        | Yes    |\n",
    "| Sunny     | Mild        | Yes    |\n",
    "| Rainy     | Hot         | No     |\n",
    "| Sunny     | Cool        | Yes    |\n",
    "| Overcast  | Mild        | Yes    |\n",
    "| Overcast  | Hot         | Yes    |\n",
    "| Rainy     | Mild        | Yes    |\n",
    "| Sunny     | Mild        | No     |\n",
    "\n",
    "\n",
    "Given this data, we can calculate P(B|A) and P(B) for all combinations of outlook and temperature. Then, we can use Bayes' theorem to update our predictions based on observed weather conditions.\n",
    "\n",
    "For instance, if the outlook is sunny and the temperature is hot, we can use Bayes' theorem to calculate the probability of playing given this specific weather condition:\n",
    "P(A|B) = P(B|A)* P(A) / P(B)\n",
    "\n",
    "We repeat this calculation for each possible combination of outlook and temperature to make informed decisions about whether to play outdoor sports based on the current weather conditions, updating our prior beliefs with observed data."
   ]
  },
  {
   "cell_type": "markdown",
   "metadata": {},
   "source": [
    " Question : Certainly! Let's work through a probability calculation using the given use case. We'll calculate **the probability of playing outdoor sports given that the weather outlook is sunny and the temperature is hot.**\n",
    "\n",
    "Given:\n",
    "P(A) = 0.50 (Probability of playing)\n",
    "\n",
    "P(B|A) and P(B): These probabilities need to be calculated from the given data. Let's assume we have estimated them from the historical data.\n",
    "\n",
    "\n",
    "For simplicity, let's assume:\n",
    "\n",
    "P(B|A) is the proportion of times outdoor sports were played when the weather was sunny and hot.\n",
    "\n",
    "P(B) is the proportion of times the weather was sunny and hot, regardless of whether outdoor sports were played.\n",
    "\n",
    "\n",
    "Let's say:\n",
    "P(B|A) = 3/5 (Three out of five times outdoor sports were played when it was sunny and hot).\n",
    "\n",
    "P(B) = 6/13 (Six out of thirteen times the weather was sunny and hot).\n",
    "\n",
    "\n",
    "Now, we can use Bayes' theorem to calculate P(A|B), the probability of playing outdoor sports given that the weather outlook is sunny and the temperature is hot:\n",
    "\n",
    "P(A|B) = P(B|A) * P(A)/P(B)\n",
    "\n",
    "Plugging in the values:\n",
    "P(A|B) = (3/5) * (0.50)/(6/13)\n",
    "\n",
    "P(A|B) = (3/5) * (0.50)/(6/13)\n",
    "\n",
    "P(A|B) = (3/10)/(6/13)\n",
    "\n",
    "P(A|B) = (3/10)*(13/6) /1\n",
    "\n",
    "P(A|B) = (13/20)/1\n",
    "\n",
    "P(A|B) = 0.65\n",
    "\n",
    "So, the probability of playing outdoor sports given that the weather outlook is sunny and the temperature is hot is 0.65 or 65%."
   ]
  },
  {
   "cell_type": "markdown",
   "metadata": {},
   "source": [
    "---------------"
   ]
  },
  {
   "cell_type": "markdown",
   "metadata": {},
   "source": [
    "**Probability Distribution**\n",
    ":A probability distribution is a function that describes the likelihood of different outcomes in a random experiment, assigning probabilities to each possible outcome. It provides a systematic way to understand uncertainty and randomness in various phenomena, ranging from simple coin flips to complex statistical models."
   ]
  },
  {
   "cell_type": "markdown",
   "metadata": {},
   "source": [
    "The **law of large numbers** says that if you repeat an experiment many times, the average outcome gets closer to the expected outcome predicted by probability theory. It shows that with more trials, randomness tends to even out, making results more predictable."
   ]
  },
  {
   "cell_type": "markdown",
   "metadata": {},
   "source": [
    "**Probability Distribution** Function is a function in mathematics that gives the probability of all the possible outcomes of any event. We define probability distribution as how all the possible probabilities of any event are allocated over the distinct values for an unexpected variable.\n",
    "\n",
    "Two functions are used to describe the Probability Distribution of the function which includes, Probability Mass Function(discrete random value) and Probability Density Function (continuous random value). "
   ]
  },
  {
   "cell_type": "markdown",
   "metadata": {},
   "source": [
    "**Probability mass function & Probability density function**:\n",
    "Below,provide descriptions of probability mass functions (PMFs) and probability density functions (PDFs) \n",
    "\n",
    "**Probability Mass Function (PMF) Chart:**\n",
    "\n",
    "A PMF chart typically displays the probabilities associated with each possible outcome of a discrete random variable. Here's an example of a PMF chart for a fair six-sided die:\n",
    "\n",
    "| Outcome (x) | Probability (P(X = x)) |\n",
    "|-------------|------------------------|\n",
    "| 1           | 1/6                    |\n",
    "| 2           | 1/6                    |\n",
    "| 3           | 1/6                    |\n",
    "| 4           | 1/6                    |\n",
    "| 5           | 1/6                    |\n",
    "| 6           | 1/6                    |\n",
    "\n",
    "Each bar in the chart represents the probability of the corresponding outcome. The total area under all bars equals 1.\n",
    "\n",
    "![Probability Mass Function Chart](https://upload.wikimedia.org/wikipedia/commons/thumb/4/4c/Fair_dice_probability_distribution.svg/1920px-Fair_dice_probability_distribution.svg.png)\n",
    "\n",
    "**Probability Density Function (PDF) Chart:**\n",
    "\n",
    "A PDF chart represents the probability density across the range of possible values of a continuous random variable. Here's an example of a PDF chart for a standard normal distribution (bell curve):\n",
    "\n",
    "![Probability Density Function Chart](https://miro.medium.com/v2/resize:fit:828/format:webp/1*ITiH07iwhBrp0g5estNxUA.png)\n",
    "\n",
    "In this chart, the x-axis represents the possible values of the continuous random variable, and the y-axis represents the density of probabilities. **The area under the curve represents the total probability, which is equal to 1**.\n",
    "\n",
    "These charts visually represent the concepts of PMFs and PDFs and are commonly used in probability theory and statistics to understand the distributions of discrete and continuous random variables, respectively.\n",
    "\n",
    "\n",
    "To calculate specific probabilities using the PDF, you would integrate the PDF over the desired range of values. For instance, to find the probability of X being between a and b for a continuous random variable \n",
    "X with PDF f(x), you would compute:\n",
    "\n",
    "P(a≤X≤b)=a:b∫ f(x)dx\n",
    "\n",
    "This integral gives the total area under the PDF curve between \n",
    "a and b, representing the probability of X falling within that interval."
   ]
  },
  {
   "cell_type": "markdown",
   "metadata": {},
   "source": [
    "The **cumulative distribution function (CDF)** calculates the probability that a random variable \n",
    "X is less than or equal to a specified value \n",
    "x, providing a comprehensive summary of the distribution's behavior. It is denoted as \n",
    "F(x) and ranges from 0 to 1, reflecting the cumulative probabilities of \n",
    "X up to x.\n",
    "\n",
    "![cumulative distribution Chart](https://www.investopedia.com/thmb/zih9HuvEUif58Mv02VqFqmnVR78=/750x0/filters:no_upscale():max_bytes(150000):strip_icc():format(webp)/UsingCommonStockProbabilityDistributionMethods2-403763ad7afd4991b2c6a5d2ff5f7618.png)"
   ]
  },
  {
   "cell_type": "markdown",
   "metadata": {},
   "source": [
    "**CDF with PMF :**\n",
    "\n",
    "In a discrete setting, the Cumulative Distribution Function (CDF) accumulates the probabilities provided by the Probability Mass Function (PMF) up to a certain point.\n",
    "\n",
    "Let's consider a simple example with a fair six-sided die:\n",
    "\n",
    "The PMF of the die is as follows:\n",
    "\n",
    "P(X = 1) = 1/6\n",
    "\n",
    "P(X = 2) = 1/6\n",
    "\n",
    "P(X = 3) = 1/6\n",
    "\n",
    "P(X = 4) = 1/6\n",
    "\n",
    "P(X = 5) = 1/6\n",
    "\n",
    "P(X = 6) = 1/6\n",
    "\n",
    "\n",
    "Now, we can compute the CDF for each value x from 1 to 6:\n",
    "\n",
    "F(1) = P(X <= 1) = 1/6\n",
    "\n",
    "F(2) = P(X <= 2) = 1/6 + 1/6 = 1/3\n",
    "\n",
    "F(3) = P(X <= 3) = 1/6 + 1/6 + 1/6 = 1/2\n",
    "\n",
    "F(4) = P(X <= 4) = 1/6 + 1/6 + 1/6 + 1/6 = 2/3\n",
    "\n",
    "F(5) = P(X <= 5) = 1/6 + 1/6 + 1/6 + 1/6 + 1/6 = 5/6\n",
    "\n",
    "F(6) = P(X <= 6) = 1/6 + 1/6 + 1/6 + 1/6 + 1/6 + 1/6 = 1\n",
    "\n",
    "\n",
    "This demonstrates how the CDF accumulates probabilities provided by the PMF, giving us the cumulative probabilities of observing values less than or equal to each specific value of the random variable."
   ]
  },
  {
   "cell_type": "markdown",
   "metadata": {},
   "source": [
    "**CDF with PDF :**\n",
    "\n",
    "Here are the steps to calculate the **Cumulative Distribution Function (CDF) with a Probability Density Function (PDF)** for a continuous random variable:\n",
    "\n",
    "1. **Understand the PDF**: Identify the probability density function f(x) associated with the continuous random variable X. The PDF represents the likelihood of observing different values of X.\n",
    "\n",
    "2. **Define the CDF**: The Cumulative Distribution Function F(x) is defined as the integral of the PDF f(x) from negative infinity to x.\n",
    "\n",
    "   This integral accumulates the probabilities provided by the PDF up to the point x.\n",
    "\n",
    "3. **Evaluate the Integral**: Calculate the definite integral of the PDF function f(x) with respect to x from negative infinity to x. This integral yields the cumulative probability F(x) up to x.\n",
    "\n",
    "4. **Interpret the Result**: The CDF F(x) provides the cumulative probability that the random variable X takes on a value less than or equal to x. It ranges from 0 to 1 and represents the probability distribution of X.\n",
    "\n",
    "5. **Tabulation or Numerical Methods**: For some distributions, the integral might not have a closed-form solution. In such cases, the CDF can be computed using numerical methods or tabulated values.\n",
    "\n",
    "By following these steps, you can determine the cumulative probability distribution of a continuous random variable based on its probability density function. The CDF is a fundamental concept in probability theory and statistical analysis, providing insights into the behavior of random variables and facilitating various statistical calculations and inference procedures."
   ]
  },
  {
   "cell_type": "markdown",
   "metadata": {},
   "source": []
  }
 ],
 "metadata": {
  "kernelspec": {
   "display_name": "Python 3",
   "language": "python",
   "name": "python3"
  },
  "language_info": {
   "codemirror_mode": {
    "name": "ipython",
    "version": 3
   },
   "file_extension": ".py",
   "mimetype": "text/x-python",
   "name": "python",
   "nbconvert_exporter": "python",
   "pygments_lexer": "ipython3",
   "version": "3.11.8"
  }
 },
 "nbformat": 4,
 "nbformat_minor": 2
}
