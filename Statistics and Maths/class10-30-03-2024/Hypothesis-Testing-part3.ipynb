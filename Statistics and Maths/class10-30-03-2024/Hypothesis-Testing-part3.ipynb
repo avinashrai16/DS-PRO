{
 "cells": [
  {
   "cell_type": "markdown",
   "metadata": {},
   "source": [
    "----------------\n",
    "    Question3\n",
    "---------------"
   ]
  },
  {
   "cell_type": "markdown",
   "metadata": {},
   "source": [
    "A factory has a machine that dispenses 80 ml of fluid into a bottle. an employee believes that the average amount of fluid isn't 80 ml. using 40 samples, he measures the average amount dispensed by the machine to be 78 ml. machine standard deviation is 2.5 ml. state the null and alternative hypothesis. at a 95% confidence level, is there enough evidence to support the idea that the machine is not working properly?\n",
    "\n",
    "\n",
    "<b>Answer:</b>\n",
    "\n",
    "Explanation:\n",
    "\n",
    "**Null Hypothesis (H0):** The machine dispenses an average of 80 ml of fluid (μ = 80 ml).\n",
    "\n",
    "**Alternative Hypothesis (H1):** The machine does not dispense an average of 80 ml of fluid (μ ≠ 80 ml).\n",
    "\n",
    "To determine if there is enough evidence to support the idea that the machine is not working properly, you can perform a two-tailed hypothesis test at a 95% confidence level.\n",
    "\n",
    "**Significance Level (α):** 0.05 (5% level of significance)\n",
    "\n",
    "Using the sample data, you can perform a Z-test (because you know the population standard deviation) to compare the sample mean (78 ml) to the hypothesized population mean (80 ml).\n",
    "\n",
    "The Z-score is calculated as follows:\n",
    "\n",
    "​<img src=\"https://study.com/cimages/multimages/16/zscoreformulaone.png\">\n",
    "\n",
    "\n",
    "Where:\n",
    "\n",
    "- \\(\\bar{X}\\) = Sample mean (78 ml)\n",
    "\n",
    "- \\(\\mu\\) = Population mean under the null hypothesis (80 ml)\n",
    "\n",
    "- \\(\\sigma\\) = Population standard deviation (2.5 ml)\n",
    "\n",
    "- \\(n\\) = Sample size (40)\n",
    "\n",
    "Plugging in the values:\n",
    "\n",
    "\\[Z = \\frac{78 - 80}{\\frac{2.5}{\\sqrt{40}}}\\]\n",
    "\n",
    "\\[Z \\approx \\frac{-2}{\\frac{2.5}{\\sqrt{40}}} \\approx -5.05\\]\n",
    "\n",
    "Now, compare the absolute value of the Z-score to the critical Z-value at a 95% confidence level. You are performing a two-tailed test, so you need to find the critical Z-values for the upper and lower tails of the distribution.\n",
    "\n",
    "At a 95% confidence level (α = 0.05), you would use a Z-table or calculator to find the critical Z-values. For a two-tailed test with α = 0.05, the critical Z-values are approximately ±1.96.\n",
    "\n",
    "Since the calculated Z-score (-5.05) is much smaller in magnitude than the critical Z-value (-1.96), you would reject the null hypothesis.\n",
    "\n",
    "**Conclusion:** At a 95% confidence level, there is enough evidence to support the idea that the machine is not working properly, as the sample mean of 78 ml is significantly different from the hypothesized population mean of 80 ml.\n",
    "\n",
    "Now, if further testing shows that the machine was actually working properly (meaning the null hypothesis is true), the employee made a **Type 1 error**. This is because they incorrectly rejected the null hypothesis when it was, in fact, true. A Type 1 error occurs when you conclude that there is a significant effect or difference when there isn't one."
   ]
  },
  {
   "cell_type": "markdown",
   "metadata": {},
   "source": [
    "----------------\n",
    "    Question4\n",
    "---------------"
   ]
  },
  {
   "cell_type": "markdown",
   "metadata": {},
   "source": [
    "the avg. weight of all residence in town xyz is 168 kg. A nutrients believes true mean to be different. he measured the weight of 36 individual nad found the mean to be 169.5 kg with std. deviation 3.9 for sample\n",
    "At 95% test the hypothesis."
   ]
  },
  {
   "cell_type": "markdown",
   "metadata": {},
   "source": [
    "Ans:\n",
    "H0 = M = 168 KG\n",
    "Ha = M not equal to 168 KG\n",
    "Two tail test hence sigma  = 0.05/2 =0.25\n",
    "x bar  = 169.5 kg\n",
    "mean = 168 kg\n",
    "sigma = 3.9\n",
    "n = 36\n",
    "\n",
    "Z score = 169.5-168/3.9/6 = 2.30\n",
    "\n",
    "Z critical for alpha 0.25 using z table  = -1.96\n",
    "\n",
    "Conclusion reject the Hypothesis as the z score lies beyond critical region"
   ]
  },
  {
   "cell_type": "markdown",
   "metadata": {},
   "source": [
    "-----------------\n",
    "    T test\n",
    "------------"
   ]
  },
  {
   "cell_type": "markdown",
   "metadata": {},
   "source": [
    "<img src = \"https://study.com/cimages/multimages/16/geogebra-export--7-9218705377612374794.png\"/>"
   ]
  },
  {
   "cell_type": "markdown",
   "metadata": {},
   "source": [
    "<img src = \"https://images.ctfassets.net/gyag548snr3z/1a6od4LEquoWIX2CDhXdN6/00a366b81c88614ba2e8c2bf6a519b78/Screenshot_2022-06-13_at_11.52.29.png\" height = \"260\"/>\n"
   ]
  },
  {
   "cell_type": "markdown",
   "metadata": {},
   "source": [
    "**Question:**\n",
    "\n",
    "Q1 : Child Psychologist says that the avg. time working mother spend talking to their children is up to 11 minutes per day\n",
    "To test the hypothesis , you conducted an experiment with random sample of 20 working mother and find that they spend 11.5 minutes per day talking with their children .Assume prior research suggest that the Sample standard deviation is 2.3 Conduct the test with 5% level of Significance (α = 0.05)."
   ]
  },
  {
   "cell_type": "markdown",
   "metadata": {},
   "source": [
    "<a href =\"https://www.sjsu.edu/faculty/gerstman/StatPrimer/t-table.pdf\">T Table ref </a>\n",
    "\n",
    "**Answer** \n",
    "H0 = M <= 11 Minutes\n",
    "Ha = M > 11 Minutes\n",
    "Alpha = 0.05\n",
    "As the sample size is < 30  and population sigma not given hence T test\n",
    "\n",
    "This is a one tail test\n",
    "\n",
    "Using T score formula :\n",
    "11.5-11/2.3/Square_root(20)\n",
    "=0.97\n",
    "\n",
    "using T table for T critical\n",
    "T critical for alpha 0.05 and Degree of freedom(df) 20 -1 = 19  = 1.729\n",
    "\n",
    "T critical (1.729) is more than T score(0.97) hence fail to reject H0\n",
    "\n",
    "<img src=\"T table score.png\" height = \"350\" width=\"550\">\n",
    "<img src=\"T plot.png\" height = \"350\" width=\"350\">"
   ]
  },
  {
   "cell_type": "markdown",
   "metadata": {},
   "source": [
    "    Note: For T test in 2 tail test we do not divide the alpha by 2 we just use T table fot two tail test"
   ]
  },
  {
   "cell_type": "markdown",
   "metadata": {},
   "source": [
    "-----------------\n",
    "    Question\n",
    "-----------------"
   ]
  },
  {
   "cell_type": "markdown",
   "metadata": {},
   "source": [
    "A company manufactures car batteries with an average life span of 2 years or more. An engineer believes that that this value is less than that claimed by the company. Using 10 samples, he measures the average life span to be 1.8 years with a standard deviation of 0.15.\n",
    "\n",
    "1.State the Null and Alternate hypothesis.\n",
    "\n",
    "2.At 99% confidence level, is there enough evidence to discard the Null hypothesis?"
   ]
  },
  {
   "cell_type": "markdown",
   "metadata": {},
   "source": [
    "<img src=\"https://microbenotes.com/wp-content/uploads/2023/08/One-Sample-T-Test-Formula.jpeg\" height =\"350\">\n",
    "\n",
    "Answers:\n",
    "\n",
    "**Part-1**\n",
    "\n",
    "H0: mu >= 2 (mu0)\n",
    "\n",
    "Ha: mu <2\n",
    "\n",
    "This is a one tailed test.\n",
    "\n",
    "\n",
    "\n",
    "**Part-2**\n",
    "\n",
    "Confidence level: 99%. Hence,  significance level = 0.01\n",
    "\n",
    "Sample size n=10\n",
    "\n",
    "Since n<30 and population standard deviation is not known, we apply t-test.\n",
    "\n",
    "Degree of freedom df = n-1 = 10-1 = 9\n",
    "\n",
    "At a cumulative probability of t.99 and df = 9, we get tc = 2.821 (from t-table)\n",
    "\n",
    "Since we are dealing with a left hand t test (mu <2), tc = -2.821\n",
    "\n",
    "\n",
    "**Part-3**\n",
    "\n",
    "x-bar = 1.8\n",
    "\n",
    "s = 0.15             \n",
    "\n",
    "From the data,\n",
    "\n",
    "t = (x-bar - mu0)/(s/SQRT(n)) = (1.8 – 2)/(0.15/SQRT(10))\n",
    "\n",
    "t = (-0.2)/(0.15 * 3.1623) = -0.2/0.47434 = -4.22 (rounded to 2 decimal places)\n",
    "\n",
    "\n",
    "The t value of -4.22 < -2.281 , the latter being the critical value.\n",
    "\n",
    "Hence, the data t falls in the rejection region.\n",
    "\n",
    "\n",
    "\n",
    "Therefore, At 99% confidence level, there is enough evidence to discard the Null hypothesis.\n",
    "\n",
    "Plot:\n",
    "\n",
    "<img src=\"T plot-1.png\" height = \"350\" width=\"350\">"
   ]
  },
  {
   "cell_type": "markdown",
   "metadata": {},
   "source": [
    "-------------------\n",
    "    Question\n",
    "-----------------------"
   ]
  },
  {
   "cell_type": "markdown",
   "metadata": {},
   "source": [
    "<div class=\"span9\">\n",
    "\n",
    "<p>Let's perform a one sample t-test: In the population, the average IQ is 100. A team of scientists\n",
    "wants to test a new medication to see if it has either a positive or negative effect on intelligence,\n",
    "or no effect at all. A sample of 30 participants who have taken the medication has a mean of 140\n",
    "with a standard deviation of 20. Did the medication affect intelligence? Use alpha = 0.05.</p>\n",
    "\n",
    "<b>Answer</b>\n",
    "<table class=\"table\">\n",
    "<tbody><tr>\n",
    "<th>Steps for One-Sample t-Test</th>\n",
    "</tr>\n",
    "<tr>\n",
    "<td>\n",
    "<p>1. Define Null and Alternative Hypotheses</p>\n",
    "<p>2. State Alpha</p>\n",
    "<p>3. Calculate Degrees of Freedom</p>\n",
    "<p>4. State Decision Rule</p>\n",
    "<p>5. Calculate Test Statistic</p>\n",
    "<p>6. State Results</p>\n",
    "<p>7. State Conclusion</p>\n",
    "</td>\n",
    "</tr>\n",
    "</tbody></table>\n",
    "\n",
    "<p>Let's begin.</p>\n",
    "<p>1. Define Null and Alternative Hypotheses</p>\n",
    "\n",
    "<table class=\"figure\">\n",
    "<tbody><tr>\n",
    "<td>\n",
    "<img src=\"http://www.statisticslectures.com/images/onez1.gif\">\n",
    "</td>\n",
    "</tr>\n",
    "<tr><th>\n",
    "Figure 1.\n",
    "</th>\n",
    "</tr></tbody></table>\n",
    "\n",
    "<p>2. State Alpha</p>\n",
    "<p>Alpha = 0.05</p>\n",
    "<p>3. Calculate Degrees of Freedom</p>\n",
    "<p>df = n - 1 = 30 - 1 = 29</p>\n",
    "<p>4. State Decision Rule</p>\n",
    "<p>Using an alpha of 0.05 with a two-tailed test with 29 degrees of freedom, we would expect our distribution to look something like this:</p>\n",
    "\n",
    "<table class=\"figure\">\n",
    "<tbody><tr>\n",
    "<td>\n",
    "<img src=\"http://www.statisticslectures.com/images/onez2.gif\">\n",
    "</td>\n",
    "</tr>\n",
    "<tr><th>\n",
    "Figure 2.\n",
    "</th>\n",
    "</tr></tbody></table>\n",
    "\n",
    "<p>Use the <a href=\"https://www.sjsu.edu/faculty/gerstman/StatPrimer/t-table.pdf\">t-table</a> to look up a two-tailed test with 29 degrees of freedom\n",
    "and an alpha of 0.05. We find a critical value of 2.0452. Thus, our decision rule for this two-tailed test is:</p>\n",
    "<p>If t is less than -2.0452, or greater than 2.0452, reject the null hypothesis.</p>\n",
    "<p>5. Calculate Test Statistic</p>\n",
    "\n",
    "<table class=\"figure\">\n",
    "<tbody><tr>\n",
    "<td>\n",
    "<img src=\"http://www.statisticslectures.com/images/tt1.gif\">\n",
    "</td>\n",
    "</tr>\n",
    "<tr><th>\n",
    "Figure 3.\n",
    "</th>\n",
    "</tr></tbody></table>\n",
    "\n",
    "<p>6. State Results</p>\n",
    "<p>t = 10.96</p>\n",
    "<p>Result: Reject the null hypothesis.</p>\n",
    "<p>7. State Conclusion</p>\n",
    "<p>Medication significantly affected intelligence, t = 10.96, p &lt; 0.05.</p>"
   ]
  },
  {
   "cell_type": "markdown",
   "metadata": {},
   "source": []
  }
 ],
 "metadata": {
  "language_info": {
   "name": "python"
  }
 },
 "nbformat": 4,
 "nbformat_minor": 2
}
