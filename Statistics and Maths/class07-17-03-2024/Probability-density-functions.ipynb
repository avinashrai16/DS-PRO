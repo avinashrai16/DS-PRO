{
 "cells": [
  {
   "cell_type": "markdown",
   "metadata": {},
   "source": [
    "**Probability-density-functions**"
   ]
  },
  {
   "cell_type": "markdown",
   "metadata": {},
   "source": [
    "**Normal distribution:** \n",
    "\n",
    "The normal distribution, or Gaussian distribution, is characterized by its symmetric bell-shaped curve, defined by two parameters: the mean \n",
    "(μ) and the standard deviation (σ). It describes the distribution of a continuous random variable, with the majority of observations clustered around the mean, following a specific mathematical formula:\n",
    "\n",
    "<img src=\"https://www.onlinemathlearning.com/image-files/normal-distribution-formula.png\" width=\"350\" height=\"350\"/>"
   ]
  },
  {
   "cell_type": "markdown",
   "metadata": {},
   "source": [
    "**Characteristics of Normal Distribution:**\n",
    "1. <u>Symmetric</u>\n",
    "2. <u>Skewness = 0</u>\n",
    "3. <u>Kurtosis = 3</u>\n",
    "4. <u>Mean = Median = Mode</u>\n",
    "5. <u>Empirical Rule : 68%-95%-99.7%</u>\n",
    "\n",
    "<img src=\"https://www.softschools.com/math/probability_and_statistics/images/the_normal_distribution_empirical_rule_8.png\" width=\"350\" height=\"250\"/>\n",
    "\n",
    "\n",
    "The Empirical Rule, also known as the 68-95-99.7 rule, is crucial in understanding the characteristics of the normal distribution. It states that for a normal distribution:\n",
    "\n",
    "- Approximately 68% of the data falls within one standard deviation (+-σ) of the mean (μ).\n",
    "- Roughly 95% of the data falls within two standard deviations (+-2σ) of the mean.\n",
    "- Almost all data (about 99.7%) falls within three standard deviations (+-3σ) of the mean.\n",
    "\n",
    "This rule provides a quick and intuitive way to interpret the **spread of data** in a normal distribution. It's extensively used in statistics and data analysis for **making estimations**, **identifying outliers**, and **understanding the probability of events occurring within certain ranges**."
   ]
  },
  {
   "cell_type": "markdown",
   "metadata": {},
   "source": [
    "**if you are modelling statistical ML Models than data should follow normal distribution and if not do transformation**\n",
    "\n",
    "<a href =\"https://www.analyticsvidhya.com/blog/2021/05/feature-transformations-in-data-science-a-detailed-walkthrough\" >Transformation-Details</a>"
   ]
  },
  {
   "cell_type": "markdown",
   "metadata": {},
   "source": [
    "**Standard Normal Distribution:**\n",
    "\n",
    "The standard normal distribution is a special case of the normal distribution where the mean (μ) is 0 and the standard deviation (σ) is 1. It's denoted by z is a value from the distribution.\n",
    "\n",
    "<img src= \"https://www.thoughtco.com/thmb/hkBlR9QZwh7yCN9gDgYMSHJbsf8=/1500x0/filters:no_upscale():max_bytes(150000):strip_icc()/zscore-56a8fa785f9b58b7d0f6e87b.GIF\" width=\"250\" height=\"150\" /> \n",
    "\n",
    "The standard normal distribution is particularly useful because it simplifies calculations and comparisons across different normal distributions. It serves as a reference distribution, and many statistical tables and software packages provide probabilities associated with it.\n",
    "\n",
    "In the standard normal distribution:\n",
    "\n",
    "Approximately 68% of the values fall within one standard deviation (±1) of the mean (between -1 and 1).\n",
    "Roughly 95% of the values fall within two standard deviations (±2) of the mean (between -2 and 2).\n",
    "Almost all values (about 99.7%) fall within three standard deviations (±3) of the mean (between -3 and 3).\n",
    "This distribution is widely used in statistical analysis, hypothesis testing, and confidence interval calculations. It's also fundamental in the Central Limit Theorem, which states that the distribution of the sample mean approaches a normal distribution as the sample size increases, regardless of the original distribution of the population."
   ]
  },
  {
   "cell_type": "markdown",
   "metadata": {},
   "source": [
    "**Questions**\n",
    "\n",
    "<u>Points : In order to compare we need to calculate Z score for Standard normal deviation</u>\n",
    "\n",
    "    1.N(Mean = 50, sigma=20, D1 = 110) How many standard deviation away the data point lying away from mean value ?\n",
    "\n",
    "    Ans:Z score = 110-50/20 = 3\n",
    "\n",
    "\n",
    "    2.N(Mean = 100, sigma=10, D1 = 200)How many standard deviation away the data point lying away from mean value ?\n",
    "\n",
    "    Ans:Z score = 200-100/10 = 10\n",
    "\n",
    "    3.Which Data point from D1 and D2 is more away from mean value?\n",
    "\n",
    "    Ans:D2 is far in total 10 standard deviation away from mean\n",
    "\n"
   ]
  },
  {
   "cell_type": "markdown",
   "metadata": {},
   "source": [
    "**Difference Between Z-Score and Standard Deviation?**\n",
    "\n",
    "Answer: The standard deviation measures the dispersion of data in a distribution, while the Z-score indicates how many standard deviations a particular data point is from the mean of that distribution."
   ]
  },
  {
   "cell_type": "markdown",
   "metadata": {},
   "source": [
    "<table><thead><tr><th><span>Aspect</span></th><th><span>Standard Deviation</span></th><th><span>Z-Score</span></th></tr></thead><tbody><tr><td><span>Definition</span></td><td><span>Measures the dispersion or spread of a data set.</span></td><td><span>Standardizes individual data points in terms of how many standard deviations they are from the mean.</span></td></tr><tr><td><span>Symbol</span></td><td><i><em class=\"GFGEditorTheme__textItalic\">σ</em></i><span> (sigma)</span></td><td><i><em class=\"GFGEditorTheme__textItalic\">Z</em></i><span> (Z-score)</span></td></tr><tr><td><span>Formula</span></td><td><p dir=\"ltr\"><span><span class=\"katex\"><span class=\"katex-mathml\"><math xmlns=\"http://www.w3.org/1998/Math/MathML\"><semantics><mrow><mi>σ</mi><mo>=</mo><msqrt><mfrac><mrow><msubsup><mo>∑</mo><mrow><mi>i</mi><mo>=</mo><mn>1</mn></mrow><mi>N</mi></msubsup><mo stretchy=\"false\">(</mo><msub><mi>X</mi><mi>i</mi></msub><mtext>–</mtext><mover accent=\"true\"><mi>X</mi><mo>ˉ</mo></mover><msup><mo stretchy=\"false\">)</mo><mn>2</mn></msup></mrow><mi>N</mi></mfrac></msqrt></mrow><annotation encoding=\"application/x-tex\">\\sigma = \\sqrt{\\frac{\\sum_{i=1}^{N}(X_i – \\bar{X})^2}{N}}</annotation></semantics></math></span><span class=\"katex-html\" aria-hidden=\"true\"><span class=\"base\"><span class=\"strut\" style=\"height: 0.4306em;\"></span><span class=\"mord mathnormal\" style=\"margin-right: 0.0359em;\">σ</span><span class=\"mspace\" style=\"margin-right: 0.2778em;\"></span><span class=\"mrel\">=</span><span class=\"mspace\" style=\"margin-right: 0.2778em;\"></span></span><span class=\"base\"><span class=\"strut\" style=\"height: 1.84em; vertical-align: -0.4502em;\"></span><span class=\"mord sqrt\"><span class=\"vlist-t vlist-t2\"><span class=\"vlist-r\"><span class=\"vlist\" style=\"height: 1.3898em;\"><span class=\"svg-align\" style=\"top: -3.8em;\"><span class=\"pstrut\" style=\"height: 3.8em;\"></span><span class=\"mord\" style=\"padding-left: 1em;\"><span class=\"mord\"><span class=\"mopen nulldelimiter\"></span><span class=\"mfrac\"><span class=\"vlist-t vlist-t2\"><span class=\"vlist-r\"><span class=\"vlist\" style=\"height: 1.1547em;\"><span class=\"\" style=\"top: -2.655em;\"><span class=\"pstrut\" style=\"height: 3em;\"></span><span class=\"sizing reset-size6 size3 mtight\"><span class=\"mord mtight\"><span class=\"mord mathnormal mtight\" style=\"margin-right: 0.109em;\">N</span></span></span></span><span class=\"\" style=\"top: -3.23em;\"><span class=\"pstrut\" style=\"height: 3em;\"></span><span class=\"frac-line\" style=\"border-bottom-width: 0.04em;\"></span></span><span class=\"\" style=\"top: -3.535em;\"><span class=\"pstrut\" style=\"height: 3em;\"></span><span class=\"sizing reset-size6 size3 mtight\"><span class=\"mord mtight\"><span class=\"mop mtight\"><span class=\"mop op-symbol small-op mtight\" style=\"position: relative; top: 0em;\">∑</span><span class=\"msupsub\"><span class=\"vlist-t vlist-t2\"><span class=\"vlist-r\"><span class=\"vlist\" style=\"height: 0.8852em;\"><span class=\"\" style=\"top: -2.1786em; margin-left: 0em; margin-right: 0.0714em;\"><span class=\"pstrut\" style=\"height: 2.5em;\"></span><span class=\"sizing reset-size3 size1 mtight\"><span class=\"mord mtight\"><span class=\"mord mathnormal mtight\">i</span><span class=\"mrel mtight\">=</span><span class=\"mord mtight\">1</span></span></span></span><span class=\"\" style=\"top: -2.8971em; margin-right: 0.0714em;\"><span class=\"pstrut\" style=\"height: 2.5em;\"></span><span class=\"sizing reset-size3 size1 mtight\"><span class=\"mord mtight\"><span class=\"mord mathnormal mtight\" style=\"margin-right: 0.109em;\">N</span></span></span></span></span><span class=\"vlist-s\">&ZeroWidthSpace;</span></span><span class=\"vlist-r\"><span class=\"vlist\" style=\"height: 0.3214em;\"><span class=\"\"></span></span></span></span></span></span><span class=\"mopen mtight\">(</span><span class=\"mord mtight\"><span class=\"mord mathnormal mtight\" style=\"margin-right: 0.0785em;\">X</span><span class=\"msupsub\"><span class=\"vlist-t vlist-t2\"><span class=\"vlist-r\"><span class=\"vlist\" style=\"height: 0.3281em;\"><span class=\"\" style=\"top: -2.357em; margin-left: -0.0785em; margin-right: 0.0714em;\"><span class=\"pstrut\" style=\"height: 2.5em;\"></span><span class=\"sizing reset-size3 size1 mtight\"><span class=\"mord mathnormal mtight\">i</span></span></span></span><span class=\"vlist-s\">&ZeroWidthSpace;</span></span><span class=\"vlist-r\"><span class=\"vlist\" style=\"height: 0.143em;\"><span class=\"\"></span></span></span></span></span></span><span class=\"mord mtight\">–</span><span class=\"mord accent mtight\"><span class=\"vlist-t\"><span class=\"vlist-r\"><span class=\"vlist\" style=\"height: 0.8201em;\"><span class=\"\" style=\"top: -2.7em;\"><span class=\"pstrut\" style=\"height: 2.7em;\"></span><span class=\"mord mathnormal mtight\" style=\"margin-right: 0.0785em;\">X</span></span><span class=\"\" style=\"top: -2.9523em;\"><span class=\"pstrut\" style=\"height: 2.7em;\"></span><span class=\"accent-body\" style=\"left: -0.1667em;\"><span class=\"mord mtight\">ˉ</span></span></span></span></span></span></span><span class=\"mclose mtight\"><span class=\"mclose mtight\">)</span><span class=\"msupsub\"><span class=\"vlist-t\"><span class=\"vlist-r\"><span class=\"vlist\" style=\"height: 0.7463em;\"><span class=\"\" style=\"top: -2.786em; margin-right: 0.0714em;\"><span class=\"pstrut\" style=\"height: 2.5em;\"></span><span class=\"sizing reset-size3 size1 mtight\"><span class=\"mord mtight\">2</span></span></span></span></span></span></span></span></span></span></span></span><span class=\"vlist-s\">&ZeroWidthSpace;</span></span><span class=\"vlist-r\"><span class=\"vlist\" style=\"height: 0.345em;\"><span class=\"\"></span></span></span></span></span><span class=\"mclose nulldelimiter\"></span></span></span></span><span class=\"\" style=\"top: -3.3498em;\"><span class=\"pstrut\" style=\"height: 3.8em;\"></span><span class=\"hide-tail\" style=\"min-width: 1.02em; height: 1.88em;\"><svg width=\"400em\" height=\"1.88em\" viewBox=\"0 0 400000 1944\" preserveAspectRatio=\"xMinYMin slice\"><path d=\"M983 90\n",
    "l0 -0\n",
    "c4,-6.7,10,-10,18,-10 H400000v40\n",
    "H1013.1s-83.4,268,-264.1,840c-180.7,572,-277,876.3,-289,913c-4.7,4.7,-12.7,7,-24,7\n",
    "s-12,0,-12,0c-1.3,-3.3,-3.7,-11.7,-7,-25c-35.3,-125.3,-106.7,-373.3,-214,-744\n",
    "c-10,12,-21,25,-33,39s-32,39,-32,39c-6,-5.3,-15,-14,-27,-26s25,-30,25,-30\n",
    "c26.7,-32.7,52,-63,76,-91s52,-60,52,-60s208,722,208,722\n",
    "c56,-175.3,126.3,-397.3,211,-666c84.7,-268.7,153.8,-488.2,207.5,-658.5\n",
    "c53.7,-170.3,84.5,-266.8,92.5,-289.5z\n",
    "M1001 80h400000v40h-400000z\"></path></svg></span></span></span><span class=\"vlist-s\">&ZeroWidthSpace;</span></span><span class=\"vlist-r\"><span class=\"vlist\" style=\"height: 0.4502em;\"><span class=\"\"></span></span></span></span></span></span></span></span></span></p>\n",
    "\n",
    "<span>&ZeroWidthSpace;&ZeroWidthSpace;</span></td><td>\n",
    "\n",
    "<p><span><span class=\"katex\"><span class=\"katex-mathml\"><math xmlns=\"http://www.w3.org/1998/Math/MathML\"><semantics><mrow><mi>Z</mi><mo>=</mo><mfrac><mrow><mi>X</mi><mtext>–</mtext><mi>μ</mi></mrow><mi>σ</mi></mfrac></mrow><annotation encoding=\"application/x-tex\">Z = \\frac{X – \\mu}{\\sigma}</annotation></semantics></math></span><span class=\"katex-html\" aria-hidden=\"true\"><span class=\"base\"><span class=\"strut\" style=\"height: 0.6833em;\"></span><span class=\"mord mathnormal\" style=\"margin-right: 0.0715em;\">Z</span><span class=\"mspace\" style=\"margin-right: 0.2778em;\"></span><span class=\"mrel\">=</span><span class=\"mspace\" style=\"margin-right: 0.2778em;\"></span></span><span class=\"base\"><span class=\"strut\" style=\"height: 1.2694em; vertical-align: -0.345em;\"></span><span class=\"mord\"><span class=\"mopen nulldelimiter\"></span><span class=\"mfrac\"><span class=\"vlist-t vlist-t2\"><span class=\"vlist-r\"><span class=\"vlist\" style=\"height: 0.9244em;\"><span class=\"\" style=\"top: -2.655em;\"><span class=\"pstrut\" style=\"height: 3em;\"></span><span class=\"sizing reset-size6 size3 mtight\"><span class=\"mord mtight\"><span class=\"mord mathnormal mtight\" style=\"margin-right: 0.0359em;\">σ</span></span></span></span><span class=\"\" style=\"top: -3.23em;\"><span class=\"pstrut\" style=\"height: 3em;\"></span><span class=\"frac-line\" style=\"border-bottom-width: 0.04em;\"></span></span><span class=\"\" style=\"top: -3.4461em;\"><span class=\"pstrut\" style=\"height: 3em;\"></span><span class=\"sizing reset-size6 size3 mtight\"><span class=\"mord mtight\"><span class=\"mord mathnormal mtight\" style=\"margin-right: 0.0785em;\">X</span><span class=\"mord mtight\">–</span><span class=\"mord mathnormal mtight\">μ</span></span></span></span></span><span class=\"vlist-s\">&ZeroWidthSpace;</span></span><span class=\"vlist-r\"><span class=\"vlist\" style=\"height: 0.345em;\"><span class=\"\"></span></span></span></span></span><span class=\"mclose nulldelimiter\"></span></span></span></span></span></span></p>\n",
    "\n",
    "<span>&ZeroWidthSpace;</span></td></tr><tr><td><span>Interpretation</span></td><td><span>Provides information about the spread of data points around the mean.</span></td><td><span>Indicates the relative position of a data point within a distribution. A positive Z-score means above the mean, and a negative Z-score means below the mean.</span></td></tr><tr><td><span>Unit of Measurement</span></td><td><span>Same unit as the data points being measured.</span></td><td><span>Dimensionless (no unit).</span></td></tr></tbody></table>"
   ]
  },
  {
   "cell_type": "markdown",
   "metadata": {},
   "source": [
    "**Scaling of Normal distribution:**\n",
    "\n",
    "\n",
    "Scaling of the normal distribution refers to adjusting its parameters, namely the mean (μ) and standard deviation (σ), to fit a particular dataset or to transform it into a standard form. There are two main types of scaling:\n",
    "\n",
    "1. **Standardization**: This involves transforming the data so that it follows a standard normal distribution with a mean of 0 and a standard deviation of 1. It's achieved by subtracting the mean from each data point and then dividing by the standard deviation. This process is also known as z-score normalization.\n",
    "\n",
    "   Mathematically, for a random variable X following a normal distribution with mean (μ) and standard deviation (σ), the standardization formula is:\n",
    "\n",
    "   Z = (X - μ)\\σ\n",
    "\n",
    "   where Z is the standard score or z-score.\n",
    "\n",
    "2. **Normalization**: This involves scaling the data to a specific range, often between 0 and 1 or -1 and 1. It's useful when the original data spans different scales and needs to be brought to a common scale for comparison.\n",
    "\n",
    "   The normalization formula scales each data point X to a value X' within a new range:\n",
    "\n",
    "   X' = (X - min(X))/(max(X) - min(X))\n",
    "\n",
    "   where min(X) and max(X) are the minimum and maximum values in the original dataset, respectively.\n",
    "\n",
    "Scaling of the normal distribution is commonly used in various statistical analyses, machine learning algorithms, and data preprocessing techniques to ensure that the data meets certain assumptions or requirements and to make comparisons across different datasets or variables more meaningful."
   ]
  },
  {
   "cell_type": "markdown",
   "metadata": {},
   "source": [
    "<img src=\"https://miro.medium.com/v2/resize:fit:720/format:webp/1*Bx8sWhleKvBdSWECm6eeFg.png\" width=\"350\" height=\"250\">"
   ]
  },
  {
   "cell_type": "markdown",
   "metadata": {},
   "source": [
    "**Question**\n",
    "95 % of students are of height between 1.1m to 1.7m, find the standard deviation and mean of the given data set.\n",
    "\n",
    "Ans:\n",
    "\n",
    "As per the Empirical rule on normal distribution 95% of data lies between -2sigma to 2sigma.\n",
    "\n",
    "so Sigma will be :\n",
    "4sigma = 1.7-1.1 = 0.6\n",
    "sigma = 0.6/4 = 0.15\n",
    "\n",
    "Mean = 1.7+1.1/2= 2.8/2 = 1.4 \n"
   ]
  },
  {
   "cell_type": "markdown",
   "metadata": {},
   "source": [
    "-----"
   ]
  },
  {
   "cell_type": "markdown",
   "metadata": {},
   "source": [
    "**Central limit Theorem:**\n",
    "\n",
    "The central limit theorem states that when the sample size is large, the distribution of the sample mean will be normal. This holds true regardless of the original distribution of the population, be it normal, Poisson, binomial, or any other type."
   ]
  },
  {
   "cell_type": "markdown",
   "metadata": {},
   "source": [
    "<img src=\"https://cdn.analyticsvidhya.com/wp-content/uploads/2019/05/Screenshot-1945-09-06-at-11.58.01-PM.png\"/>"
   ]
  },
  {
   "cell_type": "markdown",
   "metadata": {},
   "source": [
    "<h3><u>Conditions of the Central Limit Theorem</u></h3>\n",
    "\n",
    "The central limit theorem states that the sampling distribution of the mean will always follow a normal distribution under the following conditions:\n",
    "\n",
    "The sample size is sufficiently large. <b>This condition is usually met if the size of the sample is n ≥ 30.</b> Sampling mean follows z distribution hence more than 30 else it will follow t distribution and will not be a normal distribution\n",
    "\n",
    "The samples are independent and identically distributed, i.e., random variables. The sampling should be random.\n",
    "\n",
    "The population’s distribution has a finite variance. The central limit theorem doesn’t apply to distributions with infinite variance."
   ]
  },
  {
   "cell_type": "markdown",
   "metadata": {},
   "source": [
    "**Understanding CLT with Example**\n",
    "\n",
    "    Let’s understand the central limit theorem with the help of an example. This will help you intuitively grasp how CLT works underneath.\n",
    "\n",
    "    Consider that there are 15 sections in the science department of a university, and each section hosts around 100 students. Our task is to calculate the average weight of students in the science department. Sounds simple, right?\n",
    "\n",
    "    The approach I get from aspiring data scientists is to simply calculate the average:\n",
    "\n",
    "    First, measure the weights of all the students in the science department.\n",
    "    Add all the weights.\n",
    "    Finally, divide the total sum of weights by the total number of students to get the average.\n",
    "    But what if the size of the data is humongous? Does this approach make sense? Not really – measuring the weight of all the students will be a very tiresome and long process. So, what can we do instead? Let’s look at an alternate approach.\n",
    "\n",
    "    First, draw groups of students at random from the class. We will call this a sample. We’ll draw multiple samples, each consisting of 30 students.\n",
    "\n",
    "<img src=\"https://cdn.analyticsvidhya.com/wp-content/uploads/2019/04/Capture1.png\" width=\"450\" height=\"250\"/>\n",
    "\n",
    "    Now, calculate the individual mean of these samples.\n",
    "\n",
    "    Then, calculate the mean of these sample means.\n",
    "\n",
    "    This value will give us the approximate mean weight of the students in the science department.\n",
    "\n",
    "    Additionally, the histogram of the sample mean weights of students will resemble a bell curve (or normal distribution)."
   ]
  },
  {
   "cell_type": "markdown",
   "metadata": {},
   "source": [
    "Formula for z score in CLT\n",
    "\n",
    "<img src=\"https://www.inchcalculator.com/wp-content/uploads/2022/10/central-limit-theorem-formula.png\" height=\"250\">"
   ]
  },
  {
   "cell_type": "markdown",
   "metadata": {},
   "source": [
    "**Question(CLT)**\n",
    "\n",
    "You have a population with mean =100 and std.dev = 20 if yo have sample size of 50 from this population. what is the probability that sample mean will be less than 105.\n",
    "\n",
    "Ans :\n",
    "\n",
    "Calculate Z score for CLT:\n",
    "\n",
    "Sigmax = Sigma/Squareroot(SampleSize)\n",
    "        =20/Squareroot(50)\n",
    "        =20/7.07\n",
    "        =2.83\n",
    "\n",
    "Z= X−Mean/Sigmax\n",
    "    =105-100/2.83\n",
    "    =5/2.83\n",
    "    =1.77\n",
    "\n",
    "From the standard normal distribution table, the probability of Z being less than 1.77 is approximately 0.9616.\n"
   ]
  },
  {
   "cell_type": "markdown",
   "metadata": {},
   "source": []
  }
 ],
 "metadata": {
  "language_info": {
   "name": "python"
  }
 },
 "nbformat": 4,
 "nbformat_minor": 2
}
