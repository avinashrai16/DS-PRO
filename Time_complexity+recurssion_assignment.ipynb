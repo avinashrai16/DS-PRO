{
  "nbformat": 4,
  "nbformat_minor": 0,
  "metadata": {
    "colab": {
      "provenance": [],
      "authorship_tag": "ABX9TyNadyBne1Lnni23rPof/IAB"
    },
    "kernelspec": {
      "name": "python3",
      "display_name": "Python 3"
    },
    "language_info": {
      "name": "python"
    }
  },
  "cells": [
    {
      "cell_type": "code",
      "source": [
        "#Problem 1 :\n",
        "def quicksort(arr):\n",
        "    if len(arr) <= 1:\n",
        "        return arr\n",
        "    pivot = arr[len(arr) // 2]\n",
        "    left = [x for x in arr if x < pivot]\n",
        "    middle = [x for x in arr if x == pivot]\n",
        "    right = [x for x in arr if x > pivot]\n",
        "    return quicksort(left) + middle + quicksort(right)\n",
        "\n",
        "# time complexity of the provided quicksort implementation is typically O(n log n) in the average and best cases, and O(n^2) in the worst case.\n"
      ],
      "metadata": {
        "id": "anBrYB_e0eci"
      },
      "execution_count": null,
      "outputs": []
    },
    {
      "cell_type": "code",
      "source": [
        "# Problem 2 :\n",
        "\n",
        "def nested_loop_example(matrix):\n",
        "    rows, cols = len(matrix), len(matrix[0])\n",
        "    total = 0\n",
        "    for i in range(rows):\n",
        "        for j in range(cols):\n",
        "            total += matrix[i][j]\n",
        "    return total\n",
        "    # O(m×n), where m is the number of rows and n is the number of columns in the input matrix. if m==n time complexity of the provided function is O(n^2) ."
      ],
      "metadata": {
        "id": "-9ET-lRJ6hmj"
      },
      "execution_count": null,
      "outputs": []
    },
    {
      "cell_type": "code",
      "source": [
        "# Problem 3 :\n",
        "def example_function(arr):\n",
        "    result = 0\n",
        "    for element in arr:\n",
        "        result += element\n",
        "    return result\n",
        "\n",
        "#time complexity of the provided function is O(n)"
      ],
      "metadata": {
        "id": "qf8Yd6-Z7NhD"
      },
      "execution_count": null,
      "outputs": []
    },
    {
      "cell_type": "code",
      "source": [
        "# Problem 4 :\n",
        "def longest_increasing_subsequence(nums):\n",
        "    n = len(nums)\n",
        "    lis = [1] * n\n",
        "    for i in range(1, n):\n",
        "        for j in range(0, i):\n",
        "            if nums[i] > nums[j] and lis[i] < lis[j] + 1:\n",
        "                lis[i] = lis[j] + 1\n",
        "    return max(lis)\n",
        "    #time complexity of the provided function is O(n^2)\n",
        ""
      ],
      "metadata": {
        "id": "-yMePy0A7ZCs"
      },
      "execution_count": null,
      "outputs": []
    },
    {
      "cell_type": "code",
      "source": [
        "# Problem 5 :\n",
        "def mysterious_function(arr):\n",
        "    n = len(arr)\n",
        "    result = 0\n",
        "    for i in range(n):\n",
        "        for j in range(i, n):\n",
        "            result += arr[i] * arr[j]\n",
        "    return result\n",
        "    #time complexity of the provided function is O(n^2)"
      ],
      "metadata": {
        "id": "bazOR96T71ph"
      },
      "execution_count": null,
      "outputs": []
    },
    {
      "cell_type": "code",
      "source": [
        "# Problem 6 : Sum of Digits\n",
        "# Write a recursive function to calculate the sum of digits of a given positive integer.\n",
        "# sum_of_digits(123) -> 6\n",
        "\n",
        "# print(123%10)\n",
        "def sum_of_digit(number):\n",
        "  if number < 10:\n",
        "    return number\n",
        "  return number%10 + sum_of_digit(number//10)\n",
        "\n",
        "sum_of_digit(2463)"
      ],
      "metadata": {
        "colab": {
          "base_uri": "https://localhost:8080/"
        },
        "id": "ib_9vzvS8TQP",
        "outputId": "2bb55930-08c2-47e2-e6d1-2d1e5bf9ad44"
      },
      "execution_count": 7,
      "outputs": [
        {
          "output_type": "execute_result",
          "data": {
            "text/plain": [
              "15"
            ]
          },
          "metadata": {},
          "execution_count": 7
        }
      ]
    },
    {
      "cell_type": "code",
      "source": [
        "# Problem 7: Fibonacci Series\n",
        "# Write a recursive function to generate the first n numbers of the Fibonacci series.\n",
        "# fibonacci_series(6) -> [0, 1, 1, 2, 3, 5]\n",
        "\n",
        "def fibonacci_series(n):\n",
        "    if n <= 0:\n",
        "        return []\n",
        "    elif n == 1:\n",
        "        return [0]\n",
        "    elif n == 2:\n",
        "        return [0, 1]\n",
        "    else:\n",
        "        fib_series = fibonacci_series(n - 1)\n",
        "        fib_series.append(fib_series[-1] + fib_series[-2]) # appending last 2 numbers in the list\n",
        "        return fib_series\n",
        "\n",
        "print(fibonacci_series(6))\n",
        "\n",
        "\n",
        "\n"
      ],
      "metadata": {
        "colab": {
          "base_uri": "https://localhost:8080/"
        },
        "id": "Q5Ikq6ag8Tn8",
        "outputId": "e62cf55f-cbb9-4bc6-e6c2-be6e6a8c088f"
      },
      "execution_count": 11,
      "outputs": [
        {
          "output_type": "stream",
          "name": "stdout",
          "text": [
            "[0, 1]\n"
          ]
        }
      ]
    },
    {
      "cell_type": "code",
      "source": [
        "# Problem 8 : Subset Sum\n",
        "# Given a set of positive integers and a target sum, write a recursive function to determine if there exists a subset\n",
        "# of the integers that adds up to the target sum.\n",
        "# subset_sum([3, 34, 4, 12, 5, 2], 9) -> True\n",
        "\n",
        "def subset_sum(nums, target,subset=[]):\n",
        "    # print(\"start of function:\",nums,target,subset);\n",
        "    # Base cases\n",
        "    if target == 0:\n",
        "        print(\"Subset for target:\", sum(subset), \":\", subset)\n",
        "        return True\n",
        "    if not nums:\n",
        "        return False\n",
        "\n",
        "    if nums[0] <= target:\n",
        "        if subset_sum(nums[1:], target - nums[0],subset + [nums[0]]):\n",
        "            return True\n",
        "    return subset_sum(nums[1:], target,subset)\n",
        "\n",
        "# Test the function\n",
        "print(subset_sum([3, 34, 4, 12, 5, 2], 9))  # Output: True\n",
        "\n",
        "\n"
      ],
      "metadata": {
        "colab": {
          "base_uri": "https://localhost:8080/"
        },
        "id": "JAfZZvH-8UTD",
        "outputId": "d1570beb-5571-4de4-c04a-a52bc478e863"
      },
      "execution_count": 32,
      "outputs": [
        {
          "output_type": "stream",
          "name": "stdout",
          "text": [
            "Subset for target: 9 : [3, 4, 2]\n",
            "True\n"
          ]
        }
      ]
    },
    {
      "cell_type": "code",
      "source": [
        "# 9  Given a non-empty string and a list of words, write a recursive function to determine if the string can be\n",
        "# segmented into a space-separated sequence of list words.\n",
        "# word_break( leetcode , [ leet , code ]) -> True\n",
        "\n",
        "def wordBreak(wordList , word):\n",
        "  #print(\"function call:\",word)\n",
        "  if word == \"\":\n",
        "    return True\n",
        "  else :\n",
        "    wordLen = len(word)\n",
        "    for i in range(1, wordLen+1):\n",
        "      if word[:i] in wordList and wordBreak(wordList, word[i:]):\n",
        "        return True\n",
        "    return False\n",
        "\n",
        "print(wordBreak([\"leet\",\"code\"], \"leetcodes\"))"
      ],
      "metadata": {
        "colab": {
          "base_uri": "https://localhost:8080/"
        },
        "id": "Vs2FAZc18UCL",
        "outputId": "1ee7181e-2c2e-4b3d-aad7-ccbb261c258a"
      },
      "execution_count": 12,
      "outputs": [
        {
          "output_type": "stream",
          "name": "stdout",
          "text": [
            "False\n"
          ]
        }
      ]
    },
    {
      "cell_type": "code",
      "source": [
        "# 10 . mplement a recursive function to solve the N Queens problem, where you have to place N queens on an N×N\n",
        "# chessboard in such a way that no two queens threaten each other.\n",
        "\n",
        "# N Queen Problem\n",
        "# Return True if it's safe to place queen on the board\n",
        "def isSafeToPlaceQueen(board , row , col , n):\n",
        "\n",
        "  # Check in the left side\n",
        "  for i in range(col):\n",
        "    if board[row][i]==1 :\n",
        "      return False\n",
        "\n",
        "  #Check in the upper left diagonal\n",
        "  for i, j in zip(range(row,-1,-1),range(col,-1,-1)):\n",
        "    if board[i][j] ==1:\n",
        "      return False\n",
        "\n",
        "  #Check in the lower left diagonal\n",
        "  for i,j in zip(range(row,n,1 ), range(col, -1,-1)):\n",
        "    if board[i][j]==1:\n",
        "      return False\n",
        "\n",
        "  return True\n",
        "\n",
        "\n",
        "def solveNQ(board,n):\n",
        "\n",
        "  if not solveNQUtil(board,0,n):\n",
        "    print(\"Solution doesn't exist\")\n",
        "    return\n",
        "\n",
        "  printBoard(board,n)\n",
        "\n",
        "# Should return True if we are able to place all the queens\n",
        "def solveNQUtil(board , col , n):\n",
        "  if(col >=n): #Base condition\n",
        "    return True  # Means we have bee able to put queens in all the columns\n",
        "\n",
        "  # Check for all the rows\n",
        "  for row in range(n) :\n",
        "    if isSafeToPlaceQueen(board,row,col, n) :\n",
        "      board[row][col]= 1 #Set the queen\n",
        "\n",
        "      #Recursively try for the next columns\n",
        "      if solveNQUtil(board,col+1,n):\n",
        "        return True\n",
        "      #Back Tracking\n",
        "      board[row][col]= 0 # Queen can't be set here\n",
        "\n",
        "  return False #Won't be able to place the queen\n",
        "\n",
        "\n",
        "def printBoard(board,n):\n",
        "  for i in range(n):\n",
        "    for j in range(n):\n",
        "      if board[i][j]==1 :\n",
        "        print(\"Q\",end=\" \")\n",
        "      else :\n",
        "        print(\".\",end=\" \")\n",
        "    print()\n",
        "\n",
        "board = [[0,0,0,0],\n",
        "      [0,0,0,0],\n",
        "      [0,0,0,0],\n",
        "      [0,0,0,0]\n",
        "      ]\n",
        "\n",
        "solveNQ(board,4)"
      ],
      "metadata": {
        "id": "gR96wfZf8WFE"
      },
      "execution_count": null,
      "outputs": []
    }
  ]
}