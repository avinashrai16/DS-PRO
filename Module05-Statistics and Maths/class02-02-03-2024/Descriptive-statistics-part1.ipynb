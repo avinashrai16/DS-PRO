{
 "cells": [
  {
   "cell_type": "markdown",
   "metadata": {},
   "source": [
    "**Measures of Central Tendency \n",
    "Mean, Median, Mode**"
   ]
  },
  {
   "cell_type": "markdown",
   "metadata": {},
   "source": [
    "**Mean (Arithmetic Mean Value)**:\n",
    " Mean: The arithmetic average of a set of numbers, calculated by adding up all the values and dividing the sum by the count of values.\n",
    "Mean= Count of numbers/ Sum of all numbers\n",
    "if Mu that means complete data Mean and if x(bar) than it is mean for sample data\n",
    "total sum of values divided by total number\n"
   ]
  },
  {
   "cell_type": "markdown",
   "metadata": {},
   "source": [
    "<img src=\"Mean.png\" width=\"250\" height=\"150\"/>"
   ]
  },
  {
   "cell_type": "markdown",
   "metadata": {},
   "source": [
    "In statistics, there are several types of means, each serving different purposes depending on the context of the data being analyzed.\n",
    " Here are some common types of means:\n",
    "\n",
    "1. **Arithmetic Mean**: This is the most common type of mean. \n",
    "It is calculated by adding up all the values in a dataset and dividing the sum by the total number of values.\n",
    "   \\[ \\text{Arithmetic Mean} = \\frac{\\text{Sum of all values}}{\\text{Number of values}} \\]\n",
    "\n",
    "2. **Weighted Mean**: In a weighted mean, each value in the dataset is multiplied by a corresponding weight, \n",
    "and then the sum of these weighted values is divided by the sum of the weights.\n",
    "   \\[ \\text{Weighted Mean} = \\frac{\\sum_{i=1}^{n} (x_i \\times w_i)}{\\sum_{i=1}^{n} w_i} \\]\n",
    "\n",
    "3. **Geometric Mean**: The geometric mean is useful for calculating the average rate of change or growth rates. \n",
    "It is the nth root of the product of n numbers.\n",
    "   \\[ \\text{Geometric Mean} = \\sqrt[n]{x_1 \\times x_2 \\times \\ldots \\times x_n} \\]\n",
    "\n",
    "4. **Harmonic Mean**: The harmonic mean is used when averaging rates or ratios. \n",
    "It is calculated by dividing the number of observations by the reciprocal of each number, then taking the reciprocal of the result.\n",
    "   \\[ \\text{Harmonic Mean} = \\frac{n}{\\frac{1}{x_1} + \\frac{1}{x_2} + \\ldots + \\frac{1}{x_n}} \\]\n",
    "\n",
    "\n",
    "5. **Frequency Mean**: is similar Weighted Mean\n",
    "\n",
    "These different types of means offer flexibility in analyzing datasets depending on the nature of the data and the purpose of the analysis."
   ]
  },
  {
   "cell_type": "markdown",
   "metadata": {},
   "source": [
    "Here's a chart summarizing when to use each mean method:\n",
    "\n",
    "| Mean Method       | When to Use                                          | Example                                       |\n",
    "|-------------------|------------------------------------------------------|-----------------------------------------------|\n",
    "| Arithmetic Mean   | General purposes; data on the same scale            | Average height, temperature, test scores      |\n",
    "| Weighted Mean     | Different observations have different importance    | Weighted grades, weighted averages            |\n",
    "| Geometric Mean    | Growth rates, ratios, less affected by outliers     | Average growth rates, investment returns      |\n",
    "| Harmonic Mean     | Rates, ratios, inversely proportional values        | Average speed, fuel efficiency, resistance    |\n",
    "\n",
    "This chart provides a quick reference guide for choosing the appropriate mean method based on your data characteristics and analysis requirements."
   ]
  },
  {
   "cell_type": "markdown",
   "metadata": {},
   "source": [
    "----------------------"
   ]
  },
  {
   "cell_type": "markdown",
   "metadata": {},
   "source": [
    "**Median (Physical mid point)**"
   ]
  },
  {
   "cell_type": "markdown",
   "metadata": {},
   "source": [
    "The median is the middle value in a sorted list of numbers, separating the higher half from the lower half, \n",
    "or the average of the two middle values if there is an even number of items.\n",
    "in below formula n is the number of elements"
   ]
  },
  {
   "cell_type": "markdown",
   "metadata": {},
   "source": [
    "<img src=\"median-formula.png\" width=\"250\" height=\"150\"/>"
   ]
  },
  {
   "cell_type": "markdown",
   "metadata": {},
   "source": [
    "**if outliers are present in the dataset mean will be effected and median should be the choice**\n",
    "\n",
    "Ex  : 1,2,3,4,5 Mean = 15/5 =3\n",
    "1,2,3,4,500 Mean = 510/5 = 102\n"
   ]
  },
  {
   "cell_type": "markdown",
   "metadata": {},
   "source": [
    "------------"
   ]
  },
  {
   "cell_type": "markdown",
   "metadata": {},
   "source": [
    "**mean and median is for numerical data and mode is for categorical data**"
   ]
  },
  {
   "cell_type": "markdown",
   "metadata": {},
   "source": [
    "----------------"
   ]
  },
  {
   "cell_type": "markdown",
   "metadata": {},
   "source": [
    "**Mode** :The mode is the value that appears most frequently in a dataset.\n",
    "M=Value with the highest frequency\n",
    "In cases where multiple values have the same highest frequency, the dataset is considered multimodal, meaning it has multiple modes."
   ]
  },
  {
   "cell_type": "markdown",
   "metadata": {},
   "source": [
    "-----------------------------\n",
    "-----------------------------"
   ]
  },
  {
   "cell_type": "markdown",
   "metadata": {},
   "source": [
    "**Measures of Dispersion or Spread**"
   ]
  },
  {
   "cell_type": "markdown",
   "metadata": {},
   "source": [
    "**Range** : The range, in measures of dispersion, represents the difference between the highest and lowest values in a dataset.\n",
    "Mathematically, the range R of a dataset is calculated as:R=Maximum value−Minimum value\n",
    "\n",
    "    For example, if you have a dataset of test scores: \n",
    "    [60,70,80,90,100], the range would be:\n",
    "    R=100−60=40\n",
    "\n",
    "   outlier effects the range"
   ]
  },
  {
   "cell_type": "markdown",
   "metadata": {},
   "source": [
    "**Percentile** : \n",
    "A percentile is a statistical measure used to indicate the value below which a given percentage of observations in a group of observations fall. In other words, it divides the data set into 100 equal parts. For example, the 20th percentile is the value below which 20% of the observations may be found.\n",
    "\n",
    "Percentiles are commonly used in various fields including education, healthcare, and finance to understand how an individual or data point compares to the larger group or population. They help in assessing where a particular value stands relative to the entire set of data.\n",
    "\n",
    "\n",
    "Suppose you have \n",
    "N data points in your dataset, and you want to find the p-th percentile.\n",
    "Arrange the dataset in ascending order.\n",
    "Calculate the index of the percentile position \n",
    "k using the formula:\n",
    "k= p/100×(N+1)"
   ]
  },
  {
   "cell_type": "markdown",
   "metadata": {},
   "source": [
    "**Quartile** : are values that divides a list of no into Quarters (4 equal parts)\n",
    "Ex: 6,8,5,5,7,3,9\n",
    "\n",
    "Step1 : order the number /sort the number\n",
    "3,5,5,6,7,8,9\n",
    "\n",
    "Step2 : divide the dataset in 4 parts:\n",
    "Q1 at 5 : 3,5\n",
    "Q2 at 6 : 5,6\n",
    "Q3 at 8 : 7,8\n",
    "\n",
    "Value1: 3 \n",
    "Value2: 5\n",
    "Value3: 7\n",
    "Value4: 9 \n",
    "\n",
    "\n",
    "Ex : 1,1,1,1,2,2,2,3,3,3,4\n",
    "total count =11\n",
    "\n",
    "**Count-->odd**\n",
    "\n",
    "**Q1 = n+1/4 th Observation** \n",
    "   = (11+1)/4 \n",
    "   = 3rd Observation i.e. 1 at 3rd position\n",
    "\n",
    "**Q2 = n+1/2 th Observation**\n",
    "   = (11+1)/2\n",
    "   = 6th observation i.e. 2 at 6th position\n",
    "\n",
    "**Q3 = 3(n+1)/4 th Observation**\n",
    "   = 3*(11+1)/4\n",
    "   = 9th Observation i.e. 3 at 9th position\n",
    "\n",
    "**Count-->Even**\n",
    "\n",
    "Ex:1,2,3,3,4,4\n",
    "count=6\n",
    "\n",
    "**Q1=n/4 th observation** == 6/4 = 1.5th Observation\n",
    "\n",
    "**Q2=((n/2)th observation+ (n/2+1)th observation)/2** == (3+4)/2 = 3.5th Observation\n",
    "\n",
    "**Q3=3*n/4 th observation** == 3*1.5 = 4.5"
   ]
  },
  {
   "cell_type": "markdown",
   "metadata": {},
   "source": [
    "-----"
   ]
  },
  {
   "cell_type": "markdown",
   "metadata": {},
   "source": [
    "Let's consider an example dataset with an **even number** of data points:\n",
    "\n",
    "{ 10, 20, 30, 40, 50, 60, 70, 80 }\n",
    "\n",
    "Here's how we can calculate the quartiles:\n",
    "\n",
    "1. **Arrange the dataset in ascending order**:\n",
    "   { 10, 20, 30, 40, 50, 60, 70, 80 }\n",
    "\n",
    "2. **Find the median (Q2)**:\n",
    "   Since there are 8 data points, the median is the average of the 4th and 5th values:\n",
    "   [Q2 = {40 + 50}{2} = 45]\n",
    "\n",
    "3. **Find Q1 (the first quartile)**:\n",
    "   The lower half of the dataset is { 10, 20, 30, 40 }. Since there are 4 data points, Q1 is the median of this lower half:\n",
    "   [ Q1 = {20 + 30}{2} = 25 ]\n",
    "\n",
    "4. **Find Q3 (the third quartile)**:\n",
    "   The upper half of the dataset is { 50, 60, 70, 80 }. Again, since there are 4 data points, Q3 is the median of this upper half:\n",
    "   [ Q3 = frac{60 + 70}{2} = 65 ]\n",
    "\n",
    "Therefore, in this example:\n",
    "- Q1 (the first quartile) is 25.\n",
    "- Q2 (the median) is 45.\n",
    "- Q3 (the third quartile) is 65.\n",
    "\n",
    "These quartiles divide the dataset into four equal parts and provide insights into its distribution and central tendency."
   ]
  },
  {
   "cell_type": "markdown",
   "metadata": {},
   "source": [
    "-----------"
   ]
  },
  {
   "cell_type": "markdown",
   "metadata": {},
   "source": [
    "Let's take an example of an **odd number** of data points to calculate quartiles. Suppose we have the following dataset:\n",
    "\n",
    "{ 12, 15, 17, 20, 22, 25, 28, 30, 32 }\n",
    "\n",
    "1. **Arrange the dataset in ascending order**:\n",
    "{ 12, 15, 17, 20, 22, 25, 28, 30, 32 }\n",
    "\n",
    "2. **Find the median (Q2)**: Since the dataset has 9 data points (odd), the median is the middle value, which is 22.\n",
    "\n",
    "3. **Find Q1 (the first quartile)**:\n",
    "   - Since the dataset has an odd number of data points, Q1 is the median of the first {9+1}{2} = 5 data points, including the median itself.\n",
    "   - The first five data points are: {12, 15, 17, 20, 22}.\n",
    "   - Q1 is the median of these values, which is 17.\n",
    "\n",
    "4. **Find Q3 (the third quartile)**:\n",
    "   - Q3 is the median of the last {9+1}{2} = 5 data points, including the median itself.\n",
    "   - The last five data points are: {22, 25, 28, 30, 32}.\n",
    "   - Q3 is the median of these values, which is 28.\n",
    "\n",
    "So, for the given dataset:\n",
    "- Q1 = 17\n",
    "- Q2 (median) = 22\n",
    "- Q3 = 28\n",
    "\n",
    "These quartiles help to understand the distribution and spread of the data."
   ]
  },
  {
   "cell_type": "markdown",
   "metadata": {},
   "source": [
    "**Inter quartile range(IQR) = Q3-Q1 to avoid outliers which can be only present in Q1 and Q4 only**"
   ]
  },
  {
   "cell_type": "markdown",
   "metadata": {},
   "source": [
    "**Lower Fence = Q1-1.5*IQR**\n",
    "\n",
    "**Upper Fence = Q3+1.5*IQR**"
   ]
  },
  {
   "cell_type": "markdown",
   "metadata": {},
   "source": [
    "<img src=\"IQR-Outliers.png\" width=\"550\" height=\"250\"/>"
   ]
  }
 ],
 "metadata": {
  "kernelspec": {
   "display_name": "Python 3",
   "language": "python",
   "name": "python3"
  },
  "language_info": {
   "codemirror_mode": {
    "name": "ipython",
    "version": 3
   },
   "file_extension": ".py",
   "mimetype": "text/x-python",
   "name": "python",
   "nbconvert_exporter": "python",
   "pygments_lexer": "ipython3",
   "version": "3.11.8"
  }
 },
 "nbformat": 4,
 "nbformat_minor": 2
}
