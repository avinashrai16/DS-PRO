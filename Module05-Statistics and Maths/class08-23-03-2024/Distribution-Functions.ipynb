{
 "cells": [
  {
   "cell_type": "markdown",
   "metadata": {},
   "source": [
    "**t-distribution**"
   ]
  },
  {
   "cell_type": "markdown",
   "metadata": {},
   "source": [
    "The **t-distribution**, also known as Student's t-distribution, is a probability distribution that arises when estimating the mean of a normally distributed population with a small sample size, or when the population standard deviation is unknown. It was first introduced by William Sealy Gosset under the pseudonym \"Student\" in 1908.\n",
    "\n",
    "The t-distribution is similar in shape to the standard normal distribution (bell-shaped curve), but it has heavier tails. This means that it has more probability in the tails, which makes it suitable for dealing with uncertainty in small sample sizes."
   ]
  },
  {
   "cell_type": "markdown",
   "metadata": {},
   "source": [
    "<img src=\"https://dmn92m25mtw4z.cloudfront.net/img_set/stat-6-6-x-3-article/v1/stat-6-6-x-3-article-1481w.png\" width=\"350\" height=250>"
   ]
  },
  {
   "cell_type": "markdown",
   "metadata": {},
   "source": [
    "<img src=\"https://upload.wikimedia.org/wikipedia/commons/thumb/4/41/Student_t_pdf.svg/325px-Student_t_pdf.svg.png\" width=\"300\" hight=\"300\">"
   ]
  },
  {
   "cell_type": "markdown",
   "metadata": {},
   "source": [
    "**As the Degree of freedom increases the shape will be of normal distributed**"
   ]
  },
  {
   "cell_type": "markdown",
   "metadata": {},
   "source": [
    "<img src =\"https://www.statology.org/wp-content/uploads/2021/08/zscore_vs_tscore1-768x378.png\">"
   ]
  },
  {
   "cell_type": "markdown",
   "metadata": {},
   "source": [
    "<b>Formula</b>\n",
    "<p><span style=\"color: #000000;\"><strong>t-score = (<span style=\"border-top: 1px solid black;\">x</span> – μ) / (s/√<span style=\"border-top: 1px solid black;\">n</span>)</strong></span></p>\n",
    "<p><span style=\"color: #000000;\">where:</span></p>\n",
    "<ul>\n",
    "<li><span style=\"color: #000000;\"><strong><span style=\"border-top: 1px solid black;\">x</span></strong>: Sample mean</span></li>\n",
    "<li><span style=\"color: #000000;\"><strong>μ</strong>: Population mean</span></li>\n",
    "<li><span style=\"color: #000000;\"><strong>s</strong>: Sample standard deviation</span></li>\n",
    "<li><span style=\"color: #000000;\"><strong>n</strong>: Sample size</span></li>\n",
    "</ul>"
   ]
  },
  {
   "cell_type": "markdown",
   "metadata": {},
   "source": [
    "**Example 1: Calculating a T-Score**\n",
    "\n",
    "Suppose a restaurant makes burgers that claim to have a mean weight of μ = 0.25 pounds.\n",
    "Suppose we take a random sample of n = 20 burgers and find that the sample mean weight is x = 0.22 pounds with a standard deviation of s = 0.05 pounds. Perform a hypothesis test to determine if the true mean weight of all burgers produced by this restaurant is equal to 0.25 pounds.\n",
    "\n",
    "For this example, we would use a **t-score** to perform the hypothesis test because neither of the following two conditions are met.\n",
    "\n",
    "<ul>\n",
    "<li><span style=\"color: #000000;\">The population standard deviation (σ) is known. (σ is not provided in this example)</span></li>\n",
    "<li><span style=\"color: #000000;\">The sample size is greater than 30. (n = 20 in this example)</span></li>\n",
    "</ul>\n",
    "\n",
    "<p><span style=\"color: #000000;\">Thus, we would calculate the t-score as:</span></p>\n",
    "\n",
    "<ul data-slot-rendered-content=\"true\">\n",
    "<li><span style=\"color: #000000;\">t-score = (<span style=\"border-top: 1px solid black;\">x</span> – μ) / (s/√<span style=\"border-top: 1px solid black;\">n</span>)</span></li>\n",
    "<li><span style=\"color: #000000;\">t-score = (.22 – .25) / (.05 / √<span style=\"border-top: 1px solid black;\">20</span>)</span></li>\n",
    "<li><span style=\"color: #000000;\">t- score = -2.68</span></li>\n",
    "</ul>\n",
    "\n",
    "\n",
    "<p><span style=\"color: #000000;\">According to the <a href=\"https://www.statology.org/t-score-p-value-calculator/\" target=\"_blank\" rel=\"noopener\">T Score to P Value Calculator</a>, the p-value that corresponds to this t-score is <strong>0.01481</strong>. </span></p>\n",
    "\n",
    "\n",
    "<p><span style=\"color: #000000;\">Since this p-value is less than .05, we have sufficient evidence to say that the mean weight of burgers produced at this restaurant is not equal to 0.25 pounds.</span></p>"
   ]
  },
  {
   "cell_type": "markdown",
   "metadata": {},
   "source": [
    "-----------------------"
   ]
  },
  {
   "cell_type": "markdown",
   "metadata": {},
   "source": [
    "**Log Normal Distribution**"
   ]
  },
  {
   "cell_type": "markdown",
   "metadata": {},
   "source": [
    "The log-normal distribution is a probability distribution of a random variable whose logarithm is normally distributed, commonly used to model positively skewed data such as income and asset prices in finance."
   ]
  },
  {
   "cell_type": "markdown",
   "metadata": {},
   "source": [
    "<img src=\"https://cdn1.byjus.com/wp-content/uploads/2019/12/lognormal-distribution-curve.png\" width=\"500\">"
   ]
  },
  {
   "cell_type": "markdown",
   "metadata": {},
   "source": [
    "    Where the outliers can not be dropped to make data normal we need to use log normal distribution"
   ]
  },
  {
   "cell_type": "markdown",
   "metadata": {},
   "source": [
    "<div id=\"target-content-html\" class=\"card lms-custom-style ui-js-external-links\"><h2><span class=\"ez-toc-section\" id=\"What-is-Lognormal-Distribution\"><strong>What is Lognormal Distribution?</strong></span></h2><p>Lognormal distribution is a continuous <a href=\"https://testbook.com/maths/probability\">probability</a> distribution with a long tail to the right that is right-skewed. It’s used to represent things like income distributions, chess game lengths, and the time it takes to repair a maintainable system, among other things.</p><p>This type of distribution is generally characterized by skewed distributions with low mean values, large variation, and all-positive values. ln(x) only exists for positive x values, hence values must be positive.</p><p>An example of a Lognormal distribution curve can be seen below:</p><p><img loading=\"lazy\" class=\"aligncenter\" src=\"https://blogmedia.testbook.com/blog/wp-content/uploads/2022/06/lognormal-distribution-59300533.png\" alt=\"Lognormal Distribution\" width=\"203\" height=\"230\"></p><h3><span class=\"ez-toc-section\" id=\"Lognormal-Distribution-of-a-Random-Variable\"><strong>Lognormal Distribution of a Random Variable</strong></span></h3><p>By definition, lognormal means the continuous probability distribution of a random variable whose logarithm is normally distributed. Let <span class=\"MathJax_Preview\" style=\"color: inherit; display: none;\"></span><span class=\"MathJax\" id=\"MathJax-Element-1-Frame\" tabindex=\"0\" data-mathml=\"<math xmlns=&quot;http://www.w3.org/1998/Math/MathML&quot;><mi>x</mi></math>\" role=\"presentation\" style=\"position: relative;\"><nobr aria-hidden=\"true\"><span class=\"math\" id=\"MathJax-Span-1\" style=\"width: 0.68em; display: inline-block;\"><span style=\"display: inline-block; position: relative; width: 0.557em; height: 0px; font-size: 116%;\"><span style=\"position: absolute; clip: rect(1.727em, 1000.5em, 2.528em, -999.997em); top: -2.337em; left: 0em;\"><span class=\"mrow\" id=\"MathJax-Span-2\"><span class=\"mi\" id=\"MathJax-Span-3\" style=\"font-family: MathJax_Math-italic;\">x</span></span><span style=\"display: inline-block; width: 0px; height: 2.343em;\"></span></span></span><span style=\"display: inline-block; overflow: hidden; vertical-align: -0.068em; border-left: 0px solid; width: 0px; height: 0.646em;\"></span></span></nobr><span class=\"MJX_Assistive_MathML\" role=\"presentation\"><math xmlns=\"http://www.w3.org/1998/Math/MathML\"><mi>x</mi></math></span></span><script type=\"math/tex\" id=\"MathJax-Element-1\">x</script> be a standard normal variable, which means the probability distribution of <span class=\"MathJax_Preview\" style=\"color: inherit; display: none;\"></span><span class=\"MathJax\" id=\"MathJax-Element-2-Frame\" tabindex=\"0\" data-mathml=\"<math xmlns=&quot;http://www.w3.org/1998/Math/MathML&quot;><mi>x</mi></math>\" role=\"presentation\" style=\"position: relative;\"><nobr aria-hidden=\"true\"><span class=\"math\" id=\"MathJax-Span-4\" style=\"width: 0.68em; display: inline-block;\"><span style=\"display: inline-block; position: relative; width: 0.557em; height: 0px; font-size: 116%;\"><span style=\"position: absolute; clip: rect(1.727em, 1000.5em, 2.528em, -999.997em); top: -2.337em; left: 0em;\"><span class=\"mrow\" id=\"MathJax-Span-5\"><span class=\"mi\" id=\"MathJax-Span-6\" style=\"font-family: MathJax_Math-italic;\">x</span></span><span style=\"display: inline-block; width: 0px; height: 2.343em;\"></span></span></span><span style=\"display: inline-block; overflow: hidden; vertical-align: -0.068em; border-left: 0px solid; width: 0px; height: 0.646em;\"></span></span></nobr><span class=\"MJX_Assistive_MathML\" role=\"presentation\"><math xmlns=\"http://www.w3.org/1998/Math/MathML\"><mi>x</mi></math></span></span><script type=\"math/tex\" id=\"MathJax-Element-2\">x</script> is normal, centred at 0 and with a variance of 1. Then a log-normal distribution is defined as the probability distribution of a random variable</p><p><span class=\"MathJax_Preview\" style=\"color: inherit; display: none;\"></span><span class=\"MathJax\" id=\"MathJax-Element-3-Frame\" tabindex=\"0\" data-mathml=\"<math xmlns=&quot;http://www.w3.org/1998/Math/MathML&quot;><mi>X</mi><mo>=</mo><msup><mi>e</mi><mrow class=&quot;MJX-TeXAtom-ORD&quot;><mi>&amp;#x03BC;</mi><mo>+</mo><mi>&amp;#x03C3;</mi><mrow class=&quot;MJX-TeXAtom-ORD&quot;><mi>x</mi></mrow></mrow></msup></math>\" role=\"presentation\" style=\"position: relative;\"><nobr aria-hidden=\"true\"><span class=\"math\" id=\"MathJax-Span-7\" style=\"width: 5.299em; display: inline-block;\"><span style=\"display: inline-block; position: relative; width: 4.56em; height: 0px; font-size: 116%;\"><span style=\"position: absolute; clip: rect(1.358em, 1004.56em, 2.528em, -999.997em); top: -2.337em; left: 0em;\"><span class=\"mrow\" id=\"MathJax-Span-8\"><span class=\"mi\" id=\"MathJax-Span-9\" style=\"font-family: MathJax_Math-italic;\">X<span style=\"display: inline-block; overflow: hidden; height: 1px; width: 0.003em;\"></span></span><span class=\"mo\" id=\"MathJax-Span-10\" style=\"font-family: MathJax_Main; padding-left: 0.311em;\">=</span><span class=\"msubsup\" id=\"MathJax-Span-11\" style=\"padding-left: 0.311em;\"><span style=\"display: inline-block; position: relative; width: 2.343em; height: 0px;\"><span style=\"position: absolute; clip: rect(3.39em, 1000.43em, 4.19em, -999.997em); top: -3.999em; left: 0em;\"><span class=\"mi\" id=\"MathJax-Span-12\" style=\"font-family: MathJax_Math-italic;\">e</span><span style=\"display: inline-block; width: 0px; height: 4.006em;\"></span></span><span style=\"position: absolute; top: -4.369em; left: 0.496em;\"><span class=\"texatom\" id=\"MathJax-Span-13\"><span class=\"mrow\" id=\"MathJax-Span-14\"><span class=\"mi\" id=\"MathJax-Span-15\" style=\"font-size: 70.7%; font-family: MathJax_Math-italic;\">μ</span><span class=\"mo\" id=\"MathJax-Span-16\" style=\"font-size: 70.7%; font-family: MathJax_Main;\">+</span><span class=\"mi\" id=\"MathJax-Span-17\" style=\"font-size: 70.7%; font-family: MathJax_Math-italic;\">σ<span style=\"display: inline-block; overflow: hidden; height: 1px; width: 0.003em;\"></span></span><span class=\"texatom\" id=\"MathJax-Span-18\"><span class=\"mrow\" id=\"MathJax-Span-19\"><span class=\"mi\" id=\"MathJax-Span-20\" style=\"font-size: 70.7%; font-family: MathJax_Math-italic;\">x</span></span></span></span></span><span style=\"display: inline-block; width: 0px; height: 4.006em;\"></span></span></span></span></span><span style=\"display: inline-block; width: 0px; height: 2.343em;\"></span></span></span><span style=\"display: inline-block; overflow: hidden; vertical-align: -0.068em; border-left: 0px solid; width: 0px; height: 1.075em;\"></span></span></nobr><span class=\"MJX_Assistive_MathML\" role=\"presentation\"><math xmlns=\"http://www.w3.org/1998/Math/MathML\"><mi>X</mi><mo>=</mo><msup><mi>e</mi><mrow class=\"MJX-TeXAtom-ORD\"><mi>μ</mi><mo>+</mo><mi>σ</mi><mrow class=\"MJX-TeXAtom-ORD\"><mi>x</mi></mrow></mrow></msup></math></span></span><script type=\"math/tex\" id=\"MathJax-Element-3\">X = e^{\\mu+\\sigma{x}}</script></p><p>where <span class=\"MathJax_Preview\" style=\"color: inherit; display: none;\"></span><span class=\"MathJax\" id=\"MathJax-Element-4-Frame\" tabindex=\"0\" data-mathml=\"<math xmlns=&quot;http://www.w3.org/1998/Math/MathML&quot;><mi>&amp;#x03BC;</mi></math>\" role=\"presentation\" style=\"position: relative;\"><nobr aria-hidden=\"true\"><span class=\"math\" id=\"MathJax-Span-21\" style=\"width: 0.742em; display: inline-block;\"><span style=\"display: inline-block; position: relative; width: 0.619em; height: 0px; font-size: 116%;\"><span style=\"position: absolute; clip: rect(1.727em, 1000.62em, 2.774em, -999.997em); top: -2.337em; left: 0em;\"><span class=\"mrow\" id=\"MathJax-Span-22\"><span class=\"mi\" id=\"MathJax-Span-23\" style=\"font-family: MathJax_Math-italic;\">μ</span></span><span style=\"display: inline-block; width: 0px; height: 2.343em;\"></span></span></span><span style=\"display: inline-block; overflow: hidden; vertical-align: -0.354em; border-left: 0px solid; width: 0px; height: 0.932em;\"></span></span></nobr><span class=\"MJX_Assistive_MathML\" role=\"presentation\"><math xmlns=\"http://www.w3.org/1998/Math/MathML\"><mi>μ</mi></math></span></span><script type=\"math/tex\" id=\"MathJax-Element-4\">\\mu</script> and <span class=\"MathJax_Preview\" style=\"color: inherit; display: none;\"></span><span class=\"MathJax\" id=\"MathJax-Element-5-Frame\" tabindex=\"0\" data-mathml=\"<math xmlns=&quot;http://www.w3.org/1998/Math/MathML&quot;><mi>&amp;#x03C3;</mi></math>\" role=\"presentation\" style=\"position: relative;\"><nobr aria-hidden=\"true\"><span class=\"math\" id=\"MathJax-Span-24\" style=\"width: 0.68em; display: inline-block;\"><span style=\"display: inline-block; position: relative; width: 0.557em; height: 0px; font-size: 116%;\"><span style=\"position: absolute; clip: rect(1.727em, 1000.56em, 2.528em, -999.997em); top: -2.337em; left: 0em;\"><span class=\"mrow\" id=\"MathJax-Span-25\"><span class=\"mi\" id=\"MathJax-Span-26\" style=\"font-family: MathJax_Math-italic;\">σ<span style=\"display: inline-block; overflow: hidden; height: 1px; width: 0.003em;\"></span></span></span><span style=\"display: inline-block; width: 0px; height: 2.343em;\"></span></span></span><span style=\"display: inline-block; overflow: hidden; vertical-align: -0.068em; border-left: 0px solid; width: 0px; height: 0.646em;\"></span></span></nobr><span class=\"MJX_Assistive_MathML\" role=\"presentation\"><math xmlns=\"http://www.w3.org/1998/Math/MathML\"><mi>σ</mi></math></span></span><script type=\"math/tex\" id=\"MathJax-Element-5\">\\sigma</script> is the mean and standard deviation of the logarithm of <span class=\"MathJax_Preview\" style=\"color: inherit; display: none;\"></span><span class=\"MathJax\" id=\"MathJax-Element-6-Frame\" tabindex=\"0\" data-mathml=\"<math xmlns=&quot;http://www.w3.org/1998/Math/MathML&quot;><mi>X</mi></math>\" role=\"presentation\" style=\"position: relative;\"><nobr aria-hidden=\"true\"><span class=\"math\" id=\"MathJax-Span-27\" style=\"width: 0.927em; display: inline-block;\"><span style=\"display: inline-block; position: relative; width: 0.804em; height: 0px; font-size: 116%;\"><span style=\"position: absolute; clip: rect(1.481em, 1000.8em, 2.528em, -999.997em); top: -2.337em; left: 0em;\"><span class=\"mrow\" id=\"MathJax-Span-28\"><span class=\"mi\" id=\"MathJax-Span-29\" style=\"font-family: MathJax_Math-italic;\">X<span style=\"display: inline-block; overflow: hidden; height: 1px; width: 0.003em;\"></span></span></span><span style=\"display: inline-block; width: 0px; height: 2.343em;\"></span></span></span><span style=\"display: inline-block; overflow: hidden; vertical-align: -0.068em; border-left: 0px solid; width: 0px; height: 0.932em;\"></span></span></nobr><span class=\"MJX_Assistive_MathML\" role=\"presentation\"><math xmlns=\"http://www.w3.org/1998/Math/MathML\"><mi>X</mi></math></span></span><script type=\"math/tex\" id=\"MathJax-Element-6\">X</script>, respectively.</p><p>As <span class=\"MathJax_Preview\" style=\"color: inherit; display: none;\"></span><span class=\"MathJax\" id=\"MathJax-Element-7-Frame\" tabindex=\"0\" data-mathml=\"<math xmlns=&quot;http://www.w3.org/1998/Math/MathML&quot;><mi>x</mi></math>\" role=\"presentation\" style=\"position: relative;\"><nobr aria-hidden=\"true\"><span class=\"math\" id=\"MathJax-Span-30\" style=\"width: 0.68em; display: inline-block;\"><span style=\"display: inline-block; position: relative; width: 0.557em; height: 0px; font-size: 116%;\"><span style=\"position: absolute; clip: rect(1.727em, 1000.5em, 2.528em, -999.997em); top: -2.337em; left: 0em;\"><span class=\"mrow\" id=\"MathJax-Span-31\"><span class=\"mi\" id=\"MathJax-Span-32\" style=\"font-family: MathJax_Math-italic;\">x</span></span><span style=\"display: inline-block; width: 0px; height: 2.343em;\"></span></span></span><span style=\"display: inline-block; overflow: hidden; vertical-align: -0.068em; border-left: 0px solid; width: 0px; height: 0.646em;\"></span></span></nobr><span class=\"MJX_Assistive_MathML\" role=\"presentation\"><math xmlns=\"http://www.w3.org/1998/Math/MathML\"><mi>x</mi></math></span></span><script type=\"math/tex\" id=\"MathJax-Element-7\">x</script> is normal, <span class=\"MathJax_Preview\" style=\"color: inherit; display: none;\"></span><span class=\"MathJax\" id=\"MathJax-Element-8-Frame\" tabindex=\"0\" data-mathml=\"<math xmlns=&quot;http://www.w3.org/1998/Math/MathML&quot;><mi>Y</mi><mo>=</mo><mi>l</mi><mi>n</mi><mo stretchy=&quot;false&quot;>(</mo><mi>X</mi><mo stretchy=&quot;false&quot;>)</mo></math>\" role=\"presentation\" style=\"position: relative;\"><nobr aria-hidden=\"true\"><span class=\"math\" id=\"MathJax-Span-33\" style=\"width: 5.422em; display: inline-block;\"><span style=\"display: inline-block; position: relative; width: 4.683em; height: 0px; font-size: 116%;\"><span style=\"position: absolute; clip: rect(1.419em, 1004.56em, 2.774em, -999.997em); top: -2.337em; left: 0em;\"><span class=\"mrow\" id=\"MathJax-Span-34\"><span class=\"mi\" id=\"MathJax-Span-35\" style=\"font-family: MathJax_Math-italic;\">Y<span style=\"display: inline-block; overflow: hidden; height: 1px; width: 0.188em;\"></span></span><span class=\"mo\" id=\"MathJax-Span-36\" style=\"font-family: MathJax_Main; padding-left: 0.311em;\">=</span><span class=\"mi\" id=\"MathJax-Span-37\" style=\"font-family: MathJax_Math-italic; padding-left: 0.311em;\">l</span><span class=\"mi\" id=\"MathJax-Span-38\" style=\"font-family: MathJax_Math-italic;\">n</span><span class=\"mo\" id=\"MathJax-Span-39\" style=\"font-family: MathJax_Main;\">(</span><span class=\"mi\" id=\"MathJax-Span-40\" style=\"font-family: MathJax_Math-italic;\">X<span style=\"display: inline-block; overflow: hidden; height: 1px; width: 0.003em;\"></span></span><span class=\"mo\" id=\"MathJax-Span-41\" style=\"font-family: MathJax_Main;\">)</span></span><span style=\"display: inline-block; width: 0px; height: 2.343em;\"></span></span></span><span style=\"display: inline-block; overflow: hidden; vertical-align: -0.354em; border-left: 0px solid; width: 0px; height: 1.289em;\"></span></span></nobr><span class=\"MJX_Assistive_MathML\" role=\"presentation\"><math xmlns=\"http://www.w3.org/1998/Math/MathML\"><mi>Y</mi><mo>=</mo><mi>l</mi><mi>n</mi><mo stretchy=\"false\">(</mo><mi>X</mi><mo stretchy=\"false\">)</mo></math></span></span><script type=\"math/tex\" id=\"MathJax-Element-8\">Y = ln(X)</script> has a normal distribution if the random variable <span class=\"MathJax_Preview\" style=\"color: inherit; display: none;\"></span><span class=\"MathJax\" id=\"MathJax-Element-9-Frame\" tabindex=\"0\" data-mathml=\"<math xmlns=&quot;http://www.w3.org/1998/Math/MathML&quot;><mi>X</mi></math>\" role=\"presentation\" style=\"position: relative;\"><nobr aria-hidden=\"true\"><span class=\"math\" id=\"MathJax-Span-42\" style=\"width: 0.927em; display: inline-block;\"><span style=\"display: inline-block; position: relative; width: 0.804em; height: 0px; font-size: 116%;\"><span style=\"position: absolute; clip: rect(1.481em, 1000.8em, 2.528em, -999.997em); top: -2.337em; left: 0em;\"><span class=\"mrow\" id=\"MathJax-Span-43\"><span class=\"mi\" id=\"MathJax-Span-44\" style=\"font-family: MathJax_Math-italic;\">X<span style=\"display: inline-block; overflow: hidden; height: 1px; width: 0.003em;\"></span></span></span><span style=\"display: inline-block; width: 0px; height: 2.343em;\"></span></span></span><span style=\"display: inline-block; overflow: hidden; vertical-align: -0.068em; border-left: 0px solid; width: 0px; height: 0.932em;\"></span></span></nobr><span class=\"MJX_Assistive_MathML\" role=\"presentation\"><math xmlns=\"http://www.w3.org/1998/Math/MathML\"><mi>X</mi></math></span></span><script type=\"math/tex\" id=\"MathJax-Element-9\">X</script> is lognormally distributed.</p><p>The lognormal distribution of a Random Variable is shown below.</p><p><img loading=\"lazy\" class=\"aligncenter\" src=\"https://blogmedia.testbook.com/blog/wp-content/uploads/2022/06/lognormal-distribution_1-3634efd1.png\" alt=\"Lognormal Distribution of a Random Variable\" width=\"244\" height=\"255\"></p><h3><span class=\"ez-toc-section\" id=\"Probability-Density-Function\"><strong>Probability Density Function</strong></span></h3><p>The probability density function for the lognormal is defined by the two parameters μ and σ, where x &gt; 0. When our lognormal data is transformed using logarithms our μ can then be viewed as the mean and σ as the standard deviation.</p><p><span class=\"MathJax_Preview\" style=\"color: inherit; display: none;\"></span><span class=\"MathJax\" id=\"MathJax-Element-10-Frame\" tabindex=\"0\" data-mathml=\"<math xmlns=&quot;http://www.w3.org/1998/Math/MathML&quot;><mi>f</mi><mo stretchy=&quot;false&quot;>(</mo><mi>x</mi><mo stretchy=&quot;false&quot;>)</mo><mo>=</mo><mrow class=&quot;MJX-TeXAtom-ORD&quot;><mfrac><mn>1</mn><mrow class=&quot;MJX-TeXAtom-ORD&quot;><mi>x</mi><mi>&amp;#x03C3;</mi><msqrt><mn>2</mn><mi>&amp;#x03C0;</mi></msqrt></mrow></mfrac></mrow><msup><mi>e</mi><mrow class=&quot;MJX-TeXAtom-ORD&quot;><mrow class=&quot;MJX-TeXAtom-ORD&quot;><mfrac><mrow><mo>&amp;#x2212;</mo><mn>1</mn></mrow><mrow class=&quot;MJX-TeXAtom-ORD&quot;><mn>2</mn></mrow></mfrac></mrow><mo stretchy=&quot;false&quot;>(</mo><mrow class=&quot;MJX-TeXAtom-ORD&quot;><mfrac><mrow class=&quot;MJX-TeXAtom-ORD&quot;><mi>l</mi><mi>n</mi><mo stretchy=&quot;false&quot;>(</mo><mi>x</mi><mo stretchy=&quot;false&quot;>)</mo><mo>&amp;#x2212;</mo><mi>&amp;#x03BC;</mi></mrow><mrow class=&quot;MJX-TeXAtom-ORD&quot;><mi>&amp;#x03C3;</mi></mrow></mfrac></mrow><msup><mo stretchy=&quot;false&quot;>)</mo><mn>2</mn></msup></mrow></msup></math>\" role=\"presentation\" style=\"position: relative;\"><nobr aria-hidden=\"true\"><span class=\"math\" id=\"MathJax-Span-45\" style=\"width: 12.072em; display: inline-block;\"><span style=\"display: inline-block; position: relative; width: 10.409em; height: 0px; font-size: 116%;\"><span style=\"position: absolute; clip: rect(0.865em, 1010.41em, 3.143em, -999.997em); top: -2.337em; left: 0em;\"><span class=\"mrow\" id=\"MathJax-Span-46\"><span class=\"mi\" id=\"MathJax-Span-47\" style=\"font-family: MathJax_Math-italic;\">f<span style=\"display: inline-block; overflow: hidden; height: 1px; width: 0.065em;\"></span></span><span class=\"mo\" id=\"MathJax-Span-48\" style=\"font-family: MathJax_Main;\">(</span><span class=\"mi\" id=\"MathJax-Span-49\" style=\"font-family: MathJax_Math-italic;\">x</span><span class=\"mo\" id=\"MathJax-Span-50\" style=\"font-family: MathJax_Main;\">)</span><span class=\"mo\" id=\"MathJax-Span-51\" style=\"font-family: MathJax_Main; padding-left: 0.311em;\">=</span><span class=\"texatom\" id=\"MathJax-Span-52\" style=\"padding-left: 0.311em;\"><span class=\"mrow\" id=\"MathJax-Span-53\"><span class=\"mfrac\" id=\"MathJax-Span-54\"><span style=\"display: inline-block; position: relative; width: 2.281em; height: 0px; margin-right: 0.126em; margin-left: 0.126em;\"><span style=\"position: absolute; clip: rect(3.328em, 1000.31em, 4.19em, -999.997em); top: -4.43em; left: 50%; margin-left: -0.182em;\"><span class=\"mn\" id=\"MathJax-Span-55\" style=\"font-size: 70.7%; font-family: MathJax_Main;\">1</span><span style=\"display: inline-block; width: 0px; height: 4.006em;\"></span></span><span style=\"position: absolute; clip: rect(3.267em, 1002.16em, 4.313em, -999.997em); top: -3.507em; left: 50%; margin-left: -1.105em;\"><span class=\"texatom\" id=\"MathJax-Span-56\"><span class=\"mrow\" id=\"MathJax-Span-57\"><span class=\"mi\" id=\"MathJax-Span-58\" style=\"font-size: 70.7%; font-family: MathJax_Math-italic;\">x</span><span class=\"mi\" id=\"MathJax-Span-59\" style=\"font-size: 70.7%; font-family: MathJax_Math-italic;\">σ<span style=\"display: inline-block; overflow: hidden; height: 1px; width: 0.003em;\"></span></span><span class=\"msqrt\" id=\"MathJax-Span-60\"><span style=\"display: inline-block; position: relative; width: 1.358em; height: 0px;\"><span style=\"position: absolute; clip: rect(3.328em, 1000.74em, 4.19em, -999.997em); top: -3.999em; left: 0.619em;\"><span class=\"mrow\" id=\"MathJax-Span-61\"><span class=\"mn\" id=\"MathJax-Span-62\" style=\"font-size: 70.7%; font-family: MathJax_Main;\">2</span><span class=\"mi\" id=\"MathJax-Span-63\" style=\"font-size: 70.7%; font-family: MathJax_Math-italic;\">π<span style=\"display: inline-block; overflow: hidden; height: 1px; width: 0.003em;\"></span></span></span><span style=\"display: inline-block; width: 0px; height: 4.006em;\"></span></span><span style=\"position: absolute; clip: rect(0.927em, 1000.74em, 1.296em, -999.997em); top: -1.659em; left: 0.619em;\"><span style=\"display: inline-block; overflow: hidden; vertical-align: -0.058em; border-top: 1.2px solid; width: 0.742em; height: 0px;\"></span><span style=\"display: inline-block; width: 0px; height: 1.05em;\"></span></span><span style=\"position: absolute; clip: rect(3.267em, 1000.62em, 4.313em, -999.997em); top: -3.999em; left: 0em;\"><span><span style=\"font-size: 70.7%; font-family: MathJax_Main;\">√</span></span><span style=\"display: inline-block; width: 0px; height: 4.006em;\"></span></span></span></span></span></span><span style=\"display: inline-block; width: 0px; height: 4.006em;\"></span></span><span style=\"position: absolute; clip: rect(0.804em, 1002.28em, 1.235em, -999.997em); top: -1.29em; left: 0em;\"><span style=\"display: inline-block; overflow: hidden; vertical-align: 0em; border-top: 1.3px solid; width: 2.281em; height: 0px;\"></span><span style=\"display: inline-block; width: 0px; height: 1.05em;\"></span></span></span></span></span></span><span class=\"msubsup\" id=\"MathJax-Span-64\"><span style=\"display: inline-block; position: relative; width: 4.56em; height: 0px;\"><span style=\"position: absolute; clip: rect(3.39em, 1000.43em, 4.19em, -999.997em); top: -3.999em; left: 0em;\"><span class=\"mi\" id=\"MathJax-Span-65\" style=\"font-family: MathJax_Math-italic;\">e</span><span style=\"display: inline-block; width: 0px; height: 4.006em;\"></span></span><span style=\"position: absolute; top: -4.43em; left: 0.496em;\"><span class=\"texatom\" id=\"MathJax-Span-66\"><span class=\"mrow\" id=\"MathJax-Span-67\"><span class=\"texatom\" id=\"MathJax-Span-68\"><span class=\"mrow\" id=\"MathJax-Span-69\"><span class=\"mfrac\" id=\"MathJax-Span-70\"><span style=\"display: inline-block; position: relative; width: 0.742em; height: 0px; margin-right: 0.126em; margin-left: 0.126em;\"><span style=\"position: absolute; clip: rect(3.513em, 1000.62em, 4.252em, -999.997em); top: -4.369em; left: 50%; margin-left: -0.305em;\"><span class=\"mrow\" id=\"MathJax-Span-71\"><span class=\"mo\" id=\"MathJax-Span-72\" style=\"font-size: 50%; font-family: MathJax_Main;\">−</span><span class=\"mn\" id=\"MathJax-Span-73\" style=\"font-size: 50%; font-family: MathJax_Main;\">1</span></span><span style=\"display: inline-block; width: 0px; height: 4.006em;\"></span></span><span style=\"position: absolute; clip: rect(3.513em, 1000.25em, 4.19em, -999.997em); top: -3.692em; left: 50%; margin-left: -0.12em;\"><span class=\"texatom\" id=\"MathJax-Span-74\"><span class=\"mrow\" id=\"MathJax-Span-75\"><span class=\"mn\" id=\"MathJax-Span-76\" style=\"font-size: 50%; font-family: MathJax_Main;\">2</span></span></span><span style=\"display: inline-block; width: 0px; height: 4.006em;\"></span></span><span style=\"position: absolute; clip: rect(0.804em, 1000.74em, 1.235em, -999.997em); top: -1.167em; left: 0em;\"><span style=\"display: inline-block; overflow: hidden; vertical-align: 0em; border-top: 1.3px solid; width: 0.742em; height: 0px;\"></span><span style=\"display: inline-block; width: 0px; height: 1.05em;\"></span></span></span></span></span></span><span class=\"mo\" id=\"MathJax-Span-77\" style=\"font-size: 70.7%; font-family: MathJax_Main;\">(</span><span class=\"texatom\" id=\"MathJax-Span-78\"><span class=\"mrow\" id=\"MathJax-Span-79\"><span class=\"mfrac\" id=\"MathJax-Span-80\"><span style=\"display: inline-block; position: relative; width: 1.912em; height: 0px; margin-right: 0.126em; margin-left: 0.126em;\"><span style=\"position: absolute; clip: rect(3.451em, 1001.79em, 4.313em, -999.997em); top: -4.492em; left: 50%; margin-left: -0.921em;\"><span class=\"texatom\" id=\"MathJax-Span-81\"><span class=\"mrow\" id=\"MathJax-Span-82\"><span class=\"mi\" id=\"MathJax-Span-83\" style=\"font-size: 50%; font-family: MathJax_Math-italic;\">l</span><span class=\"mi\" id=\"MathJax-Span-84\" style=\"font-size: 50%; font-family: MathJax_Math-italic;\">n</span><span class=\"mo\" id=\"MathJax-Span-85\" style=\"font-size: 50%; font-family: MathJax_Main;\">(</span><span class=\"mi\" id=\"MathJax-Span-86\" style=\"font-size: 50%; font-family: MathJax_Math-italic;\">x</span><span class=\"mo\" id=\"MathJax-Span-87\" style=\"font-size: 50%; font-family: MathJax_Main;\">)</span><span class=\"mo\" id=\"MathJax-Span-88\" style=\"font-size: 50%; font-family: MathJax_Main;\">−</span><span class=\"mi\" id=\"MathJax-Span-89\" style=\"font-size: 50%; font-family: MathJax_Math-italic;\">μ</span></span></span><span style=\"display: inline-block; width: 0px; height: 4.006em;\"></span></span><span style=\"position: absolute; clip: rect(3.636em, 1000.31em, 4.19em, -999.997em); top: -3.753em; left: 50%; margin-left: -0.12em;\"><span class=\"texatom\" id=\"MathJax-Span-90\"><span class=\"mrow\" id=\"MathJax-Span-91\"><span class=\"mi\" id=\"MathJax-Span-92\" style=\"font-size: 50%; font-family: MathJax_Math-italic;\">σ<span style=\"display: inline-block; overflow: hidden; height: 1px; width: 0em;\"></span></span></span></span><span style=\"display: inline-block; width: 0px; height: 4.006em;\"></span></span><span style=\"position: absolute; clip: rect(0.804em, 1001.91em, 1.235em, -999.997em); top: -1.167em; left: 0em;\"><span style=\"display: inline-block; overflow: hidden; vertical-align: 0em; border-top: 1.3px solid; width: 1.912em; height: 0px;\"></span><span style=\"display: inline-block; width: 0px; height: 1.05em;\"></span></span></span></span></span></span><span class=\"msubsup\" id=\"MathJax-Span-93\"><span style=\"display: inline-block; position: relative; width: 0.557em; height: 0px;\"><span style=\"position: absolute; clip: rect(3.267em, 1000.19em, 4.375em, -999.997em); top: -3.999em; left: 0em;\"><span class=\"mo\" id=\"MathJax-Span-94\" style=\"font-size: 70.7%; font-family: MathJax_Main;\">)</span><span style=\"display: inline-block; width: 0px; height: 4.006em;\"></span></span><span style=\"position: absolute; top: -4.307em; left: 0.249em;\"><span class=\"mn\" id=\"MathJax-Span-95\" style=\"font-size: 50%; font-family: MathJax_Main;\">2</span><span style=\"display: inline-block; width: 0px; height: 4.006em;\"></span></span></span></span></span></span><span style=\"display: inline-block; width: 0px; height: 4.006em;\"></span></span></span></span></span><span style=\"display: inline-block; width: 0px; height: 2.343em;\"></span></span></span><span style=\"display: inline-block; overflow: hidden; vertical-align: -0.782em; border-left: 0px solid; width: 0px; height: 2.361em;\"></span></span></nobr><span class=\"MJX_Assistive_MathML\" role=\"presentation\"><math xmlns=\"http://www.w3.org/1998/Math/MathML\"><mi>f</mi><mo stretchy=\"false\">(</mo><mi>x</mi><mo stretchy=\"false\">)</mo><mo>=</mo><mrow class=\"MJX-TeXAtom-ORD\"><mfrac><mn>1</mn><mrow class=\"MJX-TeXAtom-ORD\"><mi>x</mi><mi>σ</mi><msqrt><mn>2</mn><mi>π</mi></msqrt></mrow></mfrac></mrow><msup><mi>e</mi><mrow class=\"MJX-TeXAtom-ORD\"><mrow class=\"MJX-TeXAtom-ORD\"><mfrac><mrow><mo>−</mo><mn>1</mn></mrow><mrow class=\"MJX-TeXAtom-ORD\"><mn>2</mn></mrow></mfrac></mrow><mo stretchy=\"false\">(</mo><mrow class=\"MJX-TeXAtom-ORD\"><mfrac><mrow class=\"MJX-TeXAtom-ORD\"><mi>l</mi><mi>n</mi><mo stretchy=\"false\">(</mo><mi>x</mi><mo stretchy=\"false\">)</mo><mo>−</mo><mi>μ</mi></mrow><mrow class=\"MJX-TeXAtom-ORD\"><mi>σ</mi></mrow></mfrac></mrow><msup><mo stretchy=\"false\">)</mo><mn>2</mn></msup></mrow></msup></math></span></span><script type=\"math/tex\" id=\"MathJax-Element-10\">f(x) = {1\\over{x\\sigma\\sqrt{2\\pi}}}e^{{-1\\over{2}}({{ln(x)-\\mu}\\over{\\sigma}})^2}</script></p><p>Here,</p><p>μ is the location parameter or mean value and σ the shape parameter or standard deviation of the distribution.</p><p><img loading=\"lazy\" class=\"aligncenter\" src=\"https://blogmedia.testbook.com/blog/wp-content/uploads/2022/06/lognormal-distribution_3-20b5b930.png\" alt=\"Probability Density Function\" width=\"372\" height=\"232\"></p></div>"
   ]
  },
  {
   "cell_type": "markdown",
   "metadata": {},
   "source": [
    "---------------------"
   ]
  },
  {
   "cell_type": "markdown",
   "metadata": {},
   "source": [
    "**power-law distribution or Pareto distribution**"
   ]
  },
  {
   "cell_type": "markdown",
   "metadata": {},
   "source": [
    "This distribution describes a phenomenon where a small number of items have a disproportionately high impact, while the majority of items have minimal impact. It's commonly observed in various natural and social systems, such as the distribution of wealth, city sizes, and word frequencies in language. The power-law distribution is characterized by a heavy tail, indicating that extreme events occur more frequently than what would be expected in a normal distribution.\n",
    "\n",
    "he Pareto Principle, also known as the 80/20 rule, states that roughly 80% of the effects come from 20% of the causes, implying a disproportionate relationship between inputs and outputs, commonly applied in various fields like business, economics, and time management."
   ]
  },
  {
   "cell_type": "markdown",
   "metadata": {},
   "source": [
    "<img src=\"https://miro.medium.com/v2/resize:fit:972/1*_jLijWQU1YM9DbPV2YHyEg.png\" height=\"250\">"
   ]
  },
  {
   "cell_type": "markdown",
   "metadata": {},
   "source": [
    "----------------------"
   ]
  },
  {
   "cell_type": "markdown",
   "metadata": {},
   "source": [
    "**Exponential Distribution**\n",
    "\n",
    "\n",
    "The exponential distribution models the time between events in a Poisson process, where events occur continuously and independently at a constant rate. It's characterized by a single parameter λ (lambda) representing the rate of event occurrences, with a probability density function f(x) = λ * exp(-λx) for x ≥ 0. It's commonly used in reliability engineering, queuing theory, and survival analysis."
   ]
  },
  {
   "cell_type": "markdown",
   "metadata": {},
   "source": [
    "<img src =\"https://www.probabilitycourse.com/images/chapter4/PDF-Exp_b.png\" height=\"250\">"
   ]
  },
  {
   "cell_type": "markdown",
   "metadata": {},
   "source": [
    "<div style=\"padding: 15px; border: black 1px solid\">\n",
    "A continuous random variable <span class=\"MathJax_Preview\" style=\"color: inherit; display: none;\"></span><span class=\"MathJax\" id=\"MathJax-Element-1-Frame\" tabindex=\"0\" data-mathml=\"<math xmlns=&quot;http://www.w3.org/1998/Math/MathML&quot;><mi>X</mi></math>\" role=\"presentation\" style=\"position: relative;\"><nobr aria-hidden=\"true\"><span class=\"math\" id=\"MathJax-Span-1\" style=\"width: 1.094em; display: inline-block;\"><span style=\"display: inline-block; position: relative; width: 0.846em; height: 0px; font-size: 126%;\"><span style=\"position: absolute; clip: rect(1.342em, 1000.85em, 2.334em, -999.998em); top: -2.18em; left: 0em;\"><span class=\"mrow\" id=\"MathJax-Span-2\"><span class=\"mi\" id=\"MathJax-Span-3\" style=\"font-family: MathJax_Math-italic;\">X<span style=\"display: inline-block; overflow: hidden; height: 1px; width: 0.002em;\"></span></span></span><span style=\"display: inline-block; width: 0px; height: 2.185em;\"></span></span></span><span style=\"display: inline-block; overflow: hidden; vertical-align: -0.059em; border-left: 0px solid; width: 0px; height: 1.003em;\"></span></span></nobr><span class=\"MJX_Assistive_MathML\" role=\"presentation\"><math xmlns=\"http://www.w3.org/1998/Math/MathML\"><mi>X</mi></math></span></span><script type=\"math/tex\" id=\"MathJax-Element-1\">X</script> is said to have an <i>exponential</i> distribution with parameter\n",
    "<span class=\"MathJax_Preview\" style=\"color: inherit; display: none;\"></span><span class=\"MathJax\" id=\"MathJax-Element-2-Frame\" tabindex=\"0\" data-mathml=\"<math xmlns=&quot;http://www.w3.org/1998/Math/MathML&quot;><mi>&amp;#x03BB;</mi><mo>&amp;gt;</mo><mn>0</mn></math>\" role=\"presentation\" style=\"position: relative;\"><nobr aria-hidden=\"true\"><span class=\"math\" id=\"MathJax-Span-4\" style=\"width: 3.127em; display: inline-block;\"><span style=\"display: inline-block; position: relative; width: 2.483em; height: 0px; font-size: 126%;\"><span style=\"position: absolute; clip: rect(1.441em, 1002.43em, 2.483em, -999.998em); top: -2.279em; left: 0em;\"><span class=\"mrow\" id=\"MathJax-Span-5\"><span class=\"mi\" id=\"MathJax-Span-6\" style=\"font-family: MathJax_Math-italic;\">λ</span><span class=\"mo\" id=\"MathJax-Span-7\" style=\"font-family: MathJax_Main; padding-left: 0.3em;\">&gt;</span><span class=\"mn\" id=\"MathJax-Span-8\" style=\"font-family: MathJax_Main; padding-left: 0.3em;\">0</span></span><span style=\"display: inline-block; width: 0px; height: 2.284em;\"></span></span></span><span style=\"display: inline-block; overflow: hidden; vertical-align: -0.122em; border-left: 0px solid; width: 0px; height: 1.066em;\"></span></span></nobr><span class=\"MJX_Assistive_MathML\" role=\"presentation\"><math xmlns=\"http://www.w3.org/1998/Math/MathML\"><mi>λ</mi><mo>&gt;</mo><mn>0</mn></math></span></span><script type=\"math/tex\" id=\"MathJax-Element-2\">\\lambda>0</script>, shown as <span class=\"MathJax_Preview\" style=\"color: inherit; display: none;\"></span><span class=\"MathJax\" id=\"MathJax-Element-3-Frame\" tabindex=\"0\" data-mathml=\"<math xmlns=&quot;http://www.w3.org/1998/Math/MathML&quot;><mi>X</mi><mo>&amp;#x223C;</mo><mi>E</mi><mi>x</mi><mi>p</mi><mi>o</mi><mi>n</mi><mi>e</mi><mi>n</mi><mi>t</mi><mi>i</mi><mi>a</mi><mi>l</mi><mo stretchy=&quot;false&quot;>(</mo><mi>&amp;#x03BB;</mi><mo stretchy=&quot;false&quot;>)</mo></math>\" role=\"presentation\" style=\"position: relative;\"><nobr aria-hidden=\"true\"><span class=\"math\" id=\"MathJax-Span-9\" style=\"width: 11.51em; display: inline-block;\"><span style=\"display: inline-block; position: relative; width: 9.129em; height: 0px; font-size: 126%;\"><span style=\"position: absolute; clip: rect(1.391em, 1009.03em, 2.681em, -999.998em); top: -2.279em; left: 0em;\"><span class=\"mrow\" id=\"MathJax-Span-10\"><span class=\"mi\" id=\"MathJax-Span-11\" style=\"font-family: MathJax_Math-italic;\">X<span style=\"display: inline-block; overflow: hidden; height: 1px; width: 0.002em;\"></span></span><span class=\"mo\" id=\"MathJax-Span-12\" style=\"font-family: MathJax_Main; padding-left: 0.3em;\">∼</span><span class=\"mi\" id=\"MathJax-Span-13\" style=\"font-family: MathJax_Math-italic; padding-left: 0.3em;\">E<span style=\"display: inline-block; overflow: hidden; height: 1px; width: 0.052em;\"></span></span><span class=\"mi\" id=\"MathJax-Span-14\" style=\"font-family: MathJax_Math-italic;\">x</span><span class=\"mi\" id=\"MathJax-Span-15\" style=\"font-family: MathJax_Math-italic;\">p</span><span class=\"mi\" id=\"MathJax-Span-16\" style=\"font-family: MathJax_Math-italic;\">o</span><span class=\"mi\" id=\"MathJax-Span-17\" style=\"font-family: MathJax_Math-italic;\">n</span><span class=\"mi\" id=\"MathJax-Span-18\" style=\"font-family: MathJax_Math-italic;\">e</span><span class=\"mi\" id=\"MathJax-Span-19\" style=\"font-family: MathJax_Math-italic;\">n</span><span class=\"mi\" id=\"MathJax-Span-20\" style=\"font-family: MathJax_Math-italic;\">t</span><span class=\"mi\" id=\"MathJax-Span-21\" style=\"font-family: MathJax_Math-italic;\">i</span><span class=\"mi\" id=\"MathJax-Span-22\" style=\"font-family: MathJax_Math-italic;\">a</span><span class=\"mi\" id=\"MathJax-Span-23\" style=\"font-family: MathJax_Math-italic;\">l</span><span class=\"mo\" id=\"MathJax-Span-24\" style=\"font-family: MathJax_Main;\">(</span><span class=\"mi\" id=\"MathJax-Span-25\" style=\"font-family: MathJax_Math-italic;\">λ</span><span class=\"mo\" id=\"MathJax-Span-26\" style=\"font-family: MathJax_Main;\">)</span></span><span style=\"display: inline-block; width: 0px; height: 2.284em;\"></span></span></span><span style=\"display: inline-block; overflow: hidden; vertical-align: -0.372em; border-left: 0px solid; width: 0px; height: 1.378em;\"></span></span></nobr><span class=\"MJX_Assistive_MathML\" role=\"presentation\"><math xmlns=\"http://www.w3.org/1998/Math/MathML\"><mi>X</mi><mo>∼</mo><mi>E</mi><mi>x</mi><mi>p</mi><mi>o</mi><mi>n</mi><mi>e</mi><mi>n</mi><mi>t</mi><mi>i</mi><mi>a</mi><mi>l</mi><mo stretchy=\"false\">(</mo><mi>λ</mi><mo stretchy=\"false\">)</mo></math></span></span><script type=\"math/tex\" id=\"MathJax-Element-3\">X \\sim Exponential(\\lambda)</script>, if its PDF is given by\n",
    "<span class=\"MathJax_Preview\" style=\"color: inherit; display: none;\"></span><div class=\"MathJax_Display\" style=\"text-align: center;\"><span class=\"MathJax\" id=\"MathJax-Element-4-Frame\" tabindex=\"0\" data-mathml=\"<math xmlns=&quot;http://www.w3.org/1998/Math/MathML&quot; display=&quot;block&quot;><msub><mi>f</mi><mi>X</mi></msub><mo stretchy=&quot;false&quot;>(</mo><mi>x</mi><mo stretchy=&quot;false&quot;>)</mo><mo>=</mo><mrow><mo>{</mo><mtable columnalign=&quot;left left&quot; rowspacing=&quot;4pt&quot; columnspacing=&quot;1em&quot;><mtr><mtd><mi>&amp;#x03BB;</mi><msup><mi>e</mi><mrow class=&quot;MJX-TeXAtom-ORD&quot;><mo>&amp;#x2212;</mo><mi>&amp;#x03BB;</mi><mi>x</mi></mrow></msup></mtd><mtd><mspace width=&quot;1em&quot; /><mi>x</mi><mo>&amp;gt;</mo><mn>0</mn></mtd></mtr><mtr><mtd><mn>0</mn></mtd><mtd><mspace width=&quot;1em&quot; /><mrow class=&quot;MJX-TeXAtom-ORD&quot;><mtext>otherwise</mtext></mrow></mtd></mtr></mtable><mo fence=&quot;true&quot; stretchy=&quot;true&quot; symmetric=&quot;true&quot;></mo></mrow></math>\" role=\"presentation\" style=\"text-align: center; position: relative;\"><nobr aria-hidden=\"true\"><span class=\"math\" id=\"MathJax-Span-27\" style=\"width: 17.165em; display: inline-block;\"><span style=\"display: inline-block; position: relative; width: 13.594em; height: 0px; font-size: 126%;\"><span style=\"position: absolute; clip: rect(1.788em, 1013.59em, 4.566em, -999.998em); top: -3.42em; left: 0em;\"><span class=\"mrow\" id=\"MathJax-Span-28\"><span class=\"msubsup\" id=\"MathJax-Span-29\"><span style=\"display: inline-block; position: relative; width: 1.193em; height: 0px;\"><span style=\"position: absolute; clip: rect(3.177em, 1000.55em, 4.368em, -999.998em); top: -4.015em; left: 0em;\"><span class=\"mi\" id=\"MathJax-Span-30\" style=\"font-family: MathJax_Math-italic;\">f<span style=\"display: inline-block; overflow: hidden; height: 1px; width: 0.052em;\"></span></span><span style=\"display: inline-block; width: 0px; height: 4.02em;\"></span></span><span style=\"position: absolute; top: -3.867em; left: 0.499em;\"><span class=\"mi\" id=\"MathJax-Span-31\" style=\"font-size: 70.7%; font-family: MathJax_Math-italic;\">X<span style=\"display: inline-block; overflow: hidden; height: 1px; width: 0.002em;\"></span></span><span style=\"display: inline-block; width: 0px; height: 4.02em;\"></span></span></span></span><span class=\"mo\" id=\"MathJax-Span-32\" style=\"font-family: MathJax_Main;\">(</span><span class=\"mi\" id=\"MathJax-Span-33\" style=\"font-family: MathJax_Math-italic;\">x</span><span class=\"mo\" id=\"MathJax-Span-34\" style=\"font-family: MathJax_Main;\">)</span><span class=\"mo\" id=\"MathJax-Span-35\" style=\"font-family: MathJax_Main; padding-left: 0.3em;\">=</span><span class=\"mrow\" id=\"MathJax-Span-36\" style=\"padding-left: 0.3em;\"><span class=\"mo\" id=\"MathJax-Span-37\" style=\"vertical-align: 0em;\"><span style=\"font-family: MathJax_Size3;\">{</span></span><span class=\"mtable\" id=\"MathJax-Span-38\" style=\"padding-right: 0.151em; padding-left: 0.151em;\"><span style=\"display: inline-block; position: relative; width: 8.633em; height: 0px;\"><span style=\"position: absolute; clip: rect(2.383em, 1002.48em, 4.963em, -999.998em); top: -4.015em; left: 0em;\"><span style=\"display: inline-block; position: relative; width: 2.483em; height: 0px;\"><span style=\"position: absolute; clip: rect(3.028em, 1002.48em, 4.169em, -999.998em); top: -4.66em; left: 0em;\"><span class=\"mtd\" id=\"MathJax-Span-39\"><span class=\"mrow\" id=\"MathJax-Span-40\"><span class=\"mi\" id=\"MathJax-Span-41\" style=\"font-family: MathJax_Math-italic;\">λ</span><span class=\"msubsup\" id=\"MathJax-Span-42\"><span style=\"display: inline-block; position: relative; width: 1.887em; height: 0px;\"><span style=\"position: absolute; clip: rect(3.425em, 1000.45em, 4.169em, -999.998em); top: -4.015em; left: 0em;\"><span class=\"mi\" id=\"MathJax-Span-43\" style=\"font-family: MathJax_Math-italic;\">e</span><span style=\"display: inline-block; width: 0px; height: 4.02em;\"></span></span><span style=\"position: absolute; top: -4.363em; left: 0.449em;\"><span class=\"texatom\" id=\"MathJax-Span-44\"><span class=\"mrow\" id=\"MathJax-Span-45\"><span class=\"mo\" id=\"MathJax-Span-46\" style=\"font-size: 70.7%; font-family: MathJax_Main;\">−</span><span class=\"mi\" id=\"MathJax-Span-47\" style=\"font-size: 70.7%; font-family: MathJax_Math-italic;\">λ</span><span class=\"mi\" id=\"MathJax-Span-48\" style=\"font-size: 70.7%; font-family: MathJax_Math-italic;\">x</span></span></span><span style=\"display: inline-block; width: 0px; height: 4.02em;\"></span></span></span></span></span></span><span style=\"display: inline-block; width: 0px; height: 4.02em;\"></span></span><span style=\"position: absolute; clip: rect(3.227em, 1000.45em, 4.169em, -999.998em); top: -3.222em; left: 0em;\"><span class=\"mtd\" id=\"MathJax-Span-55\"><span class=\"mrow\" id=\"MathJax-Span-56\"><span class=\"mn\" id=\"MathJax-Span-57\" style=\"font-family: MathJax_Main;\">0</span></span></span><span style=\"display: inline-block; width: 0px; height: 4.02em;\"></span></span></span><span style=\"display: inline-block; width: 0px; height: 4.02em;\"></span></span><span style=\"position: absolute; clip: rect(2.582em, 1005.11em, 4.963em, -999.998em); top: -4.015em; left: 3.475em;\"><span style=\"display: inline-block; position: relative; width: 5.112em; height: 0px;\"><span style=\"position: absolute; clip: rect(3.227em, 1003.42em, 4.219em, -999.998em); top: -4.66em; left: 0em;\"><span class=\"mtd\" id=\"MathJax-Span-49\"><span class=\"mrow\" id=\"MathJax-Span-50\"><span class=\"mspace\" id=\"MathJax-Span-51\" style=\"height: 0em; vertical-align: 0em; width: 0.995em; display: inline-block; overflow: hidden;\"></span><span class=\"mi\" id=\"MathJax-Span-52\" style=\"font-family: MathJax_Math-italic;\">x</span><span class=\"mo\" id=\"MathJax-Span-53\" style=\"font-family: MathJax_Main; padding-left: 0.3em;\">&gt;</span><span class=\"mn\" id=\"MathJax-Span-54\" style=\"font-family: MathJax_Main; padding-left: 0.3em;\">0</span></span></span><span style=\"display: inline-block; width: 0px; height: 4.02em;\"></span></span><span style=\"position: absolute; clip: rect(3.177em, 1005.11em, 4.169em, -999.998em); top: -3.222em; left: 0em;\"><span class=\"mtd\" id=\"MathJax-Span-58\"><span class=\"mrow\" id=\"MathJax-Span-59\"><span class=\"mspace\" id=\"MathJax-Span-60\" style=\"height: 0em; vertical-align: 0em; width: 0.995em; display: inline-block; overflow: hidden;\"></span><span class=\"texatom\" id=\"MathJax-Span-61\"><span class=\"mrow\" id=\"MathJax-Span-62\"><span class=\"mtext\" id=\"MathJax-Span-63\" style=\"font-family: MathJax_Main;\">otherwise</span></span></span></span></span><span style=\"display: inline-block; width: 0px; height: 4.02em;\"></span></span></span><span style=\"display: inline-block; width: 0px; height: 4.02em;\"></span></span></span></span><span class=\"mo\" id=\"MathJax-Span-64\"></span></span></span><span style=\"display: inline-block; width: 0px; height: 3.425em;\"></span></span></span><span style=\"display: inline-block; overflow: hidden; vertical-align: -1.309em; border-left: 0px solid; width: 0px; height: 3.191em;\"></span></span></nobr><span class=\"MJX_Assistive_MathML MJX_Assistive_MathML_Block\" role=\"presentation\"><math xmlns=\"http://www.w3.org/1998/Math/MathML\" display=\"block\"><msub><mi>f</mi><mi>X</mi></msub><mo stretchy=\"false\">(</mo><mi>x</mi><mo stretchy=\"false\">)</mo><mo>=</mo><mrow><mo>{</mo><mtable columnalign=\"left left\" rowspacing=\"4pt\" columnspacing=\"1em\"><mtr><mtd><mi>λ</mi><msup><mi>e</mi><mrow class=\"MJX-TeXAtom-ORD\"><mo>−</mo><mi>λ</mi><mi>x</mi></mrow></msup></mtd><mtd><mspace width=\"1em\"></mspace><mi>x</mi><mo>&gt;</mo><mn>0</mn></mtd></mtr><mtr><mtd><mn>0</mn></mtd><mtd><mspace width=\"1em\"></mspace><mrow class=\"MJX-TeXAtom-ORD\"><mtext>otherwise</mtext></mrow></mtd></mtr></mtable><mo fence=\"true\" stretchy=\"true\" symmetric=\"true\"></mo></mrow></math></span></span></div><script type=\"math/tex; mode=display\" id=\"MathJax-Element-4\">\\begin{equation}\n",
    "\\nonumber f_X(x) = \\left\\{\n",
    "\\begin{array}{l l}\n",
    "\\lambda e^{-\\lambda x} & \\quad x > 0\\\\\n",
    "0 & \\quad \\textrm{otherwise}\n",
    "\\end{array} \\right.\n",
    "\\end{equation}</script>\n",
    "</div>"
   ]
  },
  {
   "cell_type": "markdown",
   "metadata": {},
   "source": [
    "--------------------"
   ]
  },
  {
   "cell_type": "markdown",
   "metadata": {},
   "source": [
    "**Chi-Square Distribution**"
   ]
  },
  {
   "cell_type": "markdown",
   "metadata": {},
   "source": [
    "In probability theory and statistics, the chi-square distribution is the distribution of a sum of the squares of independent standard normal random variables. It is a type of cumulative probability distribution.\n",
    "\n",
    "The shape of a chi-square distribution is determined by the parameter k, which represents the degrees of freedom."
   ]
  },
  {
   "cell_type": "markdown",
   "metadata": {},
   "source": [
    "The shape of a chi-square distribution is determined by the parameter k.\n",
    "\n",
    "The graph below shows examples of chi-square distributions with different values of k.\n",
    "\n",
    "<img src =\"https://www.scribbr.com/wp-content/uploads/2022/05/chi-square-distribution-k-example.webp\" height=\"350\" width=\"350\">"
   ]
  },
  {
   "cell_type": "markdown",
   "metadata": {},
   "source": [
    "<h4 id=\"formula\">Chi-square test statistics (formula)</h4>"
   ]
  },
  {
   "cell_type": "markdown",
   "metadata": {},
   "source": [
    "<table>\n",
    "<thead>\n",
    "<tr>\n",
    "<th style=\"background-color: #f8f7f5;\">Formula</th>\n",
    "<th style=\"background-color: #f8f7f5;\">Explanation</th>\n",
    "</tr>\n",
    "</thead>\n",
    "<tbody>\n",
    "<tr>\n",
    "<td><img decoding=\"async\" src=\"https://www.scribbr.com/wp-content/ql-cache/quicklatex.com-efec96b9b51537cdeb5f96d9bc900eb0_l3.png\" class=\"ql-img-inline-formula quicklatex-auto-format entered lazyloaded\" alt=\" $X^2 = \\sum {\\frac {(O - E)^2}{E}}$\" title=\"Rendered by QuickLaTeX.com\" height=\"27\" width=\"125\" style=\"vertical-align: -6px;\" data-lazy-src=\"https://www.scribbr.com/wp-content/ql-cache/quicklatex.com-efec96b9b51537cdeb5f96d9bc900eb0_l3.png\" data-ll-status=\"loaded\"><noscript><img decoding=\"async\" src=\"https://www.scribbr.com/wp-content/ql-cache/quicklatex.com-efec96b9b51537cdeb5f96d9bc900eb0_l3.png\" class=\"ql-img-inline-formula quicklatex-auto-format\" alt=\" &#36;&#88;&#94;&#50;&#32;&#61;&#32;&#92;&#115;&#117;&#109;&#32;&#123;&#92;&#102;&#114;&#97;&#99;&#32;&#123;&#40;&#79;&#32;&#45;&#32;&#69;&#41;&#94;&#50;&#125;&#123;&#69;&#125;&#125;&#36;\" title=\"Rendered by QuickLaTeX.com\" height=\"27\" width=\"125\" style=\"vertical-align: -6px;\"/></noscript></td>\n",
    "<td>Where<p></p>\n",
    "<ul>\n",
    "<li aria-level=\"1\">X² is the chi-square test statistic</li>\n",
    "<li aria-level=\"1\"><img decoding=\"async\" src=\"https://www.scribbr.com/wp-content/ql-cache/quicklatex.com-b9ec13d50a4575237d8720919d4aff70_l3.png\" class=\"ql-img-inline-formula quicklatex-auto-format entered lazyloaded\" alt=\"$\\sum$\" title=\"Rendered by QuickLaTeX.com\" height=\"19\" width=\"18\" style=\"vertical-align: -5px;\" data-lazy-src=\"https://www.scribbr.com/wp-content/ql-cache/quicklatex.com-b9ec13d50a4575237d8720919d4aff70_l3.png\" data-ll-status=\"loaded\"><noscript><img decoding=\"async\" src=\"https://www.scribbr.com/wp-content/ql-cache/quicklatex.com-b9ec13d50a4575237d8720919d4aff70_l3.png\" class=\"ql-img-inline-formula quicklatex-auto-format\" alt=\"&#36;&#92;&#115;&#117;&#109;&#36;\" title=\"Rendered by QuickLaTeX.com\" height=\"19\" width=\"18\" style=\"vertical-align: -5px;\"/></noscript> is the summation operator (it means “take the sum of”)</li>\n",
    "<li aria-level=\"1\"><img decoding=\"async\" src=\"https://www.scribbr.com/wp-content/ql-cache/quicklatex.com-656305b61337512341ec4aef5fdd41ff_l3.png\" class=\"ql-img-inline-formula quicklatex-auto-format entered lazyloaded\" alt=\"$O$\" title=\"Rendered by QuickLaTeX.com\" height=\"13\" width=\"13\" style=\"vertical-align: 0px;\" data-lazy-src=\"https://www.scribbr.com/wp-content/ql-cache/quicklatex.com-656305b61337512341ec4aef5fdd41ff_l3.png\" data-ll-status=\"loaded\"><noscript><img decoding=\"async\" src=\"https://www.scribbr.com/wp-content/ql-cache/quicklatex.com-656305b61337512341ec4aef5fdd41ff_l3.png\" class=\"ql-img-inline-formula quicklatex-auto-format\" alt=\"&#36;&#79;&#36;\" title=\"Rendered by QuickLaTeX.com\" height=\"13\" width=\"13\" style=\"vertical-align: 0px;\"/></noscript> is the observed frequency</li>\n",
    "<li aria-level=\"1\"><img decoding=\"async\" src=\"https://www.scribbr.com/wp-content/ql-cache/quicklatex.com-05821130b36f6c2821fb3360bf2564a1_l3.png\" class=\"ql-img-inline-formula quicklatex-auto-format entered lazyloaded\" alt=\"$E$\" title=\"Rendered by QuickLaTeX.com\" height=\"13\" width=\"13\" style=\"vertical-align: 0px;\" data-lazy-src=\"https://www.scribbr.com/wp-content/ql-cache/quicklatex.com-05821130b36f6c2821fb3360bf2564a1_l3.png\" data-ll-status=\"loaded\"><noscript><img decoding=\"async\" src=\"https://www.scribbr.com/wp-content/ql-cache/quicklatex.com-05821130b36f6c2821fb3360bf2564a1_l3.png\" class=\"ql-img-inline-formula quicklatex-auto-format\" alt=\"&#36;&#69;&#36;\" title=\"Rendered by QuickLaTeX.com\" height=\"13\" width=\"13\" style=\"vertical-align: 0px;\"/></noscript> is the expected frequency</li>\n",
    "</ul>\n",
    "</td>\n",
    "</tr>\n",
    "</tbody>\n",
    "</table>"
   ]
  },
  {
   "cell_type": "markdown",
   "metadata": {},
   "source": [
    "<h5><b>Properties of chi-square distributions</b></h5>"
   ]
  },
  {
   "cell_type": "markdown",
   "metadata": {},
   "source": [
    "Chi-square distributions start at zero and continue to infinity. The chi-square distribution starts at zero because it describes the sum of squared random variables, and a squared number can’t be negative.\n",
    "\n",
    "The mean (μ) of the chi-square distribution is its degrees of freedom, k. Because the chi-square distribution is right-skewed, the mean is greater than the median and mode. The variance of the chi-square distribution is 2k. \n",
    "\n",
    "**For lower K it is more like Power/Pareto distribution**"
   ]
  },
  {
   "cell_type": "markdown",
   "metadata": {},
   "source": [
    "<caption>Properties of chi-square distributions:</caption>\n",
    "<table>\n",
    "<thead>\n",
    "<tr>\n",
    "<th>Property</th>\n",
    "<th>Value</th>\n",
    "</tr>\n",
    "</thead>\n",
    "<tbody>\n",
    "<tr>\n",
    "<td>Continuous or <a href=\"https://www.scribbr.com/commonly-confused-words/discrete-or-discreet/#meaning\" data-wpel-link=\"internal\">discrete</a></td>\n",
    "<td>Continuous</td>\n",
    "</tr>\n",
    "<tr>\n",
    "<td><a href=\"https://www.scribbr.com/statistics/mean/\" data-wpel-link=\"internal\">Mean</a></td>\n",
    "<td><em>k</em></td>\n",
    "</tr>\n",
    "<tr>\n",
    "<td><a href=\"https://www.scribbr.com/statistics/mode/\" data-wpel-link=\"internal\">Mode</a></td>\n",
    "<td><em>k −</em>&nbsp;2 (when <em>k </em>&gt; 2)</td>\n",
    "</tr>\n",
    "<tr>\n",
    "<td><a href=\"https://www.scribbr.com/statistics/variance/\" data-wpel-link=\"internal\">Variance</a></td>\n",
    "<td>2<em>k&nbsp;</em></td>\n",
    "</tr>\n",
    "<tr>\n",
    "<td><a href=\"https://www.scribbr.com/statistics/standard-deviation/\" data-wpel-link=\"internal\">Standard deviation</a></td>\n",
    "<td><img decoding=\"async\" src=\"https://www.scribbr.com/wp-content/ql-cache/quicklatex.com-facc465f3257f618a186f98467d95115_l3.png\" class=\"ql-img-inline-formula quicklatex-auto-format entered lazyloaded\" alt=\"$\\sqrt{2k}$\" title=\"Rendered by QuickLaTeX.com\" height=\"19\" width=\"35\" style=\"vertical-align: -2px;\" data-lazy-src=\"https://www.scribbr.com/wp-content/ql-cache/quicklatex.com-facc465f3257f618a186f98467d95115_l3.png\" data-ll-status=\"loaded\"><noscript><img decoding=\"async\" src=\"https://www.scribbr.com/wp-content/ql-cache/quicklatex.com-facc465f3257f618a186f98467d95115_l3.png\" class=\"ql-img-inline-formula quicklatex-auto-format\" alt=\"&#36;&#92;&#115;&#113;&#114;&#116;&#123;&#50;&#107;&#125;&#36;\" title=\"Rendered by QuickLaTeX.com\" height=\"19\" width=\"35\" style=\"vertical-align: -2px;\"/></noscript></td>\n",
    "</tr>\n",
    "<tr>\n",
    "<td><a href=\"https://www.scribbr.com/statistics/range/\" data-wpel-link=\"internal\">Range</a></td>\n",
    "<td>0 to ∞</td>\n",
    "</tr>\n",
    "<tr>\n",
    "<td>Symmetry</td>\n",
    "<td>Asymmetrical (<a href=\"https://www.scribbr.com/statistics/skewness/#right-skew\" data-wpel-link=\"internal\">right-skewed</a>), but increasingly symmetrical as <em>k </em>increases.</td>\n",
    "</tr>\n",
    "</tbody>\n",
    "</table>"
   ]
  },
  {
   "cell_type": "markdown",
   "metadata": {},
   "source": [
    "-------------------"
   ]
  },
  {
   "cell_type": "markdown",
   "metadata": {},
   "source": [
    "**F Distribution**\n",
    "\n",
    "The F distribution, also known as the Fisher-Snedecor distribution, is a continuous probability distribution that arises in statistical hypothesis testing. It's characterized by two parameters: degrees of freedom for the numerator (df1) and degrees of freedom for the denominator (df2). The distribution is positively skewed and commonly used in ANOVA and regression analysis.\n",
    "\n",
    "The F-Distribution is a continuous probability distribution that has a non-negative range of values. It is a ratio of two independent chi-square distributions, each divided by their degrees of freedom. The F-Distribution has two parameters, the numerator degrees of freedom (df1) and the denominator degrees of freedom (df2). The probability density function (PDF) of the F-Distribution is given by:\n",
    "\n",
    "Useful in the context of comparing variances of two or more samples"
   ]
  },
  {
   "cell_type": "markdown",
   "metadata": {},
   "source": [
    "The F-Distribution can be derived by taking the ratio of two independent chi-square distributions divided by their degrees of freedom. Let X1 and X2 be two independent chi-square distributed random variables with degrees of freedom df1 and df2, respectively. Then the ratio\n",
    "\n",
    "**F = (X1/df1) / (X2/df2)**\n"
   ]
  },
  {
   "cell_type": "markdown",
   "metadata": {},
   "source": [
    "<b>Probability density function</b>\n",
    "\n",
    "<img src =\"https://upload.wikimedia.org/wikipedia/commons/7/74/F-distribution_pdf.svg\" width=\"450\" height=\"450\">"
   ]
  },
  {
   "cell_type": "markdown",
   "metadata": {},
   "source": [
    "<b>Cumulative distribution function</b>\n",
    "\n",
    "<img src =\"https://upload.wikimedia.org/wikipedia/commons/thumb/8/8e/F_dist_cdf.svg/768px-F_dist_cdf.svg.png\" width=\"450\" height=\"450\">"
   ]
  },
  {
   "cell_type": "markdown",
   "metadata": {},
   "source": []
  }
 ],
 "metadata": {
  "kernelspec": {
   "display_name": "Python 3",
   "language": "python",
   "name": "python3"
  },
  "language_info": {
   "codemirror_mode": {
    "name": "ipython",
    "version": 3
   },
   "file_extension": ".py",
   "mimetype": "text/x-python",
   "name": "python",
   "nbconvert_exporter": "python",
   "pygments_lexer": "ipython3",
   "version": "3.11.8"
  }
 },
 "nbformat": 4,
 "nbformat_minor": 2
}
