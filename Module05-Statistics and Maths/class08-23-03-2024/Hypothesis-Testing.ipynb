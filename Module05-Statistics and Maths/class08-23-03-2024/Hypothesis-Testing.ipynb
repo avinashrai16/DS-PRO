{
 "cells": [
  {
   "cell_type": "markdown",
   "metadata": {},
   "source": [
    "**point estimate and range estimate**\n",
    "In statistics, a point estimate is a single value that represents a best guess of a parameter based on sample data. A range estimate is a range of values that covers a point estimate with a certain level of confidence\n",
    "\n",
    "\n",
    "In statistics, point estimation involves the use of sample data to calculate a single value (known as a point estimate since it identifies a point in some parameter space) which is to serve as a \"best guess\" or \"best estimate\" of an unknown population parameter (for example, the population mean). More formally, it is the application of a point estimator to the data to obtain a point estimate.\n",
    "\n",
    "<img src=\"https://www.statology.org/wp-content/uploads/2021/01/cie2.png\" height=\"250\">"
   ]
  },
  {
   "cell_type": "markdown",
   "metadata": {},
   "source": [
    "<img src=\"https://images.slideplayer.com/26/8340465/slides/slide_4.jpg\" height=\"450\">"
   ]
  },
  {
   "cell_type": "markdown",
   "metadata": {},
   "source": [
    "-----------------"
   ]
  },
  {
   "cell_type": "markdown",
   "metadata": {},
   "source": [
    "**Hypothesis Testing**\n",
    "\n",
    "<b>Hypothesis testing is a statistical method used to determine if there is enough evidence in a sample data to draw conclusions about a population.</b>\n",
    "It involves formulating two competing hypotheses, the null hypothesis (H0) and the alternative hypothesis (Ha), and then collecting data to assess the evidence. \n",
    "<img src=\"https://encrypted-tbn0.gstatic.com/images?q=tbn:ANd9GcTiTYaW_Ligsvx2BxYU8DlFPCHGa8a2T3Cz_SZnRPguFeaUIM_tRQFRhjAsc_Dm2Adoz8U&usqp=CAU\">\n",
    "\n",
    "An example: testing if a new drug improves patient recovery (Ha) compared to the standard treatment (H0) based on collected patient data.\n",
    "\n",
    "Hypothesis testing is a statistical method used to make inferences about a population parameter based on sample data. It involves formulating a hypothesis about the population parameter (null hypothesis and alternative hypothesis), collecting sample data, and using statistical techniques to assess the evidence against the null hypothesis.\n",
    "\n",
    "Inferential statistics, on the other hand, encompasses a broader set of techniques used to draw conclusions or make inferences about a population based on sample data. This includes hypothesis testing, confidence interval estimation, regression analysis, and more. Essentially, inferential statistics aims to generalize findings from a sample to a larger population and quantify the uncertainty associated with those findings."
   ]
  },
  {
   "cell_type": "markdown",
   "metadata": {},
   "source": [
    "Since both are concepts rather than data points to be charted, below provide a visual representation that highlights the relationship between the two:\n",
    "\n",
    "```\n",
    "          Statistical Analysis\n",
    "                |\n",
    "                |\n",
    "       +--------+---------+\n",
    "       |                   |\n",
    " Hypothesis          Inferential\n",
    "  Testing             Statistics\n",
    "                      |\n",
    "        +-------------+--------------+\n",
    "        |                            |\n",
    "  Confidence Interval          Regression\n",
    "      Estimation                Analysis\n",
    "```\n",
    "\n",
    "This diagram illustrates that hypothesis testing is a subset of inferential statistics. Inferential statistics encompasses a broader range of techniques, including hypothesis testing, confidence interval estimation, regression analysis, and more.\n",
    "\n",
    "\n",
    "<b>Hypothesis is a statement(claim,prediction,generic) which can be tested by Scientific method</b>"
   ]
  },
  {
   "cell_type": "markdown",
   "metadata": {},
   "source": [
    "<p>Types of hypothesis testing:</p>\n",
    "\n",
    "<ol>\n",
    "<li><b>One-sample test</b>: Used to compare a sample to a known value or a hypothesized value.</li>\n",
    "<li><b>Two-sample test</b>: Compares two independent samples to assess if there is a significant difference between their means or distributions.</li>\n",
    "<li><b>Paired-sample test</b>: Compares two related samples, such as pre-test and post-test data, to evaluate changes within the same subjects over time or under different conditions.</li>\n",
    "<li><b>Chi-square test</b>: Used to analyze categorical data and determine if there is a significant association between variables.</li>\n",
    "<li><b>ANOVA (Analysis of Variance)</b>: Compares means across multiple groups to check if there is a significant difference between them.</li>\n",
    "</ol>"
   ]
  },
  {
   "cell_type": "markdown",
   "metadata": {},
   "source": [
    "**Types of Hypothesis**"
   ]
  },
  {
   "cell_type": "markdown",
   "metadata": {},
   "source": [
    "<img src =\"https://encrypted-tbn0.gstatic.com/images?q=tbn:ANd9GcTiTYaW_Ligsvx2BxYU8DlFPCHGa8a2T3Cz_SZnRPguFeaUIM_tRQFRhjAsc_Dm2Adoz8U&usqp=CAU\">"
   ]
  },
  {
   "cell_type": "markdown",
   "metadata": {},
   "source": [
    "comparison chart between the Null Hypothesis (H0) and the Alternative Hypothesis (H1):\n",
    "\n",
    "<!DOCTYPE html>\n",
    "<html lang=\"en\">\n",
    "<head>\n",
    "    <meta charset=\"UTF-8\">\n",
    "    <meta name=\"viewport\" content=\"width=device-width, initial-scale=1.0\">\n",
    "    <title>Comparison: Null Hypothesis vs. Alternative Hypothesis</title>\n",
    "    <style>\n",
    "        table {\n",
    "            border-collapse: collapse;\n",
    "            width: 100%;\n",
    "        }\n",
    "        th, td {\n",
    "            border: 1px solid #dddddd;\n",
    "            text-align: left;\n",
    "            padding: 8px;\n",
    "        }\n",
    "        th {\n",
    "            background-color: #f2f2f2;\n",
    "        }\n",
    "    </style>\n",
    "</head>\n",
    "<body>\n",
    "    <h2>Comparison: Null Hypothesis vs. Alternative Hypothesis</h2>\n",
    "    <table>\n",
    "        <tr>\n",
    "            <th>Null Hypothesis (H0)</th>\n",
    "            <th>Alternative Hypothesis (H1)</th>\n",
    "        </tr>\n",
    "        <tr>\n",
    "            <td>Represents the default or status quo assumption.</td>\n",
    "            <td>Proposes a different state of affairs.</td>\n",
    "        </tr>\n",
    "        <tr>\n",
    "            <td>Often assumes no effect, no difference, or no relationship between variables.</td>\n",
    "            <td>States there is an effect, a difference, or a relationship of interest between variables.</td>\n",
    "        </tr>\n",
    "        <tr>\n",
    "            <td>Symbolized as H0.</td>\n",
    "            <td>Symbolized as H1.</td>\n",
    "        </tr>\n",
    "        <tr>\n",
    "            <td>Tested against the sample data to determine if there is sufficient evidence to reject it in favor of the alternative.</td>\n",
    "            <td>Tested against the sample data to determine if there is sufficient evidence to reject it in favor of the alternative.</td>\n",
    "        </tr>\n",
    "        <tr>\n",
    "            <td>Failure to reject H0 implies that there is insufficient evidence to support the alternative hypothesis.</td>\n",
    "            <td>Rejection of H0 implies there is sufficient evidence to support the alternative hypothesis.</td>\n",
    "        </tr>\n",
    "    </table>\n",
    "</body>\n",
    "</html>\n",
    "\n",
    "\n",
    "This chart provides a concise comparison between the Null Hypothesis (H0) and the Alternative Hypothesis (H1), outlining their definitions, roles in hypothesis testing, and implications based on the outcome of the statistical test."
   ]
  },
  {
   "cell_type": "markdown",
   "metadata": {},
   "source": [
    "**Framing of Hypothesis**\n",
    "Commonly, hypothesis statements are framed using the if/then format. This suggests an underlying cause–effect relationship, meaning that one variable influences the other, for example, “If you eat vegetables and fruits daily, then you will develop strong immunity.”\n"
   ]
  },
  {
   "cell_type": "markdown",
   "metadata": {},
   "source": [
    "Which ever statement has equal sign will be take for null hypothesis\n",
    "\n",
    "Ex: Avg. age of employees in a company is greater than 45. Then in this case\n",
    "\n",
    "M > 45 and M<=45 so we will consider M<=45 as null hypothesis\n",
    "\n",
    "**We need to include the central point in order to disprove statement. So we need to add 45 to null hypothesis and hence M<=45 will be considered H0(null hypothesis)**"
   ]
  },
  {
   "cell_type": "markdown",
   "metadata": {},
   "source": []
  }
 ],
 "metadata": {
  "kernelspec": {
   "display_name": "Python 3",
   "language": "python",
   "name": "python3"
  },
  "language_info": {
   "codemirror_mode": {
    "name": "ipython",
    "version": 3
   },
   "file_extension": ".py",
   "mimetype": "text/x-python",
   "name": "python",
   "nbconvert_exporter": "python",
   "pygments_lexer": "ipython3",
   "version": "3.11.8"
  }
 },
 "nbformat": 4,
 "nbformat_minor": 2
}
