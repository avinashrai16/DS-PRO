{
 "cells": [
  {
   "cell_type": "code",
   "execution_count": 2,
   "id": "72fe55df",
   "metadata": {},
   "outputs": [
    {
     "data": {
      "text/plain": [
       "[1, 2, 3, 4, 5]"
      ]
     },
     "execution_count": 2,
     "metadata": {},
     "output_type": "execute_result"
    }
   ],
   "source": [
    "data = [1, 2, 3, 4, 5]\n",
    "data"
   ]
  },
  {
   "cell_type": "code",
   "execution_count": 3,
   "id": "7b8ea3b4",
   "metadata": {},
   "outputs": [],
   "source": [
    "import pandas as pd\n",
    "import numpy as np\n",
    "import seaborn as sns"
   ]
  },
  {
   "cell_type": "code",
   "execution_count": 4,
   "id": "57b821b5",
   "metadata": {},
   "outputs": [
    {
     "data": {
      "text/plain": [
       "3.0"
      ]
     },
     "execution_count": 4,
     "metadata": {},
     "output_type": "execute_result"
    }
   ],
   "source": [
    "#measures of central tendency\n",
    "np.mean(data)"
   ]
  },
  {
   "cell_type": "code",
   "execution_count": 5,
   "id": "db685e2c",
   "metadata": {},
   "outputs": [
    {
     "data": {
      "text/html": [
       "<div>\n",
       "<style scoped>\n",
       "    .dataframe tbody tr th:only-of-type {\n",
       "        vertical-align: middle;\n",
       "    }\n",
       "\n",
       "    .dataframe tbody tr th {\n",
       "        vertical-align: top;\n",
       "    }\n",
       "\n",
       "    .dataframe thead th {\n",
       "        text-align: right;\n",
       "    }\n",
       "</style>\n",
       "<table border=\"1\" class=\"dataframe\">\n",
       "  <thead>\n",
       "    <tr style=\"text-align: right;\">\n",
       "      <th></th>\n",
       "      <th>total_bill</th>\n",
       "      <th>tip</th>\n",
       "      <th>sex</th>\n",
       "      <th>smoker</th>\n",
       "      <th>day</th>\n",
       "      <th>time</th>\n",
       "      <th>size</th>\n",
       "    </tr>\n",
       "  </thead>\n",
       "  <tbody>\n",
       "    <tr>\n",
       "      <th>0</th>\n",
       "      <td>16.99</td>\n",
       "      <td>1.01</td>\n",
       "      <td>Female</td>\n",
       "      <td>No</td>\n",
       "      <td>Sun</td>\n",
       "      <td>Dinner</td>\n",
       "      <td>2</td>\n",
       "    </tr>\n",
       "    <tr>\n",
       "      <th>1</th>\n",
       "      <td>10.34</td>\n",
       "      <td>1.66</td>\n",
       "      <td>Male</td>\n",
       "      <td>No</td>\n",
       "      <td>Sun</td>\n",
       "      <td>Dinner</td>\n",
       "      <td>3</td>\n",
       "    </tr>\n",
       "    <tr>\n",
       "      <th>2</th>\n",
       "      <td>21.01</td>\n",
       "      <td>3.50</td>\n",
       "      <td>Male</td>\n",
       "      <td>No</td>\n",
       "      <td>Sun</td>\n",
       "      <td>Dinner</td>\n",
       "      <td>3</td>\n",
       "    </tr>\n",
       "    <tr>\n",
       "      <th>3</th>\n",
       "      <td>23.68</td>\n",
       "      <td>3.31</td>\n",
       "      <td>Male</td>\n",
       "      <td>No</td>\n",
       "      <td>Sun</td>\n",
       "      <td>Dinner</td>\n",
       "      <td>2</td>\n",
       "    </tr>\n",
       "    <tr>\n",
       "      <th>4</th>\n",
       "      <td>24.59</td>\n",
       "      <td>3.61</td>\n",
       "      <td>Female</td>\n",
       "      <td>No</td>\n",
       "      <td>Sun</td>\n",
       "      <td>Dinner</td>\n",
       "      <td>4</td>\n",
       "    </tr>\n",
       "    <tr>\n",
       "      <th>...</th>\n",
       "      <td>...</td>\n",
       "      <td>...</td>\n",
       "      <td>...</td>\n",
       "      <td>...</td>\n",
       "      <td>...</td>\n",
       "      <td>...</td>\n",
       "      <td>...</td>\n",
       "    </tr>\n",
       "    <tr>\n",
       "      <th>239</th>\n",
       "      <td>29.03</td>\n",
       "      <td>5.92</td>\n",
       "      <td>Male</td>\n",
       "      <td>No</td>\n",
       "      <td>Sat</td>\n",
       "      <td>Dinner</td>\n",
       "      <td>3</td>\n",
       "    </tr>\n",
       "    <tr>\n",
       "      <th>240</th>\n",
       "      <td>27.18</td>\n",
       "      <td>2.00</td>\n",
       "      <td>Female</td>\n",
       "      <td>Yes</td>\n",
       "      <td>Sat</td>\n",
       "      <td>Dinner</td>\n",
       "      <td>2</td>\n",
       "    </tr>\n",
       "    <tr>\n",
       "      <th>241</th>\n",
       "      <td>22.67</td>\n",
       "      <td>2.00</td>\n",
       "      <td>Male</td>\n",
       "      <td>Yes</td>\n",
       "      <td>Sat</td>\n",
       "      <td>Dinner</td>\n",
       "      <td>2</td>\n",
       "    </tr>\n",
       "    <tr>\n",
       "      <th>242</th>\n",
       "      <td>17.82</td>\n",
       "      <td>1.75</td>\n",
       "      <td>Male</td>\n",
       "      <td>No</td>\n",
       "      <td>Sat</td>\n",
       "      <td>Dinner</td>\n",
       "      <td>2</td>\n",
       "    </tr>\n",
       "    <tr>\n",
       "      <th>243</th>\n",
       "      <td>18.78</td>\n",
       "      <td>3.00</td>\n",
       "      <td>Female</td>\n",
       "      <td>No</td>\n",
       "      <td>Thur</td>\n",
       "      <td>Dinner</td>\n",
       "      <td>2</td>\n",
       "    </tr>\n",
       "  </tbody>\n",
       "</table>\n",
       "<p>244 rows × 7 columns</p>\n",
       "</div>"
      ],
      "text/plain": [
       "     total_bill   tip     sex smoker   day    time  size\n",
       "0         16.99  1.01  Female     No   Sun  Dinner     2\n",
       "1         10.34  1.66    Male     No   Sun  Dinner     3\n",
       "2         21.01  3.50    Male     No   Sun  Dinner     3\n",
       "3         23.68  3.31    Male     No   Sun  Dinner     2\n",
       "4         24.59  3.61  Female     No   Sun  Dinner     4\n",
       "..          ...   ...     ...    ...   ...     ...   ...\n",
       "239       29.03  5.92    Male     No   Sat  Dinner     3\n",
       "240       27.18  2.00  Female    Yes   Sat  Dinner     2\n",
       "241       22.67  2.00    Male    Yes   Sat  Dinner     2\n",
       "242       17.82  1.75    Male     No   Sat  Dinner     2\n",
       "243       18.78  3.00  Female     No  Thur  Dinner     2\n",
       "\n",
       "[244 rows x 7 columns]"
      ]
     },
     "execution_count": 5,
     "metadata": {},
     "output_type": "execute_result"
    }
   ],
   "source": [
    "df = sns.load_dataset('tips')\n",
    "df"
   ]
  },
  {
   "cell_type": "code",
   "execution_count": 6,
   "id": "6471883c",
   "metadata": {},
   "outputs": [
    {
     "data": {
      "text/plain": [
       "19.78594262295082"
      ]
     },
     "execution_count": 6,
     "metadata": {},
     "output_type": "execute_result"
    }
   ],
   "source": [
    "np.mean(df['total_bill'])"
   ]
  },
  {
   "cell_type": "code",
   "execution_count": 7,
   "id": "d31663a3",
   "metadata": {},
   "outputs": [
    {
     "data": {
      "text/html": [
       "<div>\n",
       "<style scoped>\n",
       "    .dataframe tbody tr th:only-of-type {\n",
       "        vertical-align: middle;\n",
       "    }\n",
       "\n",
       "    .dataframe tbody tr th {\n",
       "        vertical-align: top;\n",
       "    }\n",
       "\n",
       "    .dataframe thead th {\n",
       "        text-align: right;\n",
       "    }\n",
       "</style>\n",
       "<table border=\"1\" class=\"dataframe\">\n",
       "  <thead>\n",
       "    <tr style=\"text-align: right;\">\n",
       "      <th></th>\n",
       "      <th>total_bill</th>\n",
       "      <th>tip</th>\n",
       "      <th>size</th>\n",
       "    </tr>\n",
       "  </thead>\n",
       "  <tbody>\n",
       "    <tr>\n",
       "      <th>count</th>\n",
       "      <td>244.000000</td>\n",
       "      <td>244.000000</td>\n",
       "      <td>244.000000</td>\n",
       "    </tr>\n",
       "    <tr>\n",
       "      <th>mean</th>\n",
       "      <td>19.785943</td>\n",
       "      <td>2.998279</td>\n",
       "      <td>2.569672</td>\n",
       "    </tr>\n",
       "    <tr>\n",
       "      <th>std</th>\n",
       "      <td>8.902412</td>\n",
       "      <td>1.383638</td>\n",
       "      <td>0.951100</td>\n",
       "    </tr>\n",
       "    <tr>\n",
       "      <th>min</th>\n",
       "      <td>3.070000</td>\n",
       "      <td>1.000000</td>\n",
       "      <td>1.000000</td>\n",
       "    </tr>\n",
       "    <tr>\n",
       "      <th>25%</th>\n",
       "      <td>13.347500</td>\n",
       "      <td>2.000000</td>\n",
       "      <td>2.000000</td>\n",
       "    </tr>\n",
       "    <tr>\n",
       "      <th>50%</th>\n",
       "      <td>17.795000</td>\n",
       "      <td>2.900000</td>\n",
       "      <td>2.000000</td>\n",
       "    </tr>\n",
       "    <tr>\n",
       "      <th>75%</th>\n",
       "      <td>24.127500</td>\n",
       "      <td>3.562500</td>\n",
       "      <td>3.000000</td>\n",
       "    </tr>\n",
       "    <tr>\n",
       "      <th>max</th>\n",
       "      <td>50.810000</td>\n",
       "      <td>10.000000</td>\n",
       "      <td>6.000000</td>\n",
       "    </tr>\n",
       "  </tbody>\n",
       "</table>\n",
       "</div>"
      ],
      "text/plain": [
       "       total_bill         tip        size\n",
       "count  244.000000  244.000000  244.000000\n",
       "mean    19.785943    2.998279    2.569672\n",
       "std      8.902412    1.383638    0.951100\n",
       "min      3.070000    1.000000    1.000000\n",
       "25%     13.347500    2.000000    2.000000\n",
       "50%     17.795000    2.900000    2.000000\n",
       "75%     24.127500    3.562500    3.000000\n",
       "max     50.810000   10.000000    6.000000"
      ]
     },
     "execution_count": 7,
     "metadata": {},
     "output_type": "execute_result"
    }
   ],
   "source": [
    "df.describe()"
   ]
  },
  {
   "cell_type": "code",
   "execution_count": 8,
   "id": "086b1706",
   "metadata": {},
   "outputs": [
    {
     "data": {
      "text/plain": [
       "[1, 2, 3, 4, 5]"
      ]
     },
     "execution_count": 8,
     "metadata": {},
     "output_type": "execute_result"
    }
   ],
   "source": [
    "data"
   ]
  },
  {
   "cell_type": "code",
   "execution_count": 9,
   "id": "9e5dabe3",
   "metadata": {},
   "outputs": [
    {
     "data": {
      "text/plain": [
       "3.0"
      ]
     },
     "execution_count": 9,
     "metadata": {},
     "output_type": "execute_result"
    }
   ],
   "source": [
    "np.median(data)"
   ]
  },
  {
   "cell_type": "code",
   "execution_count": 10,
   "id": "cf7765aa",
   "metadata": {},
   "outputs": [],
   "source": [
    "data = [1, 2, 3, 4, 500]"
   ]
  },
  {
   "cell_type": "code",
   "execution_count": 11,
   "id": "1a4ed9d6",
   "metadata": {},
   "outputs": [
    {
     "data": {
      "text/plain": [
       "102.0"
      ]
     },
     "execution_count": 11,
     "metadata": {},
     "output_type": "execute_result"
    }
   ],
   "source": [
    "np.mean(data)"
   ]
  },
  {
   "cell_type": "code",
   "execution_count": 12,
   "id": "24bf4d33",
   "metadata": {},
   "outputs": [
    {
     "data": {
      "text/plain": [
       "3.0"
      ]
     },
     "execution_count": 12,
     "metadata": {},
     "output_type": "execute_result"
    }
   ],
   "source": [
    "np.median(data)"
   ]
  },
  {
   "cell_type": "code",
   "execution_count": 13,
   "id": "d2dec696",
   "metadata": {},
   "outputs": [],
   "source": [
    "#mean is inflated by outliers but median not"
   ]
  },
  {
   "cell_type": "code",
   "execution_count": 14,
   "id": "e37a4402",
   "metadata": {},
   "outputs": [
    {
     "data": {
      "text/plain": [
       "17.795"
      ]
     },
     "execution_count": 14,
     "metadata": {},
     "output_type": "execute_result"
    }
   ],
   "source": [
    "\n",
    "np.median(df['total_bill'])"
   ]
  },
  {
   "cell_type": "code",
   "execution_count": 15,
   "id": "1a8cce00",
   "metadata": {},
   "outputs": [],
   "source": [
    "data = [1, 2,3, 3, 3, 3, 4, 500]"
   ]
  },
  {
   "cell_type": "code",
   "execution_count": 16,
   "id": "f4e59039",
   "metadata": {},
   "outputs": [
    {
     "data": {
      "text/plain": [
       "[1, 2, 3, 3, 3, 3, 4, 500]"
      ]
     },
     "execution_count": 16,
     "metadata": {},
     "output_type": "execute_result"
    }
   ],
   "source": [
    "data"
   ]
  },
  {
   "cell_type": "code",
   "execution_count": 17,
   "id": "7e31fefd",
   "metadata": {},
   "outputs": [],
   "source": [
    "# np.mode(data)#this will throw error"
   ]
  },
  {
   "cell_type": "code",
   "execution_count": 18,
   "id": "a5d4094a",
   "metadata": {},
   "outputs": [
    {
     "data": {
      "text/plain": [
       "3"
      ]
     },
     "execution_count": 18,
     "metadata": {},
     "output_type": "execute_result"
    }
   ],
   "source": [
    "import statistics\n",
    "statistics.mode(data)"
   ]
  },
  {
   "cell_type": "code",
   "execution_count": 19,
   "id": "ee73bdbb",
   "metadata": {},
   "outputs": [
    {
     "data": {
      "text/plain": [
       "[1, 2, 3, 3, 3, 3, 4, 500]"
      ]
     },
     "execution_count": 19,
     "metadata": {},
     "output_type": "execute_result"
    }
   ],
   "source": [
    "data"
   ]
  },
  {
   "cell_type": "code",
   "execution_count": 20,
   "id": "d3a29630",
   "metadata": {},
   "outputs": [
    {
     "data": {
      "text/plain": [
       "array([2.75])"
      ]
     },
     "execution_count": 20,
     "metadata": {},
     "output_type": "execute_result"
    }
   ],
   "source": [
    "np.percentile(data, [25]) #25 percentage of the data is below 2.75"
   ]
  },
  {
   "cell_type": "code",
   "execution_count": 21,
   "id": "41c40458",
   "metadata": {},
   "outputs": [
    {
     "data": {
      "text/plain": [
       "array([  2.75,   3.  ,   3.25, 326.4 , 361.12, 395.84, 430.56, 465.28,\n",
       "       500.  ])"
      ]
     },
     "execution_count": 21,
     "metadata": {},
     "output_type": "execute_result"
    }
   ],
   "source": [
    "np.percentile(data, [25, 50, 75, 95, 96, 97, 98, 99, 100])"
   ]
  },
  {
   "cell_type": "code",
   "execution_count": 22,
   "id": "775dd4af",
   "metadata": {},
   "outputs": [
    {
     "data": {
      "text/plain": [
       "[1, 2, 3, 3, 3, 3, 4, 500]"
      ]
     },
     "execution_count": 22,
     "metadata": {},
     "output_type": "execute_result"
    }
   ],
   "source": [
    "data"
   ]
  },
  {
   "cell_type": "code",
   "execution_count": 23,
   "id": "e38e30af",
   "metadata": {},
   "outputs": [],
   "source": [
    "data.append(-500)"
   ]
  },
  {
   "cell_type": "code",
   "execution_count": 24,
   "id": "fd9e9c4d",
   "metadata": {},
   "outputs": [],
   "source": [
    "data = [1, 2, 3, 3, 3, 3, 4, 20, -20]"
   ]
  },
  {
   "cell_type": "code",
   "execution_count": 25,
   "id": "1e25a47f",
   "metadata": {},
   "outputs": [],
   "source": [
    "#outliers"
   ]
  },
  {
   "cell_type": "code",
   "execution_count": 26,
   "id": "4860716c",
   "metadata": {},
   "outputs": [
    {
     "data": {
      "text/plain": [
       "<Axes: >"
      ]
     },
     "execution_count": 26,
     "metadata": {},
     "output_type": "execute_result"
    },
    {
     "data": {
      "image/png": "[encoded data removed]",
      "text/plain": [
       "<Figure size 640x480 with 1 Axes>"
      ]
     },
     "metadata": {},
     "output_type": "display_data"
    }
   ],
   "source": [
    "sns.boxplot(data)"
   ]
  },
  {
   "cell_type": "code",
   "execution_count": 27,
   "id": "89c285ba",
   "metadata": {},
   "outputs": [
    {
     "data": {
      "text/plain": [
       "[1, 2, 3, 3, 3, 3, 4, 20, -20]"
      ]
     },
     "execution_count": 27,
     "metadata": {},
     "output_type": "execute_result"
    }
   ],
   "source": [
    "#measures of dispersion\n",
    "data"
   ]
  },
  {
   "cell_type": "code",
   "execution_count": 28,
   "id": "97568cf0",
   "metadata": {},
   "outputs": [
    {
     "data": {
      "text/plain": [
       "90.76543209876543"
      ]
     },
     "execution_count": 28,
     "metadata": {},
     "output_type": "execute_result"
    }
   ],
   "source": [
    "np.var(data)"
   ]
  },
  {
   "cell_type": "code",
   "execution_count": 29,
   "id": "c4b52180",
   "metadata": {},
   "outputs": [
    {
     "data": {
      "text/plain": [
       "9.527089382322673"
      ]
     },
     "execution_count": 29,
     "metadata": {},
     "output_type": "execute_result"
    }
   ],
   "source": [
    "np.std(data)"
   ]
  },
  {
   "cell_type": "code",
   "execution_count": 30,
   "id": "c71e1dc3",
   "metadata": {},
   "outputs": [
    {
     "data": {
      "text/plain": [
       "102.11111111111111"
      ]
     },
     "execution_count": 30,
     "metadata": {},
     "output_type": "execute_result"
    }
   ],
   "source": [
    "statistics.variance(data) #sample variance (n-1)"
   ]
  },
  {
   "cell_type": "code",
   "execution_count": 31,
   "id": "466c56e7",
   "metadata": {},
   "outputs": [
    {
     "data": {
      "text/plain": [
       "90.76543209876543"
      ]
     },
     "execution_count": 31,
     "metadata": {},
     "output_type": "execute_result"
    }
   ],
   "source": [
    "statistics.pvariance(data) #population variance"
   ]
  },
  {
   "cell_type": "code",
   "execution_count": 32,
   "id": "c753eedb",
   "metadata": {},
   "outputs": [
    {
     "data": {
      "text/plain": [
       "10.105004260816079"
      ]
     },
     "execution_count": 32,
     "metadata": {},
     "output_type": "execute_result"
    }
   ],
   "source": [
    "import math\n",
    "math.sqrt(statistics.variance(data))"
   ]
  },
  {
   "cell_type": "code",
   "execution_count": 33,
   "id": "b228c990",
   "metadata": {},
   "outputs": [
    {
     "data": {
      "text/plain": [
       "[1, 2, 3, 3, 3, 3, 4, 20, -20]"
      ]
     },
     "execution_count": 33,
     "metadata": {},
     "output_type": "execute_result"
    }
   ],
   "source": [
    "data"
   ]
  },
  {
   "cell_type": "code",
   "execution_count": 34,
   "id": "562c9097",
   "metadata": {},
   "outputs": [
    {
     "data": {
      "text/plain": [
       "9"
      ]
     },
     "execution_count": 34,
     "metadata": {},
     "output_type": "execute_result"
    }
   ],
   "source": [
    "len(data)"
   ]
  },
  {
   "cell_type": "code",
   "execution_count": 35,
   "id": "ea32ca8c",
   "metadata": {},
   "outputs": [
    {
     "data": {
      "text/html": [
       "<div>\n",
       "<style scoped>\n",
       "    .dataframe tbody tr th:only-of-type {\n",
       "        vertical-align: middle;\n",
       "    }\n",
       "\n",
       "    .dataframe tbody tr th {\n",
       "        vertical-align: top;\n",
       "    }\n",
       "\n",
       "    .dataframe thead th {\n",
       "        text-align: right;\n",
       "    }\n",
       "</style>\n",
       "<table border=\"1\" class=\"dataframe\">\n",
       "  <thead>\n",
       "    <tr style=\"text-align: right;\">\n",
       "      <th></th>\n",
       "      <th>total_bill</th>\n",
       "      <th>tip</th>\n",
       "      <th>sex</th>\n",
       "      <th>smoker</th>\n",
       "      <th>day</th>\n",
       "      <th>time</th>\n",
       "      <th>size</th>\n",
       "    </tr>\n",
       "  </thead>\n",
       "  <tbody>\n",
       "    <tr>\n",
       "      <th>0</th>\n",
       "      <td>16.99</td>\n",
       "      <td>1.01</td>\n",
       "      <td>Female</td>\n",
       "      <td>No</td>\n",
       "      <td>Sun</td>\n",
       "      <td>Dinner</td>\n",
       "      <td>2</td>\n",
       "    </tr>\n",
       "    <tr>\n",
       "      <th>1</th>\n",
       "      <td>10.34</td>\n",
       "      <td>1.66</td>\n",
       "      <td>Male</td>\n",
       "      <td>No</td>\n",
       "      <td>Sun</td>\n",
       "      <td>Dinner</td>\n",
       "      <td>3</td>\n",
       "    </tr>\n",
       "    <tr>\n",
       "      <th>2</th>\n",
       "      <td>21.01</td>\n",
       "      <td>3.50</td>\n",
       "      <td>Male</td>\n",
       "      <td>No</td>\n",
       "      <td>Sun</td>\n",
       "      <td>Dinner</td>\n",
       "      <td>3</td>\n",
       "    </tr>\n",
       "    <tr>\n",
       "      <th>3</th>\n",
       "      <td>23.68</td>\n",
       "      <td>3.31</td>\n",
       "      <td>Male</td>\n",
       "      <td>No</td>\n",
       "      <td>Sun</td>\n",
       "      <td>Dinner</td>\n",
       "      <td>2</td>\n",
       "    </tr>\n",
       "    <tr>\n",
       "      <th>4</th>\n",
       "      <td>24.59</td>\n",
       "      <td>3.61</td>\n",
       "      <td>Female</td>\n",
       "      <td>No</td>\n",
       "      <td>Sun</td>\n",
       "      <td>Dinner</td>\n",
       "      <td>4</td>\n",
       "    </tr>\n",
       "    <tr>\n",
       "      <th>...</th>\n",
       "      <td>...</td>\n",
       "      <td>...</td>\n",
       "      <td>...</td>\n",
       "      <td>...</td>\n",
       "      <td>...</td>\n",
       "      <td>...</td>\n",
       "      <td>...</td>\n",
       "    </tr>\n",
       "    <tr>\n",
       "      <th>239</th>\n",
       "      <td>29.03</td>\n",
       "      <td>5.92</td>\n",
       "      <td>Male</td>\n",
       "      <td>No</td>\n",
       "      <td>Sat</td>\n",
       "      <td>Dinner</td>\n",
       "      <td>3</td>\n",
       "    </tr>\n",
       "    <tr>\n",
       "      <th>240</th>\n",
       "      <td>27.18</td>\n",
       "      <td>2.00</td>\n",
       "      <td>Female</td>\n",
       "      <td>Yes</td>\n",
       "      <td>Sat</td>\n",
       "      <td>Dinner</td>\n",
       "      <td>2</td>\n",
       "    </tr>\n",
       "    <tr>\n",
       "      <th>241</th>\n",
       "      <td>22.67</td>\n",
       "      <td>2.00</td>\n",
       "      <td>Male</td>\n",
       "      <td>Yes</td>\n",
       "      <td>Sat</td>\n",
       "      <td>Dinner</td>\n",
       "      <td>2</td>\n",
       "    </tr>\n",
       "    <tr>\n",
       "      <th>242</th>\n",
       "      <td>17.82</td>\n",
       "      <td>1.75</td>\n",
       "      <td>Male</td>\n",
       "      <td>No</td>\n",
       "      <td>Sat</td>\n",
       "      <td>Dinner</td>\n",
       "      <td>2</td>\n",
       "    </tr>\n",
       "    <tr>\n",
       "      <th>243</th>\n",
       "      <td>18.78</td>\n",
       "      <td>3.00</td>\n",
       "      <td>Female</td>\n",
       "      <td>No</td>\n",
       "      <td>Thur</td>\n",
       "      <td>Dinner</td>\n",
       "      <td>2</td>\n",
       "    </tr>\n",
       "  </tbody>\n",
       "</table>\n",
       "<p>244 rows × 7 columns</p>\n",
       "</div>"
      ],
      "text/plain": [
       "     total_bill   tip     sex smoker   day    time  size\n",
       "0         16.99  1.01  Female     No   Sun  Dinner     2\n",
       "1         10.34  1.66    Male     No   Sun  Dinner     3\n",
       "2         21.01  3.50    Male     No   Sun  Dinner     3\n",
       "3         23.68  3.31    Male     No   Sun  Dinner     2\n",
       "4         24.59  3.61  Female     No   Sun  Dinner     4\n",
       "..          ...   ...     ...    ...   ...     ...   ...\n",
       "239       29.03  5.92    Male     No   Sat  Dinner     3\n",
       "240       27.18  2.00  Female    Yes   Sat  Dinner     2\n",
       "241       22.67  2.00    Male    Yes   Sat  Dinner     2\n",
       "242       17.82  1.75    Male     No   Sat  Dinner     2\n",
       "243       18.78  3.00  Female     No  Thur  Dinner     2\n",
       "\n",
       "[244 rows x 7 columns]"
      ]
     },
     "execution_count": 35,
     "metadata": {},
     "output_type": "execute_result"
    }
   ],
   "source": [
    "df"
   ]
  },
  {
   "cell_type": "code",
   "execution_count": 36,
   "id": "c26e159b",
   "metadata": {},
   "outputs": [
    {
     "data": {
      "text/html": [
       "<div>\n",
       "<style scoped>\n",
       "    .dataframe tbody tr th:only-of-type {\n",
       "        vertical-align: middle;\n",
       "    }\n",
       "\n",
       "    .dataframe tbody tr th {\n",
       "        vertical-align: top;\n",
       "    }\n",
       "\n",
       "    .dataframe thead th {\n",
       "        text-align: right;\n",
       "    }\n",
       "</style>\n",
       "<table border=\"1\" class=\"dataframe\">\n",
       "  <thead>\n",
       "    <tr style=\"text-align: right;\">\n",
       "      <th></th>\n",
       "      <th>total_bill</th>\n",
       "      <th>tip</th>\n",
       "      <th>sex</th>\n",
       "      <th>smoker</th>\n",
       "      <th>day</th>\n",
       "      <th>time</th>\n",
       "      <th>size</th>\n",
       "    </tr>\n",
       "  </thead>\n",
       "  <tbody>\n",
       "    <tr>\n",
       "      <th>0</th>\n",
       "      <td>16.99</td>\n",
       "      <td>1.01</td>\n",
       "      <td>Female</td>\n",
       "      <td>No</td>\n",
       "      <td>Sun</td>\n",
       "      <td>Dinner</td>\n",
       "      <td>2</td>\n",
       "    </tr>\n",
       "    <tr>\n",
       "      <th>1</th>\n",
       "      <td>10.34</td>\n",
       "      <td>1.66</td>\n",
       "      <td>Male</td>\n",
       "      <td>No</td>\n",
       "      <td>Sun</td>\n",
       "      <td>Dinner</td>\n",
       "      <td>3</td>\n",
       "    </tr>\n",
       "    <tr>\n",
       "      <th>2</th>\n",
       "      <td>21.01</td>\n",
       "      <td>3.50</td>\n",
       "      <td>Male</td>\n",
       "      <td>No</td>\n",
       "      <td>Sun</td>\n",
       "      <td>Dinner</td>\n",
       "      <td>3</td>\n",
       "    </tr>\n",
       "    <tr>\n",
       "      <th>3</th>\n",
       "      <td>23.68</td>\n",
       "      <td>3.31</td>\n",
       "      <td>Male</td>\n",
       "      <td>No</td>\n",
       "      <td>Sun</td>\n",
       "      <td>Dinner</td>\n",
       "      <td>2</td>\n",
       "    </tr>\n",
       "    <tr>\n",
       "      <th>4</th>\n",
       "      <td>24.59</td>\n",
       "      <td>3.61</td>\n",
       "      <td>Female</td>\n",
       "      <td>No</td>\n",
       "      <td>Sun</td>\n",
       "      <td>Dinner</td>\n",
       "      <td>4</td>\n",
       "    </tr>\n",
       "    <tr>\n",
       "      <th>...</th>\n",
       "      <td>...</td>\n",
       "      <td>...</td>\n",
       "      <td>...</td>\n",
       "      <td>...</td>\n",
       "      <td>...</td>\n",
       "      <td>...</td>\n",
       "      <td>...</td>\n",
       "    </tr>\n",
       "    <tr>\n",
       "      <th>239</th>\n",
       "      <td>29.03</td>\n",
       "      <td>5.92</td>\n",
       "      <td>Male</td>\n",
       "      <td>No</td>\n",
       "      <td>Sat</td>\n",
       "      <td>Dinner</td>\n",
       "      <td>3</td>\n",
       "    </tr>\n",
       "    <tr>\n",
       "      <th>240</th>\n",
       "      <td>27.18</td>\n",
       "      <td>2.00</td>\n",
       "      <td>Female</td>\n",
       "      <td>Yes</td>\n",
       "      <td>Sat</td>\n",
       "      <td>Dinner</td>\n",
       "      <td>2</td>\n",
       "    </tr>\n",
       "    <tr>\n",
       "      <th>241</th>\n",
       "      <td>22.67</td>\n",
       "      <td>2.00</td>\n",
       "      <td>Male</td>\n",
       "      <td>Yes</td>\n",
       "      <td>Sat</td>\n",
       "      <td>Dinner</td>\n",
       "      <td>2</td>\n",
       "    </tr>\n",
       "    <tr>\n",
       "      <th>242</th>\n",
       "      <td>17.82</td>\n",
       "      <td>1.75</td>\n",
       "      <td>Male</td>\n",
       "      <td>No</td>\n",
       "      <td>Sat</td>\n",
       "      <td>Dinner</td>\n",
       "      <td>2</td>\n",
       "    </tr>\n",
       "    <tr>\n",
       "      <th>243</th>\n",
       "      <td>18.78</td>\n",
       "      <td>3.00</td>\n",
       "      <td>Female</td>\n",
       "      <td>No</td>\n",
       "      <td>Thur</td>\n",
       "      <td>Dinner</td>\n",
       "      <td>2</td>\n",
       "    </tr>\n",
       "  </tbody>\n",
       "</table>\n",
       "<p>244 rows × 7 columns</p>\n",
       "</div>"
      ],
      "text/plain": [
       "     total_bill   tip     sex smoker   day    time  size\n",
       "0         16.99  1.01  Female     No   Sun  Dinner     2\n",
       "1         10.34  1.66    Male     No   Sun  Dinner     3\n",
       "2         21.01  3.50    Male     No   Sun  Dinner     3\n",
       "3         23.68  3.31    Male     No   Sun  Dinner     2\n",
       "4         24.59  3.61  Female     No   Sun  Dinner     4\n",
       "..          ...   ...     ...    ...   ...     ...   ...\n",
       "239       29.03  5.92    Male     No   Sat  Dinner     3\n",
       "240       27.18  2.00  Female    Yes   Sat  Dinner     2\n",
       "241       22.67  2.00    Male    Yes   Sat  Dinner     2\n",
       "242       17.82  1.75    Male     No   Sat  Dinner     2\n",
       "243       18.78  3.00  Female     No  Thur  Dinner     2\n",
       "\n",
       "[244 rows x 7 columns]"
      ]
     },
     "execution_count": 36,
     "metadata": {},
     "output_type": "execute_result"
    }
   ],
   "source": [
    "#how to know the relationship between two features\n",
    "#correlation and covariance\n",
    "\n",
    "df"
   ]
  },
  {
   "cell_type": "code",
   "execution_count": 37,
   "id": "d2b155d7",
   "metadata": {},
   "outputs": [],
   "source": [
    "corr = df[['total_bill', 'tip', 'size']].corr()"
   ]
  },
  {
   "cell_type": "code",
   "execution_count": 38,
   "id": "22a9ae8f",
   "metadata": {},
   "outputs": [
    {
     "data": {
      "text/html": [
       "<div>\n",
       "<style scoped>\n",
       "    .dataframe tbody tr th:only-of-type {\n",
       "        vertical-align: middle;\n",
       "    }\n",
       "\n",
       "    .dataframe tbody tr th {\n",
       "        vertical-align: top;\n",
       "    }\n",
       "\n",
       "    .dataframe thead th {\n",
       "        text-align: right;\n",
       "    }\n",
       "</style>\n",
       "<table border=\"1\" class=\"dataframe\">\n",
       "  <thead>\n",
       "    <tr style=\"text-align: right;\">\n",
       "      <th></th>\n",
       "      <th>total_bill</th>\n",
       "      <th>tip</th>\n",
       "      <th>size</th>\n",
       "    </tr>\n",
       "  </thead>\n",
       "  <tbody>\n",
       "    <tr>\n",
       "      <th>total_bill</th>\n",
       "      <td>1.000000</td>\n",
       "      <td>0.675734</td>\n",
       "      <td>0.598315</td>\n",
       "    </tr>\n",
       "    <tr>\n",
       "      <th>tip</th>\n",
       "      <td>0.675734</td>\n",
       "      <td>1.000000</td>\n",
       "      <td>0.489299</td>\n",
       "    </tr>\n",
       "    <tr>\n",
       "      <th>size</th>\n",
       "      <td>0.598315</td>\n",
       "      <td>0.489299</td>\n",
       "      <td>1.000000</td>\n",
       "    </tr>\n",
       "  </tbody>\n",
       "</table>\n",
       "</div>"
      ],
      "text/plain": [
       "            total_bill       tip      size\n",
       "total_bill    1.000000  0.675734  0.598315\n",
       "tip           0.675734  1.000000  0.489299\n",
       "size          0.598315  0.489299  1.000000"
      ]
     },
     "execution_count": 38,
     "metadata": {},
     "output_type": "execute_result"
    }
   ],
   "source": [
    "corr"
   ]
  },
  {
   "cell_type": "code",
   "execution_count": 39,
   "id": "310663ef",
   "metadata": {},
   "outputs": [
    {
     "data": {
      "text/html": [
       "<div>\n",
       "<style scoped>\n",
       "    .dataframe tbody tr th:only-of-type {\n",
       "        vertical-align: middle;\n",
       "    }\n",
       "\n",
       "    .dataframe tbody tr th {\n",
       "        vertical-align: top;\n",
       "    }\n",
       "\n",
       "    .dataframe thead th {\n",
       "        text-align: right;\n",
       "    }\n",
       "</style>\n",
       "<table border=\"1\" class=\"dataframe\">\n",
       "  <thead>\n",
       "    <tr style=\"text-align: right;\">\n",
       "      <th></th>\n",
       "      <th>total_bill</th>\n",
       "      <th>tip</th>\n",
       "      <th>size</th>\n",
       "    </tr>\n",
       "  </thead>\n",
       "  <tbody>\n",
       "    <tr>\n",
       "      <th>total_bill</th>\n",
       "      <td>1.000000</td>\n",
       "      <td>0.675734</td>\n",
       "      <td>0.598315</td>\n",
       "    </tr>\n",
       "    <tr>\n",
       "      <th>tip</th>\n",
       "      <td>0.675734</td>\n",
       "      <td>1.000000</td>\n",
       "      <td>0.489299</td>\n",
       "    </tr>\n",
       "    <tr>\n",
       "      <th>size</th>\n",
       "      <td>0.598315</td>\n",
       "      <td>0.489299</td>\n",
       "      <td>1.000000</td>\n",
       "    </tr>\n",
       "  </tbody>\n",
       "</table>\n",
       "</div>"
      ],
      "text/plain": [
       "            total_bill       tip      size\n",
       "total_bill    1.000000  0.675734  0.598315\n",
       "tip           0.675734  1.000000  0.489299\n",
       "size          0.598315  0.489299  1.000000"
      ]
     },
     "execution_count": 39,
     "metadata": {},
     "output_type": "execute_result"
    }
   ],
   "source": [
    "df.corr(numeric_only = True)"
   ]
  },
  {
   "cell_type": "code",
   "execution_count": 40,
   "id": "1787cc7b",
   "metadata": {},
   "outputs": [],
   "source": [
    "#if there is one unit increase in total bill then there is 67 percent chance that tip will increase in tip"
   ]
  },
  {
   "cell_type": "code",
   "execution_count": 41,
   "id": "f8207c34",
   "metadata": {},
   "outputs": [
    {
     "data": {
      "text/plain": [
       "<Axes: >"
      ]
     },
     "execution_count": 41,
     "metadata": {},
     "output_type": "execute_result"
    },
    {
     "data": {
      "image/png": "[encoded data removed]",
      "text/plain": [
       "<Figure size 640x480 with 2 Axes>"
      ]
     },
     "metadata": {},
     "output_type": "display_data"
    }
   ],
   "source": [
    "sns.heatmap(corr, annot = True)"
   ]
  },
  {
   "cell_type": "code",
   "execution_count": 42,
   "id": "2ea35248",
   "metadata": {},
   "outputs": [
    {
     "data": {
      "text/html": [
       "<div>\n",
       "<style scoped>\n",
       "    .dataframe tbody tr th:only-of-type {\n",
       "        vertical-align: middle;\n",
       "    }\n",
       "\n",
       "    .dataframe tbody tr th {\n",
       "        vertical-align: top;\n",
       "    }\n",
       "\n",
       "    .dataframe thead th {\n",
       "        text-align: right;\n",
       "    }\n",
       "</style>\n",
       "<table border=\"1\" class=\"dataframe\">\n",
       "  <thead>\n",
       "    <tr style=\"text-align: right;\">\n",
       "      <th></th>\n",
       "      <th>total_bill</th>\n",
       "      <th>tip</th>\n",
       "      <th>size</th>\n",
       "    </tr>\n",
       "  </thead>\n",
       "  <tbody>\n",
       "    <tr>\n",
       "      <th>total_bill</th>\n",
       "      <td>79.252939</td>\n",
       "      <td>8.323502</td>\n",
       "      <td>5.065983</td>\n",
       "    </tr>\n",
       "    <tr>\n",
       "      <th>tip</th>\n",
       "      <td>8.323502</td>\n",
       "      <td>1.914455</td>\n",
       "      <td>0.643906</td>\n",
       "    </tr>\n",
       "    <tr>\n",
       "      <th>size</th>\n",
       "      <td>5.065983</td>\n",
       "      <td>0.643906</td>\n",
       "      <td>0.904591</td>\n",
       "    </tr>\n",
       "  </tbody>\n",
       "</table>\n",
       "</div>"
      ],
      "text/plain": [
       "            total_bill       tip      size\n",
       "total_bill   79.252939  8.323502  5.065983\n",
       "tip           8.323502  1.914455  0.643906\n",
       "size          5.065983  0.643906  0.904591"
      ]
     },
     "execution_count": 42,
     "metadata": {},
     "output_type": "execute_result"
    }
   ],
   "source": [
    "df.cov(numeric_only = True)"
   ]
  },
  {
   "cell_type": "code",
   "execution_count": 43,
   "id": "5ea4aa91",
   "metadata": {},
   "outputs": [
    {
     "data": {
      "text/plain": [
       "<seaborn.axisgrid.PairGrid at 0x1ba2ab73990>"
      ]
     },
     "execution_count": 43,
     "metadata": {},
     "output_type": "execute_result"
    },
    {
     "data": {
      "image/png": "[encoded data removed]",
      "text/plain": [
       "<Figure size 750x750 with 12 Axes>"
      ]
     },
     "metadata": {},
     "output_type": "display_data"
    }
   ],
   "source": [
    "sns.pairplot(df)"
   ]
  },
  {
   "cell_type": "code",
   "execution_count": 44,
   "id": "9653a641",
   "metadata": {},
   "outputs": [
    {
     "data": {
      "text/plain": [
       "<Axes: ylabel='Count'>"
      ]
     },
     "execution_count": 44,
     "metadata": {},
     "output_type": "execute_result"
    },
    {
     "data": {
      "image/png": "[encoded data removed]",
      "text/plain": [
       "<Figure size 640x480 with 1 Axes>"
      ]
     },
     "metadata": {},
     "output_type": "display_data"
    }
   ],
   "source": [
    "sns.histplot(data, kde = True)"
   ]
  },
  {
   "cell_type": "code",
   "execution_count": 45,
   "id": "3e147148",
   "metadata": {},
   "outputs": [
    {
     "data": {
      "text/plain": [
       "<Axes: xlabel='total_bill', ylabel='Count'>"
      ]
     },
     "execution_count": 45,
     "metadata": {},
     "output_type": "execute_result"
    },
    {
     "data": {
      "image/png": "[encoded data removed]",
      "text/plain": [
       "<Figure size 640x480 with 1 Axes>"
      ]
     },
     "metadata": {},
     "output_type": "display_data"
    }
   ],
   "source": [
    "sns.histplot(df['total_bill'], kde = True)"
   ]
  },
  {
   "cell_type": "code",
   "execution_count": 46,
   "id": "6d9b8cd7",
   "metadata": {},
   "outputs": [],
   "source": [
    "data1 = np.random.normal(0.5, 0.2, 1000)"
   ]
  },
  {
   "cell_type": "code",
   "execution_count": 47,
   "id": "34502d02",
   "metadata": {},
   "outputs": [
    {
     "name": "stderr",
     "output_type": "stream",
     "text": [
      "C:\\Users\\avina\\AppData\\Local\\Temp\\ipykernel_6548\\1727590720.py:1: UserWarning: \n",
      "\n",
      "`distplot` is a deprecated function and will be removed in seaborn v0.14.0.\n",
      "\n",
      "Please adapt your code to use either `displot` (a figure-level function with\n",
      "similar flexibility) or `histplot` (an axes-level function for histograms).\n",
      "\n",
      "For a guide to updating your code to use the new functions, please see\n",
      "https://gist.github.com/mwaskom/de44147ed2974457ad6372750bbe5751\n",
      "\n",
      "  sns.distplot(data1)\n"
     ]
    },
    {
     "data": {
      "text/plain": [
       "<Axes: ylabel='Density'>"
      ]
     },
     "execution_count": 47,
     "metadata": {},
     "output_type": "execute_result"
    },
    {
     "data": {
      "image/png": "[encoded data removed]",
      "text/plain": [
       "<Figure size 640x480 with 1 Axes>"
      ]
     },
     "metadata": {},
     "output_type": "display_data"
    }
   ],
   "source": [
    "sns.distplot(data1)"
   ]
  },
  {
   "cell_type": "code",
   "execution_count": 48,
   "id": "0350f83f",
   "metadata": {},
   "outputs": [],
   "source": [
    "population = np.random.randint(10, 20, 50)"
   ]
  },
  {
   "cell_type": "code",
   "execution_count": 49,
   "id": "b38bb1d5",
   "metadata": {},
   "outputs": [
    {
     "data": {
      "text/plain": [
       "array([12, 13, 13, 11, 14, 18, 19, 12, 12, 11, 14, 17, 12, 16, 19, 19, 17,\n",
       "       11, 12, 18, 17, 15, 10, 15, 16, 19, 12, 14, 19, 17, 14, 10, 12, 11,\n",
       "       14, 17, 14, 14, 12, 12, 14, 18, 18, 13, 11, 11, 17, 10, 19, 12])"
      ]
     },
     "execution_count": 49,
     "metadata": {},
     "output_type": "execute_result"
    }
   ],
   "source": [
    "population"
   ]
  },
  {
   "cell_type": "code",
   "execution_count": 50,
   "id": "6b99b411",
   "metadata": {},
   "outputs": [
    {
     "data": {
      "text/plain": [
       "50"
      ]
     },
     "execution_count": 50,
     "metadata": {},
     "output_type": "execute_result"
    }
   ],
   "source": [
    "len(population)"
   ]
  },
  {
   "cell_type": "code",
   "execution_count": 51,
   "id": "0266a7c6",
   "metadata": {},
   "outputs": [
    {
     "data": {
      "text/plain": [
       "12"
      ]
     },
     "execution_count": 51,
     "metadata": {},
     "output_type": "execute_result"
    }
   ],
   "source": [
    "statistics.mode(population)"
   ]
  },
  {
   "cell_type": "code",
   "execution_count": 52,
   "id": "2c5f5f50",
   "metadata": {},
   "outputs": [
    {
     "data": {
      "text/plain": [
       "14.34"
      ]
     },
     "execution_count": 52,
     "metadata": {},
     "output_type": "execute_result"
    }
   ],
   "source": [
    "np.mean(population)"
   ]
  },
  {
   "cell_type": "code",
   "execution_count": 53,
   "id": "127fda38",
   "metadata": {},
   "outputs": [],
   "source": [
    "sample1 = np.random.choice(population, 20)\n",
    "sample2 = np.random.choice(population, 20)\n",
    "sample3 = np.random.choice(population, 20)\n",
    "sample4 = np.random.choice(population, 20)"
   ]
  },
  {
   "cell_type": "code",
   "execution_count": 54,
   "id": "afc85ab2",
   "metadata": {},
   "outputs": [
    {
     "data": {
      "text/plain": [
       "array([17, 14, 18, 11, 11, 15, 17, 14, 14, 12, 14, 17, 19, 16, 17, 10, 12,\n",
       "       12, 19, 14])"
      ]
     },
     "execution_count": 54,
     "metadata": {},
     "output_type": "execute_result"
    }
   ],
   "source": [
    "sample1"
   ]
  },
  {
   "cell_type": "code",
   "execution_count": 55,
   "id": "2f7aa1d5",
   "metadata": {},
   "outputs": [
    {
     "data": {
      "text/plain": [
       "array([16, 17, 19, 12, 12, 14, 10, 12, 14, 12, 10, 13, 12, 17, 17, 14, 18,\n",
       "       15, 17, 16])"
      ]
     },
     "execution_count": 55,
     "metadata": {},
     "output_type": "execute_result"
    }
   ],
   "source": [
    "sample2"
   ]
  },
  {
   "cell_type": "code",
   "execution_count": 56,
   "id": "b1d18f48",
   "metadata": {},
   "outputs": [],
   "source": [
    "mean_of_samples = []\n",
    "all_samples = [sample1, sample2, sample3, sample4]\n",
    "\n",
    "for sample in all_samples:\n",
    "    mean_of_samples.append(np.mean(sample))"
   ]
  },
  {
   "cell_type": "code",
   "execution_count": 57,
   "id": "191a5cc8",
   "metadata": {},
   "outputs": [
    {
     "data": {
      "text/plain": [
       "[14.65, 14.35, 13.85, 13.5]"
      ]
     },
     "execution_count": 57,
     "metadata": {},
     "output_type": "execute_result"
    }
   ],
   "source": [
    "mean_of_samples"
   ]
  },
  {
   "cell_type": "code",
   "execution_count": 58,
   "id": "56086d09",
   "metadata": {},
   "outputs": [],
   "source": [
    "#central limit theorem >> for any distribution the sample mean will be approximated to normal distribution given sample size >= 30 and no of samples should be sufficiently large"
   ]
  },
  {
   "cell_type": "code",
   "execution_count": 59,
   "id": "95ffe906",
   "metadata": {},
   "outputs": [],
   "source": [
    "population = np.random.binomial(10, 0.5, 10000)"
   ]
  },
  {
   "cell_type": "code",
   "execution_count": 60,
   "id": "7bd7a32c",
   "metadata": {},
   "outputs": [
    {
     "data": {
      "text/plain": [
       "array([3, 3, 7, ..., 1, 7, 4])"
      ]
     },
     "execution_count": 60,
     "metadata": {},
     "output_type": "execute_result"
    }
   ],
   "source": [
    "population"
   ]
  },
  {
   "cell_type": "code",
   "execution_count": 61,
   "id": "e475259e",
   "metadata": {},
   "outputs": [
    {
     "name": "stderr",
     "output_type": "stream",
     "text": [
      "C:\\Users\\avina\\AppData\\Local\\Temp\\ipykernel_6548\\2958836585.py:1: UserWarning: \n",
      "\n",
      "`distplot` is a deprecated function and will be removed in seaborn v0.14.0.\n",
      "\n",
      "Please adapt your code to use either `displot` (a figure-level function with\n",
      "similar flexibility) or `histplot` (an axes-level function for histograms).\n",
      "\n",
      "For a guide to updating your code to use the new functions, please see\n",
      "https://gist.github.com/mwaskom/de44147ed2974457ad6372750bbe5751\n",
      "\n",
      "  sns.distplot(population)\n"
     ]
    },
    {
     "data": {
      "text/plain": [
       "<Axes: ylabel='Density'>"
      ]
     },
     "execution_count": 61,
     "metadata": {},
     "output_type": "execute_result"
    },
    {
     "data": {
      "image/png": "[encoded data removed]",
      "text/plain": [
       "<Figure size 640x480 with 1 Axes>"
      ]
     },
     "metadata": {},
     "output_type": "display_data"
    }
   ],
   "source": [
    "sns.distplot(population)"
   ]
  },
  {
   "cell_type": "code",
   "execution_count": 62,
   "id": "ee489359",
   "metadata": {},
   "outputs": [],
   "source": [
    "sample_size = 3000\n",
    "\n",
    "mean_of_samples = []\n",
    "\n",
    "for i in range(1, 10000):\n",
    "    sample = np.random.choice(population, size = sample_size)\n",
    "    mean_of_samples.append(np.mean(sample))\n"
   ]
  },
  {
   "cell_type": "code",
   "execution_count": 63,
   "id": "8f936d08",
   "metadata": {},
   "outputs": [
    {
     "name": "stderr",
     "output_type": "stream",
     "text": [
      "C:\\Users\\avina\\AppData\\Local\\Temp\\ipykernel_6548\\1517309143.py:1: UserWarning: \n",
      "\n",
      "`distplot` is a deprecated function and will be removed in seaborn v0.14.0.\n",
      "\n",
      "Please adapt your code to use either `displot` (a figure-level function with\n",
      "similar flexibility) or `histplot` (an axes-level function for histograms).\n",
      "\n",
      "For a guide to updating your code to use the new functions, please see\n",
      "https://gist.github.com/mwaskom/de44147ed2974457ad6372750bbe5751\n",
      "\n",
      "  sns.distplot(mean_of_samples, kde = True, color = 'red')\n"
     ]
    },
    {
     "data": {
      "text/plain": [
       "<Axes: ylabel='Density'>"
      ]
     },
     "execution_count": 63,
     "metadata": {},
     "output_type": "execute_result"
    },
    {
     "data": {
      "image/png": "[encoded data removed]",
      "text/plain": [
       "<Figure size 640x480 with 1 Axes>"
      ]
     },
     "metadata": {},
     "output_type": "display_data"
    }
   ],
   "source": [
    "sns.distplot(mean_of_samples, kde = True, color = 'red')"
   ]
  },
  {
   "cell_type": "code",
   "execution_count": 64,
   "id": "37f64042",
   "metadata": {},
   "outputs": [
    {
     "data": {
      "text/plain": [
       "5.010966663333"
      ]
     },
     "execution_count": 64,
     "metadata": {},
     "output_type": "execute_result"
    }
   ],
   "source": [
    "np.mean(mean_of_samples)"
   ]
  },
  {
   "cell_type": "code",
   "execution_count": 65,
   "id": "56aee12a",
   "metadata": {},
   "outputs": [
    {
     "data": {
      "text/plain": [
       "5.010666666666666"
      ]
     },
     "execution_count": 65,
     "metadata": {},
     "output_type": "execute_result"
    }
   ],
   "source": [
    "np.median(mean_of_samples)"
   ]
  },
  {
   "cell_type": "code",
   "execution_count": 66,
   "id": "c47b6764",
   "metadata": {},
   "outputs": [
    {
     "data": {
      "text/plain": [
       "5.011666666666667"
      ]
     },
     "execution_count": 66,
     "metadata": {},
     "output_type": "execute_result"
    }
   ],
   "source": [
    "statistics.mode(mean_of_samples)"
   ]
  },
  {
   "cell_type": "code",
   "execution_count": 67,
   "id": "51878552",
   "metadata": {},
   "outputs": [],
   "source": [
    "#hence mean=median=mode\n",
    "\n",
    "\n",
    "import scipy.stats as stats"
   ]
  },
  {
   "cell_type": "code",
   "execution_count": 68,
   "id": "ce810364",
   "metadata": {},
   "outputs": [
    {
     "data": {
      "text/plain": [
       "[5.008333333333334,\n",
       " 5.027666666666667,\n",
       " 4.985666666666667,\n",
       " 5.0343333333333335,\n",
       " 5.028333333333333,\n",
       " 5.024,\n",
       " 5.002666666666666,\n",
       " 4.978666666666666,\n",
       " 4.992,\n",
       " 5.036666666666667,\n",
       " 4.992666666666667,\n",
       " 5.024,\n",
       " 5.081333333333333,\n",
       " 4.983666666666666,\n",
       " 5.021,\n",
       " 5.025666666666667,\n",
       " 4.987,\n",
       " 4.984666666666667,\n",
       " 5.003,\n",
       " 4.9816666666666665,\n",
       " 5.052,\n",
       " 5.039666666666666,\n",
       " 4.940666666666667,\n",
       " 5.027666666666667,\n",
       " 5.004,\n",
       " 5.036666666666667,\n",
       " 4.990333333333333,\n",
       " 4.970666666666666,\n",
       " 4.983666666666666,\n",
       " 4.998333333333333,\n",
       " 5.025,\n",
       " 5.0023333333333335,\n",
       " 5.019666666666667,\n",
       " 4.9543333333333335,\n",
       " 5.05,\n",
       " 5.061,\n",
       " 5.000333333333334,\n",
       " 5.027333333333333,\n",
       " 4.9656666666666665,\n",
       " 4.996333333333333,\n",
       " 5.014333333333333,\n",
       " 5.051666666666667,\n",
       " 5.015666666666666,\n",
       " 5.0183333333333335,\n",
       " 5.008333333333334,\n",
       " 5.041333333333333,\n",
       " 5.025333333333333,\n",
       " 5.063,\n",
       " 5.1033333333333335,\n",
       " 5.024333333333334,\n",
       " 5.033,\n",
       " 5.006333333333333,\n",
       " 5.006,\n",
       " 4.9943333333333335,\n",
       " 5.026666666666666,\n",
       " 5.016666666666667,\n",
       " 5.017666666666667,\n",
       " 4.995,\n",
       " 5.036666666666667,\n",
       " 5.0103333333333335,\n",
       " 4.988666666666667,\n",
       " 4.964666666666667,\n",
       " 4.986666666666666,\n",
       " 5.0103333333333335,\n",
       " 5.035333333333333,\n",
       " 5.003333333333333,\n",
       " 4.993666666666667,\n",
       " 5.06,\n",
       " 4.978,\n",
       " 4.999333333333333,\n",
       " 5.019666666666667,\n",
       " 5.054,\n",
       " 5.02,\n",
       " 5.041,\n",
       " 5.012666666666667,\n",
       " 5.016,\n",
       " 5.042,\n",
       " 5.017,\n",
       " 5.018,\n",
       " 5.011333333333333,\n",
       " 5.059333333333333,\n",
       " 5.028,\n",
       " 4.966666666666667,\n",
       " 4.98,\n",
       " 4.993333333333333,\n",
       " 4.983,\n",
       " 5.042,\n",
       " 5.003666666666667,\n",
       " 4.987666666666667,\n",
       " 5.002,\n",
       " 5.048,\n",
       " 4.98,\n",
       " 4.958,\n",
       " 5.016666666666667,\n",
       " 5.038333333333333,\n",
       " 4.982333333333333,\n",
       " 5.011333333333333,\n",
       " 4.971333333333333,\n",
       " 4.987333333333333,\n",
       " 4.991,\n",
       " 5.008333333333334,\n",
       " 5.055666666666666,\n",
       " 5.029333333333334,\n",
       " 5.009666666666667,\n",
       " 5.028,\n",
       " 4.996,\n",
       " 5.07,\n",
       " 4.999,\n",
       " 4.993,\n",
       " 5.002,\n",
       " 5.022,\n",
       " 5.0216666666666665,\n",
       " 4.993,\n",
       " 5.006666666666667,\n",
       " 4.948666666666667,\n",
       " 5.056333333333333,\n",
       " 5.007,\n",
       " 5.0473333333333334,\n",
       " 5.015666666666666,\n",
       " 5.0023333333333335,\n",
       " 4.954666666666666,\n",
       " 5.054666666666667,\n",
       " 5.011666666666667,\n",
       " 5.033333333333333,\n",
       " 4.996666666666667,\n",
       " 4.968666666666667,\n",
       " 4.982,\n",
       " 5.002,\n",
       " 5.012,\n",
       " 5.012,\n",
       " 5.050666666666666,\n",
       " 5.005,\n",
       " 4.9943333333333335,\n",
       " 4.984666666666667,\n",
       " 5.0103333333333335,\n",
       " 5.037,\n",
       " 5.006333333333333,\n",
       " 5.019,\n",
       " 4.980333333333333,\n",
       " 5.054,\n",
       " 5.029333333333334,\n",
       " 5.012333333333333,\n",
       " 5.028333333333333,\n",
       " 5.060666666666667,\n",
       " 5.012,\n",
       " 5.039,\n",
       " 5.010666666666666,\n",
       " 4.9896666666666665,\n",
       " 5.031,\n",
       " 5.057666666666667,\n",
       " 4.964333333333333,\n",
       " 4.987666666666667,\n",
       " 5.017333333333333,\n",
       " 5.022,\n",
       " 5.025,\n",
       " 5.028333333333333,\n",
       " 5.006666666666667,\n",
       " 5.01,\n",
       " 5.003666666666667,\n",
       " 4.974333333333333,\n",
       " 4.999333333333333,\n",
       " 5.016,\n",
       " 5.048333333333333,\n",
       " 4.998666666666667,\n",
       " 5.014666666666667,\n",
       " 5.011,\n",
       " 5.015333333333333,\n",
       " 4.983333333333333,\n",
       " 4.987333333333333,\n",
       " 4.995666666666667,\n",
       " 5.037,\n",
       " 5.052666666666667,\n",
       " 5.000666666666667,\n",
       " 5.046666666666667,\n",
       " 4.985666666666667,\n",
       " 5.031,\n",
       " 4.962666666666666,\n",
       " 5.025666666666667,\n",
       " 5.038666666666667,\n",
       " 5.005,\n",
       " 4.997,\n",
       " 5.0023333333333335,\n",
       " 5.023666666666666,\n",
       " 4.990333333333333,\n",
       " 5.027666666666667,\n",
       " 5.033,\n",
       " 5.005,\n",
       " 5.005333333333334,\n",
       " 5.003333333333333,\n",
       " 4.979,\n",
       " 5.045333333333334,\n",
       " 4.998,\n",
       " 5.037,\n",
       " 4.9976666666666665,\n",
       " 5.027333333333333,\n",
       " 4.982666666666667,\n",
       " 5.023,\n",
       " 5.049,\n",
       " 5.043666666666667,\n",
       " 4.989333333333334,\n",
       " 5.06,\n",
       " 4.985,\n",
       " 5.058,\n",
       " 5.040333333333334,\n",
       " 5.015666666666666,\n",
       " 5.0103333333333335,\n",
       " 5.021333333333334,\n",
       " 4.975,\n",
       " 4.985333333333333,\n",
       " 5.072,\n",
       " 5.011333333333333,\n",
       " 5.056333333333333,\n",
       " 4.988666666666667,\n",
       " 5.001333333333333,\n",
       " 5.02,\n",
       " 4.941,\n",
       " 4.984,\n",
       " 4.999,\n",
       " 5.004,\n",
       " 5.008,\n",
       " 5.029333333333334,\n",
       " 5.022,\n",
       " 4.983333333333333,\n",
       " 5.001666666666667,\n",
       " 4.977333333333333,\n",
       " 5.032666666666667,\n",
       " 4.973,\n",
       " 5.056666666666667,\n",
       " 5.009,\n",
       " 4.979666666666667,\n",
       " 5.019666666666667,\n",
       " 5.018666666666666,\n",
       " 5.034,\n",
       " 4.997,\n",
       " 4.967666666666666,\n",
       " 5.03,\n",
       " 5.015666666666666,\n",
       " 4.991333333333333,\n",
       " 5.017,\n",
       " 4.989,\n",
       " 5.014666666666667,\n",
       " 5.023666666666666,\n",
       " 5.007333333333333,\n",
       " 5.049,\n",
       " 5.016,\n",
       " 4.993,\n",
       " 4.961666666666667,\n",
       " 5.039,\n",
       " 4.964,\n",
       " 4.998333333333333,\n",
       " 4.9896666666666665,\n",
       " 5.014,\n",
       " 5.084333333333333,\n",
       " 5.035333333333333,\n",
       " 5.0376666666666665,\n",
       " 5.034666666666666,\n",
       " 4.988666666666667,\n",
       " 4.974333333333333,\n",
       " 5.013,\n",
       " 4.958,\n",
       " 5.0103333333333335,\n",
       " 5.019333333333333,\n",
       " 4.995333333333333,\n",
       " 5.023,\n",
       " 5.004,\n",
       " 4.952,\n",
       " 4.979666666666667,\n",
       " 5.022333333333333,\n",
       " 4.975,\n",
       " 5.004333333333333,\n",
       " 5.000666666666667,\n",
       " 4.992,\n",
       " 5.022333333333333,\n",
       " 4.995666666666667,\n",
       " 4.964333333333333,\n",
       " 5.037,\n",
       " 5.009666666666667,\n",
       " 5.005333333333334,\n",
       " 4.982,\n",
       " 5.0343333333333335,\n",
       " 5.002666666666666,\n",
       " 5.006666666666667,\n",
       " 5.032333333333334,\n",
       " 5.037,\n",
       " 5.042666666666666,\n",
       " 4.9943333333333335,\n",
       " 4.947333333333333,\n",
       " 5.007666666666666,\n",
       " 5.058,\n",
       " 4.981,\n",
       " 5.025,\n",
       " 5.023333333333333,\n",
       " 5.033,\n",
       " 5.023,\n",
       " 5.041,\n",
       " 5.068,\n",
       " 4.979,\n",
       " 5.0216666666666665,\n",
       " 4.984666666666667,\n",
       " 4.986,\n",
       " 4.984,\n",
       " 5.016666666666667,\n",
       " 5.055666666666666,\n",
       " 4.982666666666667,\n",
       " 5.01,\n",
       " 4.996333333333333,\n",
       " 5.037333333333334,\n",
       " 4.98,\n",
       " 4.943666666666667,\n",
       " 4.919666666666667,\n",
       " 5.002666666666666,\n",
       " 5.029333333333334,\n",
       " 5.001666666666667,\n",
       " 4.987666666666667,\n",
       " 5.009666666666667,\n",
       " 5.0296666666666665,\n",
       " 5.009666666666667,\n",
       " 5.030333333333333,\n",
       " 5.042333333333334,\n",
       " 5.003666666666667,\n",
       " 5.023333333333333,\n",
       " 4.976,\n",
       " 4.988333333333333,\n",
       " 4.9896666666666665,\n",
       " 5.022666666666667,\n",
       " 4.958666666666667,\n",
       " 4.995333333333333,\n",
       " 5.012333333333333,\n",
       " 5.009,\n",
       " 4.991666666666666,\n",
       " 5.019666666666667,\n",
       " 5.020666666666667,\n",
       " 5.050666666666666,\n",
       " 5.011333333333333,\n",
       " 5.064333333333333,\n",
       " 5.044666666666667,\n",
       " 5.013333333333334,\n",
       " 5.011333333333333,\n",
       " 5.047,\n",
       " 5.024,\n",
       " 5.039666666666666,\n",
       " 5.002666666666666,\n",
       " 4.9656666666666665,\n",
       " 4.999666666666666,\n",
       " 4.999333333333333,\n",
       " 5.016666666666667,\n",
       " 5.029333333333334,\n",
       " 4.989333333333334,\n",
       " 4.9943333333333335,\n",
       " 5.041,\n",
       " 5.014333333333333,\n",
       " 5.01,\n",
       " 5.040333333333334,\n",
       " 5.009,\n",
       " 5.031333333333333,\n",
       " 5.013,\n",
       " 5.014,\n",
       " 5.056666666666667,\n",
       " 4.993,\n",
       " 5.015666666666666,\n",
       " 4.977666666666667,\n",
       " 5.040333333333334,\n",
       " 5.042,\n",
       " 4.994666666666666,\n",
       " 4.9703333333333335,\n",
       " 4.984,\n",
       " 4.986666666666666,\n",
       " 4.987,\n",
       " 4.956,\n",
       " 4.995666666666667,\n",
       " 4.958,\n",
       " 4.971,\n",
       " 4.961,\n",
       " 4.989,\n",
       " 5.0633333333333335,\n",
       " 5.045,\n",
       " 4.989,\n",
       " 5.020333333333333,\n",
       " 5.029333333333334,\n",
       " 5.009333333333333,\n",
       " 5.029,\n",
       " 5.042333333333334,\n",
       " 5.011,\n",
       " 5.05,\n",
       " 4.9976666666666665,\n",
       " 4.968666666666667,\n",
       " 4.991666666666666,\n",
       " 5.011333333333333,\n",
       " 5.015,\n",
       " 4.971333333333333,\n",
       " 5.022,\n",
       " 5.087,\n",
       " 5.061333333333334,\n",
       " 5.0136666666666665,\n",
       " 4.958333333333333,\n",
       " 4.963666666666667,\n",
       " 4.978666666666666,\n",
       " 4.992333333333334,\n",
       " 5.004666666666667,\n",
       " 4.9816666666666665,\n",
       " 4.980666666666667,\n",
       " 5.031,\n",
       " 5.038333333333333,\n",
       " 4.992,\n",
       " 5.0296666666666665,\n",
       " 5.022666666666667,\n",
       " 4.960333333333334,\n",
       " 5.020666666666667,\n",
       " 5.027333333333333,\n",
       " 4.966333333333333,\n",
       " 5.007,\n",
       " 5.007666666666666,\n",
       " 5.02,\n",
       " 5.050666666666666,\n",
       " 5.007666666666666,\n",
       " 5.022666666666667,\n",
       " 4.998666666666667,\n",
       " 4.998,\n",
       " 5.016333333333334,\n",
       " 5.021,\n",
       " 4.991,\n",
       " 5.0023333333333335,\n",
       " 5.017666666666667,\n",
       " 4.979,\n",
       " 5.039,\n",
       " 4.987666666666667,\n",
       " 5.041666666666667,\n",
       " 5.000333333333334,\n",
       " 5.021,\n",
       " 4.978666666666666,\n",
       " 4.969333333333333,\n",
       " 5.03,\n",
       " 4.9943333333333335,\n",
       " 5.012333333333333,\n",
       " 5.0376666666666665,\n",
       " 5.023666666666666,\n",
       " 5.01,\n",
       " 4.98,\n",
       " 5.007666666666666,\n",
       " 5.0553333333333335,\n",
       " 5.012,\n",
       " 5.006,\n",
       " 5.054333333333333,\n",
       " 5.018,\n",
       " 5.017,\n",
       " 5.076666666666667,\n",
       " 5.005,\n",
       " 5.006333333333333,\n",
       " 4.949333333333334,\n",
       " 5.011666666666667,\n",
       " 4.993333333333333,\n",
       " 5.007,\n",
       " 4.9816666666666665,\n",
       " 5.003666666666667,\n",
       " 4.9863333333333335,\n",
       " 5.026666666666666,\n",
       " 4.985,\n",
       " 5.021,\n",
       " 5.030333333333333,\n",
       " 5.036666666666667,\n",
       " 5.022666666666667,\n",
       " 5.091666666666667,\n",
       " 4.984666666666667,\n",
       " 5.065333333333333,\n",
       " 5.008,\n",
       " 5.007,\n",
       " 4.983,\n",
       " 5.015666666666666,\n",
       " 5.050333333333334,\n",
       " 5.011333333333333,\n",
       " 4.97,\n",
       " 4.9703333333333335,\n",
       " 4.950333333333333,\n",
       " 5.035666666666667,\n",
       " 4.982333333333333,\n",
       " 5.044,\n",
       " 4.962,\n",
       " 5.007,\n",
       " 5.027666666666667,\n",
       " 4.966333333333333,\n",
       " 5.055666666666666,\n",
       " 5.040333333333334,\n",
       " 5.038333333333333,\n",
       " 5.013,\n",
       " 5.042666666666666,\n",
       " 4.957333333333334,\n",
       " 5.028666666666667,\n",
       " 4.999666666666666,\n",
       " 4.975333333333333,\n",
       " 5.0263333333333335,\n",
       " 5.057333333333333,\n",
       " 5.036666666666667,\n",
       " 5.009,\n",
       " 4.975333333333333,\n",
       " 4.967666666666666,\n",
       " 4.987666666666667,\n",
       " 5.065,\n",
       " 5.023333333333333,\n",
       " 5.082333333333334,\n",
       " 5.032333333333334,\n",
       " 4.945333333333333,\n",
       " 5.035333333333333,\n",
       " 5.0136666666666665,\n",
       " 5.000333333333334,\n",
       " 4.997333333333334,\n",
       " 4.998,\n",
       " 5.0023333333333335,\n",
       " 4.988,\n",
       " 4.966666666666667,\n",
       " 5.003666666666667,\n",
       " 5.006666666666667,\n",
       " 5.029,\n",
       " 5.015333333333333,\n",
       " 5.012333333333333,\n",
       " 5.011,\n",
       " 5.025,\n",
       " 5.0023333333333335,\n",
       " 5.084333333333333,\n",
       " 5.020666666666667,\n",
       " 4.982666666666667,\n",
       " 4.984666666666667,\n",
       " 4.981,\n",
       " 5.012333333333333,\n",
       " 4.992333333333334,\n",
       " 4.986666666666666,\n",
       " 4.972,\n",
       " 5.057,\n",
       " 5.032333333333334,\n",
       " 4.991333333333333,\n",
       " 4.9816666666666665,\n",
       " 5.019,\n",
       " 5.02,\n",
       " 5.018,\n",
       " 5.037333333333334,\n",
       " 5.062666666666667,\n",
       " 5.035,\n",
       " 5.031,\n",
       " 4.99,\n",
       " 5.007666666666666,\n",
       " 5.028333333333333,\n",
       " 5.048,\n",
       " 5.069333333333334,\n",
       " 5.037333333333334,\n",
       " 5.010666666666666,\n",
       " 4.995666666666667,\n",
       " 4.993333333333333,\n",
       " 4.974666666666667,\n",
       " 5.071,\n",
       " 5.059666666666667,\n",
       " 5.048333333333333,\n",
       " 5.040666666666667,\n",
       " 5.033,\n",
       " 5.0056666666666665,\n",
       " 4.982,\n",
       " 4.990333333333333,\n",
       " 5.033333333333333,\n",
       " 5.074,\n",
       " 5.060666666666667,\n",
       " 5.036666666666667,\n",
       " 5.055666666666666,\n",
       " 5.039666666666666,\n",
       " 5.025666666666667,\n",
       " 4.9816666666666665,\n",
       " 5.014666666666667,\n",
       " 5.007666666666666,\n",
       " 5.014666666666667,\n",
       " 5.048666666666667,\n",
       " 5.032333333333334,\n",
       " 5.062333333333333,\n",
       " 5.059,\n",
       " 5.004666666666667,\n",
       " 5.011666666666667,\n",
       " 4.986666666666666,\n",
       " 5.022333333333333,\n",
       " 5.004666666666667,\n",
       " 5.002,\n",
       " 5.024,\n",
       " 5.0183333333333335,\n",
       " 5.014333333333333,\n",
       " 5.022666666666667,\n",
       " 5.033333333333333,\n",
       " 4.944,\n",
       " 5.0023333333333335,\n",
       " 5.042666666666666,\n",
       " 5.052,\n",
       " 4.962666666666666,\n",
       " 5.084333333333333,\n",
       " 5.047666666666666,\n",
       " 4.998,\n",
       " 4.962,\n",
       " 5.016333333333334,\n",
       " 4.96,\n",
       " 5.028333333333333,\n",
       " 5.0296666666666665,\n",
       " 4.969333333333333,\n",
       " 5.011666666666667,\n",
       " 4.984666666666667,\n",
       " 5.014666666666667,\n",
       " 5.008,\n",
       " 4.966333333333333,\n",
       " 5.048666666666667,\n",
       " 4.981333333333334,\n",
       " 5.053,\n",
       " 4.994666666666666,\n",
       " 5.0136666666666665,\n",
       " 5.008,\n",
       " 5.003666666666667,\n",
       " 5.022666666666667,\n",
       " 5.004333333333333,\n",
       " 4.959666666666666,\n",
       " 5.063,\n",
       " 5.017,\n",
       " 5.018,\n",
       " 5.015333333333333,\n",
       " 5.029,\n",
       " 5.0456666666666665,\n",
       " 4.982333333333333,\n",
       " 5.0023333333333335,\n",
       " 4.9816666666666665,\n",
       " 5.004,\n",
       " 5.035666666666667,\n",
       " 5.016333333333334,\n",
       " 4.979,\n",
       " 4.999333333333333,\n",
       " 5.039,\n",
       " 5.062,\n",
       " 5.025666666666667,\n",
       " 4.999333333333333,\n",
       " 5.039333333333333,\n",
       " 5.042333333333334,\n",
       " 4.988333333333333,\n",
       " 4.958333333333333,\n",
       " 5.013,\n",
       " 4.961666666666667,\n",
       " 4.984333333333334,\n",
       " 5.031333333333333,\n",
       " 4.999333333333333,\n",
       " 5.043,\n",
       " 5.035333333333333,\n",
       " 4.983,\n",
       " 5.0263333333333335,\n",
       " 5.01,\n",
       " 4.994,\n",
       " 5.031,\n",
       " 5.039,\n",
       " 4.980333333333333,\n",
       " 4.988333333333333,\n",
       " 4.998666666666667,\n",
       " 5.022666666666667,\n",
       " 4.982,\n",
       " 5.008666666666667,\n",
       " 5.001333333333333,\n",
       " 5.046666666666667,\n",
       " 5.030666666666667,\n",
       " 4.9816666666666665,\n",
       " 4.986666666666666,\n",
       " 4.997,\n",
       " 5.053,\n",
       " 4.983,\n",
       " 5.0136666666666665,\n",
       " 5.025,\n",
       " 5.048333333333333,\n",
       " 4.961333333333333,\n",
       " 5.004,\n",
       " 4.995333333333333,\n",
       " 5.016333333333334,\n",
       " 5.024666666666667,\n",
       " 5.014333333333333,\n",
       " 5.024333333333334,\n",
       " 5.001666666666667,\n",
       " 5.024,\n",
       " 4.958,\n",
       " 4.960333333333334,\n",
       " 5.004333333333333,\n",
       " 5.014666666666667,\n",
       " 4.9863333333333335,\n",
       " 4.993333333333333,\n",
       " 4.996666666666667,\n",
       " 5.017333333333333,\n",
       " 5.050666666666666,\n",
       " 5.004,\n",
       " 5.039333333333333,\n",
       " 5.045333333333334,\n",
       " 5.016,\n",
       " 5.000333333333334,\n",
       " 5.001,\n",
       " 5.000333333333334,\n",
       " 5.013,\n",
       " 5.0183333333333335,\n",
       " 5.022,\n",
       " 5.008333333333334,\n",
       " 5.007,\n",
       " 5.029333333333334,\n",
       " 5.0343333333333335,\n",
       " 5.027,\n",
       " 4.979666666666667,\n",
       " 4.993666666666667,\n",
       " 5.000666666666667,\n",
       " 5.039333333333333,\n",
       " 4.999666666666666,\n",
       " 5.022,\n",
       " 4.989,\n",
       " 4.949333333333334,\n",
       " 5.039,\n",
       " 4.9703333333333335,\n",
       " 4.991333333333333,\n",
       " 5.017333333333333,\n",
       " 5.008,\n",
       " 5.022666666666667,\n",
       " 5.007333333333333,\n",
       " 5.013,\n",
       " 5.005,\n",
       " 4.992,\n",
       " 5.035,\n",
       " 5.012,\n",
       " 5.020333333333333,\n",
       " 5.025,\n",
       " 5.014333333333333,\n",
       " 5.013,\n",
       " 4.951,\n",
       " 4.974,\n",
       " 4.993666666666667,\n",
       " 4.995333333333333,\n",
       " 5.023666666666666,\n",
       " 4.992333333333334,\n",
       " 5.026,\n",
       " 5.003333333333333,\n",
       " 5.0,\n",
       " 4.985,\n",
       " 4.977333333333333,\n",
       " 4.963666666666667,\n",
       " 5.041,\n",
       " 5.013333333333334,\n",
       " 5.0473333333333334,\n",
       " 4.961,\n",
       " 4.987333333333333,\n",
       " 4.985666666666667,\n",
       " 5.036333333333333,\n",
       " 5.054,\n",
       " 5.003,\n",
       " 4.996333333333333,\n",
       " 5.025333333333333,\n",
       " 5.017,\n",
       " 5.057333333333333,\n",
       " 5.016,\n",
       " 5.056,\n",
       " 5.012,\n",
       " 5.030666666666667,\n",
       " 4.948,\n",
       " 5.026666666666666,\n",
       " 4.972666666666667,\n",
       " 5.018,\n",
       " 4.999333333333333,\n",
       " 4.999333333333333,\n",
       " 5.014,\n",
       " 5.016333333333334,\n",
       " 5.028,\n",
       " 4.9976666666666665,\n",
       " 5.035333333333333,\n",
       " 5.031666666666666,\n",
       " 5.091666666666667,\n",
       " 4.998,\n",
       " 5.01,\n",
       " 5.001,\n",
       " 5.000333333333334,\n",
       " 5.008333333333334,\n",
       " 4.972666666666667,\n",
       " 5.030333333333333,\n",
       " 5.007666666666666,\n",
       " 5.056666666666667,\n",
       " 4.96,\n",
       " 5.009666666666667,\n",
       " 5.017,\n",
       " 5.006,\n",
       " 5.050333333333334,\n",
       " 5.044666666666667,\n",
       " 5.024,\n",
       " 5.011666666666667,\n",
       " 5.011333333333333,\n",
       " 4.991666666666666,\n",
       " 5.041333333333333,\n",
       " 5.002,\n",
       " 5.026666666666666,\n",
       " 5.019666666666667,\n",
       " 4.997333333333334,\n",
       " 4.961,\n",
       " 5.019,\n",
       " 5.073,\n",
       " 5.038,\n",
       " 5.067333333333333,\n",
       " 5.039,\n",
       " 4.965333333333334,\n",
       " 4.971,\n",
       " 5.038666666666667,\n",
       " 4.978,\n",
       " 4.973333333333334,\n",
       " 4.978,\n",
       " 5.086666666666667,\n",
       " 4.976666666666667,\n",
       " 5.0,\n",
       " 5.015666666666666,\n",
       " 5.067666666666667,\n",
       " 4.94,\n",
       " 4.987,\n",
       " 5.044666666666667,\n",
       " 4.990666666666667,\n",
       " 5.012666666666667,\n",
       " 5.005,\n",
       " 5.040666666666667,\n",
       " 4.988,\n",
       " 4.984666666666667,\n",
       " 5.039333333333333,\n",
       " 4.965333333333334,\n",
       " 4.983666666666666,\n",
       " 4.992666666666667,\n",
       " 4.978666666666666,\n",
       " 5.008,\n",
       " 4.998666666666667,\n",
       " 4.973,\n",
       " 5.024666666666667,\n",
       " 5.002,\n",
       " 5.033,\n",
       " 5.038666666666667,\n",
       " 4.988666666666667,\n",
       " 4.921666666666667,\n",
       " 5.065666666666667,\n",
       " 5.076333333333333,\n",
       " 5.007333333333333,\n",
       " 5.006666666666667,\n",
       " 4.967,\n",
       " 4.979666666666667,\n",
       " 5.011333333333333,\n",
       " 5.015666666666666,\n",
       " 4.981,\n",
       " 4.965333333333334,\n",
       " 5.008666666666667,\n",
       " 5.0263333333333335,\n",
       " 5.015666666666666,\n",
       " 5.003333333333333,\n",
       " 5.069,\n",
       " 5.055666666666666,\n",
       " 5.055666666666666,\n",
       " 4.992,\n",
       " 4.968333333333334,\n",
       " 5.0553333333333335,\n",
       " 5.062,\n",
       " 5.008333333333334,\n",
       " 5.0183333333333335,\n",
       " 5.016333333333334,\n",
       " 4.976666666666667,\n",
       " 5.027333333333333,\n",
       " 5.0536666666666665,\n",
       " 5.035,\n",
       " 5.021333333333334,\n",
       " 5.032666666666667,\n",
       " 5.004666666666667,\n",
       " 5.022333333333333,\n",
       " 5.047666666666666,\n",
       " 4.981,\n",
       " 4.963666666666667,\n",
       " 5.047666666666666,\n",
       " 4.995666666666667,\n",
       " 5.0376666666666665,\n",
       " 5.0263333333333335,\n",
       " 5.004666666666667,\n",
       " 5.036333333333333,\n",
       " 4.992,\n",
       " 4.992333333333334,\n",
       " 5.020666666666667,\n",
       " 5.013,\n",
       " 4.990666666666667,\n",
       " 5.059333333333333,\n",
       " 5.039666666666666,\n",
       " 5.038666666666667,\n",
       " 4.988333333333333,\n",
       " 5.042333333333334,\n",
       " 5.053333333333334,\n",
       " 5.0343333333333335,\n",
       " 4.998666666666667,\n",
       " 5.0343333333333335,\n",
       " 4.984666666666667,\n",
       " 5.025,\n",
       " 5.028666666666667,\n",
       " 5.057666666666667,\n",
       " 5.058666666666666,\n",
       " 4.945,\n",
       " 4.995666666666667,\n",
       " 5.043,\n",
       " 4.998666666666667,\n",
       " 5.044333333333333,\n",
       " 5.027,\n",
       " 5.075,\n",
       " 5.048,\n",
       " 5.026666666666666,\n",
       " 5.009666666666667,\n",
       " 5.042,\n",
       " 4.954666666666666,\n",
       " 5.056333333333333,\n",
       " 4.977666666666667,\n",
       " 5.016333333333334,\n",
       " 5.013333333333334,\n",
       " 5.045,\n",
       " 4.980333333333333,\n",
       " 5.086333333333333,\n",
       " 5.046333333333333,\n",
       " 5.028333333333333,\n",
       " 5.054,\n",
       " 5.050666666666666,\n",
       " 5.017333333333333,\n",
       " 5.006666666666667,\n",
       " 5.028333333333333,\n",
       " 4.9816666666666665,\n",
       " 5.029333333333334,\n",
       " 4.971666666666667,\n",
       " 4.969666666666667,\n",
       " 5.018666666666666,\n",
       " 5.000333333333334,\n",
       " 5.030333333333333,\n",
       " 5.057,\n",
       " 5.019666666666667,\n",
       " 5.032333333333334,\n",
       " 4.994,\n",
       " 5.002,\n",
       " 5.038,\n",
       " 5.015666666666666,\n",
       " 5.014666666666667,\n",
       " 5.038333333333333,\n",
       " 4.987666666666667,\n",
       " 5.0103333333333335,\n",
       " 4.986666666666666,\n",
       " 5.051,\n",
       " 5.014666666666667,\n",
       " 4.946666666666666,\n",
       " 4.995,\n",
       " 5.022666666666667,\n",
       " 5.020666666666667,\n",
       " 4.972333333333333,\n",
       " 5.0343333333333335,\n",
       " 5.0136666666666665,\n",
       " 5.036333333333333,\n",
       " 5.025333333333333,\n",
       " 5.054,\n",
       " 5.048,\n",
       " 4.966666666666667,\n",
       " 5.009333333333333,\n",
       " 4.990666666666667,\n",
       " 4.919333333333333,\n",
       " 5.0633333333333335,\n",
       " 5.028666666666667,\n",
       " 5.029,\n",
       " 4.993333333333333,\n",
       " 5.041666666666667,\n",
       " 5.0183333333333335,\n",
       " 5.0056666666666665,\n",
       " 5.006333333333333,\n",
       " 4.956666666666667,\n",
       " 5.020666666666667,\n",
       " 5.007333333333333,\n",
       " 4.988,\n",
       " 4.999333333333333,\n",
       " 5.006333333333333,\n",
       " 4.967,\n",
       " 5.0023333333333335,\n",
       " 4.969333333333333,\n",
       " 5.054,\n",
       " 5.014666666666667,\n",
       " 5.041666666666667,\n",
       " 5.042666666666666,\n",
       " 5.025,\n",
       " 5.026666666666666,\n",
       " 5.003666666666667,\n",
       " 4.984666666666667,\n",
       " 5.005,\n",
       " 5.012333333333333,\n",
       " 5.015333333333333,\n",
       " 4.976,\n",
       " 4.979333333333333,\n",
       " 5.013333333333334,\n",
       " 5.047666666666666,\n",
       " 5.009333333333333,\n",
       " 5.015666666666666,\n",
       " 5.036666666666667,\n",
       " 4.9366666666666665,\n",
       " 4.993,\n",
       " 4.966666666666667,\n",
       " 4.993,\n",
       " 5.064666666666667,\n",
       " 4.977666666666667,\n",
       " 5.016,\n",
       " 4.995666666666667,\n",
       " 4.944,\n",
       " 5.008333333333334,\n",
       " 5.023,\n",
       " 5.051666666666667,\n",
       " 4.9703333333333335,\n",
       " 5.060666666666667,\n",
       " 5.001,\n",
       " 4.996333333333333,\n",
       " 5.004,\n",
       " 4.998666666666667,\n",
       " ...]"
      ]
     },
     "execution_count": 68,
     "metadata": {},
     "output_type": "execute_result"
    }
   ],
   "source": [
    "mean_of_samples"
   ]
  },
  {
   "cell_type": "code",
   "execution_count": 69,
   "id": "da9411aa",
   "metadata": {},
   "outputs": [
    {
     "data": {
      "text/plain": [
       "1.959963984540054"
      ]
     },
     "execution_count": 69,
     "metadata": {},
     "output_type": "execute_result"
    }
   ],
   "source": [
    "z_critical = stats.norm.ppf(q = 0.975)\n",
    "z_critical\n",
    "#zcritical for give alpha, ztable"
   ]
  },
  {
   "cell_type": "code",
   "execution_count": 70,
   "id": "6e47781e",
   "metadata": {},
   "outputs": [
    {
     "data": {
      "text/plain": [
       "1.973994288847133"
      ]
     },
     "execution_count": 70,
     "metadata": {},
     "output_type": "execute_result"
    }
   ],
   "source": [
    "#t critical for give alpha, ttable\n",
    "stats.t.ppf(df = 24, q = 0.97)"
   ]
  },
  {
   "cell_type": "code",
   "execution_count": 71,
   "id": "40c4bc1d",
   "metadata": {},
   "outputs": [],
   "source": [
    "#margin of error\n",
    "margin_of_error = z_critical * np.std(mean_of_samples) / np.sqrt(20)"
   ]
  },
  {
   "cell_type": "code",
   "execution_count": 72,
   "id": "3fdce0d7",
   "metadata": {},
   "outputs": [
    {
     "data": {
      "text/plain": [
       "0.012533113648488003"
      ]
     },
     "execution_count": 72,
     "metadata": {},
     "output_type": "execute_result"
    }
   ],
   "source": [
    "margin_of_error"
   ]
  },
  {
   "cell_type": "code",
   "execution_count": 73,
   "id": "3609abd3",
   "metadata": {},
   "outputs": [
    {
     "data": {
      "text/plain": [
       "[5.008333333333334,\n",
       " 5.027666666666667,\n",
       " 4.985666666666667,\n",
       " 5.0343333333333335,\n",
       " 5.028333333333333,\n",
       " 5.024,\n",
       " 5.002666666666666,\n",
       " 4.978666666666666,\n",
       " 4.992,\n",
       " 5.036666666666667,\n",
       " 4.992666666666667,\n",
       " 5.024,\n",
       " 5.081333333333333,\n",
       " 4.983666666666666,\n",
       " 5.021,\n",
       " 5.025666666666667,\n",
       " 4.987,\n",
       " 4.984666666666667,\n",
       " 5.003,\n",
       " 4.9816666666666665,\n",
       " 5.052,\n",
       " 5.039666666666666,\n",
       " 4.940666666666667,\n",
       " 5.027666666666667,\n",
       " 5.004,\n",
       " 5.036666666666667,\n",
       " 4.990333333333333,\n",
       " 4.970666666666666,\n",
       " 4.983666666666666,\n",
       " 4.998333333333333,\n",
       " 5.025,\n",
       " 5.0023333333333335,\n",
       " 5.019666666666667,\n",
       " 4.9543333333333335,\n",
       " 5.05,\n",
       " 5.061,\n",
       " 5.000333333333334,\n",
       " 5.027333333333333,\n",
       " 4.9656666666666665,\n",
       " 4.996333333333333,\n",
       " 5.014333333333333,\n",
       " 5.051666666666667,\n",
       " 5.015666666666666,\n",
       " 5.0183333333333335,\n",
       " 5.008333333333334,\n",
       " 5.041333333333333,\n",
       " 5.025333333333333,\n",
       " 5.063,\n",
       " 5.1033333333333335,\n",
       " 5.024333333333334,\n",
       " 5.033,\n",
       " 5.006333333333333,\n",
       " 5.006,\n",
       " 4.9943333333333335,\n",
       " 5.026666666666666,\n",
       " 5.016666666666667,\n",
       " 5.017666666666667,\n",
       " 4.995,\n",
       " 5.036666666666667,\n",
       " 5.0103333333333335,\n",
       " 4.988666666666667,\n",
       " 4.964666666666667,\n",
       " 4.986666666666666,\n",
       " 5.0103333333333335,\n",
       " 5.035333333333333,\n",
       " 5.003333333333333,\n",
       " 4.993666666666667,\n",
       " 5.06,\n",
       " 4.978,\n",
       " 4.999333333333333,\n",
       " 5.019666666666667,\n",
       " 5.054,\n",
       " 5.02,\n",
       " 5.041,\n",
       " 5.012666666666667,\n",
       " 5.016,\n",
       " 5.042,\n",
       " 5.017,\n",
       " 5.018,\n",
       " 5.011333333333333,\n",
       " 5.059333333333333,\n",
       " 5.028,\n",
       " 4.966666666666667,\n",
       " 4.98,\n",
       " 4.993333333333333,\n",
       " 4.983,\n",
       " 5.042,\n",
       " 5.003666666666667,\n",
       " 4.987666666666667,\n",
       " 5.002,\n",
       " 5.048,\n",
       " 4.98,\n",
       " 4.958,\n",
       " 5.016666666666667,\n",
       " 5.038333333333333,\n",
       " 4.982333333333333,\n",
       " 5.011333333333333,\n",
       " 4.971333333333333,\n",
       " 4.987333333333333,\n",
       " 4.991,\n",
       " 5.008333333333334,\n",
       " 5.055666666666666,\n",
       " 5.029333333333334,\n",
       " 5.009666666666667,\n",
       " 5.028,\n",
       " 4.996,\n",
       " 5.07,\n",
       " 4.999,\n",
       " 4.993,\n",
       " 5.002,\n",
       " 5.022,\n",
       " 5.0216666666666665,\n",
       " 4.993,\n",
       " 5.006666666666667,\n",
       " 4.948666666666667,\n",
       " 5.056333333333333,\n",
       " 5.007,\n",
       " 5.0473333333333334,\n",
       " 5.015666666666666,\n",
       " 5.0023333333333335,\n",
       " 4.954666666666666,\n",
       " 5.054666666666667,\n",
       " 5.011666666666667,\n",
       " 5.033333333333333,\n",
       " 4.996666666666667,\n",
       " 4.968666666666667,\n",
       " 4.982,\n",
       " 5.002,\n",
       " 5.012,\n",
       " 5.012,\n",
       " 5.050666666666666,\n",
       " 5.005,\n",
       " 4.9943333333333335,\n",
       " 4.984666666666667,\n",
       " 5.0103333333333335,\n",
       " 5.037,\n",
       " 5.006333333333333,\n",
       " 5.019,\n",
       " 4.980333333333333,\n",
       " 5.054,\n",
       " 5.029333333333334,\n",
       " 5.012333333333333,\n",
       " 5.028333333333333,\n",
       " 5.060666666666667,\n",
       " 5.012,\n",
       " 5.039,\n",
       " 5.010666666666666,\n",
       " 4.9896666666666665,\n",
       " 5.031,\n",
       " 5.057666666666667,\n",
       " 4.964333333333333,\n",
       " 4.987666666666667,\n",
       " 5.017333333333333,\n",
       " 5.022,\n",
       " 5.025,\n",
       " 5.028333333333333,\n",
       " 5.006666666666667,\n",
       " 5.01,\n",
       " 5.003666666666667,\n",
       " 4.974333333333333,\n",
       " 4.999333333333333,\n",
       " 5.016,\n",
       " 5.048333333333333,\n",
       " 4.998666666666667,\n",
       " 5.014666666666667,\n",
       " 5.011,\n",
       " 5.015333333333333,\n",
       " 4.983333333333333,\n",
       " 4.987333333333333,\n",
       " 4.995666666666667,\n",
       " 5.037,\n",
       " 5.052666666666667,\n",
       " 5.000666666666667,\n",
       " 5.046666666666667,\n",
       " 4.985666666666667,\n",
       " 5.031,\n",
       " 4.962666666666666,\n",
       " 5.025666666666667,\n",
       " 5.038666666666667,\n",
       " 5.005,\n",
       " 4.997,\n",
       " 5.0023333333333335,\n",
       " 5.023666666666666,\n",
       " 4.990333333333333,\n",
       " 5.027666666666667,\n",
       " 5.033,\n",
       " 5.005,\n",
       " 5.005333333333334,\n",
       " 5.003333333333333,\n",
       " 4.979,\n",
       " 5.045333333333334,\n",
       " 4.998,\n",
       " 5.037,\n",
       " 4.9976666666666665,\n",
       " 5.027333333333333,\n",
       " 4.982666666666667,\n",
       " 5.023,\n",
       " 5.049,\n",
       " 5.043666666666667,\n",
       " 4.989333333333334,\n",
       " 5.06,\n",
       " 4.985,\n",
       " 5.058,\n",
       " 5.040333333333334,\n",
       " 5.015666666666666,\n",
       " 5.0103333333333335,\n",
       " 5.021333333333334,\n",
       " 4.975,\n",
       " 4.985333333333333,\n",
       " 5.072,\n",
       " 5.011333333333333,\n",
       " 5.056333333333333,\n",
       " 4.988666666666667,\n",
       " 5.001333333333333,\n",
       " 5.02,\n",
       " 4.941,\n",
       " 4.984,\n",
       " 4.999,\n",
       " 5.004,\n",
       " 5.008,\n",
       " 5.029333333333334,\n",
       " 5.022,\n",
       " 4.983333333333333,\n",
       " 5.001666666666667,\n",
       " 4.977333333333333,\n",
       " 5.032666666666667,\n",
       " 4.973,\n",
       " 5.056666666666667,\n",
       " 5.009,\n",
       " 4.979666666666667,\n",
       " 5.019666666666667,\n",
       " 5.018666666666666,\n",
       " 5.034,\n",
       " 4.997,\n",
       " 4.967666666666666,\n",
       " 5.03,\n",
       " 5.015666666666666,\n",
       " 4.991333333333333,\n",
       " 5.017,\n",
       " 4.989,\n",
       " 5.014666666666667,\n",
       " 5.023666666666666,\n",
       " 5.007333333333333,\n",
       " 5.049,\n",
       " 5.016,\n",
       " 4.993,\n",
       " 4.961666666666667,\n",
       " 5.039,\n",
       " 4.964,\n",
       " 4.998333333333333,\n",
       " 4.9896666666666665,\n",
       " 5.014,\n",
       " 5.084333333333333,\n",
       " 5.035333333333333,\n",
       " 5.0376666666666665,\n",
       " 5.034666666666666,\n",
       " 4.988666666666667,\n",
       " 4.974333333333333,\n",
       " 5.013,\n",
       " 4.958,\n",
       " 5.0103333333333335,\n",
       " 5.019333333333333,\n",
       " 4.995333333333333,\n",
       " 5.023,\n",
       " 5.004,\n",
       " 4.952,\n",
       " 4.979666666666667,\n",
       " 5.022333333333333,\n",
       " 4.975,\n",
       " 5.004333333333333,\n",
       " 5.000666666666667,\n",
       " 4.992,\n",
       " 5.022333333333333,\n",
       " 4.995666666666667,\n",
       " 4.964333333333333,\n",
       " 5.037,\n",
       " 5.009666666666667,\n",
       " 5.005333333333334,\n",
       " 4.982,\n",
       " 5.0343333333333335,\n",
       " 5.002666666666666,\n",
       " 5.006666666666667,\n",
       " 5.032333333333334,\n",
       " 5.037,\n",
       " 5.042666666666666,\n",
       " 4.9943333333333335,\n",
       " 4.947333333333333,\n",
       " 5.007666666666666,\n",
       " 5.058,\n",
       " 4.981,\n",
       " 5.025,\n",
       " 5.023333333333333,\n",
       " 5.033,\n",
       " 5.023,\n",
       " 5.041,\n",
       " 5.068,\n",
       " 4.979,\n",
       " 5.0216666666666665,\n",
       " 4.984666666666667,\n",
       " 4.986,\n",
       " 4.984,\n",
       " 5.016666666666667,\n",
       " 5.055666666666666,\n",
       " 4.982666666666667,\n",
       " 5.01,\n",
       " 4.996333333333333,\n",
       " 5.037333333333334,\n",
       " 4.98,\n",
       " 4.943666666666667,\n",
       " 4.919666666666667,\n",
       " 5.002666666666666,\n",
       " 5.029333333333334,\n",
       " 5.001666666666667,\n",
       " 4.987666666666667,\n",
       " 5.009666666666667,\n",
       " 5.0296666666666665,\n",
       " 5.009666666666667,\n",
       " 5.030333333333333,\n",
       " 5.042333333333334,\n",
       " 5.003666666666667,\n",
       " 5.023333333333333,\n",
       " 4.976,\n",
       " 4.988333333333333,\n",
       " 4.9896666666666665,\n",
       " 5.022666666666667,\n",
       " 4.958666666666667,\n",
       " 4.995333333333333,\n",
       " 5.012333333333333,\n",
       " 5.009,\n",
       " 4.991666666666666,\n",
       " 5.019666666666667,\n",
       " 5.020666666666667,\n",
       " 5.050666666666666,\n",
       " 5.011333333333333,\n",
       " 5.064333333333333,\n",
       " 5.044666666666667,\n",
       " 5.013333333333334,\n",
       " 5.011333333333333,\n",
       " 5.047,\n",
       " 5.024,\n",
       " 5.039666666666666,\n",
       " 5.002666666666666,\n",
       " 4.9656666666666665,\n",
       " 4.999666666666666,\n",
       " 4.999333333333333,\n",
       " 5.016666666666667,\n",
       " 5.029333333333334,\n",
       " 4.989333333333334,\n",
       " 4.9943333333333335,\n",
       " 5.041,\n",
       " 5.014333333333333,\n",
       " 5.01,\n",
       " 5.040333333333334,\n",
       " 5.009,\n",
       " 5.031333333333333,\n",
       " 5.013,\n",
       " 5.014,\n",
       " 5.056666666666667,\n",
       " 4.993,\n",
       " 5.015666666666666,\n",
       " 4.977666666666667,\n",
       " 5.040333333333334,\n",
       " 5.042,\n",
       " 4.994666666666666,\n",
       " 4.9703333333333335,\n",
       " 4.984,\n",
       " 4.986666666666666,\n",
       " 4.987,\n",
       " 4.956,\n",
       " 4.995666666666667,\n",
       " 4.958,\n",
       " 4.971,\n",
       " 4.961,\n",
       " 4.989,\n",
       " 5.0633333333333335,\n",
       " 5.045,\n",
       " 4.989,\n",
       " 5.020333333333333,\n",
       " 5.029333333333334,\n",
       " 5.009333333333333,\n",
       " 5.029,\n",
       " 5.042333333333334,\n",
       " 5.011,\n",
       " 5.05,\n",
       " 4.9976666666666665,\n",
       " 4.968666666666667,\n",
       " 4.991666666666666,\n",
       " 5.011333333333333,\n",
       " 5.015,\n",
       " 4.971333333333333,\n",
       " 5.022,\n",
       " 5.087,\n",
       " 5.061333333333334,\n",
       " 5.0136666666666665,\n",
       " 4.958333333333333,\n",
       " 4.963666666666667,\n",
       " 4.978666666666666,\n",
       " 4.992333333333334,\n",
       " 5.004666666666667,\n",
       " 4.9816666666666665,\n",
       " 4.980666666666667,\n",
       " 5.031,\n",
       " 5.038333333333333,\n",
       " 4.992,\n",
       " 5.0296666666666665,\n",
       " 5.022666666666667,\n",
       " 4.960333333333334,\n",
       " 5.020666666666667,\n",
       " 5.027333333333333,\n",
       " 4.966333333333333,\n",
       " 5.007,\n",
       " 5.007666666666666,\n",
       " 5.02,\n",
       " 5.050666666666666,\n",
       " 5.007666666666666,\n",
       " 5.022666666666667,\n",
       " 4.998666666666667,\n",
       " 4.998,\n",
       " 5.016333333333334,\n",
       " 5.021,\n",
       " 4.991,\n",
       " 5.0023333333333335,\n",
       " 5.017666666666667,\n",
       " 4.979,\n",
       " 5.039,\n",
       " 4.987666666666667,\n",
       " 5.041666666666667,\n",
       " 5.000333333333334,\n",
       " 5.021,\n",
       " 4.978666666666666,\n",
       " 4.969333333333333,\n",
       " 5.03,\n",
       " 4.9943333333333335,\n",
       " 5.012333333333333,\n",
       " 5.0376666666666665,\n",
       " 5.023666666666666,\n",
       " 5.01,\n",
       " 4.98,\n",
       " 5.007666666666666,\n",
       " 5.0553333333333335,\n",
       " 5.012,\n",
       " 5.006,\n",
       " 5.054333333333333,\n",
       " 5.018,\n",
       " 5.017,\n",
       " 5.076666666666667,\n",
       " 5.005,\n",
       " 5.006333333333333,\n",
       " 4.949333333333334,\n",
       " 5.011666666666667,\n",
       " 4.993333333333333,\n",
       " 5.007,\n",
       " 4.9816666666666665,\n",
       " 5.003666666666667,\n",
       " 4.9863333333333335,\n",
       " 5.026666666666666,\n",
       " 4.985,\n",
       " 5.021,\n",
       " 5.030333333333333,\n",
       " 5.036666666666667,\n",
       " 5.022666666666667,\n",
       " 5.091666666666667,\n",
       " 4.984666666666667,\n",
       " 5.065333333333333,\n",
       " 5.008,\n",
       " 5.007,\n",
       " 4.983,\n",
       " 5.015666666666666,\n",
       " 5.050333333333334,\n",
       " 5.011333333333333,\n",
       " 4.97,\n",
       " 4.9703333333333335,\n",
       " 4.950333333333333,\n",
       " 5.035666666666667,\n",
       " 4.982333333333333,\n",
       " 5.044,\n",
       " 4.962,\n",
       " 5.007,\n",
       " 5.027666666666667,\n",
       " 4.966333333333333,\n",
       " 5.055666666666666,\n",
       " 5.040333333333334,\n",
       " 5.038333333333333,\n",
       " 5.013,\n",
       " 5.042666666666666,\n",
       " 4.957333333333334,\n",
       " 5.028666666666667,\n",
       " 4.999666666666666,\n",
       " 4.975333333333333,\n",
       " 5.0263333333333335,\n",
       " 5.057333333333333,\n",
       " 5.036666666666667,\n",
       " 5.009,\n",
       " 4.975333333333333,\n",
       " 4.967666666666666,\n",
       " 4.987666666666667,\n",
       " 5.065,\n",
       " 5.023333333333333,\n",
       " 5.082333333333334,\n",
       " 5.032333333333334,\n",
       " 4.945333333333333,\n",
       " 5.035333333333333,\n",
       " 5.0136666666666665,\n",
       " 5.000333333333334,\n",
       " 4.997333333333334,\n",
       " 4.998,\n",
       " 5.0023333333333335,\n",
       " 4.988,\n",
       " 4.966666666666667,\n",
       " 5.003666666666667,\n",
       " 5.006666666666667,\n",
       " 5.029,\n",
       " 5.015333333333333,\n",
       " 5.012333333333333,\n",
       " 5.011,\n",
       " 5.025,\n",
       " 5.0023333333333335,\n",
       " 5.084333333333333,\n",
       " 5.020666666666667,\n",
       " 4.982666666666667,\n",
       " 4.984666666666667,\n",
       " 4.981,\n",
       " 5.012333333333333,\n",
       " 4.992333333333334,\n",
       " 4.986666666666666,\n",
       " 4.972,\n",
       " 5.057,\n",
       " 5.032333333333334,\n",
       " 4.991333333333333,\n",
       " 4.9816666666666665,\n",
       " 5.019,\n",
       " 5.02,\n",
       " 5.018,\n",
       " 5.037333333333334,\n",
       " 5.062666666666667,\n",
       " 5.035,\n",
       " 5.031,\n",
       " 4.99,\n",
       " 5.007666666666666,\n",
       " 5.028333333333333,\n",
       " 5.048,\n",
       " 5.069333333333334,\n",
       " 5.037333333333334,\n",
       " 5.010666666666666,\n",
       " 4.995666666666667,\n",
       " 4.993333333333333,\n",
       " 4.974666666666667,\n",
       " 5.071,\n",
       " 5.059666666666667,\n",
       " 5.048333333333333,\n",
       " 5.040666666666667,\n",
       " 5.033,\n",
       " 5.0056666666666665,\n",
       " 4.982,\n",
       " 4.990333333333333,\n",
       " 5.033333333333333,\n",
       " 5.074,\n",
       " 5.060666666666667,\n",
       " 5.036666666666667,\n",
       " 5.055666666666666,\n",
       " 5.039666666666666,\n",
       " 5.025666666666667,\n",
       " 4.9816666666666665,\n",
       " 5.014666666666667,\n",
       " 5.007666666666666,\n",
       " 5.014666666666667,\n",
       " 5.048666666666667,\n",
       " 5.032333333333334,\n",
       " 5.062333333333333,\n",
       " 5.059,\n",
       " 5.004666666666667,\n",
       " 5.011666666666667,\n",
       " 4.986666666666666,\n",
       " 5.022333333333333,\n",
       " 5.004666666666667,\n",
       " 5.002,\n",
       " 5.024,\n",
       " 5.0183333333333335,\n",
       " 5.014333333333333,\n",
       " 5.022666666666667,\n",
       " 5.033333333333333,\n",
       " 4.944,\n",
       " 5.0023333333333335,\n",
       " 5.042666666666666,\n",
       " 5.052,\n",
       " 4.962666666666666,\n",
       " 5.084333333333333,\n",
       " 5.047666666666666,\n",
       " 4.998,\n",
       " 4.962,\n",
       " 5.016333333333334,\n",
       " 4.96,\n",
       " 5.028333333333333,\n",
       " 5.0296666666666665,\n",
       " 4.969333333333333,\n",
       " 5.011666666666667,\n",
       " 4.984666666666667,\n",
       " 5.014666666666667,\n",
       " 5.008,\n",
       " 4.966333333333333,\n",
       " 5.048666666666667,\n",
       " 4.981333333333334,\n",
       " 5.053,\n",
       " 4.994666666666666,\n",
       " 5.0136666666666665,\n",
       " 5.008,\n",
       " 5.003666666666667,\n",
       " 5.022666666666667,\n",
       " 5.004333333333333,\n",
       " 4.959666666666666,\n",
       " 5.063,\n",
       " 5.017,\n",
       " 5.018,\n",
       " 5.015333333333333,\n",
       " 5.029,\n",
       " 5.0456666666666665,\n",
       " 4.982333333333333,\n",
       " 5.0023333333333335,\n",
       " 4.9816666666666665,\n",
       " 5.004,\n",
       " 5.035666666666667,\n",
       " 5.016333333333334,\n",
       " 4.979,\n",
       " 4.999333333333333,\n",
       " 5.039,\n",
       " 5.062,\n",
       " 5.025666666666667,\n",
       " 4.999333333333333,\n",
       " 5.039333333333333,\n",
       " 5.042333333333334,\n",
       " 4.988333333333333,\n",
       " 4.958333333333333,\n",
       " 5.013,\n",
       " 4.961666666666667,\n",
       " 4.984333333333334,\n",
       " 5.031333333333333,\n",
       " 4.999333333333333,\n",
       " 5.043,\n",
       " 5.035333333333333,\n",
       " 4.983,\n",
       " 5.0263333333333335,\n",
       " 5.01,\n",
       " 4.994,\n",
       " 5.031,\n",
       " 5.039,\n",
       " 4.980333333333333,\n",
       " 4.988333333333333,\n",
       " 4.998666666666667,\n",
       " 5.022666666666667,\n",
       " 4.982,\n",
       " 5.008666666666667,\n",
       " 5.001333333333333,\n",
       " 5.046666666666667,\n",
       " 5.030666666666667,\n",
       " 4.9816666666666665,\n",
       " 4.986666666666666,\n",
       " 4.997,\n",
       " 5.053,\n",
       " 4.983,\n",
       " 5.0136666666666665,\n",
       " 5.025,\n",
       " 5.048333333333333,\n",
       " 4.961333333333333,\n",
       " 5.004,\n",
       " 4.995333333333333,\n",
       " 5.016333333333334,\n",
       " 5.024666666666667,\n",
       " 5.014333333333333,\n",
       " 5.024333333333334,\n",
       " 5.001666666666667,\n",
       " 5.024,\n",
       " 4.958,\n",
       " 4.960333333333334,\n",
       " 5.004333333333333,\n",
       " 5.014666666666667,\n",
       " 4.9863333333333335,\n",
       " 4.993333333333333,\n",
       " 4.996666666666667,\n",
       " 5.017333333333333,\n",
       " 5.050666666666666,\n",
       " 5.004,\n",
       " 5.039333333333333,\n",
       " 5.045333333333334,\n",
       " 5.016,\n",
       " 5.000333333333334,\n",
       " 5.001,\n",
       " 5.000333333333334,\n",
       " 5.013,\n",
       " 5.0183333333333335,\n",
       " 5.022,\n",
       " 5.008333333333334,\n",
       " 5.007,\n",
       " 5.029333333333334,\n",
       " 5.0343333333333335,\n",
       " 5.027,\n",
       " 4.979666666666667,\n",
       " 4.993666666666667,\n",
       " 5.000666666666667,\n",
       " 5.039333333333333,\n",
       " 4.999666666666666,\n",
       " 5.022,\n",
       " 4.989,\n",
       " 4.949333333333334,\n",
       " 5.039,\n",
       " 4.9703333333333335,\n",
       " 4.991333333333333,\n",
       " 5.017333333333333,\n",
       " 5.008,\n",
       " 5.022666666666667,\n",
       " 5.007333333333333,\n",
       " 5.013,\n",
       " 5.005,\n",
       " 4.992,\n",
       " 5.035,\n",
       " 5.012,\n",
       " 5.020333333333333,\n",
       " 5.025,\n",
       " 5.014333333333333,\n",
       " 5.013,\n",
       " 4.951,\n",
       " 4.974,\n",
       " 4.993666666666667,\n",
       " 4.995333333333333,\n",
       " 5.023666666666666,\n",
       " 4.992333333333334,\n",
       " 5.026,\n",
       " 5.003333333333333,\n",
       " 5.0,\n",
       " 4.985,\n",
       " 4.977333333333333,\n",
       " 4.963666666666667,\n",
       " 5.041,\n",
       " 5.013333333333334,\n",
       " 5.0473333333333334,\n",
       " 4.961,\n",
       " 4.987333333333333,\n",
       " 4.985666666666667,\n",
       " 5.036333333333333,\n",
       " 5.054,\n",
       " 5.003,\n",
       " 4.996333333333333,\n",
       " 5.025333333333333,\n",
       " 5.017,\n",
       " 5.057333333333333,\n",
       " 5.016,\n",
       " 5.056,\n",
       " 5.012,\n",
       " 5.030666666666667,\n",
       " 4.948,\n",
       " 5.026666666666666,\n",
       " 4.972666666666667,\n",
       " 5.018,\n",
       " 4.999333333333333,\n",
       " 4.999333333333333,\n",
       " 5.014,\n",
       " 5.016333333333334,\n",
       " 5.028,\n",
       " 4.9976666666666665,\n",
       " 5.035333333333333,\n",
       " 5.031666666666666,\n",
       " 5.091666666666667,\n",
       " 4.998,\n",
       " 5.01,\n",
       " 5.001,\n",
       " 5.000333333333334,\n",
       " 5.008333333333334,\n",
       " 4.972666666666667,\n",
       " 5.030333333333333,\n",
       " 5.007666666666666,\n",
       " 5.056666666666667,\n",
       " 4.96,\n",
       " 5.009666666666667,\n",
       " 5.017,\n",
       " 5.006,\n",
       " 5.050333333333334,\n",
       " 5.044666666666667,\n",
       " 5.024,\n",
       " 5.011666666666667,\n",
       " 5.011333333333333,\n",
       " 4.991666666666666,\n",
       " 5.041333333333333,\n",
       " 5.002,\n",
       " 5.026666666666666,\n",
       " 5.019666666666667,\n",
       " 4.997333333333334,\n",
       " 4.961,\n",
       " 5.019,\n",
       " 5.073,\n",
       " 5.038,\n",
       " 5.067333333333333,\n",
       " 5.039,\n",
       " 4.965333333333334,\n",
       " 4.971,\n",
       " 5.038666666666667,\n",
       " 4.978,\n",
       " 4.973333333333334,\n",
       " 4.978,\n",
       " 5.086666666666667,\n",
       " 4.976666666666667,\n",
       " 5.0,\n",
       " 5.015666666666666,\n",
       " 5.067666666666667,\n",
       " 4.94,\n",
       " 4.987,\n",
       " 5.044666666666667,\n",
       " 4.990666666666667,\n",
       " 5.012666666666667,\n",
       " 5.005,\n",
       " 5.040666666666667,\n",
       " 4.988,\n",
       " 4.984666666666667,\n",
       " 5.039333333333333,\n",
       " 4.965333333333334,\n",
       " 4.983666666666666,\n",
       " 4.992666666666667,\n",
       " 4.978666666666666,\n",
       " 5.008,\n",
       " 4.998666666666667,\n",
       " 4.973,\n",
       " 5.024666666666667,\n",
       " 5.002,\n",
       " 5.033,\n",
       " 5.038666666666667,\n",
       " 4.988666666666667,\n",
       " 4.921666666666667,\n",
       " 5.065666666666667,\n",
       " 5.076333333333333,\n",
       " 5.007333333333333,\n",
       " 5.006666666666667,\n",
       " 4.967,\n",
       " 4.979666666666667,\n",
       " 5.011333333333333,\n",
       " 5.015666666666666,\n",
       " 4.981,\n",
       " 4.965333333333334,\n",
       " 5.008666666666667,\n",
       " 5.0263333333333335,\n",
       " 5.015666666666666,\n",
       " 5.003333333333333,\n",
       " 5.069,\n",
       " 5.055666666666666,\n",
       " 5.055666666666666,\n",
       " 4.992,\n",
       " 4.968333333333334,\n",
       " 5.0553333333333335,\n",
       " 5.062,\n",
       " 5.008333333333334,\n",
       " 5.0183333333333335,\n",
       " 5.016333333333334,\n",
       " 4.976666666666667,\n",
       " 5.027333333333333,\n",
       " 5.0536666666666665,\n",
       " 5.035,\n",
       " 5.021333333333334,\n",
       " 5.032666666666667,\n",
       " 5.004666666666667,\n",
       " 5.022333333333333,\n",
       " 5.047666666666666,\n",
       " 4.981,\n",
       " 4.963666666666667,\n",
       " 5.047666666666666,\n",
       " 4.995666666666667,\n",
       " 5.0376666666666665,\n",
       " 5.0263333333333335,\n",
       " 5.004666666666667,\n",
       " 5.036333333333333,\n",
       " 4.992,\n",
       " 4.992333333333334,\n",
       " 5.020666666666667,\n",
       " 5.013,\n",
       " 4.990666666666667,\n",
       " 5.059333333333333,\n",
       " 5.039666666666666,\n",
       " 5.038666666666667,\n",
       " 4.988333333333333,\n",
       " 5.042333333333334,\n",
       " 5.053333333333334,\n",
       " 5.0343333333333335,\n",
       " 4.998666666666667,\n",
       " 5.0343333333333335,\n",
       " 4.984666666666667,\n",
       " 5.025,\n",
       " 5.028666666666667,\n",
       " 5.057666666666667,\n",
       " 5.058666666666666,\n",
       " 4.945,\n",
       " 4.995666666666667,\n",
       " 5.043,\n",
       " 4.998666666666667,\n",
       " 5.044333333333333,\n",
       " 5.027,\n",
       " 5.075,\n",
       " 5.048,\n",
       " 5.026666666666666,\n",
       " 5.009666666666667,\n",
       " 5.042,\n",
       " 4.954666666666666,\n",
       " 5.056333333333333,\n",
       " 4.977666666666667,\n",
       " 5.016333333333334,\n",
       " 5.013333333333334,\n",
       " 5.045,\n",
       " 4.980333333333333,\n",
       " 5.086333333333333,\n",
       " 5.046333333333333,\n",
       " 5.028333333333333,\n",
       " 5.054,\n",
       " 5.050666666666666,\n",
       " 5.017333333333333,\n",
       " 5.006666666666667,\n",
       " 5.028333333333333,\n",
       " 4.9816666666666665,\n",
       " 5.029333333333334,\n",
       " 4.971666666666667,\n",
       " 4.969666666666667,\n",
       " 5.018666666666666,\n",
       " 5.000333333333334,\n",
       " 5.030333333333333,\n",
       " 5.057,\n",
       " 5.019666666666667,\n",
       " 5.032333333333334,\n",
       " 4.994,\n",
       " 5.002,\n",
       " 5.038,\n",
       " 5.015666666666666,\n",
       " 5.014666666666667,\n",
       " 5.038333333333333,\n",
       " 4.987666666666667,\n",
       " 5.0103333333333335,\n",
       " 4.986666666666666,\n",
       " 5.051,\n",
       " 5.014666666666667,\n",
       " 4.946666666666666,\n",
       " 4.995,\n",
       " 5.022666666666667,\n",
       " 5.020666666666667,\n",
       " 4.972333333333333,\n",
       " 5.0343333333333335,\n",
       " 5.0136666666666665,\n",
       " 5.036333333333333,\n",
       " 5.025333333333333,\n",
       " 5.054,\n",
       " 5.048,\n",
       " 4.966666666666667,\n",
       " 5.009333333333333,\n",
       " 4.990666666666667,\n",
       " 4.919333333333333,\n",
       " 5.0633333333333335,\n",
       " 5.028666666666667,\n",
       " 5.029,\n",
       " 4.993333333333333,\n",
       " 5.041666666666667,\n",
       " 5.0183333333333335,\n",
       " 5.0056666666666665,\n",
       " 5.006333333333333,\n",
       " 4.956666666666667,\n",
       " 5.020666666666667,\n",
       " 5.007333333333333,\n",
       " 4.988,\n",
       " 4.999333333333333,\n",
       " 5.006333333333333,\n",
       " 4.967,\n",
       " 5.0023333333333335,\n",
       " 4.969333333333333,\n",
       " 5.054,\n",
       " 5.014666666666667,\n",
       " 5.041666666666667,\n",
       " 5.042666666666666,\n",
       " 5.025,\n",
       " 5.026666666666666,\n",
       " 5.003666666666667,\n",
       " 4.984666666666667,\n",
       " 5.005,\n",
       " 5.012333333333333,\n",
       " 5.015333333333333,\n",
       " 4.976,\n",
       " 4.979333333333333,\n",
       " 5.013333333333334,\n",
       " 5.047666666666666,\n",
       " 5.009333333333333,\n",
       " 5.015666666666666,\n",
       " 5.036666666666667,\n",
       " 4.9366666666666665,\n",
       " 4.993,\n",
       " 4.966666666666667,\n",
       " 4.993,\n",
       " 5.064666666666667,\n",
       " 4.977666666666667,\n",
       " 5.016,\n",
       " 4.995666666666667,\n",
       " 4.944,\n",
       " 5.008333333333334,\n",
       " 5.023,\n",
       " 5.051666666666667,\n",
       " 4.9703333333333335,\n",
       " 5.060666666666667,\n",
       " 5.001,\n",
       " 4.996333333333333,\n",
       " 5.004,\n",
       " 4.998666666666667,\n",
       " ...]"
      ]
     },
     "execution_count": 73,
     "metadata": {},
     "output_type": "execute_result"
    }
   ],
   "source": [
    "mean_of_samples"
   ]
  },
  {
   "cell_type": "code",
   "execution_count": 74,
   "id": "9cc71629",
   "metadata": {},
   "outputs": [
    {
     "data": {
      "text/plain": [
       "(4.998433549684512, 5.023499776981488)"
      ]
     },
     "execution_count": 74,
     "metadata": {},
     "output_type": "execute_result"
    }
   ],
   "source": [
    "#confidence intervl\n",
    "np.mean(mean_of_samples)-margin_of_error, np.mean(mean_of_samples)+margin_of_error"
   ]
  },
  {
   "cell_type": "code",
   "execution_count": 75,
   "id": "7fb02b19",
   "metadata": {},
   "outputs": [
    {
     "data": {
      "text/plain": [
       "array([-1.88770599e-01,  1.52105015e+00, -1.44289394e+00, -1.68928726e+00,\n",
       "        7.10979136e-01, -1.05980440e+00, -3.01656841e-02, -4.93975021e-02,\n",
       "       -5.63601541e-01,  1.27004199e+00, -9.02353776e-01, -1.77076568e+00,\n",
       "       -7.73222856e-01,  1.12502566e+00, -5.95683803e-01,  5.12196140e-01,\n",
       "        9.07246315e-01, -8.53209254e-01,  8.33304684e-01, -3.13225256e-01,\n",
       "       -2.36368530e+00, -1.33803275e+00,  2.59402741e-01, -6.85304171e-01,\n",
       "       -3.19487876e-01,  7.21428128e-01, -2.05523046e-01, -1.24211866e+00,\n",
       "       -1.69501025e+00,  1.08393233e+00,  1.75403444e-01,  1.19620005e-01,\n",
       "        7.71059172e-01,  6.28935439e-01, -5.85752390e-01, -6.24789254e-01,\n",
       "        8.01042143e-01, -1.23473114e+00, -9.72077934e-02,  2.52789309e-01,\n",
       "       -2.58623505e-01,  3.35947470e-01,  1.68782457e+00,  7.92669763e-01,\n",
       "       -1.24527379e-01,  2.95117025e-01, -6.93056719e-02, -5.34284005e-01,\n",
       "        1.40627062e+00, -1.37415392e+00, -6.66097417e-01, -1.75976021e-01,\n",
       "        2.92441872e+00,  3.64044079e-01,  1.18221608e+00, -9.86941873e-02,\n",
       "        1.46836752e+00, -1.08765641e+00, -1.10030749e+00,  4.68991447e-01,\n",
       "       -1.39428307e+00, -9.02345136e-01, -8.42947900e-02,  1.65279378e+00,\n",
       "       -1.48389652e+00, -7.36717961e-01, -9.19822049e-01, -1.36010271e-01,\n",
       "       -1.04689732e+00, -7.32041157e-02,  1.34252501e+00,  2.08592806e-01,\n",
       "       -1.56867920e+00, -1.71180855e+00, -7.32849323e-01,  1.64969895e+00,\n",
       "       -6.98920691e-01,  4.45209183e-01, -1.26356944e+00, -6.19757498e-01,\n",
       "       -1.02721852e+00,  4.26026076e-01, -5.94997254e-01, -1.05960019e+00,\n",
       "        9.92580711e-02, -8.64999153e-01, -6.75582128e-01, -4.98829419e-01,\n",
       "       -1.74073166e+00,  5.38995291e-01,  1.77104047e+00, -1.77595606e+00,\n",
       "       -3.46351132e-01,  4.03864123e-01, -1.52628559e+00,  1.03858615e+00,\n",
       "        8.89393319e-01,  9.62488589e-01,  2.53683077e+00, -3.08601208e-01,\n",
       "       -3.11434037e-01,  4.46527674e-01, -8.18669792e-01, -6.96600960e-01,\n",
       "        7.74177196e-01,  4.84120631e-01, -8.35940052e-01, -1.73326719e-01,\n",
       "       -1.03931343e+00,  1.66261519e+00, -2.61584929e-01,  1.52928144e-01,\n",
       "        2.13893471e-01, -8.15780542e-01,  7.39470484e-01,  5.17715464e-01,\n",
       "       -3.58741801e-01, -9.07808596e-01,  1.05209174e-01, -4.93500855e-01,\n",
       "       -8.54546945e-01,  1.23302142e+00, -7.16222162e-01,  3.25808041e-01,\n",
       "        1.56654109e+00, -3.02640741e-01, -2.40572695e+00, -9.32994876e-01,\n",
       "        2.85525778e-01, -6.68950908e-01, -1.30613621e+00, -1.08758575e+00,\n",
       "       -1.49171266e+00, -1.25246482e-02, -6.03370542e-01, -7.89445753e-01,\n",
       "        4.48998610e-01, -5.21784827e-01, -1.27537050e+00, -1.74578710e-02,\n",
       "       -8.70897830e-02,  4.60563138e-01,  1.57242410e+00, -8.70604044e-01,\n",
       "        5.42941450e-01,  8.31822884e-01,  1.20571135e+00,  9.67932389e-01,\n",
       "       -6.96004449e-01,  5.42635078e-01,  1.21502527e+00, -1.09619701e-02,\n",
       "       -1.46953914e+00, -2.67209849e-01, -5.36401853e-01, -6.74186000e-01,\n",
       "       -4.56084640e-01, -5.06725334e-01,  1.10204909e+00,  4.05363290e-01,\n",
       "        5.37482042e-01, -9.95205210e-01,  2.74807509e-01,  7.41921734e-01,\n",
       "       -7.64803687e-01, -1.19053021e+00,  1.86952495e+00,  3.21199593e-01,\n",
       "        1.02622712e+00,  1.99853203e+00,  9.94627746e-01, -8.28566438e-01,\n",
       "        8.09496808e-01, -1.55035698e+00, -6.32978492e-01,  1.18752651e+00,\n",
       "        1.17382241e+00, -1.71953405e+00, -2.82688613e-01,  2.75506749e-02,\n",
       "        1.24450557e+00,  1.06728013e+00, -8.35006722e-01,  1.97802813e+00,\n",
       "       -6.32937207e-01,  3.52959690e-01,  8.21788203e-01,  1.09319668e+00,\n",
       "       -1.24058997e-01, -5.07788292e-01, -1.34178017e+00, -9.87185881e-01,\n",
       "        4.51774729e-01,  9.84883626e-01, -3.51063456e-01,  5.11140145e-01,\n",
       "        7.55131021e-01,  2.48378908e-01, -2.60885304e-01,  1.11565353e+00,\n",
       "       -4.31217683e-01,  3.05465207e-01, -2.11382789e-01, -2.16982953e-01,\n",
       "       -1.62759225e+00, -3.57052205e-01, -2.60923117e-02,  2.13362897e-01,\n",
       "       -8.40119297e-02, -6.34998039e-01, -1.25553053e+00,  9.89977263e-01,\n",
       "       -1.51582701e+00, -6.65496438e-02, -3.20783018e-01,  1.05496048e+00,\n",
       "        6.69781432e-05,  1.01883386e+00, -5.31164843e-01, -4.77001574e-03,\n",
       "       -1.27826108e+00, -3.44388494e-01,  5.17043414e-02,  7.69686832e-01,\n",
       "        1.44410694e+00,  8.77950563e-01, -7.67592459e-01, -3.24818022e-01,\n",
       "        1.28107628e+00,  6.59594451e-02, -6.14959799e-01,  1.96502762e+00,\n",
       "        1.18514377e+00, -9.94057638e-01, -6.25903699e-01,  1.42476084e+00,\n",
       "        8.92009688e-01,  4.77900097e-01, -1.46049603e+00,  7.23219919e-01,\n",
       "       -1.55145713e+00,  8.38882097e-01,  1.12313464e+00, -2.48037444e-01,\n",
       "        1.61205301e+00,  5.35547998e-01,  8.32324678e-01, -2.51625588e-01,\n",
       "       -2.19569062e+00, -1.29746555e+00,  7.12031051e-01, -4.71939807e-01,\n",
       "       -8.48456441e-01, -7.96476382e-01, -5.42204070e-01, -5.02387494e-01,\n",
       "       -6.77145097e-01,  2.16614477e-01,  4.46327824e-01, -9.26283741e-01,\n",
       "       -9.53626631e-03, -4.55804485e-01, -1.16508234e+00,  1.32695707e+00,\n",
       "        3.80176578e-01, -8.23737075e-02,  1.92118884e+00,  2.43343873e+00,\n",
       "        8.10348930e-01, -1.74020276e+00, -3.64596547e-01,  5.71045402e-02,\n",
       "        1.05833680e+00, -2.15548003e+00, -1.75457100e-01,  1.65740810e+00,\n",
       "       -7.57915541e-01,  1.19301397e+00,  1.50281805e+00,  5.01828172e-01,\n",
       "       -9.53069166e-01,  9.86637151e-01, -1.45604185e+00, -2.32532673e+00,\n",
       "        3.50288296e+00,  1.94121986e+00, -1.60280320e-01,  1.21045198e+00,\n",
       "        7.40618652e-01,  1.38586680e+00, -1.08245419e+00, -1.60317228e+00,\n",
       "       -1.79392582e+00,  6.09882608e-01, -1.00443951e+00,  5.47126952e-03,\n",
       "       -2.18607443e-01, -3.05241440e-01,  1.02365741e-01,  9.62760874e-01,\n",
       "       -8.07785314e-01, -4.89077725e-01, -2.82106751e-01, -5.40914299e-01,\n",
       "       -3.60437534e-01, -2.23926816e-01, -2.76769730e+00,  1.15559438e+00,\n",
       "        1.87993408e-02,  2.28316574e-01, -1.26458118e+00, -3.46807916e-01,\n",
       "       -3.64110800e-01, -1.93231839e+00,  9.76399437e-01,  1.84212598e+00,\n",
       "        1.02056942e+00, -1.19363008e+00,  4.97276515e-01,  1.33790553e+00,\n",
       "        2.40834279e-01, -1.89613314e+00, -2.15903241e+00,  3.23260711e-01,\n",
       "        2.15187202e-01,  2.19097589e+00,  1.44660684e+00, -1.05974004e+00,\n",
       "        8.20771020e-02, -5.44097000e-01, -6.43249413e-01,  8.28548676e-01,\n",
       "        1.40880021e+00,  1.94046725e+00, -7.64380773e-01,  5.28043115e-01,\n",
       "       -3.41856159e-02, -8.57037690e-01,  1.34034949e-02, -1.58929140e-01,\n",
       "        4.38102794e-01,  3.88651208e-01,  2.23092002e-01,  3.44192519e-01,\n",
       "       -4.62160771e-01, -7.72401590e-01,  5.32332057e-01, -2.09167994e-01,\n",
       "        5.21977149e-01, -2.74731851e-01,  9.72030583e-01, -6.12884892e-01,\n",
       "        3.02999944e-01,  5.40483395e-01,  1.20487300e+00,  7.66297654e-01,\n",
       "       -1.06638075e-01,  2.31058363e-01,  9.65033483e-01,  4.39116721e-01,\n",
       "        1.36536828e+00,  2.49960822e-01, -8.81799761e-01, -5.47359447e-01,\n",
       "       -5.01934262e-01, -1.73065946e-01, -1.21471226e+00, -8.06650529e-02,\n",
       "        3.76142679e-01,  6.18405458e-01, -1.76494156e+00, -2.02195564e+00,\n",
       "        6.22785379e-01,  4.86485396e-01, -6.25477293e-01,  4.80060673e-01,\n",
       "       -1.82433878e+00,  4.71687431e-02, -1.82149812e-01, -3.63243398e-02,\n",
       "       -4.03612744e-01,  1.66460603e-01, -1.54392867e+00, -5.94676342e-01,\n",
       "       -5.51706151e-01, -1.49491875e+00,  7.42639347e-01,  3.75739782e-01,\n",
       "        1.16090570e+00, -1.09299058e+00,  1.10206031e+00,  8.71343158e-02,\n",
       "       -5.51942766e-01,  3.73414348e-01, -9.78618587e-01, -1.51580087e-01,\n",
       "       -5.41197515e-01,  1.74891952e-01, -8.04578922e-01, -1.45318218e+00,\n",
       "       -1.01630289e+00,  1.88657228e+00, -4.08032654e-01,  8.10833773e-01,\n",
       "       -1.49861927e+00, -7.43304679e-01,  2.05746538e-01, -1.47036077e+00,\n",
       "       -7.41309673e-01,  4.41066337e-01, -3.58684501e-02, -1.38455733e-01,\n",
       "        1.50861988e-01,  9.32603397e-01, -1.35481493e+00,  1.33581213e+00,\n",
       "        9.96843504e-01,  7.42521272e-01,  8.90698125e-01, -1.19484705e-01,\n",
       "       -6.30199156e-01,  1.31257233e+00, -5.63117579e-01, -1.39644307e+00,\n",
       "       -1.31949254e+00, -6.44670095e-01, -9.71115226e-01,  1.85735985e+00,\n",
       "       -1.02217263e+00, -6.46895586e-01, -2.64435557e-01, -1.21199209e+00,\n",
       "       -2.38198462e-01,  1.08107169e+00, -3.43872436e-02, -2.41043247e-01,\n",
       "        3.60736435e-02, -6.55851042e-01, -7.99443385e-01, -2.71003264e+00,\n",
       "        1.12432894e+00, -5.11499621e-01, -4.38529566e-01,  3.65525060e-01,\n",
       "       -4.53451933e-01,  1.22180050e-01,  5.47985634e-01, -1.83628790e-01,\n",
       "       -3.37236214e-01, -2.05137439e-01,  2.39504281e-01,  1.27749478e+00,\n",
       "       -7.24765456e-01, -2.24626475e+00, -1.32946989e+00, -8.18940909e-01,\n",
       "       -1.29116061e+00,  1.40518687e+00,  1.69997013e+00,  2.90959844e-01,\n",
       "        1.28699395e+00,  7.78993103e-01, -1.46991865e-01,  8.99143194e-01,\n",
       "        1.46226071e+00,  1.53368871e+00, -6.17680531e-01, -2.23301801e-01,\n",
       "        3.05808421e-01, -7.13833031e-01, -1.99980696e-01,  3.35858090e-01,\n",
       "        2.00765409e-01, -1.39755208e+00,  2.80716161e-01,  1.13381359e+00,\n",
       "        4.48927236e-03, -1.64469116e+00, -3.51423344e-01,  1.92698549e+00,\n",
       "       -4.10903606e-01, -1.48130268e+00, -8.37719661e-01,  6.71833839e-01,\n",
       "        2.94392803e-01, -1.43546086e+00, -5.09356098e-01, -3.91035326e-01,\n",
       "       -1.19180700e+00, -1.47144117e+00, -9.86861346e-01,  1.14241289e+00,\n",
       "       -2.61451737e+00,  8.04423256e-01, -1.87239551e-01,  7.58740159e-01,\n",
       "        5.21360498e-01,  2.06313464e-01, -4.66614645e-01,  1.73736050e+00,\n",
       "       -1.35594653e-01,  3.35796762e-01,  3.45106117e-01,  1.01019581e-01,\n",
       "        3.80622513e-02, -2.43007249e-01, -6.96579443e-02, -8.46276564e-01,\n",
       "        1.09526655e+00,  1.65805007e-01, -3.12447272e-01,  5.70138373e-01,\n",
       "        2.07693914e+00,  3.35529374e-01,  3.15372241e-01,  6.04469033e-01,\n",
       "       -3.29835368e-01, -1.38808125e+00, -2.38134353e-02,  2.49525681e+00,\n",
       "       -4.72804067e-01,  5.61595622e-01,  1.39607264e+00, -1.26631705e+00,\n",
       "        9.79375822e-01,  3.20521841e-01,  2.37030196e-01, -6.48731288e-01,\n",
       "        7.34509157e-01,  4.99209514e-01,  8.16318080e-01,  9.78117656e-01,\n",
       "        1.48923731e+00, -3.64978989e-01, -7.49095711e-01,  8.57438686e-01,\n",
       "        1.19256728e+00,  1.32578411e+00, -1.49511007e-03,  9.91578444e-01,\n",
       "        2.68946448e+00,  1.02018562e+00,  1.06791970e+00,  1.77524693e+00,\n",
       "       -5.59362130e-01, -5.82801756e-02,  1.20352350e+00,  3.18905351e-01,\n",
       "       -8.43056106e-02, -1.03436773e+00, -3.51421536e-01, -1.46779368e+00,\n",
       "        1.03910167e+00,  9.44274842e-02,  9.83862031e-01,  2.07109545e-01,\n",
       "        1.23611151e+00,  4.99743597e-01,  6.59725364e-01,  1.42889777e+00,\n",
       "       -5.36142582e-01,  1.95051943e-01, -1.20769825e+00, -1.21460021e+00,\n",
       "        6.22733037e-01,  3.97693623e-01, -1.48313176e-01, -1.05781020e+00,\n",
       "       -2.65226117e+00, -7.60403264e-01,  3.67996727e-01, -9.34510679e-01,\n",
       "        9.51529062e-01,  5.77830844e-02, -5.42923412e-01,  6.82582154e-01,\n",
       "       -1.48298961e+00, -3.84550858e-02,  4.52167631e-02, -4.66370072e-01,\n",
       "        2.37690673e-01,  2.34911386e-01,  5.85988792e-01,  7.35344538e-01,\n",
       "       -4.36427019e-01,  5.19242822e-01,  9.32005044e-01, -4.62552008e-02,\n",
       "       -3.56564036e-02,  7.35509160e-01,  1.63126179e+00,  8.26612475e-01,\n",
       "        7.77573105e-01,  6.98262680e-01, -7.21674594e-01, -1.60574209e+00,\n",
       "        2.29960242e+00,  7.74504057e-01,  5.96745476e-01,  8.84505900e-02,\n",
       "       -6.81144881e-01,  6.17182953e-01,  1.31387569e+00,  8.32965725e-01,\n",
       "        8.54061164e-01,  1.44053467e+00, -1.12047460e+00, -1.02072651e+00,\n",
       "       -3.85263663e-01, -1.62427899e+00, -1.75234656e+00,  3.94161456e-01,\n",
       "       -2.87784217e-01,  7.23324996e-02, -9.15431803e-01,  4.31836157e-01,\n",
       "        9.81485291e-01, -4.02163079e-01, -1.45528608e+00, -4.85702931e-02,\n",
       "        2.96424790e-01,  1.43073212e+00, -5.97899952e-01,  1.86001559e-01,\n",
       "        2.58838775e+00,  7.00264193e-01,  8.83210410e-01, -2.08447039e+00,\n",
       "       -1.64998916e-01, -5.25553875e-01, -2.33751023e-01, -5.55552815e-01,\n",
       "        1.42353054e+00, -1.05773771e+00, -1.08954819e-01, -1.09050848e+00,\n",
       "        1.54140642e+00,  6.61454243e-01, -9.25649768e-01, -1.76596514e+00,\n",
       "       -5.28224418e-01,  1.48184667e+00,  1.34359207e+00,  1.95304823e+00,\n",
       "       -1.33735916e-01,  2.81631508e-01,  5.92624256e-01,  1.50265889e-01,\n",
       "       -1.25247532e+00,  1.57046929e+00,  1.49811482e+00,  1.13960519e+00,\n",
       "       -1.41884656e+00,  2.42555455e-01, -3.72636621e-01,  6.00324943e-01,\n",
       "        2.18506085e+00, -5.88248148e-01, -6.41019393e-01, -1.55388928e+00,\n",
       "       -7.18560717e-01, -7.67101065e-01, -5.05906501e-02, -1.24477038e+00,\n",
       "        2.10410084e-01, -3.77632707e-01,  1.59893254e+00,  7.11193911e-01,\n",
       "       -4.80937682e-01,  2.05867283e+00,  9.21810514e-01, -1.03213710e+00,\n",
       "       -1.08653756e+00,  5.39839430e-01,  3.15878744e-01, -1.12817751e+00,\n",
       "       -5.51073489e-01, -6.02882344e-01, -5.67212390e-01,  4.39503053e-01,\n",
       "        5.20157231e-01,  5.01952149e-01, -1.08731194e-01, -1.45108274e-01,\n",
       "        1.25569306e+00,  3.11124668e-02, -1.34279054e+00, -3.54916784e-01,\n",
       "       -7.55175117e-01,  1.50405939e+00,  5.93059650e-01,  7.89243599e-01,\n",
       "        2.52493960e-02,  6.16188792e-01,  1.21779391e+00, -1.34099607e+00,\n",
       "        8.49768859e-01,  9.18276103e-01,  1.99669988e+00,  1.28725668e+00,\n",
       "       -9.19569369e-01,  2.16845642e-01,  1.63315358e+00, -1.04492090e+00,\n",
       "        1.31127918e+00,  6.14343147e-01, -1.61414806e+00,  9.17418451e-01,\n",
       "        8.29067139e-01, -4.87568297e-01,  7.71280113e-01,  1.86061293e+00,\n",
       "        1.82007029e+00,  1.01217951e+00, -9.09455341e-01,  4.62519252e-01,\n",
       "        4.93857243e-02,  5.31135135e-01, -9.58528755e-01,  2.74683519e-01,\n",
       "       -9.57718836e-01,  2.44131372e-01, -5.55181214e-01,  1.30641517e+00,\n",
       "       -1.62112849e+00, -6.98635389e-01,  8.10831865e-01, -1.76472797e+00,\n",
       "        1.45274646e+00, -7.10361729e-01,  5.35206144e-02, -6.36098107e-01,\n",
       "        2.45303046e-02, -3.13727190e-01,  2.30639729e+00,  5.30294731e-02,\n",
       "        3.51709519e+00, -7.29445066e-01,  6.58399011e-01, -4.07298639e-01,\n",
       "       -3.66280587e-01,  2.08054893e+00,  2.58512737e+00, -4.91203200e-01,\n",
       "       -8.48935112e-01, -2.01065295e-01, -8.89627701e-01, -6.11847393e-01,\n",
       "       -8.47339448e-01, -8.18327846e-01,  1.06545885e+00,  1.33001778e+00,\n",
       "       -5.65279192e-01,  9.83199875e-02, -1.87807350e-01,  1.35604957e-02,\n",
       "       -8.30584672e-01,  4.87054892e-02,  1.01423131e+00, -4.68545052e-01,\n",
       "        4.91507996e-01,  9.17901835e-01,  1.30349312e+00, -1.67212825e+00,\n",
       "        4.26544784e-01, -1.50200157e+00,  1.09784105e+00,  1.70106728e-01,\n",
       "        5.25635288e-01,  7.59868432e-01, -1.25110403e-01, -6.30200462e-01,\n",
       "        1.65965188e-01,  5.67711958e-02, -1.48197238e+00, -1.62462582e+00,\n",
       "        1.02283298e+00,  2.10409318e+00,  1.02657574e+00, -1.14871246e+00,\n",
       "        1.41251572e+00, -1.21220169e+00, -4.58918398e-01,  5.08071486e-01,\n",
       "        1.40219157e+00, -1.87394006e-01,  1.42840853e+00, -3.33703977e-01,\n",
       "       -1.79238462e+00, -1.26435928e+00, -2.87390077e-01,  2.34139097e-02,\n",
       "        9.23014028e-01,  1.00560862e+00,  9.70662175e-01,  6.62664348e-01,\n",
       "        2.28552713e+00, -5.46470491e-01,  1.39239448e-02,  7.65214360e-01,\n",
       "       -4.38991487e-01, -1.41498021e+00,  6.81571647e-01, -2.64072307e-02,\n",
       "       -1.11214909e+00, -3.15015141e-01,  1.39473995e+00,  1.13312811e+00,\n",
       "       -8.30131478e-01,  1.47871829e+00,  7.85115270e-01,  1.54006312e-01,\n",
       "        1.50390508e+00, -1.26197744e-01,  8.60160625e-01, -1.52996456e+00,\n",
       "        5.11945496e-01, -3.98022021e-01, -1.29733267e+00,  1.88588705e+00,\n",
       "       -3.10678365e-01, -7.07612297e-01, -5.08754819e-01, -1.62155977e+00,\n",
       "       -1.04741062e+00, -3.73349206e-01, -1.16185107e-01,  9.19115647e-01,\n",
       "       -1.79590054e+00,  1.87096854e+00, -3.98433025e-01, -9.38461727e-01,\n",
       "        6.07743689e-01, -5.00088946e-01,  1.64013090e-01,  7.65556093e-01,\n",
       "       -6.17117598e-02, -9.94676305e-01,  9.19855539e-02, -3.21050802e-01,\n",
       "       -5.79950803e-01, -6.90294480e-01, -1.96908541e-02, -8.74177274e-01,\n",
       "        1.29680756e+00,  1.30872305e+00,  1.12144978e+00,  5.27196254e-03,\n",
       "        1.63723635e-01, -2.72082501e-01,  1.96692681e-01,  4.67648099e-01,\n",
       "        2.22656821e-01, -2.27933638e+00,  5.33113671e-01,  1.24581736e-01,\n",
       "        4.46219246e-02,  2.22121664e-01,  4.51486821e-01, -3.28129907e-01,\n",
       "       -4.99787640e-01,  1.33372938e+00,  2.79345765e-01, -1.12937782e+00,\n",
       "       -1.33811197e+00,  8.76226782e-01, -8.30519349e-01, -3.41606460e-01,\n",
       "       -4.82043538e-01,  1.17718069e+00,  3.02938564e+00,  3.36521043e-01,\n",
       "        5.62492591e-01,  2.17698990e+00,  7.94442588e-01, -1.83663785e+00,\n",
       "        2.84306009e-01, -5.28629933e-01, -1.05937359e+00,  8.89636677e-02,\n",
       "        1.63273343e+00, -1.08062545e+00,  1.39265243e-02,  5.18762649e-01,\n",
       "       -1.53902756e+00,  2.12549541e+00, -3.41245631e-01, -1.03538417e-02,\n",
       "       -1.69950674e-01, -8.94415409e-01, -1.33593251e-01,  3.11972829e-01,\n",
       "        5.87290183e-01, -4.23206654e-01,  5.95084857e-01, -7.11770963e-01,\n",
       "        1.40364995e-01, -1.49222325e+00, -1.16629999e+00,  2.33119016e-01,\n",
       "        2.57760826e-01,  8.29462864e-01, -1.33184144e+00, -6.24515830e-01,\n",
       "        1.43766625e+00, -8.96020863e-01,  4.86504461e-01,  3.50744555e-01,\n",
       "        2.81144095e-01, -9.17638715e-01, -8.79186955e-01,  5.88372127e-01,\n",
       "        1.93141962e-01, -7.38241904e-01,  8.94158822e-01, -1.87632226e-01,\n",
       "       -8.77066446e-01,  4.95517425e-01,  1.78847182e+00,  1.12459051e-01,\n",
       "       -1.48417836e+00, -1.02381688e+00,  1.40416919e+00,  1.97528341e+00,\n",
       "       -3.25305995e-01, -1.79714367e+00,  9.80200884e-01,  5.10578220e-01,\n",
       "        1.30222075e+00, -1.56020484e+00,  9.45385783e-01, -5.67353897e-01,\n",
       "       -6.27038811e-01, -2.61713433e+00,  6.39888898e-01, -1.00658964e-01,\n",
       "        1.44396755e+00,  3.93385557e-01,  1.03326564e-01, -6.06576413e-01,\n",
       "       -1.73376539e+00,  8.26606075e-01, -1.15653779e+00, -1.06732104e+00,\n",
       "        2.00802792e+00, -6.65556564e-01,  1.10163618e+00,  4.03529967e-01,\n",
       "        2.21788717e-01, -1.67419849e+00,  3.82052049e-01,  1.19984720e+00,\n",
       "        6.00781433e-01,  3.31593144e-01,  1.22750655e+00,  1.27446480e+00,\n",
       "        8.09197114e-01, -3.90458749e-01, -1.12864173e+00, -5.10410180e-01,\n",
       "        2.43574076e-02,  1.76712163e+00, -9.59955301e-01,  5.04057315e-01,\n",
       "       -4.36165338e-01,  3.18281063e-01,  1.48778366e-01, -1.37466015e+00,\n",
       "       -1.45507931e+00,  6.22433495e-01,  7.28669920e-01, -6.10115705e-01,\n",
       "        9.48529526e-01, -5.25809459e-01, -1.28104356e+00, -3.32083749e-01,\n",
       "       -1.78189819e-01,  1.31719981e-01, -4.03756593e-02,  9.15278651e-01,\n",
       "       -1.25700919e-01,  7.66654430e-01,  1.33933663e+00,  1.76571188e-02,\n",
       "        2.12206292e-01, -1.71930492e+00, -1.08083215e+00, -1.32060242e+00,\n",
       "       -8.35564552e-01, -1.75865240e+00, -2.92903566e-01, -4.00284458e-01,\n",
       "       -3.74597466e-01,  6.84402512e-01,  1.11043983e+00, -8.22760701e-01,\n",
       "        9.06883072e-01,  3.31558309e-02,  2.19001175e-01,  1.65315992e+00])"
      ]
     },
     "execution_count": 75,
     "metadata": {},
     "output_type": "execute_result"
    }
   ],
   "source": [
    "#Ztest\n",
    "population = np.random.randn(1000)\n",
    "population"
   ]
  },
  {
   "cell_type": "code",
   "execution_count": 76,
   "id": "13862526",
   "metadata": {},
   "outputs": [
    {
     "name": "stderr",
     "output_type": "stream",
     "text": [
      "C:\\Users\\avina\\AppData\\Local\\Temp\\ipykernel_6548\\2958836585.py:1: UserWarning: \n",
      "\n",
      "`distplot` is a deprecated function and will be removed in seaborn v0.14.0.\n",
      "\n",
      "Please adapt your code to use either `displot` (a figure-level function with\n",
      "similar flexibility) or `histplot` (an axes-level function for histograms).\n",
      "\n",
      "For a guide to updating your code to use the new functions, please see\n",
      "https://gist.github.com/mwaskom/de44147ed2974457ad6372750bbe5751\n",
      "\n",
      "  sns.distplot(population)\n"
     ]
    },
    {
     "data": {
      "text/plain": [
       "<Axes: ylabel='Density'>"
      ]
     },
     "execution_count": 76,
     "metadata": {},
     "output_type": "execute_result"
    },
    {
     "data": {
      "image/png": "[encoded data removed]",
      "text/plain": [
       "<Figure size 640x480 with 1 Axes>"
      ]
     },
     "metadata": {},
     "output_type": "display_data"
    }
   ],
   "source": [
    "sns.distplot(population)"
   ]
  },
  {
   "cell_type": "code",
   "execution_count": 77,
   "id": "d00e7460",
   "metadata": {},
   "outputs": [
    {
     "data": {
      "text/plain": [
       "(0.02452581371584959, 1.0066624390279022)"
      ]
     },
     "execution_count": 77,
     "metadata": {},
     "output_type": "execute_result"
    }
   ],
   "source": [
    "np.mean(population), np.std(population)"
   ]
  },
  {
   "cell_type": "code",
   "execution_count": 78,
   "id": "31d00228",
   "metadata": {},
   "outputs": [],
   "source": [
    "null_mean = 0.05 #claim\n",
    "#if pvalue <= 0.05 -- reject null hypothesis\n",
    "#if p value > 0.05 -- fail to reject null hypothesis\n",
    "\n",
    "\n",
    "from statsmodels.stats.weightstats import ztest"
   ]
  },
  {
   "cell_type": "code",
   "execution_count": 79,
   "id": "1ecfe957",
   "metadata": {},
   "outputs": [],
   "source": [
    "zscore, pvalue = ztest(population, value = null_mean, alternative = 'larger') #here alternative means, mean is greater than null mean"
   ]
  },
  {
   "cell_type": "code",
   "execution_count": 80,
   "id": "c3df70f6",
   "metadata": {},
   "outputs": [
    {
     "data": {
      "text/plain": [
       "-0.7998327818349446"
      ]
     },
     "execution_count": 80,
     "metadata": {},
     "output_type": "execute_result"
    }
   ],
   "source": [
    "zscore"
   ]
  },
  {
   "cell_type": "code",
   "execution_count": 81,
   "id": "57da2a68",
   "metadata": {},
   "outputs": [
    {
     "data": {
      "text/plain": [
       "0.7880961564866675"
      ]
     },
     "execution_count": 81,
     "metadata": {},
     "output_type": "execute_result"
    }
   ],
   "source": [
    "pvalue"
   ]
  },
  {
   "cell_type": "code",
   "execution_count": 82,
   "id": "f0961ffb",
   "metadata": {},
   "outputs": [
    {
     "name": "stdout",
     "output_type": "stream",
     "text": [
      "fail to reject the H0\n"
     ]
    }
   ],
   "source": [
    "if pvalue <= 0.05:\n",
    "    print(\"Reject the H0\")\n",
    "else:\n",
    "    print(\"fail to reject the H0\")"
   ]
  },
  {
   "cell_type": "raw",
   "id": "bce771b3",
   "metadata": {},
   "source": [
    "#A school calculated iq scores of 50 students, the average iq  turned out to be 100. the mean of population iq is 90 \n",
    "#and the std deviation 16. \\\n",
    "#state whether the claim by school \n",
    "#that IQ increases if student study more than avg of school with 5% of significance level\n",
    "\n",
    "#null hypothesis : mean_iq = 90\n",
    "#Alternate: mean_iq > 90"
   ]
  },
  {
   "cell_type": "code",
   "execution_count": 83,
   "id": "b9d7efd3",
   "metadata": {},
   "outputs": [],
   "source": [
    "#zcritical approach\n",
    "import scipy.stats as stats\n",
    "\n",
    "sample_mean = 100\n",
    "population_mean = 90\n",
    "population_std = 16\n",
    "sample_size = 50\n",
    "alpha = 0.05"
   ]
  },
  {
   "cell_type": "code",
   "execution_count": 84,
   "id": "63b64208",
   "metadata": {},
   "outputs": [],
   "source": [
    "zscore = (sample_mean - population_mean)/(population_std/np.sqrt(sample_size))"
   ]
  },
  {
   "cell_type": "code",
   "execution_count": 85,
   "id": "325385a5",
   "metadata": {},
   "outputs": [
    {
     "data": {
      "text/plain": [
       "4.419417382415922"
      ]
     },
     "execution_count": 85,
     "metadata": {},
     "output_type": "execute_result"
    }
   ],
   "source": [
    "zscore"
   ]
  },
  {
   "cell_type": "code",
   "execution_count": 86,
   "id": "b7e72746",
   "metadata": {},
   "outputs": [],
   "source": [
    "#stats module in scipy>>zcritical\n",
    "#percent point function>>inverse of cdf\n",
    "zcritical = stats.norm.ppf(1-alpha)"
   ]
  },
  {
   "cell_type": "code",
   "execution_count": 87,
   "id": "200af89f",
   "metadata": {},
   "outputs": [
    {
     "data": {
      "text/plain": [
       "1.6448536269514722"
      ]
     },
     "execution_count": 87,
     "metadata": {},
     "output_type": "execute_result"
    }
   ],
   "source": [
    "zcritical"
   ]
  },
  {
   "cell_type": "code",
   "execution_count": 88,
   "id": "f3b4ba91",
   "metadata": {},
   "outputs": [
    {
     "name": "stdout",
     "output_type": "stream",
     "text": [
      "Reject the h0\n"
     ]
    }
   ],
   "source": [
    "if zscore >= zcritical:\n",
    "    print(\"Reject the h0\")\n",
    "else:\n",
    "    print(\"fail to reject the h0\")"
   ]
  },
  {
   "cell_type": "code",
   "execution_count": 89,
   "id": "10b1bf37",
   "metadata": {},
   "outputs": [
    {
     "data": {
      "text/plain": [
       "4.948367312573865e-06"
      ]
     },
     "execution_count": 89,
     "metadata": {},
     "output_type": "execute_result"
    }
   ],
   "source": [
    "#pvalue approach using scipy\n",
    "\n",
    "pvalue = 1-stats.norm.cdf(zscore)\n",
    "pvalue"
   ]
  },
  {
   "cell_type": "code",
   "execution_count": 90,
   "id": "65ea3093",
   "metadata": {},
   "outputs": [
    {
     "name": "stdout",
     "output_type": "stream",
     "text": [
      "Reject the H0\n"
     ]
    }
   ],
   "source": [
    "if pvalue <= alpha:\n",
    "    print(\"Reject the H0\")\n",
    "else:\n",
    "    print(\"Fail to reject H0\")"
   ]
  },
  {
   "cell_type": "code",
   "execution_count": 91,
   "id": "92d0dbb4",
   "metadata": {},
   "outputs": [],
   "source": [
    "#how to know if the given data is normally distributed or not\n",
    "#distribution plot, q-q plot\n",
    "#statistical test"
   ]
  },
  {
   "cell_type": "code",
   "execution_count": 92,
   "id": "f124b7f2",
   "metadata": {},
   "outputs": [],
   "source": [
    "data = pd.read_csv(\"https://raw.githubusercontent.com/shrikant-temburwar/Wine-Quality-Dataset/master/winequality-red.csv\", sep = \";\")"
   ]
  },
  {
   "cell_type": "code",
   "execution_count": 93,
   "id": "6801450d",
   "metadata": {},
   "outputs": [
    {
     "data": {
      "text/html": [
       "<div>\n",
       "<style scoped>\n",
       "    .dataframe tbody tr th:only-of-type {\n",
       "        vertical-align: middle;\n",
       "    }\n",
       "\n",
       "    .dataframe tbody tr th {\n",
       "        vertical-align: top;\n",
       "    }\n",
       "\n",
       "    .dataframe thead th {\n",
       "        text-align: right;\n",
       "    }\n",
       "</style>\n",
       "<table border=\"1\" class=\"dataframe\">\n",
       "  <thead>\n",
       "    <tr style=\"text-align: right;\">\n",
       "      <th></th>\n",
       "      <th>fixed acidity</th>\n",
       "      <th>volatile acidity</th>\n",
       "      <th>citric acid</th>\n",
       "      <th>residual sugar</th>\n",
       "      <th>chlorides</th>\n",
       "      <th>free sulfur dioxide</th>\n",
       "      <th>total sulfur dioxide</th>\n",
       "      <th>density</th>\n",
       "      <th>pH</th>\n",
       "      <th>sulphates</th>\n",
       "      <th>alcohol</th>\n",
       "      <th>quality</th>\n",
       "    </tr>\n",
       "  </thead>\n",
       "  <tbody>\n",
       "    <tr>\n",
       "      <th>0</th>\n",
       "      <td>7.4</td>\n",
       "      <td>0.700</td>\n",
       "      <td>0.00</td>\n",
       "      <td>1.9</td>\n",
       "      <td>0.076</td>\n",
       "      <td>11.0</td>\n",
       "      <td>34.0</td>\n",
       "      <td>0.99780</td>\n",
       "      <td>3.51</td>\n",
       "      <td>0.56</td>\n",
       "      <td>9.4</td>\n",
       "      <td>5</td>\n",
       "    </tr>\n",
       "    <tr>\n",
       "      <th>1</th>\n",
       "      <td>7.8</td>\n",
       "      <td>0.880</td>\n",
       "      <td>0.00</td>\n",
       "      <td>2.6</td>\n",
       "      <td>0.098</td>\n",
       "      <td>25.0</td>\n",
       "      <td>67.0</td>\n",
       "      <td>0.99680</td>\n",
       "      <td>3.20</td>\n",
       "      <td>0.68</td>\n",
       "      <td>9.8</td>\n",
       "      <td>5</td>\n",
       "    </tr>\n",
       "    <tr>\n",
       "      <th>2</th>\n",
       "      <td>7.8</td>\n",
       "      <td>0.760</td>\n",
       "      <td>0.04</td>\n",
       "      <td>2.3</td>\n",
       "      <td>0.092</td>\n",
       "      <td>15.0</td>\n",
       "      <td>54.0</td>\n",
       "      <td>0.99700</td>\n",
       "      <td>3.26</td>\n",
       "      <td>0.65</td>\n",
       "      <td>9.8</td>\n",
       "      <td>5</td>\n",
       "    </tr>\n",
       "    <tr>\n",
       "      <th>3</th>\n",
       "      <td>11.2</td>\n",
       "      <td>0.280</td>\n",
       "      <td>0.56</td>\n",
       "      <td>1.9</td>\n",
       "      <td>0.075</td>\n",
       "      <td>17.0</td>\n",
       "      <td>60.0</td>\n",
       "      <td>0.99800</td>\n",
       "      <td>3.16</td>\n",
       "      <td>0.58</td>\n",
       "      <td>9.8</td>\n",
       "      <td>6</td>\n",
       "    </tr>\n",
       "    <tr>\n",
       "      <th>4</th>\n",
       "      <td>7.4</td>\n",
       "      <td>0.700</td>\n",
       "      <td>0.00</td>\n",
       "      <td>1.9</td>\n",
       "      <td>0.076</td>\n",
       "      <td>11.0</td>\n",
       "      <td>34.0</td>\n",
       "      <td>0.99780</td>\n",
       "      <td>3.51</td>\n",
       "      <td>0.56</td>\n",
       "      <td>9.4</td>\n",
       "      <td>5</td>\n",
       "    </tr>\n",
       "    <tr>\n",
       "      <th>...</th>\n",
       "      <td>...</td>\n",
       "      <td>...</td>\n",
       "      <td>...</td>\n",
       "      <td>...</td>\n",
       "      <td>...</td>\n",
       "      <td>...</td>\n",
       "      <td>...</td>\n",
       "      <td>...</td>\n",
       "      <td>...</td>\n",
       "      <td>...</td>\n",
       "      <td>...</td>\n",
       "      <td>...</td>\n",
       "    </tr>\n",
       "    <tr>\n",
       "      <th>1594</th>\n",
       "      <td>6.2</td>\n",
       "      <td>0.600</td>\n",
       "      <td>0.08</td>\n",
       "      <td>2.0</td>\n",
       "      <td>0.090</td>\n",
       "      <td>32.0</td>\n",
       "      <td>44.0</td>\n",
       "      <td>0.99490</td>\n",
       "      <td>3.45</td>\n",
       "      <td>0.58</td>\n",
       "      <td>10.5</td>\n",
       "      <td>5</td>\n",
       "    </tr>\n",
       "    <tr>\n",
       "      <th>1595</th>\n",
       "      <td>5.9</td>\n",
       "      <td>0.550</td>\n",
       "      <td>0.10</td>\n",
       "      <td>2.2</td>\n",
       "      <td>0.062</td>\n",
       "      <td>39.0</td>\n",
       "      <td>51.0</td>\n",
       "      <td>0.99512</td>\n",
       "      <td>3.52</td>\n",
       "      <td>0.76</td>\n",
       "      <td>11.2</td>\n",
       "      <td>6</td>\n",
       "    </tr>\n",
       "    <tr>\n",
       "      <th>1596</th>\n",
       "      <td>6.3</td>\n",
       "      <td>0.510</td>\n",
       "      <td>0.13</td>\n",
       "      <td>2.3</td>\n",
       "      <td>0.076</td>\n",
       "      <td>29.0</td>\n",
       "      <td>40.0</td>\n",
       "      <td>0.99574</td>\n",
       "      <td>3.42</td>\n",
       "      <td>0.75</td>\n",
       "      <td>11.0</td>\n",
       "      <td>6</td>\n",
       "    </tr>\n",
       "    <tr>\n",
       "      <th>1597</th>\n",
       "      <td>5.9</td>\n",
       "      <td>0.645</td>\n",
       "      <td>0.12</td>\n",
       "      <td>2.0</td>\n",
       "      <td>0.075</td>\n",
       "      <td>32.0</td>\n",
       "      <td>44.0</td>\n",
       "      <td>0.99547</td>\n",
       "      <td>3.57</td>\n",
       "      <td>0.71</td>\n",
       "      <td>10.2</td>\n",
       "      <td>5</td>\n",
       "    </tr>\n",
       "    <tr>\n",
       "      <th>1598</th>\n",
       "      <td>6.0</td>\n",
       "      <td>0.310</td>\n",
       "      <td>0.47</td>\n",
       "      <td>3.6</td>\n",
       "      <td>0.067</td>\n",
       "      <td>18.0</td>\n",
       "      <td>42.0</td>\n",
       "      <td>0.99549</td>\n",
       "      <td>3.39</td>\n",
       "      <td>0.66</td>\n",
       "      <td>11.0</td>\n",
       "      <td>6</td>\n",
       "    </tr>\n",
       "  </tbody>\n",
       "</table>\n",
       "<p>1599 rows × 12 columns</p>\n",
       "</div>"
      ],
      "text/plain": [
       "      fixed acidity  volatile acidity  citric acid  residual sugar  chlorides  \\\n",
       "0               7.4             0.700         0.00             1.9      0.076   \n",
       "1               7.8             0.880         0.00             2.6      0.098   \n",
       "2               7.8             0.760         0.04             2.3      0.092   \n",
       "3              11.2             0.280         0.56             1.9      0.075   \n",
       "4               7.4             0.700         0.00             1.9      0.076   \n",
       "...             ...               ...          ...             ...        ...   \n",
       "1594            6.2             0.600         0.08             2.0      0.090   \n",
       "1595            5.9             0.550         0.10             2.2      0.062   \n",
       "1596            6.3             0.510         0.13             2.3      0.076   \n",
       "1597            5.9             0.645         0.12             2.0      0.075   \n",
       "1598            6.0             0.310         0.47             3.6      0.067   \n",
       "\n",
       "      free sulfur dioxide  total sulfur dioxide  density    pH  sulphates  \\\n",
       "0                    11.0                  34.0  0.99780  3.51       0.56   \n",
       "1                    25.0                  67.0  0.99680  3.20       0.68   \n",
       "2                    15.0                  54.0  0.99700  3.26       0.65   \n",
       "3                    17.0                  60.0  0.99800  3.16       0.58   \n",
       "4                    11.0                  34.0  0.99780  3.51       0.56   \n",
       "...                   ...                   ...      ...   ...        ...   \n",
       "1594                 32.0                  44.0  0.99490  3.45       0.58   \n",
       "1595                 39.0                  51.0  0.99512  3.52       0.76   \n",
       "1596                 29.0                  40.0  0.99574  3.42       0.75   \n",
       "1597                 32.0                  44.0  0.99547  3.57       0.71   \n",
       "1598                 18.0                  42.0  0.99549  3.39       0.66   \n",
       "\n",
       "      alcohol  quality  \n",
       "0         9.4        5  \n",
       "1         9.8        5  \n",
       "2         9.8        5  \n",
       "3         9.8        6  \n",
       "4         9.4        5  \n",
       "...       ...      ...  \n",
       "1594     10.5        5  \n",
       "1595     11.2        6  \n",
       "1596     11.0        6  \n",
       "1597     10.2        5  \n",
       "1598     11.0        6  \n",
       "\n",
       "[1599 rows x 12 columns]"
      ]
     },
     "execution_count": 93,
     "metadata": {},
     "output_type": "execute_result"
    }
   ],
   "source": [
    "data"
   ]
  },
  {
   "cell_type": "code",
   "execution_count": 94,
   "id": "49beff4a",
   "metadata": {},
   "outputs": [
    {
     "name": "stderr",
     "output_type": "stream",
     "text": [
      "C:\\Users\\avina\\AppData\\Local\\Temp\\ipykernel_6548\\2270182375.py:2: UserWarning: \n",
      "\n",
      "`distplot` is a deprecated function and will be removed in seaborn v0.14.0.\n",
      "\n",
      "Please adapt your code to use either `displot` (a figure-level function with\n",
      "similar flexibility) or `histplot` (an axes-level function for histograms).\n",
      "\n",
      "For a guide to updating your code to use the new functions, please see\n",
      "https://gist.github.com/mwaskom/de44147ed2974457ad6372750bbe5751\n",
      "\n",
      "  sns.distplot(pop)\n"
     ]
    },
    {
     "data": {
      "text/plain": [
       "<Axes: ylabel='Density'>"
      ]
     },
     "execution_count": 94,
     "metadata": {},
     "output_type": "execute_result"
    },
    {
     "data": {
      "image/png": "[encoded data removed]",
      "text/plain": [
       "<Figure size 640x480 with 1 Axes>"
      ]
     },
     "metadata": {},
     "output_type": "display_data"
    }
   ],
   "source": [
    "pop = np.random.randn(100000)\n",
    "sns.distplot(pop)"
   ]
  },
  {
   "cell_type": "code",
   "execution_count": 95,
   "id": "c4efff59",
   "metadata": {},
   "outputs": [
    {
     "data": {
      "text/plain": [
       "ShapiroResult(statistic=0.9973912600848881, pvalue=0.10877436477537217)"
      ]
     },
     "execution_count": 95,
     "metadata": {},
     "output_type": "execute_result"
    }
   ],
   "source": [
    "from scipy import stats\n",
    "stats.shapiro(population)"
   ]
  },
  {
   "cell_type": "code",
   "execution_count": 96,
   "id": "416ba9af",
   "metadata": {},
   "outputs": [
    {
     "name": "stderr",
     "output_type": "stream",
     "text": [
      "C:\\Users\\avina\\AppData\\Local\\Temp\\ipykernel_6548\\3678522696.py:1: UserWarning: \n",
      "\n",
      "`distplot` is a deprecated function and will be removed in seaborn v0.14.0.\n",
      "\n",
      "Please adapt your code to use either `displot` (a figure-level function with\n",
      "similar flexibility) or `histplot` (an axes-level function for histograms).\n",
      "\n",
      "For a guide to updating your code to use the new functions, please see\n",
      "https://gist.github.com/mwaskom/de44147ed2974457ad6372750bbe5751\n",
      "\n",
      "  sns.distplot(data['citric acid'])\n"
     ]
    },
    {
     "data": {
      "text/plain": [
       "<Axes: xlabel='citric acid', ylabel='Density'>"
      ]
     },
     "execution_count": 96,
     "metadata": {},
     "output_type": "execute_result"
    },
    {
     "data": {
      "image/png": "[encoded data removed]",
      "text/plain": [
       "<Figure size 640x480 with 1 Axes>"
      ]
     },
     "metadata": {},
     "output_type": "display_data"
    }
   ],
   "source": [
    "sns.distplot(data['citric acid'])"
   ]
  },
  {
   "cell_type": "code",
   "execution_count": 97,
   "id": "af280b33",
   "metadata": {},
   "outputs": [
    {
     "data": {
      "text/plain": [
       "ShapiroResult(statistic=0.9552919890668837, pvalue=1.0219317829705018e-21)"
      ]
     },
     "execution_count": 97,
     "metadata": {},
     "output_type": "execute_result"
    }
   ],
   "source": [
    "stats.shapiro(data['citric acid'])"
   ]
  },
  {
   "cell_type": "raw",
   "id": "bcd332d1",
   "metadata": {},
   "source": [
    "#pvalue is less than 0.05 and hence reject the h0 that the sample is drawn from a normal dist population"
   ]
  },
  {
   "cell_type": "code",
   "execution_count": 98,
   "id": "d6f69e0b",
   "metadata": {},
   "outputs": [],
   "source": [
    "#T test >> ss < 30 or sigma of pop is not given\n",
    "#one sample t test (wrt one independent sample)\n",
    "#two sample t test (wrt two independent sample)\n",
    "#paired t test(two samples from same population from different time interval)"
   ]
  },
  {
   "cell_type": "code",
   "execution_count": 99,
   "id": "e973da2e",
   "metadata": {},
   "outputs": [],
   "source": [
    "#one sample t test"
   ]
  },
  {
   "cell_type": "code",
   "execution_count": 100,
   "id": "fe5beed6",
   "metadata": {},
   "outputs": [],
   "source": [
    "population = np.random.randint(10, 50, 50)"
   ]
  },
  {
   "cell_type": "code",
   "execution_count": 101,
   "id": "00a24dca",
   "metadata": {},
   "outputs": [
    {
     "data": {
      "text/plain": [
       "array([18, 40, 10, 43, 29, 45, 44, 41, 42, 18, 48, 45, 23, 14, 29, 25, 48,\n",
       "       28, 27, 38, 42, 13, 35, 34, 11, 15, 25, 11, 14, 43, 34, 36, 16, 38,\n",
       "       33, 31, 49, 39, 14, 42, 44, 11, 42, 38, 13, 31, 13, 44, 12, 31])"
      ]
     },
     "execution_count": 101,
     "metadata": {},
     "output_type": "execute_result"
    }
   ],
   "source": [
    "population"
   ]
  },
  {
   "cell_type": "code",
   "execution_count": 102,
   "id": "09ea332d",
   "metadata": {},
   "outputs": [],
   "source": [
    "sample = np.random.choice(population, 20)"
   ]
  },
  {
   "cell_type": "code",
   "execution_count": 103,
   "id": "5adbcc7e",
   "metadata": {},
   "outputs": [
    {
     "data": {
      "text/plain": [
       "24.25"
      ]
     },
     "execution_count": 103,
     "metadata": {},
     "output_type": "execute_result"
    }
   ],
   "source": [
    "np.mean(sample)"
   ]
  },
  {
   "cell_type": "code",
   "execution_count": 104,
   "id": "ff2d01e9",
   "metadata": {},
   "outputs": [
    {
     "data": {
      "text/plain": [
       "TtestResult(statistic=-0.2467828471158408, pvalue=0.8077230504000065, df=19)"
      ]
     },
     "execution_count": 104,
     "metadata": {},
     "output_type": "execute_result"
    }
   ],
   "source": [
    "null_value = 25 #(the mean of population is 25)\n",
    "import scipy\n",
    "scipy.stats.ttest_1samp(sample, null_value)"
   ]
  },
  {
   "cell_type": "code",
   "execution_count": 105,
   "id": "2c3e6c28",
   "metadata": {},
   "outputs": [],
   "source": [
    "#if pvalue>0.05, fail to reject the ho"
   ]
  },
  {
   "cell_type": "code",
   "execution_count": 106,
   "id": "7f78b02c",
   "metadata": {},
   "outputs": [],
   "source": [
    "#two sample t test"
   ]
  },
  {
   "cell_type": "code",
   "execution_count": 107,
   "id": "6d14db3f",
   "metadata": {},
   "outputs": [],
   "source": [
    "virat_kohli_score = np.random.choice(population, 20)"
   ]
  },
  {
   "cell_type": "code",
   "execution_count": 108,
   "id": "cb268d5d",
   "metadata": {},
   "outputs": [
    {
     "data": {
      "text/plain": [
       "array([38, 14, 23, 38, 44, 25, 27, 18, 18, 25, 38, 38, 44, 25, 31, 31, 25,\n",
       "       38, 28, 13])"
      ]
     },
     "execution_count": 108,
     "metadata": {},
     "output_type": "execute_result"
    }
   ],
   "source": [
    "virat_kohli_score"
   ]
  },
  {
   "cell_type": "code",
   "execution_count": 109,
   "id": "6fa425e9",
   "metadata": {},
   "outputs": [],
   "source": [
    "rohit_sharma_score = [13, 25, 48, 28, 19, 12, 13, 18, 98, 40, 18, 23, 34, 33, 45, 58, 46, 27, 50, 49]"
   ]
  },
  {
   "cell_type": "code",
   "execution_count": 110,
   "id": "4e67295e",
   "metadata": {},
   "outputs": [
    {
     "data": {
      "text/plain": [
       "(34.85, 29.05)"
      ]
     },
     "execution_count": 110,
     "metadata": {},
     "output_type": "execute_result"
    }
   ],
   "source": [
    "np.mean(rohit_sharma_score), np.mean(virat_kohli_score)"
   ]
  },
  {
   "cell_type": "code",
   "execution_count": 111,
   "id": "eb9b20b5",
   "metadata": {},
   "outputs": [
    {
     "data": {
      "text/plain": [
       "TtestResult(statistic=-1.146944801267532, pvalue=0.25857498007294755, df=38.0)"
      ]
     },
     "execution_count": 111,
     "metadata": {},
     "output_type": "execute_result"
    }
   ],
   "source": [
    "scipy.stats.ttest_ind(virat_kohli_score, rohit_sharma_score)"
   ]
  },
  {
   "cell_type": "code",
   "execution_count": 112,
   "id": "eb9a5172",
   "metadata": {},
   "outputs": [],
   "source": [
    "#if pvalue > 0.05, fail to reject the h0"
   ]
  },
  {
   "cell_type": "code",
   "execution_count": 113,
   "id": "a56f73f9",
   "metadata": {},
   "outputs": [],
   "source": [
    "#paired t test >> two sample from same population at different time interval"
   ]
  },
  {
   "cell_type": "code",
   "execution_count": 114,
   "id": "1980bbd2",
   "metadata": {},
   "outputs": [],
   "source": [
    "rohit_score_first_inning = [31, 36, 46, 24, 48, 46, 47, 47, 16, 35, 45, 37, 24, 29, 27, 42, 49, 37, 47, 46]\n",
    "rohit_score_second_inning = [31, 76, 46, 24, 48, 23, 49, 47, 37, 35, 45, 37, 74, 39, 27, 42, 49, 37, 47, 46]"
   ]
  },
  {
   "cell_type": "code",
   "execution_count": 115,
   "id": "a07e0f3b",
   "metadata": {},
   "outputs": [
    {
     "data": {
      "text/plain": [
       "(37.95, 42.95)"
      ]
     },
     "execution_count": 115,
     "metadata": {},
     "output_type": "execute_result"
    }
   ],
   "source": [
    "np.mean(rohit_score_first_inning), np.mean(rohit_score_second_inning)"
   ]
  },
  {
   "cell_type": "code",
   "execution_count": 116,
   "id": "e0e5d10a",
   "metadata": {},
   "outputs": [
    {
     "data": {
      "text/plain": [
       "TtestResult(statistic=-1.4256648712805027, pvalue=0.1701880684614766, df=19)"
      ]
     },
     "execution_count": 116,
     "metadata": {},
     "output_type": "execute_result"
    }
   ],
   "source": [
    "scipy.stats.ttest_rel(rohit_score_first_inning, rohit_score_second_inning)"
   ]
  },
  {
   "cell_type": "code",
   "execution_count": 117,
   "id": "fea0eb79",
   "metadata": {},
   "outputs": [],
   "source": [
    "#chi square test>> through two ways"
   ]
  },
  {
   "cell_type": "code",
   "execution_count": 118,
   "id": "ca37a5b9",
   "metadata": {},
   "outputs": [
    {
     "data": {
      "text/html": [
       "<div>\n",
       "<style scoped>\n",
       "    .dataframe tbody tr th:only-of-type {\n",
       "        vertical-align: middle;\n",
       "    }\n",
       "\n",
       "    .dataframe tbody tr th {\n",
       "        vertical-align: top;\n",
       "    }\n",
       "\n",
       "    .dataframe thead th {\n",
       "        text-align: right;\n",
       "    }\n",
       "</style>\n",
       "<table border=\"1\" class=\"dataframe\">\n",
       "  <thead>\n",
       "    <tr style=\"text-align: right;\">\n",
       "      <th></th>\n",
       "      <th>sex</th>\n",
       "      <th>smoker</th>\n",
       "    </tr>\n",
       "  </thead>\n",
       "  <tbody>\n",
       "    <tr>\n",
       "      <th>0</th>\n",
       "      <td>Female</td>\n",
       "      <td>No</td>\n",
       "    </tr>\n",
       "    <tr>\n",
       "      <th>1</th>\n",
       "      <td>Male</td>\n",
       "      <td>No</td>\n",
       "    </tr>\n",
       "    <tr>\n",
       "      <th>2</th>\n",
       "      <td>Male</td>\n",
       "      <td>No</td>\n",
       "    </tr>\n",
       "    <tr>\n",
       "      <th>3</th>\n",
       "      <td>Male</td>\n",
       "      <td>No</td>\n",
       "    </tr>\n",
       "    <tr>\n",
       "      <th>4</th>\n",
       "      <td>Female</td>\n",
       "      <td>No</td>\n",
       "    </tr>\n",
       "    <tr>\n",
       "      <th>...</th>\n",
       "      <td>...</td>\n",
       "      <td>...</td>\n",
       "    </tr>\n",
       "    <tr>\n",
       "      <th>239</th>\n",
       "      <td>Male</td>\n",
       "      <td>No</td>\n",
       "    </tr>\n",
       "    <tr>\n",
       "      <th>240</th>\n",
       "      <td>Female</td>\n",
       "      <td>Yes</td>\n",
       "    </tr>\n",
       "    <tr>\n",
       "      <th>241</th>\n",
       "      <td>Male</td>\n",
       "      <td>Yes</td>\n",
       "    </tr>\n",
       "    <tr>\n",
       "      <th>242</th>\n",
       "      <td>Male</td>\n",
       "      <td>No</td>\n",
       "    </tr>\n",
       "    <tr>\n",
       "      <th>243</th>\n",
       "      <td>Female</td>\n",
       "      <td>No</td>\n",
       "    </tr>\n",
       "  </tbody>\n",
       "</table>\n",
       "<p>244 rows × 2 columns</p>\n",
       "</div>"
      ],
      "text/plain": [
       "        sex smoker\n",
       "0    Female     No\n",
       "1      Male     No\n",
       "2      Male     No\n",
       "3      Male     No\n",
       "4    Female     No\n",
       "..      ...    ...\n",
       "239    Male     No\n",
       "240  Female    Yes\n",
       "241    Male    Yes\n",
       "242    Male     No\n",
       "243  Female     No\n",
       "\n",
       "[244 rows x 2 columns]"
      ]
     },
     "execution_count": 118,
     "metadata": {},
     "output_type": "execute_result"
    }
   ],
   "source": [
    "df[['sex', 'smoker']]"
   ]
  },
  {
   "cell_type": "code",
   "execution_count": 119,
   "id": "fcff1d06",
   "metadata": {},
   "outputs": [],
   "source": [
    "data_table = pd.crosstab(df['sex'], df['smoker'])"
   ]
  },
  {
   "cell_type": "code",
   "execution_count": 120,
   "id": "8230a8ab",
   "metadata": {},
   "outputs": [
    {
     "data": {
      "text/html": [
       "<div>\n",
       "<style scoped>\n",
       "    .dataframe tbody tr th:only-of-type {\n",
       "        vertical-align: middle;\n",
       "    }\n",
       "\n",
       "    .dataframe tbody tr th {\n",
       "        vertical-align: top;\n",
       "    }\n",
       "\n",
       "    .dataframe thead th {\n",
       "        text-align: right;\n",
       "    }\n",
       "</style>\n",
       "<table border=\"1\" class=\"dataframe\">\n",
       "  <thead>\n",
       "    <tr style=\"text-align: right;\">\n",
       "      <th>smoker</th>\n",
       "      <th>Yes</th>\n",
       "      <th>No</th>\n",
       "    </tr>\n",
       "    <tr>\n",
       "      <th>sex</th>\n",
       "      <th></th>\n",
       "      <th></th>\n",
       "    </tr>\n",
       "  </thead>\n",
       "  <tbody>\n",
       "    <tr>\n",
       "      <th>Male</th>\n",
       "      <td>60</td>\n",
       "      <td>97</td>\n",
       "    </tr>\n",
       "    <tr>\n",
       "      <th>Female</th>\n",
       "      <td>33</td>\n",
       "      <td>54</td>\n",
       "    </tr>\n",
       "  </tbody>\n",
       "</table>\n",
       "</div>"
      ],
      "text/plain": [
       "smoker  Yes  No\n",
       "sex            \n",
       "Male     60  97\n",
       "Female   33  54"
      ]
     },
     "execution_count": 120,
     "metadata": {},
     "output_type": "execute_result"
    }
   ],
   "source": [
    "data_table"
   ]
  },
  {
   "cell_type": "code",
   "execution_count": 156,
   "id": "432c7bf4",
   "metadata": {},
   "outputs": [
    {
     "data": {
      "text/plain": [
       "array([[60, 97],\n",
       "       [33, 54]], dtype=int64)"
      ]
     },
     "execution_count": 156,
     "metadata": {},
     "output_type": "execute_result"
    }
   ],
   "source": [
    "data_table.values"
   ]
  },
  {
   "cell_type": "code",
   "execution_count": 122,
   "id": "056a754c",
   "metadata": {},
   "outputs": [],
   "source": [
    "#observed value and expected value\n",
    "observed_values = data_table.values"
   ]
  },
  {
   "cell_type": "code",
   "execution_count": 123,
   "id": "1a9f1c34",
   "metadata": {},
   "outputs": [],
   "source": [
    "#1st approach>>allowing chi2 itself some expected values\n",
    "stats_test, p, dof, expected_values = stats.chi2_contingency(observed_values)"
   ]
  },
  {
   "cell_type": "code",
   "execution_count": 124,
   "id": "d7702510",
   "metadata": {},
   "outputs": [
    {
     "data": {
      "text/plain": [
       "array([[59.84016393, 97.15983607],\n",
       "       [33.15983607, 53.84016393]])"
      ]
     },
     "execution_count": 124,
     "metadata": {},
     "output_type": "execute_result"
    }
   ],
   "source": [
    "expected_values"
   ]
  },
  {
   "cell_type": "code",
   "execution_count": 125,
   "id": "01b05041",
   "metadata": {},
   "outputs": [
    {
     "data": {
      "text/plain": [
       "array([[60, 97],\n",
       "       [33, 54]], dtype=int64)"
      ]
     },
     "execution_count": 125,
     "metadata": {},
     "output_type": "execute_result"
    }
   ],
   "source": [
    "observed_values"
   ]
  },
  {
   "cell_type": "code",
   "execution_count": 126,
   "id": "2dba8fac",
   "metadata": {},
   "outputs": [
    {
     "name": "stdout",
     "output_type": "stream",
     "text": [
      "(array([60, 97], dtype=int64), array([59.84016393, 97.15983607]))\n",
      "(array([33, 54], dtype=int64), array([33.15983607, 53.84016393]))\n"
     ]
    }
   ],
   "source": [
    "for i in zip(observed_values, expected_values):\n",
    "    print(i)"
   ]
  },
  {
   "cell_type": "code",
   "execution_count": 127,
   "id": "416efdc3",
   "metadata": {},
   "outputs": [],
   "source": [
    "chisquare_test = sum([(o-e)**2 / e for o, e in zip(observed_values, expected_values)])"
   ]
  },
  {
   "cell_type": "code",
   "execution_count": 128,
   "id": "67600a0b",
   "metadata": {},
   "outputs": [
    {
     "data": {
      "text/plain": [
       "0.001934818536627623"
      ]
     },
     "execution_count": 128,
     "metadata": {},
     "output_type": "execute_result"
    }
   ],
   "source": [
    "chisquare_stats = chisquare_test[0]+chisquare_test[1]\n",
    "chisquare_stats"
   ]
  },
  {
   "cell_type": "code",
   "execution_count": 129,
   "id": "0073fcd1",
   "metadata": {},
   "outputs": [
    {
     "data": {
      "text/plain": [
       "1"
      ]
     },
     "execution_count": 129,
     "metadata": {},
     "output_type": "execute_result"
    }
   ],
   "source": [
    "dof"
   ]
  },
  {
   "cell_type": "code",
   "execution_count": 130,
   "id": "301d19bb",
   "metadata": {},
   "outputs": [
    {
     "data": {
      "text/plain": [
       "0.05"
      ]
     },
     "execution_count": 130,
     "metadata": {},
     "output_type": "execute_result"
    }
   ],
   "source": [
    "alpha"
   ]
  },
  {
   "cell_type": "code",
   "execution_count": 131,
   "id": "38bb32c0",
   "metadata": {},
   "outputs": [],
   "source": [
    "chi2_critical = stats.chi2.ppf(1-alpha, df = dof)"
   ]
  },
  {
   "cell_type": "code",
   "execution_count": 132,
   "id": "c36f319a",
   "metadata": {},
   "outputs": [
    {
     "data": {
      "text/plain": [
       "3.841458820694124"
      ]
     },
     "execution_count": 132,
     "metadata": {},
     "output_type": "execute_result"
    }
   ],
   "source": [
    "chi2_critical"
   ]
  },
  {
   "cell_type": "code",
   "execution_count": 133,
   "id": "b79ceba2",
   "metadata": {},
   "outputs": [
    {
     "name": "stdout",
     "output_type": "stream",
     "text": [
      "fail to reject null hypothesis, no relationship\n"
     ]
    }
   ],
   "source": [
    "if chisquare_stats > chi2_critical:\n",
    "    print(\"Reject the null hypothesis, there is a relationship between two cat var\")\n",
    "else:\n",
    "    print(\"fail to reject null hypothesis, no relationship\")"
   ]
  },
  {
   "cell_type": "code",
   "execution_count": 134,
   "id": "90d79e51",
   "metadata": {},
   "outputs": [],
   "source": [
    "#pvalue method\n",
    "\n",
    "pvalue = 1-stats.chi2.cdf(x = chisquare_stats, df =dof)"
   ]
  },
  {
   "cell_type": "code",
   "execution_count": 135,
   "id": "6e5fdc01",
   "metadata": {},
   "outputs": [
    {
     "name": "stdout",
     "output_type": "stream",
     "text": [
      "fail to reject null hypothesis, no relationship\n"
     ]
    }
   ],
   "source": [
    "if pvalue <= alpha:\n",
    "    print(\"Reject the null hypothesis, there is a relationship between two cat var\")\n",
    "else:\n",
    "    print(\"fail to reject null hypothesis, no relationship\")"
   ]
  },
  {
   "cell_type": "code",
   "execution_count": 136,
   "id": "38f3a058",
   "metadata": {},
   "outputs": [],
   "source": [
    "#another approach\n",
    "#no of hours studies daily on a weekly basis\n",
    "#monday, tuesday.....sunday\n",
    "\n",
    "expected_data = [8, 5, 6, 8, 5, 7, 6]\n",
    "observed_data = [7, 4, 7, 9, 4, 8, 6]"
   ]
  },
  {
   "cell_type": "code",
   "execution_count": 137,
   "id": "72baad25",
   "metadata": {},
   "outputs": [
    {
     "data": {
      "text/plain": [
       "(45, 45)"
      ]
     },
     "execution_count": 137,
     "metadata": {},
     "output_type": "execute_result"
    }
   ],
   "source": [
    "sum(expected_data), sum(observed_data)"
   ]
  },
  {
   "cell_type": "code",
   "execution_count": 138,
   "id": "b0b52c24",
   "metadata": {},
   "outputs": [],
   "source": [
    "ch_stats, pvalue = stats.chisquare(observed_data, expected_data)"
   ]
  },
  {
   "cell_type": "code",
   "execution_count": 139,
   "id": "f231535f",
   "metadata": {},
   "outputs": [
    {
     "data": {
      "text/plain": [
       "0.05"
      ]
     },
     "execution_count": 139,
     "metadata": {},
     "output_type": "execute_result"
    }
   ],
   "source": [
    "#find the critical\n",
    "alpha"
   ]
  },
  {
   "cell_type": "code",
   "execution_count": 140,
   "id": "a4fd1e57",
   "metadata": {},
   "outputs": [],
   "source": [
    "dof = len(observed_data)-1"
   ]
  },
  {
   "cell_type": "code",
   "execution_count": 141,
   "id": "d56e03b7",
   "metadata": {},
   "outputs": [
    {
     "data": {
      "text/plain": [
       "6"
      ]
     },
     "execution_count": 141,
     "metadata": {},
     "output_type": "execute_result"
    }
   ],
   "source": [
    "dof"
   ]
  },
  {
   "cell_type": "code",
   "execution_count": 142,
   "id": "afd7bf19",
   "metadata": {},
   "outputs": [],
   "source": [
    "critical_value = stats.chi2.ppf(1-alpha, dof)"
   ]
  },
  {
   "cell_type": "code",
   "execution_count": 143,
   "id": "5cdf04fd",
   "metadata": {},
   "outputs": [
    {
     "data": {
      "text/plain": [
       "12.591587243743977"
      ]
     },
     "execution_count": 143,
     "metadata": {},
     "output_type": "execute_result"
    }
   ],
   "source": [
    "critical_value"
   ]
  },
  {
   "cell_type": "code",
   "execution_count": 144,
   "id": "5a70ad61",
   "metadata": {},
   "outputs": [],
   "source": [
    "if ch_stats > critical_value:\n",
    "    print(\"Reject the null hypothesis\")"
   ]
  },
  {
   "cell_type": "code",
   "execution_count": 145,
   "id": "bb5d955b",
   "metadata": {},
   "outputs": [
    {
     "data": {
      "text/plain": [
       "0.743155149934811"
      ]
     },
     "execution_count": 145,
     "metadata": {},
     "output_type": "execute_result"
    }
   ],
   "source": [
    "#Ftest\n",
    "worker1 = [18, 17, 20, 25, 27, 55, 51, 42, 46, 29]\n",
    "worker2 = [18, 16, 22, 26, 39, 51, 48, 44, 58, 12]\n",
    "\n",
    "fstats = np.var(worker1)/np.var(worker2)\n",
    "fstats"
   ]
  },
  {
   "cell_type": "code",
   "execution_count": 146,
   "id": "c9f1a418",
   "metadata": {},
   "outputs": [],
   "source": [
    "df1 = len(worker1)-1\n",
    "df2 = len(worker2)-1\n",
    "\n",
    "alpha = 0.05\n"
   ]
  },
  {
   "cell_type": "code",
   "execution_count": 147,
   "id": "df5a87d6",
   "metadata": {},
   "outputs": [
    {
     "data": {
      "text/plain": [
       "9"
      ]
     },
     "execution_count": 147,
     "metadata": {},
     "output_type": "execute_result"
    }
   ],
   "source": [
    "df1"
   ]
  },
  {
   "cell_type": "code",
   "execution_count": 148,
   "id": "145c7937",
   "metadata": {},
   "outputs": [
    {
     "data": {
      "text/plain": [
       "9"
      ]
     },
     "execution_count": 148,
     "metadata": {},
     "output_type": "execute_result"
    }
   ],
   "source": [
    "df2"
   ]
  },
  {
   "cell_type": "code",
   "execution_count": 149,
   "id": "6146bf94",
   "metadata": {},
   "outputs": [],
   "source": [
    "import scipy.stats \n",
    "critical_value = stats.f.ppf(1-alpha, dfn = df1, dfd = df2)"
   ]
  },
  {
   "cell_type": "code",
   "execution_count": 150,
   "id": "9139d567",
   "metadata": {},
   "outputs": [
    {
     "data": {
      "text/plain": [
       "3.17889310445827"
      ]
     },
     "execution_count": 150,
     "metadata": {},
     "output_type": "execute_result"
    }
   ],
   "source": [
    "critical_value"
   ]
  },
  {
   "cell_type": "code",
   "execution_count": 151,
   "id": "4993f284",
   "metadata": {},
   "outputs": [
    {
     "name": "stdout",
     "output_type": "stream",
     "text": [
      "fail to reject the null hypothesis\n"
     ]
    }
   ],
   "source": [
    "if fstats>critical_value:\n",
    "    print(\"Reject the null hyposthesis\")\n",
    "else:\n",
    "    print(\"fail to reject the null hypothesis\")"
   ]
  },
  {
   "cell_type": "code",
   "execution_count": 152,
   "id": "22dc25d7",
   "metadata": {},
   "outputs": [],
   "source": [
    "#ANOVA test"
   ]
  },
  {
   "cell_type": "code",
   "execution_count": 153,
   "id": "5101d9e2",
   "metadata": {},
   "outputs": [],
   "source": [
    "#to compare two or more than two means"
   ]
  },
  {
   "cell_type": "code",
   "execution_count": 157,
   "id": "4d632cf0",
   "metadata": {},
   "outputs": [
    {
     "data": {
      "text/html": [
       "<div>\n",
       "<style scoped>\n",
       "    .dataframe tbody tr th:only-of-type {\n",
       "        vertical-align: middle;\n",
       "    }\n",
       "\n",
       "    .dataframe tbody tr th {\n",
       "        vertical-align: top;\n",
       "    }\n",
       "\n",
       "    .dataframe thead th {\n",
       "        text-align: right;\n",
       "    }\n",
       "</style>\n",
       "<table border=\"1\" class=\"dataframe\">\n",
       "  <thead>\n",
       "    <tr style=\"text-align: right;\">\n",
       "      <th></th>\n",
       "      <th>rownames</th>\n",
       "      <th>weight</th>\n",
       "      <th>group</th>\n",
       "    </tr>\n",
       "  </thead>\n",
       "  <tbody>\n",
       "    <tr>\n",
       "      <th>0</th>\n",
       "      <td>1</td>\n",
       "      <td>4.17</td>\n",
       "      <td>ctrl</td>\n",
       "    </tr>\n",
       "    <tr>\n",
       "      <th>1</th>\n",
       "      <td>2</td>\n",
       "      <td>5.58</td>\n",
       "      <td>ctrl</td>\n",
       "    </tr>\n",
       "    <tr>\n",
       "      <th>2</th>\n",
       "      <td>3</td>\n",
       "      <td>5.18</td>\n",
       "      <td>ctrl</td>\n",
       "    </tr>\n",
       "    <tr>\n",
       "      <th>3</th>\n",
       "      <td>4</td>\n",
       "      <td>6.11</td>\n",
       "      <td>ctrl</td>\n",
       "    </tr>\n",
       "    <tr>\n",
       "      <th>4</th>\n",
       "      <td>5</td>\n",
       "      <td>4.50</td>\n",
       "      <td>ctrl</td>\n",
       "    </tr>\n",
       "    <tr>\n",
       "      <th>5</th>\n",
       "      <td>6</td>\n",
       "      <td>4.61</td>\n",
       "      <td>ctrl</td>\n",
       "    </tr>\n",
       "    <tr>\n",
       "      <th>6</th>\n",
       "      <td>7</td>\n",
       "      <td>5.17</td>\n",
       "      <td>ctrl</td>\n",
       "    </tr>\n",
       "    <tr>\n",
       "      <th>7</th>\n",
       "      <td>8</td>\n",
       "      <td>4.53</td>\n",
       "      <td>ctrl</td>\n",
       "    </tr>\n",
       "    <tr>\n",
       "      <th>8</th>\n",
       "      <td>9</td>\n",
       "      <td>5.33</td>\n",
       "      <td>ctrl</td>\n",
       "    </tr>\n",
       "    <tr>\n",
       "      <th>9</th>\n",
       "      <td>10</td>\n",
       "      <td>5.14</td>\n",
       "      <td>ctrl</td>\n",
       "    </tr>\n",
       "    <tr>\n",
       "      <th>10</th>\n",
       "      <td>11</td>\n",
       "      <td>4.81</td>\n",
       "      <td>trt1</td>\n",
       "    </tr>\n",
       "    <tr>\n",
       "      <th>11</th>\n",
       "      <td>12</td>\n",
       "      <td>4.17</td>\n",
       "      <td>trt1</td>\n",
       "    </tr>\n",
       "    <tr>\n",
       "      <th>12</th>\n",
       "      <td>13</td>\n",
       "      <td>4.41</td>\n",
       "      <td>trt1</td>\n",
       "    </tr>\n",
       "    <tr>\n",
       "      <th>13</th>\n",
       "      <td>14</td>\n",
       "      <td>3.59</td>\n",
       "      <td>trt1</td>\n",
       "    </tr>\n",
       "    <tr>\n",
       "      <th>14</th>\n",
       "      <td>15</td>\n",
       "      <td>5.87</td>\n",
       "      <td>trt1</td>\n",
       "    </tr>\n",
       "    <tr>\n",
       "      <th>15</th>\n",
       "      <td>16</td>\n",
       "      <td>3.83</td>\n",
       "      <td>trt1</td>\n",
       "    </tr>\n",
       "    <tr>\n",
       "      <th>16</th>\n",
       "      <td>17</td>\n",
       "      <td>6.03</td>\n",
       "      <td>trt1</td>\n",
       "    </tr>\n",
       "    <tr>\n",
       "      <th>17</th>\n",
       "      <td>18</td>\n",
       "      <td>4.89</td>\n",
       "      <td>trt1</td>\n",
       "    </tr>\n",
       "    <tr>\n",
       "      <th>18</th>\n",
       "      <td>19</td>\n",
       "      <td>4.32</td>\n",
       "      <td>trt1</td>\n",
       "    </tr>\n",
       "    <tr>\n",
       "      <th>19</th>\n",
       "      <td>20</td>\n",
       "      <td>4.69</td>\n",
       "      <td>trt1</td>\n",
       "    </tr>\n",
       "    <tr>\n",
       "      <th>20</th>\n",
       "      <td>21</td>\n",
       "      <td>6.31</td>\n",
       "      <td>trt2</td>\n",
       "    </tr>\n",
       "    <tr>\n",
       "      <th>21</th>\n",
       "      <td>22</td>\n",
       "      <td>5.12</td>\n",
       "      <td>trt2</td>\n",
       "    </tr>\n",
       "    <tr>\n",
       "      <th>22</th>\n",
       "      <td>23</td>\n",
       "      <td>5.54</td>\n",
       "      <td>trt2</td>\n",
       "    </tr>\n",
       "    <tr>\n",
       "      <th>23</th>\n",
       "      <td>24</td>\n",
       "      <td>5.50</td>\n",
       "      <td>trt2</td>\n",
       "    </tr>\n",
       "    <tr>\n",
       "      <th>24</th>\n",
       "      <td>25</td>\n",
       "      <td>5.37</td>\n",
       "      <td>trt2</td>\n",
       "    </tr>\n",
       "    <tr>\n",
       "      <th>25</th>\n",
       "      <td>26</td>\n",
       "      <td>5.29</td>\n",
       "      <td>trt2</td>\n",
       "    </tr>\n",
       "    <tr>\n",
       "      <th>26</th>\n",
       "      <td>27</td>\n",
       "      <td>4.92</td>\n",
       "      <td>trt2</td>\n",
       "    </tr>\n",
       "    <tr>\n",
       "      <th>27</th>\n",
       "      <td>28</td>\n",
       "      <td>6.15</td>\n",
       "      <td>trt2</td>\n",
       "    </tr>\n",
       "    <tr>\n",
       "      <th>28</th>\n",
       "      <td>29</td>\n",
       "      <td>5.80</td>\n",
       "      <td>trt2</td>\n",
       "    </tr>\n",
       "    <tr>\n",
       "      <th>29</th>\n",
       "      <td>30</td>\n",
       "      <td>5.26</td>\n",
       "      <td>trt2</td>\n",
       "    </tr>\n",
       "  </tbody>\n",
       "</table>\n",
       "</div>"
      ],
      "text/plain": [
       "    rownames  weight group\n",
       "0          1    4.17  ctrl\n",
       "1          2    5.58  ctrl\n",
       "2          3    5.18  ctrl\n",
       "3          4    6.11  ctrl\n",
       "4          5    4.50  ctrl\n",
       "5          6    4.61  ctrl\n",
       "6          7    5.17  ctrl\n",
       "7          8    4.53  ctrl\n",
       "8          9    5.33  ctrl\n",
       "9         10    5.14  ctrl\n",
       "10        11    4.81  trt1\n",
       "11        12    4.17  trt1\n",
       "12        13    4.41  trt1\n",
       "13        14    3.59  trt1\n",
       "14        15    5.87  trt1\n",
       "15        16    3.83  trt1\n",
       "16        17    6.03  trt1\n",
       "17        18    4.89  trt1\n",
       "18        19    4.32  trt1\n",
       "19        20    4.69  trt1\n",
       "20        21    6.31  trt2\n",
       "21        22    5.12  trt2\n",
       "22        23    5.54  trt2\n",
       "23        24    5.50  trt2\n",
       "24        25    5.37  trt2\n",
       "25        26    5.29  trt2\n",
       "26        27    4.92  trt2\n",
       "27        28    6.15  trt2\n",
       "28        29    5.80  trt2\n",
       "29        30    5.26  trt2"
      ]
     },
     "execution_count": 157,
     "metadata": {},
     "output_type": "execute_result"
    }
   ],
   "source": [
    "import pandas as pd\n",
    "from scipy import stats\n",
    "df = pd.read_csv(\"PlantGrowth.csv\")\n",
    "df"
   ]
  },
  {
   "cell_type": "code",
   "execution_count": 159,
   "id": "5dffd70f",
   "metadata": {},
   "outputs": [],
   "source": [
    "df.drop(\"rownames\", axis = 1, inplace = True)"
   ]
  },
  {
   "cell_type": "code",
   "execution_count": 160,
   "id": "eccd608f",
   "metadata": {},
   "outputs": [
    {
     "data": {
      "text/html": [
       "<div>\n",
       "<style scoped>\n",
       "    .dataframe tbody tr th:only-of-type {\n",
       "        vertical-align: middle;\n",
       "    }\n",
       "\n",
       "    .dataframe tbody tr th {\n",
       "        vertical-align: top;\n",
       "    }\n",
       "\n",
       "    .dataframe thead th {\n",
       "        text-align: right;\n",
       "    }\n",
       "</style>\n",
       "<table border=\"1\" class=\"dataframe\">\n",
       "  <thead>\n",
       "    <tr style=\"text-align: right;\">\n",
       "      <th></th>\n",
       "      <th>weight</th>\n",
       "      <th>group</th>\n",
       "    </tr>\n",
       "  </thead>\n",
       "  <tbody>\n",
       "    <tr>\n",
       "      <th>0</th>\n",
       "      <td>4.17</td>\n",
       "      <td>ctrl</td>\n",
       "    </tr>\n",
       "    <tr>\n",
       "      <th>1</th>\n",
       "      <td>5.58</td>\n",
       "      <td>ctrl</td>\n",
       "    </tr>\n",
       "    <tr>\n",
       "      <th>2</th>\n",
       "      <td>5.18</td>\n",
       "      <td>ctrl</td>\n",
       "    </tr>\n",
       "    <tr>\n",
       "      <th>3</th>\n",
       "      <td>6.11</td>\n",
       "      <td>ctrl</td>\n",
       "    </tr>\n",
       "    <tr>\n",
       "      <th>4</th>\n",
       "      <td>4.50</td>\n",
       "      <td>ctrl</td>\n",
       "    </tr>\n",
       "    <tr>\n",
       "      <th>5</th>\n",
       "      <td>4.61</td>\n",
       "      <td>ctrl</td>\n",
       "    </tr>\n",
       "    <tr>\n",
       "      <th>6</th>\n",
       "      <td>5.17</td>\n",
       "      <td>ctrl</td>\n",
       "    </tr>\n",
       "    <tr>\n",
       "      <th>7</th>\n",
       "      <td>4.53</td>\n",
       "      <td>ctrl</td>\n",
       "    </tr>\n",
       "    <tr>\n",
       "      <th>8</th>\n",
       "      <td>5.33</td>\n",
       "      <td>ctrl</td>\n",
       "    </tr>\n",
       "    <tr>\n",
       "      <th>9</th>\n",
       "      <td>5.14</td>\n",
       "      <td>ctrl</td>\n",
       "    </tr>\n",
       "    <tr>\n",
       "      <th>10</th>\n",
       "      <td>4.81</td>\n",
       "      <td>trt1</td>\n",
       "    </tr>\n",
       "    <tr>\n",
       "      <th>11</th>\n",
       "      <td>4.17</td>\n",
       "      <td>trt1</td>\n",
       "    </tr>\n",
       "    <tr>\n",
       "      <th>12</th>\n",
       "      <td>4.41</td>\n",
       "      <td>trt1</td>\n",
       "    </tr>\n",
       "    <tr>\n",
       "      <th>13</th>\n",
       "      <td>3.59</td>\n",
       "      <td>trt1</td>\n",
       "    </tr>\n",
       "    <tr>\n",
       "      <th>14</th>\n",
       "      <td>5.87</td>\n",
       "      <td>trt1</td>\n",
       "    </tr>\n",
       "    <tr>\n",
       "      <th>15</th>\n",
       "      <td>3.83</td>\n",
       "      <td>trt1</td>\n",
       "    </tr>\n",
       "    <tr>\n",
       "      <th>16</th>\n",
       "      <td>6.03</td>\n",
       "      <td>trt1</td>\n",
       "    </tr>\n",
       "    <tr>\n",
       "      <th>17</th>\n",
       "      <td>4.89</td>\n",
       "      <td>trt1</td>\n",
       "    </tr>\n",
       "    <tr>\n",
       "      <th>18</th>\n",
       "      <td>4.32</td>\n",
       "      <td>trt1</td>\n",
       "    </tr>\n",
       "    <tr>\n",
       "      <th>19</th>\n",
       "      <td>4.69</td>\n",
       "      <td>trt1</td>\n",
       "    </tr>\n",
       "    <tr>\n",
       "      <th>20</th>\n",
       "      <td>6.31</td>\n",
       "      <td>trt2</td>\n",
       "    </tr>\n",
       "    <tr>\n",
       "      <th>21</th>\n",
       "      <td>5.12</td>\n",
       "      <td>trt2</td>\n",
       "    </tr>\n",
       "    <tr>\n",
       "      <th>22</th>\n",
       "      <td>5.54</td>\n",
       "      <td>trt2</td>\n",
       "    </tr>\n",
       "    <tr>\n",
       "      <th>23</th>\n",
       "      <td>5.50</td>\n",
       "      <td>trt2</td>\n",
       "    </tr>\n",
       "    <tr>\n",
       "      <th>24</th>\n",
       "      <td>5.37</td>\n",
       "      <td>trt2</td>\n",
       "    </tr>\n",
       "    <tr>\n",
       "      <th>25</th>\n",
       "      <td>5.29</td>\n",
       "      <td>trt2</td>\n",
       "    </tr>\n",
       "    <tr>\n",
       "      <th>26</th>\n",
       "      <td>4.92</td>\n",
       "      <td>trt2</td>\n",
       "    </tr>\n",
       "    <tr>\n",
       "      <th>27</th>\n",
       "      <td>6.15</td>\n",
       "      <td>trt2</td>\n",
       "    </tr>\n",
       "    <tr>\n",
       "      <th>28</th>\n",
       "      <td>5.80</td>\n",
       "      <td>trt2</td>\n",
       "    </tr>\n",
       "    <tr>\n",
       "      <th>29</th>\n",
       "      <td>5.26</td>\n",
       "      <td>trt2</td>\n",
       "    </tr>\n",
       "  </tbody>\n",
       "</table>\n",
       "</div>"
      ],
      "text/plain": [
       "    weight group\n",
       "0     4.17  ctrl\n",
       "1     5.58  ctrl\n",
       "2     5.18  ctrl\n",
       "3     6.11  ctrl\n",
       "4     4.50  ctrl\n",
       "5     4.61  ctrl\n",
       "6     5.17  ctrl\n",
       "7     4.53  ctrl\n",
       "8     5.33  ctrl\n",
       "9     5.14  ctrl\n",
       "10    4.81  trt1\n",
       "11    4.17  trt1\n",
       "12    4.41  trt1\n",
       "13    3.59  trt1\n",
       "14    5.87  trt1\n",
       "15    3.83  trt1\n",
       "16    6.03  trt1\n",
       "17    4.89  trt1\n",
       "18    4.32  trt1\n",
       "19    4.69  trt1\n",
       "20    6.31  trt2\n",
       "21    5.12  trt2\n",
       "22    5.54  trt2\n",
       "23    5.50  trt2\n",
       "24    5.37  trt2\n",
       "25    5.29  trt2\n",
       "26    4.92  trt2\n",
       "27    6.15  trt2\n",
       "28    5.80  trt2\n",
       "29    5.26  trt2"
      ]
     },
     "execution_count": 160,
     "metadata": {},
     "output_type": "execute_result"
    }
   ],
   "source": [
    "df"
   ]
  },
  {
   "cell_type": "code",
   "execution_count": 161,
   "id": "77a53405",
   "metadata": {},
   "outputs": [],
   "source": [
    "groups = df.group.unique()"
   ]
  },
  {
   "cell_type": "code",
   "execution_count": 162,
   "id": "6d2a6ddd",
   "metadata": {},
   "outputs": [],
   "source": [
    "data = {grp: df['weight'][df.group == grp] for grp in groups}"
   ]
  },
  {
   "cell_type": "code",
   "execution_count": 163,
   "id": "5b9a0e95",
   "metadata": {},
   "outputs": [
    {
     "data": {
      "text/plain": [
       "{'ctrl': 0    4.17\n",
       " 1    5.58\n",
       " 2    5.18\n",
       " 3    6.11\n",
       " 4    4.50\n",
       " 5    4.61\n",
       " 6    5.17\n",
       " 7    4.53\n",
       " 8    5.33\n",
       " 9    5.14\n",
       " Name: weight, dtype: float64,\n",
       " 'trt1': 10    4.81\n",
       " 11    4.17\n",
       " 12    4.41\n",
       " 13    3.59\n",
       " 14    5.87\n",
       " 15    3.83\n",
       " 16    6.03\n",
       " 17    4.89\n",
       " 18    4.32\n",
       " 19    4.69\n",
       " Name: weight, dtype: float64,\n",
       " 'trt2': 20    6.31\n",
       " 21    5.12\n",
       " 22    5.54\n",
       " 23    5.50\n",
       " 24    5.37\n",
       " 25    5.29\n",
       " 26    4.92\n",
       " 27    6.15\n",
       " 28    5.80\n",
       " 29    5.26\n",
       " Name: weight, dtype: float64}"
      ]
     },
     "execution_count": 163,
     "metadata": {},
     "output_type": "execute_result"
    }
   ],
   "source": [
    "data"
   ]
  },
  {
   "cell_type": "code",
   "execution_count": 164,
   "id": "b9fb5f37",
   "metadata": {},
   "outputs": [
    {
     "data": {
      "text/plain": [
       "0    4.17\n",
       "1    5.58\n",
       "2    5.18\n",
       "3    6.11\n",
       "4    4.50\n",
       "5    4.61\n",
       "6    5.17\n",
       "7    4.53\n",
       "8    5.33\n",
       "9    5.14\n",
       "Name: weight, dtype: float64"
      ]
     },
     "execution_count": 164,
     "metadata": {},
     "output_type": "execute_result"
    }
   ],
   "source": [
    "data['ctrl']"
   ]
  },
  {
   "cell_type": "code",
   "execution_count": 165,
   "id": "bec0b32b",
   "metadata": {},
   "outputs": [],
   "source": [
    "fstats, pvalue = stats.f_oneway(data['ctrl'], data['trt1'], data['trt2'])"
   ]
  },
  {
   "cell_type": "code",
   "execution_count": 166,
   "id": "1ece9571",
   "metadata": {},
   "outputs": [
    {
     "name": "stdout",
     "output_type": "stream",
     "text": [
      "reject the null hypothesis\n"
     ]
    }
   ],
   "source": [
    "if pvalue <= 0.05:\n",
    "    print(\"reject the null hypothesis\")\n",
    "else:\n",
    "    print(\"fail to reject\")"
   ]
  },
  {
   "cell_type": "code",
   "execution_count": null,
   "id": "4a76687c",
   "metadata": {},
   "outputs": [],
   "source": []
  }
 ],
 "metadata": {
  "kernelspec": {
   "display_name": "Python 3 (ipykernel)",
   "language": "python",
   "name": "python3"
  },
  "language_info": {
   "codemirror_mode": {
    "name": "ipython",
    "version": 3
   },
   "file_extension": ".py",
   "mimetype": "text/x-python",
   "name": "python",
   "nbconvert_exporter": "python",
   "pygments_lexer": "ipython3",
   "version": "3.11.9"
  }
 },
 "nbformat": 4,
 "nbformat_minor": 5
}
