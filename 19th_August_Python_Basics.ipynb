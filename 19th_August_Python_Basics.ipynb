{
 "cells": [
  {
   "cell_type": "markdown",
   "metadata": {},
   "source": [
    "\"\"\"Declare two variables, `x` and `y`, and assign them integer values. Swap the\n",
    "values of these variables without using any temporary variable.\"\"\""
   ]
  },
  {
   "cell_type": "code",
   "execution_count": 2,
   "metadata": {},
   "outputs": [
    {
     "name": "stdout",
     "output_type": "stream",
     "text": [
      "value of x: 20\n",
      "value of y: 10\n"
     ]
    }
   ],
   "source": [
    "x = 10\n",
    "y = 20\n",
    "x = x+y\n",
    "y = x-y\n",
    "x = x-y\n",
    "print(\"value of x:\",x)\n",
    "print(\"value of y:\",y)"
   ]
  },
  {
   "cell_type": "markdown",
   "metadata": {},
   "source": [
    "\"\"\"Create a program that calculates the area of a rectangle. Take the length and\n",
    "width as inputs from the user and store them in variables. Calculate and\n",
    "display the area.\"\"\""
   ]
  },
  {
   "cell_type": "code",
   "execution_count": 4,
   "metadata": {},
   "outputs": [
    {
     "name": "stdout",
     "output_type": "stream",
     "text": [
      "area of the rectangle having one side as: 3 and other side: 4  is: 12\n"
     ]
    }
   ],
   "source": [
    "# taking input for two sides of rectangle\n",
    "side_x = int(input())\n",
    "side_y = int(input())\n",
    "# calculating the area of given rectangle\n",
    "area_of_rectangle = side_x * side_y\n",
    "\n",
    "print(\"area of the rectangle having one side as:\",side_x,\"and other side:\",side_y,\" is:\",area_of_rectangle)"
   ]
  },
  {
   "cell_type": "markdown",
   "metadata": {},
   "source": [
    "\"\"\"Write a Python program that converts temperatures from Celsius to Fahrenheit. Take the temperature in Celsius as input, store it in a variable,\n",
    "convert it to Fahrenheit, and display the result.\"\"\""
   ]
  },
  {
   "cell_type": "code",
   "execution_count": 6,
   "metadata": {},
   "outputs": [
    {
     "name": "stdout",
     "output_type": "stream",
     "text": [
      "The Fahrenheit equivalent temperature of  34.0  celsius =  93.2\n"
     ]
    }
   ],
   "source": [
    "# input celsius degree temperature\n",
    "celsius_temp = float(input())\n",
    "\n",
    "# converting celsius degree temperature to Fahrenheit\n",
    "fahrenheit_temp = (celsius_temp*9/5)+32\n",
    "\n",
    "print(\"The Fahrenheit equivalent temperature of \", celsius_temp,\" celsius = \", fahrenheit_temp)"
   ]
  },
  {
   "cell_type": "code",
   "execution_count": null,
   "metadata": {},
   "outputs": [],
   "source": []
  }
 ],
 "metadata": {
  "kernelspec": {
   "display_name": "Python 3",
   "language": "python",
   "name": "python3"
  },
  "language_info": {
   "codemirror_mode": {
    "name": "ipython",
    "version": 3
   },
   "file_extension": ".py",
   "mimetype": "text/x-python",
   "name": "python",
   "nbconvert_exporter": "python",
   "pygments_lexer": "ipython3",
   "version": "3.11.6"
  }
 },
 "nbformat": 4,
 "nbformat_minor": 2
}
