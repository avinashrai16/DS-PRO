{
 "cells": [
  {
   "cell_type": "markdown",
   "metadata": {},
   "source": [
    "Write a Python program to print the numbers from 1 to 10 using a `for` loop."
   ]
  },
  {
   "cell_type": "code",
   "execution_count": null,
   "metadata": {},
   "outputs": [],
   "source": [
    "for x in range(1,11):\n",
    "    print(x)"
   ]
  },
  {
   "cell_type": "markdown",
   "metadata": {},
   "source": [
    "Create a program that calculates the sum of all numbers in a list using a `for` loop."
   ]
  },
  {
   "cell_type": "code",
   "execution_count": null,
   "metadata": {},
   "outputs": [],
   "source": [
    "my_list = [1,2,3,4,5]\n",
    "item_sum= 0\n",
    "for x in my_list:\n",
    "    item_sum = item_sum + x\n",
    "print(item_sum)\n"
   ]
  },
  {
   "cell_type": "markdown",
   "metadata": {},
   "source": [
    "Write a program to print the characters of a string in reverse order using a `for` loop."
   ]
  },
  {
   "cell_type": "code",
   "execution_count": null,
   "metadata": {},
   "outputs": [],
   "source": [
    "str = \"my input string\"\n",
    "for x in str[-1::-1]:\n",
    "    print(x)\n"
   ]
  },
  {
   "cell_type": "markdown",
   "metadata": {},
   "source": [
    "Develop a program that finds the factorial of a given number using a `for` loop."
   ]
  },
  {
   "cell_type": "code",
   "execution_count": null,
   "metadata": {},
   "outputs": [],
   "source": [
    "num_input = 6\n",
    "fact_count = 1;\n",
    "for x in range(1,num_input+1):\n",
    "    fact_count = fact_count*x\n",
    "print(f\"factorial of {num_input}! is {fact_count}.\")"
   ]
  },
  {
   "cell_type": "markdown",
   "metadata": {},
   "source": [
    "Create a program to print the multiplication table of a given number using a `for` loop."
   ]
  },
  {
   "cell_type": "code",
   "execution_count": null,
   "metadata": {},
   "outputs": [],
   "source": [
    "# coding for a multiplication table till 10\n",
    "#given_input = int(input(\"enter a nunber for knowing its maultiplication table\"))\n",
    "given_input = 10\n",
    "print(f\"below is the table for number {given_input}\")\n",
    "for x in range(1,11):\n",
    "    print(x*given_input)\n"
   ]
  },
  {
   "cell_type": "markdown",
   "metadata": {},
   "source": [
    "Write a program that counts the number of even and odd numbers in a list using a `for` loop."
   ]
  },
  {
   "cell_type": "code",
   "execution_count": null,
   "metadata": {},
   "outputs": [],
   "source": [
    "list_of_num = [1,2,3,4,5,6,7,8,9,10,11]\n",
    "sum_even=0;\n",
    "sum_odd=0;\n",
    "for x in list_of_num:\n",
    "    if(x%2==0):\n",
    "        sum_even+=1\n",
    "    else:\n",
    "        sum_odd+=1\n",
    "\n",
    "print(f\"the count of even numbers in the list is:{sum_even} \\nand the count of odd numbers in the list is:{sum_odd}\")"
   ]
  },
  {
   "cell_type": "markdown",
   "metadata": {},
   "source": [
    "Develop a program that prints the squares of numbers from 1 to 5 using a `for` loop."
   ]
  },
  {
   "cell_type": "code",
   "execution_count": null,
   "metadata": {},
   "outputs": [],
   "source": [
    "for x in range(1,6):\n",
    "    print (x*x)"
   ]
  },
  {
   "cell_type": "markdown",
   "metadata": {},
   "source": [
    "Create a program to find the length of a string without using the `len()` function."
   ]
  },
  {
   "cell_type": "code",
   "execution_count": null,
   "metadata": {},
   "outputs": [],
   "source": [
    "input_str = \"education\"\n",
    "len_counter=0;\n",
    "for x in input_str:\n",
    "    len_counter += 1\n",
    "print(f\"the length of given string is:{len_counter}\")"
   ]
  },
  {
   "cell_type": "markdown",
   "metadata": {},
   "source": [
    "Write a program that calculates the average of a list of numbers using a `for` loop."
   ]
  },
  {
   "cell_type": "code",
   "execution_count": null,
   "metadata": {},
   "outputs": [],
   "source": [
    "list_input = [1,2,3,4,5]\n",
    "item_total=0\n",
    "for x in list_input:\n",
    "    item_total += x\n",
    "\n",
    "print(f\"sum of items in the given list:{item_total} \\nand average of them is {item_total/len(list_input)}\")\n"
   ]
  },
  {
   "cell_type": "markdown",
   "metadata": {},
   "source": [
    "Develop a program that prints the first `n` Fibonacci numbers using a `for` loop."
   ]
  },
  {
   "cell_type": "code",
   "execution_count": null,
   "metadata": {},
   "outputs": [],
   "source": [
    "input_range=10\n",
    "fisrt=0  #first element of series\n",
    "second=1  #second element of series\n",
    "if input_range<=0:\n",
    "    print(\"The requested series is\",fisrt)\n",
    "else:\n",
    "    print(fisrt,second,end=\" \")\n",
    "    for x in range(2,input_range):\n",
    "        next=fisrt+second\n",
    "        print(next,end=\" \")\n",
    "        fisrt=second\n",
    "        second=next\n",
    "        \n",
    "\n"
   ]
  },
  {
   "cell_type": "markdown",
   "metadata": {},
   "source": [
    "Write a program to check if a given list contains any duplicates using a `for` loop."
   ]
  },
  {
   "cell_type": "code",
   "execution_count": null,
   "metadata": {},
   "outputs": [],
   "source": [
    "list1 = [0,0,10, 20, 30, 20, 20, 30, 40,50, -20, 60, 60, -20, -20]\n",
    "uniqueList = []\n",
    "duplicateList = []\n",
    " \n",
    "for i in list1:\n",
    "    if i not in uniqueList:\n",
    "        uniqueList.append(i)\n",
    "    elif i not in duplicateList:\n",
    "        duplicateList.append(i)\n",
    "if(len(duplicateList)>0):\n",
    "    print(f\"as per the given list there are duplicate elelments present which are :{duplicateList}\")\n",
    "else:\n",
    "    print(f\"no duplicate item presnt in the list\")"
   ]
  },
  {
   "cell_type": "markdown",
   "metadata": {},
   "source": [
    "Create a program that prints the prime numbers in a given range using a `for` loop."
   ]
  },
  {
   "cell_type": "code",
   "execution_count": null,
   "metadata": {},
   "outputs": [],
   "source": [
    "n = 9 # first n numbers\n",
    "prime_num_list = []\n",
    "prime_div_counter = 0 \n",
    "for x  in range (0,n+1):\n",
    "    prime_div_counter = 0 # resetting the counter with zero for next number\n",
    "    for i in range (0,x+1):\n",
    "        if(i>1):\n",
    "            if(x%i==0):\n",
    "               prime_div_counter += 1\n",
    "    if(prime_div_counter==1): # Prime numbers can have only 2 divsors 1 amd number it self , \n",
    "        prime_num_list.append(x)\n",
    "print(f\"total prime numbers presnet till {n}: {len(prime_num_list)}\")\n",
    "print(f\"following are the numbers which are prime in given range of: {n} : {prime_num_list}\")\n",
    "\n",
    "            "
   ]
  },
  {
   "cell_type": "markdown",
   "metadata": {},
   "source": [
    "Develop a program that counts the number of vowels in a string using a `for` loop."
   ]
  },
  {
   "cell_type": "code",
   "execution_count": null,
   "metadata": {},
   "outputs": [],
   "source": [
    "input_str = \"my test string\"\n",
    "vowels_list = ['a','e','i','o','u','A','E','I','O','U']\n",
    "vowels_counter = 0\n",
    "for x in input_str:\n",
    "    if x in  vowels_list:\n",
    "        vowels_counter+=1\n",
    "\n",
    "print(f\"the vowel count in the given string: {input_str}, is :{vowels_counter}\")\n"
   ]
  },
  {
   "cell_type": "markdown",
   "metadata": {},
   "source": [
    "Write a program to find the maximum element in a 2D list using a nested `for` loop."
   ]
  },
  {
   "cell_type": "code",
   "execution_count": null,
   "metadata": {},
   "outputs": [],
   "source": [
    "my_2d_list = [\n",
    "    [3, 7, 2],\n",
    "    [8, 1, 4],\n",
    "    [9, 10, 6]\n",
    "]\n",
    "max_element = my_2d_list[0][0]  # Initialize max_element with the first element\n",
    "for row in my_2d_list:\n",
    "    for element in row:\n",
    "        if element > max_element:\n",
    "            max_element = element\n",
    "\n",
    "print(\"The maximum element in the 2D list is:\", max_element)\n"
   ]
  },
  {
   "cell_type": "markdown",
   "metadata": {},
   "source": [
    "Create a program that removes all occurrences of a specific element from a list using a `for` loop."
   ]
  },
  {
   "cell_type": "code",
   "execution_count": null,
   "metadata": {},
   "outputs": [],
   "source": [
    "element_list = [1,2,3,4,5,6,7,8,9,4] # ['a','e','i','o','u','a','A','E','I','O','U']\n",
    "specific_element = 4 # 'a'\n",
    "for x in element_list:\n",
    "    if(x == specific_element):\n",
    "        element_list.remove(x)\n",
    "print(f\"final list after removal of :{specific_element} is :{element_list}\")\n"
   ]
  },
  {
   "cell_type": "markdown",
   "metadata": {},
   "source": [
    "Develop a program that generates a multiplication table for numbers from 1 to 5 using a nested `for` loop."
   ]
  },
  {
   "cell_type": "code",
   "execution_count": null,
   "metadata": {},
   "outputs": [],
   "source": [
    "list_number_of_times = [1,2,3,4,5,6,7,8,9,10]\n",
    "list_of_numbers_for_table = [1,2,3,4,5]\n",
    "for x in list_of_numbers_for_table:\n",
    "    print(\"\\nbelow is the table for number:\",x,\"till\",len(list_number_of_times),end=\"\\n\")\n",
    "    for i in list_number_of_times:\n",
    "        print(x*i,end=\" \")"
   ]
  },
  {
   "cell_type": "markdown",
   "metadata": {},
   "source": [
    "Write a program that converts a list of Fahrenheit temperatures to Celsius using a `for` loop."
   ]
  },
  {
   "cell_type": "code",
   "execution_count": null,
   "metadata": {},
   "outputs": [],
   "source": [
    "list_of_fahernheit_temp = [34.5, 56.7, 65.7]\n",
    "for x in list_of_fahernheit_temp:\n",
    "    print(f\"The Celsius equivalent temperature of {x} fahernheit = {((x-32)*5/9)} celsius\")"
   ]
  },
  {
   "cell_type": "markdown",
   "metadata": {},
   "source": [
    "18. Create a program to print the common elements from two lists using a `for` loop."
   ]
  },
  {
   "cell_type": "code",
   "execution_count": null,
   "metadata": {},
   "outputs": [],
   "source": [
    "list1 = [0,5,6,7,8,9,7,8,9]\n",
    "list2 = [8,17,15,6]\n",
    "commmon_list = set()\n",
    "for x in list1:\n",
    "    if x in list2:\n",
    "        commmon_list.add(x)\n",
    "\n",
    "print(f\" the common elelemnts is both the list are : {commmon_list}\") "
   ]
  },
  {
   "cell_type": "markdown",
   "metadata": {},
   "source": [
    "Develop a program that prints the pattern of right-angled triangles using a `for` loop. Use ‘*’ to draw the\n",
    "pattern"
   ]
  },
  {
   "cell_type": "code",
   "execution_count": null,
   "metadata": {},
   "outputs": [],
   "source": [
    "for x in range(1,15):\n",
    "    for i in range(x):\n",
    "        print (\"*\", end = \" \")\n",
    "    print(\"\\n\",end=\"\")"
   ]
  },
  {
   "cell_type": "markdown",
   "metadata": {},
   "source": [
    "Write a program to find the greatest common divisor (GCD) of two numbers using a `for` loop."
   ]
  },
  {
   "cell_type": "code",
   "execution_count": 2,
   "metadata": {},
   "outputs": [
    {
     "name": "stdout",
     "output_type": "stream",
     "text": [
      "[[1, 2, 3, 6, 9], [1, 2, 3, 4, 6, 8, 12]]\n",
      "gcd of the given two number is :6\n"
     ]
    }
   ],
   "source": [
    "num_list = [18,24]\n",
    "max_divisor_list = []\n",
    "gcd = 0\n",
    "for x in num_list:\n",
    "    max_divisor = [] # keeping the divisor for each number in a list\n",
    "    for i in range(1,x):\n",
    "        if (x%i==0):\n",
    "            max_divisor.append(i)\n",
    "    max_divisor_list.append(max_divisor)\n",
    "\n",
    "# finding the common largest GCD in 2D list\n",
    "for k in max_divisor_list[0]:\n",
    "    if k in max_divisor_list[1]:\n",
    "        if k > gcd:\n",
    "            gcd = k\n",
    "print(max_divisor_list)\n",
    "print(f\"gcd of the given two number is :{gcd}\" )"
   ]
  },
  {
   "cell_type": "markdown",
   "metadata": {},
   "source": [
    "Create a program that calculates the sum of the digits of numbers in a list using a list comprehension."
   ]
  },
  {
   "cell_type": "code",
   "execution_count": 5,
   "metadata": {},
   "outputs": [
    {
     "name": "stdout",
     "output_type": "stream",
     "text": [
      "The sum of digits in 123 is 6\n",
      "The sum of digits in 456 is 15\n",
      "The sum of digits in 789 is 24\n"
     ]
    }
   ],
   "source": [
    "# Example list of numbers\n",
    "numbers = [123, 456, 789]\n",
    "def digit_sum(number):\n",
    "    # This function calculates the sum of digits in a number\n",
    "    return sum(int(digit) for digit in str(number))\n",
    "\n",
    "# Calculate the sum of digits for each number in the list using a list comprehension\n",
    "digit_sums = [digit_sum(number) for number in numbers]\n",
    "\n",
    "# Print the results\n",
    "for i in range(len(numbers)):\n",
    "    print(f\"The sum of digits in {numbers[i]} is {digit_sums[i]}\")"
   ]
  },
  {
   "cell_type": "markdown",
   "metadata": {},
   "source": [
    "Write a program to find the prime factors of a given number using a `for` loop and list comprehension."
   ]
  },
  {
   "cell_type": "code",
   "execution_count": 8,
   "metadata": {},
   "outputs": [
    {
     "name": "stdout",
     "output_type": "stream",
     "text": [
      "The prime factors of 25 are: [5, 5]\n"
     ]
    }
   ],
   "source": [
    "def get_prime_factors(number):\n",
    "    factors = []\n",
    "    # Find factors, including non-prime factors\n",
    "    for factor in range(2, number + 1):\n",
    "        while number % factor == 0:\n",
    "            factors.append(factor)\n",
    "            number //= factor\n",
    "        if number == 1:\n",
    "            break\n",
    "    # Filter prime factors\n",
    "    prime_factors = [factor for factor in factors if all(factor % divisor != 0 for divisor in range(2, factor))]\n",
    "    \n",
    "    return prime_factors\n",
    "\n",
    "number = 25\n",
    "\n",
    "if number < 2:\n",
    "    print(\"Prime factors are not defined for numbers less than 2.\")\n",
    "else:\n",
    "    factors = get_prime_factors(number)\n",
    "\n",
    "    if factors:\n",
    "        print(f\"The prime factors of {number} are: {factors}\")\n",
    "    else:\n",
    "        print(f\"{number} is a prime number, and it has no prime factors other than itself.\")\n"
   ]
  },
  {
   "cell_type": "markdown",
   "metadata": {},
   "source": [
    "Develop a program that extracts unique elements from a list and stores them in a new list using a list\n",
    "comprehension."
   ]
  },
  {
   "cell_type": "code",
   "execution_count": 10,
   "metadata": {},
   "outputs": [
    {
     "name": "stdout",
     "output_type": "stream",
     "text": [
      "Original List: [4, 2, 8, 2, 5, 4, 9, 8, 6]\n",
      "Unique Elements: [4, 2, 8, 5, 9, 6]\n"
     ]
    }
   ],
   "source": [
    "# Original list with duplicate elements\n",
    "original_list = [4, 2, 8, 2, 5, 4, 9, 8, 6]\n",
    "\n",
    "# List comprehension to extract unique elements\n",
    "unique_elements = []\n",
    "[unique_elements.append(x) for x in original_list if x not in unique_elements]\n",
    "\n",
    "# Print the result\n",
    "print(\"Original List:\", original_list)\n",
    "print(\"Unique Elements:\", unique_elements)\n"
   ]
  },
  {
   "cell_type": "markdown",
   "metadata": {},
   "source": [
    "Create a program that generates a list of all palindromic numbers up to a specified limit using a list\n",
    "comprehension."
   ]
  },
  {
   "cell_type": "code",
   "execution_count": 3,
   "metadata": {},
   "outputs": [
    {
     "name": "stdout",
     "output_type": "stream",
     "text": [
      "Palindromic Numbers up to 25 are: [1, 2, 3, 4, 5, 6, 7, 8, 9, 11, 22]\n"
     ]
    }
   ],
   "source": [
    "def is_palindrome(number):\n",
    "    # Check if a number is a palindrome\n",
    "    return str(number) == str(number)[::-1]\n",
    "\n",
    "# Input the limit\n",
    "limit = 25\n",
    "\n",
    "# Generate a list of palindromic numbers using a list comprehension\n",
    "palindromic_numbers = [x for x in range(1, limit + 1) if is_palindrome(x)]\n",
    "\n",
    "# Print the palindromic numbers\n",
    "print(\"Palindromic Numbers up to\", limit, \"are:\", palindromic_numbers)\n"
   ]
  },
  {
   "cell_type": "code",
   "execution_count": null,
   "metadata": {},
   "outputs": [],
   "source": []
  }
 ],
 "metadata": {
  "kernelspec": {
   "display_name": "Python 3",
   "language": "python",
   "name": "python3"
  },
  "language_info": {
   "codemirror_mode": {
    "name": "ipython",
    "version": 3
   },
   "file_extension": ".py",
   "mimetype": "text/x-python",
   "name": "python",
   "nbconvert_exporter": "python",
   "pygments_lexer": "ipython3",
   "version": "3.11.6"
  }
 },
 "nbformat": 4,
 "nbformat_minor": 2
}
