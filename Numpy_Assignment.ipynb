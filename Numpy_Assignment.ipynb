{
  "nbformat": 4,
  "nbformat_minor": 0,
  "metadata": {
    "colab": {
      "provenance": [],
      "authorship_tag": "ABX9TyN9fJRih5tEuO+AO6XWFeIY"
    },
    "kernelspec": {
      "name": "python3",
      "display_name": "Python 3"
    },
    "language_info": {
      "name": "python"
    }
  },
  "cells": [
    {
      "cell_type": "code",
      "execution_count": null,
      "metadata": {
        "id": "1Sw5RGhLnnKl"
      },
      "outputs": [],
      "source": [
        "# Q01. What is a Python library? Why do we use Python libraries?\n",
        "\n",
        "# A Python library is a collection of pre-written code for specific tasks.\n",
        "# We use Python libraries to save time,access specialized functionalities (like data analysis or machine learning),\n",
        "# leverage community contributions, ensure reliability, and scale projects effectively.\n",
        "# They help developers work more efficiently and build powerful applications by reusing existing code and resources."
      ]
    },
    {
      "cell_type": "code",
      "source": [
        "# Q02. What is the difference between Numpy array and List?\n",
        "\n",
        "# The main differences between NumPy arrays and Python lists are:\n",
        "\n",
        "# 1. **Data Type and Homogeneity**:\n",
        "#    - NumPy arrays are homogeneous, meaning they contain elements of the same data type. This allows for more efficient storage and operations.\n",
        "#    - Python lists can contain elements of different data types and are heterogeneous.\n",
        "\n",
        "# 2. **Performance**:\n",
        "#    - NumPy arrays are optimized for numerical operations and are generally faster and more memory efficient than Python lists, especially for large datasets.\n",
        "#    - Python lists are more flexible but tend to be slower for numerical computations due to their dynamic nature.\n",
        "\n",
        "# 3. **Functionality**:\n",
        "#    - NumPy arrays offer a wide range of mathematical functions and operations for array manipulation, linear algebra, Fourier transforms, and more.\n",
        "#    - Python lists have a more general-purpose nature and offer basic operations for list manipulation but lack the specialized functions available in NumPy.\n",
        "\n",
        "# 4. **Memory Overhead**:\n",
        "#    - NumPy arrays have less memory overhead compared to Python lists because they store data in contiguous memory blocks.\n",
        "#    - Python lists have additional memory overhead due to the overhead of storing type information and references to objects.\n",
        "\n",
        "# In summary, NumPy arrays are better suited for numerical computations and large datasets due to their homogeneity, performance, and specialized functionality.\n",
        "# Python lists, on the other hand, offer more flexibility and are suitable for general-purpose data storage and manipulation when performance is not a critical factor.\n",
        "\n"
      ],
      "metadata": {
        "id": "_PLt2IEFoy7d"
      },
      "execution_count": null,
      "outputs": []
    },
    {
      "cell_type": "code",
      "source": [
        "# Q3 3. Find the shape, size and dimension of the following array?\n",
        "# [[1, 2, 3, 4]\n",
        "# [5, 6, 7, 8],\n",
        "# [9, 10, 11, 12]]\n",
        "\n",
        "\n",
        "import numpy as np\n",
        "array = np.array([[1, 2, 3, 4],\n",
        "                  [5, 6, 7, 8],\n",
        "                  [9, 10, 11, 12]])\n",
        "\n",
        "print(\"Shape:\", array.shape) # (3,4)\n",
        "print(\"Size:\", array.size) # 12\n",
        "print(\"Dimension:\", array.ndim) #2\n"
      ],
      "metadata": {
        "colab": {
          "base_uri": "https://localhost:8080/"
        },
        "id": "UOiF4Ic0pLgl",
        "outputId": "26b07ad3-e476-4753-c267-a105b8df83a3"
      },
      "execution_count": 1,
      "outputs": [
        {
          "output_type": "stream",
          "name": "stdout",
          "text": [
            "Shape: (3, 4)\n",
            "Size: 12\n",
            "Dimension: 2\n"
          ]
        }
      ]
    },
    {
      "cell_type": "code",
      "source": [
        "# Q4. 4. Write python code to access the first row of the following array?\n",
        "# [[1, 2, 3, 4]\n",
        "# [5, 6, 7, 8],\n",
        "# [9, 10, 11, 12]]\n",
        "\n",
        "import numpy as np\n",
        "array = np.array([[1, 2, 3, 4],\n",
        "                  [5, 6, 7, 8],\n",
        "                  [9, 10, 11, 12]])\n",
        "print(\"fisrt row of the array is:\",array[0])"
      ],
      "metadata": {
        "colab": {
          "base_uri": "https://localhost:8080/"
        },
        "id": "uwFpP-Y2qGjE",
        "outputId": "fe517684-f9b7-445f-cbca-a35a488553ad"
      },
      "execution_count": 3,
      "outputs": [
        {
          "output_type": "stream",
          "name": "stdout",
          "text": [
            "fisrt row of the array is: [1 2 3 4]\n"
          ]
        }
      ]
    },
    {
      "cell_type": "code",
      "source": [
        "# 5. How do you access the element at the third row and fourth column from the given numpy array?\n",
        "# [[1, 2, 3, 4]\n",
        "# [5, 6, 7, 8],\n",
        "# [9, 10, 11, 12]]\n",
        "import numpy as np\n",
        "array = np.array([[1, 2, 3, 4],\n",
        "                  [5, 6, 7, 8],\n",
        "                  [9, 10, 11, 12]])\n",
        "element = array[2][3]\n",
        "print(\"Element at the third row and fourth column in the array is:\",element)\n"
      ],
      "metadata": {
        "colab": {
          "base_uri": "https://localhost:8080/"
        },
        "id": "TFpf8Pf3qflk",
        "outputId": "eef34e5c-b27b-4b9f-9b71-07ba57a5765c"
      },
      "execution_count": 5,
      "outputs": [
        {
          "output_type": "stream",
          "name": "stdout",
          "text": [
            "Element at the third row and fourth column in the array is: 12\n"
          ]
        }
      ]
    },
    {
      "cell_type": "code",
      "source": [
        "# 6. Write code to extract all odd-indexed elements from the given numpy array?\n",
        "# [[1, 2, 3, 4]\n",
        "# [5, 6, 7, 8],\n",
        "# [9, 10, 11, 12]]\n",
        "\n",
        "import numpy as np\n",
        "array = np.array([[1, 2, 3, 4],\n",
        "                  [5, 6, 7, 8],\n",
        "                  [9, 10, 11, 12]])\n",
        "\n",
        "# using for loop\n",
        "for row in range(len(array)):\n",
        "  for column in range(len(array[row])):\n",
        "    if column % 2 != 0:\n",
        "      print(array[row][column])\n",
        "\n",
        "# using array slicing\n",
        "odd_indexed_elements = array[:, 1::2]\n",
        "print(odd_indexed_elements)"
      ],
      "metadata": {
        "id": "R7B8thAoq-IL"
      },
      "execution_count": null,
      "outputs": []
    },
    {
      "cell_type": "code",
      "source": [
        "# Q7. How can you generate a random 3x3 matrix with values between 0 and 1?\n",
        "\n",
        "import numpy as np\n",
        "\n",
        "random_matrix = np.random.rand(3, 3)\n",
        "\n",
        "print(\"Random 3x3 Matrix:\")\n",
        "print(random_matrix)\n"
      ],
      "metadata": {
        "colab": {
          "base_uri": "https://localhost:8080/"
        },
        "id": "OXZVDqM9sTQk",
        "outputId": "b0e336c6-30d0-4bcc-fc4f-453b124effaa"
      },
      "execution_count": 18,
      "outputs": [
        {
          "output_type": "stream",
          "name": "stdout",
          "text": [
            "Random 3x3 Matrix:\n",
            "[[ 0.04458389  1.18778862  0.1702829 ]\n",
            " [-0.56900229  0.8699479   0.37555547]\n",
            " [-0.9897486  -1.67991548 -0.18597849]]\n"
          ]
        }
      ]
    },
    {
      "cell_type": "code",
      "source": [
        "# 8. Describe the difference between np.random.rand and np.random.randn?\n",
        "\n",
        "# `np.random.rand` and `np.random.randn` are both functions provided by NumPy for generating random numbers, but they differ in the way they generate these numbers and the distributions they sample from.\n",
        "\n",
        "# 1. **`np.random.rand`:**\n",
        "#    - `np.random.rand` generates random numbers from a uniform distribution over the range [0, 1].\n",
        "#    - It takes dimensions as input and returns an array of random numbers with the specified shape.\n",
        "#    - Each value in the array is sampled independently and uniformly from the [0, 1) interval.\n",
        "#    - Example: `np.random.rand(3, 3)` generates a 3x3 array of random numbers between 0 and 1.\n",
        "\n",
        "# 2. **`np.random.randn`:**\n",
        "#    - `np.random.randn` generates random numbers from a standard normal distribution (mean 0, standard deviation 1).\n",
        "#    - It takes dimensions as input and returns an array of random numbers with the specified shape.\n",
        "#    - The values are sampled from a Gaussian distribution centered around 0 with a standard deviation of 1.\n",
        "#    - It produces values that are more likely to be close to 0 and less likely to be far away from 0, following the bell curve of the normal distribution.\n",
        "#    - Example: `np.random.randn(3, 3)` generates a 3x3 array of random numbers sampled from a standard normal distribution.\n",
        "\n",
        "# In summary, `np.random.rand` samples from a uniform distribution over the range [0, 1),\n",
        "# while `np.random.randn` samples from a standard normal distribution with mean 0 and standard deviation 1.\n",
        "# The choice between the two depends on the specific requirements of your application and the desired distribution of random numbers."
      ],
      "metadata": {
        "id": "g5eia2ZO3Rj7"
      },
      "execution_count": null,
      "outputs": []
    },
    {
      "cell_type": "code",
      "source": [
        "# 9. Write code to increase the dimension of the following array?\n",
        "# [[1, 2, 3, 4]\n",
        "# [5, 6, 7, 8],\n",
        "# [9, 10, 11, 12]]\n",
        "\n",
        "import numpy as np\n",
        "\n",
        "# Define the array\n",
        "array = np.array([[1, 2, 3, 4],\n",
        "                  [5, 6, 7, 8],\n",
        "                  [9, 10, 11, 12]])\n",
        "\n",
        "# Increase the dimension of the array\n",
        "expanded_array_axis0 = np.expand_dims(array, axis=0)  # Add a new dimension at axis 0\n",
        "\n",
        "print(\"Original Array:\")\n",
        "print(array)\n",
        "print(\"\\nArray with Increased Dimension:\")\n",
        "print(expanded_array_axis0)\n"
      ],
      "metadata": {
        "id": "2adekms84fx5"
      },
      "execution_count": null,
      "outputs": []
    },
    {
      "cell_type": "code",
      "source": [
        "# 10. How to transpose the following array in NumPy?\n",
        "# [[1, 2, 3, 4]\n",
        "# [5, 6, 7, 8],\n",
        "# [9, 10, 11, 12]]\n",
        "\n",
        "\n",
        "import numpy as np\n",
        "\n",
        "array = np.array([[1, 2, 3, 4],\n",
        "                  [5, 6, 7, 8],\n",
        "                  [9, 10, 11, 12]])\n",
        "\n",
        "transposed_array = np.transpose(array)\n",
        "\n",
        "print(\"Original Array:\")\n",
        "print(array)\n",
        "print(\"\\nTransposed Array:\")\n",
        "print(transposed_array)\n"
      ],
      "metadata": {
        "colab": {
          "base_uri": "https://localhost:8080/"
        },
        "id": "ZfbJIhU55u3P",
        "outputId": "f3195240-36dc-4d05-a1a5-f2934e35f748"
      },
      "execution_count": 29,
      "outputs": [
        {
          "output_type": "stream",
          "name": "stdout",
          "text": [
            "Original Array:\n",
            "[[ 1  2  3  4]\n",
            " [ 5  6  7  8]\n",
            " [ 9 10 11 12]]\n",
            "\n",
            "Transposed Array:\n",
            "[[ 1  5  9]\n",
            " [ 2  6 10]\n",
            " [ 3  7 11]\n",
            " [ 4  8 12]]\n"
          ]
        }
      ]
    },
    {
      "cell_type": "code",
      "source": [
        "# 11. Consider the following matrix:\n",
        "# Matrix A2 [[1, 2, 3, 4] [5, 6, 7, 8],[9, 10, 11, 12]]\n",
        "# Matrix B2 [[1, 2, 3, 4] [5, 6, 7, 8],[9, 10, 11, 12]]\n",
        "# Perform the following operation using Python:\n",
        "# 1.Index wise multiplication\n",
        "# 2.Matrix multiplication\n",
        "# 3.Add both the matrics\n",
        "# 4.Subtract matrix B from A\n",
        "# 5.Divide Matrix B by A\n",
        "\n",
        "\n",
        "import numpy as np\n",
        "\n",
        "# Define matrices A2 and B2\n",
        "A2 = np.array([[1, 2, 3, 4],\n",
        "               [5, 6, 7, 8],\n",
        "               [9, 10, 11, 12]])\n",
        "\n",
        "B2 = np.array([[1, 2, 3, 4],\n",
        "               [5, 6, 7, 8],\n",
        "               [9, 10, 11, 12]])\n",
        "\n",
        "# 1.Index wise multiplication\n",
        "result = A2 * B2\n",
        "print(\"Result of Index-wise Multiplication:\")\n",
        "print(result)\n",
        "\n",
        "# 2.Matrix multiplication\n",
        "result = A2 @ B2.T\n",
        "print(\"Result of Matrix Multiplication:\")\n",
        "print(result)\n",
        "\n",
        "# 3.Add both the matrics\n",
        "result = A2 + B2\n",
        "print(\"Result of Matrix Addition:\")\n",
        "print(result)\n",
        "\n",
        "# 4.Subtract matrix B from A\n",
        "result = B2 - A2\n",
        "print(\"Result of Matrix Subtraction:\")\n",
        "print(result)\n",
        "\n",
        "# 5.Divide Matrix B by A\n",
        "result = B2 / A2\n",
        "print(\"Result of Matrix Division (B / A):\")\n",
        "print(result)"
      ],
      "metadata": {
        "colab": {
          "base_uri": "https://localhost:8080/"
        },
        "id": "9U34yX-W7DH4",
        "outputId": "26b13a5e-9f2d-443d-eaa8-ca3398b177e5"
      },
      "execution_count": 32,
      "outputs": [
        {
          "output_type": "stream",
          "name": "stdout",
          "text": [
            "Result of Index-wise Multiplication:\n",
            "[[  1   4   9  16]\n",
            " [ 25  36  49  64]\n",
            " [ 81 100 121 144]]\n",
            "Result of Matrix Multiplication:\n",
            "[[ 30  70 110]\n",
            " [ 70 174 278]\n",
            " [110 278 446]]\n",
            "Result of Matrix Addition:\n",
            "[[ 2  4  6  8]\n",
            " [10 12 14 16]\n",
            " [18 20 22 24]]\n",
            "Result of Matrix Subtraction:\n",
            "[[0 0 0 0]\n",
            " [0 0 0 0]\n",
            " [0 0 0 0]]\n",
            "Result of Matrix Division (B / A):\n",
            "[[1. 1. 1. 1.]\n",
            " [1. 1. 1. 1.]\n",
            " [1. 1. 1. 1.]]\n"
          ]
        }
      ]
    },
    {
      "cell_type": "code",
      "source": [
        "# 12.  Which function in Numpy can be used to swap the byte order of an array?\n",
        "\n",
        "# In NumPy, the function np.ndarray.byteswap() can be used to swap the byte order of an array. This function swaps the byte order of the elements in the array in place.\n",
        "import numpy as np\n",
        "\n",
        "# Define an array\n",
        "arr = np.array([1, 2, 3, 4], dtype=np.int32)\n",
        "print(\"Before Swapped Array:\", arr)\n",
        "# Swap the byte order of the array\n",
        "arr  = arr.byteswap(True)\n",
        "print(\"Swapped Array:\", arr)\n",
        "# the byte order of the arr array is swapped. The True argument in the byteswap() function call indicates that the byte order should be swapped in place.\n",
        "# The byte order is swapped for the elements of the array according to the specified data type."
      ],
      "metadata": {
        "colab": {
          "base_uri": "https://localhost:8080/"
        },
        "id": "MFZ24wDz8Ppl",
        "outputId": "bbf3b090-45a5-4e7b-deab-a0398be4cb2b"
      },
      "execution_count": 37,
      "outputs": [
        {
          "output_type": "stream",
          "name": "stdout",
          "text": [
            "Before Swapped Array: [1 2 3 4]\n",
            "Swapped Array: [16777216 33554432 50331648 67108864]\n"
          ]
        }
      ]
    },
    {
      "cell_type": "code",
      "source": [
        "# 13.  What is the significance of the np.linalg.inv function?\n",
        "# The np.linalg.inv() function in NumPy computes the multiplicative inverse of a square matrix.\n",
        "# It's used for solving systems of linear equations, calculating eigenvalues and eigenvectors, and performing various matrix operations.\n",
        "# The matrix must be square and non-singular for the function to compute a valid inverse."
      ],
      "metadata": {
        "id": "kh8WUm4UGaYC"
      },
      "execution_count": null,
      "outputs": []
    },
    {
      "cell_type": "code",
      "source": [
        "# 14. What does the np.reshape function do, and how is it used?\n",
        "# The np.reshape() function in NumPy is used to change the shape (dimensions) of an array without changing its data.\n",
        "# It allows you to rearrange the elements of the array to fit into a new shape specified by the dimensions you provide.\n",
        "# Here's how np.reshape() works:\n",
        "\n",
        "# Changing Shape: You provide the desired shape as a tuple of integers to the np.reshape() function.\n",
        "#                 The total number of elements in the original array must match the total number of elements in the new shape.\n",
        "\n",
        "# Rearranging Elements: The function rearranges the elements of the array to fit into the new shape while maintaining the order of elements.\n",
        "\n",
        "# In-place Operation: The np.reshape() function returns a new view of the original array with the specified shape.\n",
        "#                     It does not modify the original array but provides a different view of it with the desired shape.\n",
        "\n",
        "import numpy as np\n",
        "\n",
        "# Define an array\n",
        "arr = np.array([1, 2, 3, 4, 5, 6])\n",
        "\n",
        "# Reshape the array into a 2x3 matrix\n",
        "reshaped_arr = np.reshape(arr, (2, 3))\n",
        "\n",
        "print(\"Original Array:\")\n",
        "print(arr)\n",
        "print(\"\\nReshaped Array:\")\n",
        "print(reshaped_arr)\n",
        "\n",
        "\n"
      ],
      "metadata": {
        "id": "jGbVygbcHZSa"
      },
      "execution_count": null,
      "outputs": []
    },
    {
      "cell_type": "code",
      "source": [
        "# 15. What is broadcasting in Numpy?\n",
        "\n",
        "# Broadcasting in NumPy is a powerful mechanism that allows arrays of different shapes to be combined together in arithmetic operations.\n",
        "# It enables NumPy to perform element-wise operations on arrays even if their shapes are not identical,\n",
        "# by implicitly expanding the smaller arrays to match the shape of the larger array.\n",
        "\n",
        "# The key concepts of broadcasting in NumPy are:\n",
        "# Shape Compatibility: Arrays can be broadcast together if their shapes are compatible. Two dimensions are compatible when they are equal, or one of them is 1.\n",
        "# Implicit Expansion: NumPy automatically expands the smaller array along the missing dimensions to match the shape of the larger array during arithmetic operations.\n",
        "# Efficiency: Broadcasting enables vectorized operations, avoiding the need for explicit looping through array elements, which leads to more concise and efficient code.\n",
        "\n",
        "# Here's a simple example to illustrate broadcasting in NumPy:\n",
        "import numpy as np\n",
        "\n",
        "# Create a 3x3 array\n",
        "arr1 = np.array([[1, 2, 3],\n",
        "                 [4, 5, 6],\n",
        "                 [7, 8, 9]])\n",
        "\n",
        "# Create a 1D array\n",
        "arr2 = np.array([1, 0, -1])\n",
        "\n",
        "# Add the 1D array to each row of the 2D array\n",
        "result = arr1 + arr2\n",
        "print(result)\n",
        "\n",
        "# [[ 2  2  2]\n",
        "#  [ 5  5  5]\n",
        "#  [ 8  8  8]]\n",
        "\n",
        "# the 1D array arr2 is broadcasted to match the shape of the 2D array arr1. The array arr2 is implicitly expanded along the rows to become:\n",
        "# [[1, 0, -1],\n",
        "#  [1, 0, -1],\n",
        "#  [1, 0, -1]]\n",
        "\n",
        "# Then, element-wise addition is performed between arr1 and the expanded arr2.\n",
        "# This broadcasting operation allows us to add a 1D array to a 2D array without explicitly duplicating the 1D array along the rows.\n",
        "# Broadcasting simplifies the syntax and makes code more readable and efficient."
      ],
      "metadata": {
        "colab": {
          "base_uri": "https://localhost:8080/"
        },
        "id": "QK2hBRShH-1a",
        "outputId": "e359291a-67e0-4fef-f480-b76b3a57a84a"
      },
      "execution_count": 39,
      "outputs": [
        {
          "output_type": "stream",
          "name": "stdout",
          "text": [
            "[[2 2 2]\n",
            " [5 5 5]\n",
            " [8 8 8]]\n"
          ]
        }
      ]
    },
    {
      "cell_type": "code",
      "source": [],
      "metadata": {
        "id": "h39pXxeuLycg"
      },
      "execution_count": null,
      "outputs": []
    }
  ]
}