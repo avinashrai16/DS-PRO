{
 "cells": [
  {
   "cell_type": "code",
   "execution_count": null,
   "metadata": {},
   "outputs": [],
   "source": [
    "#polymorphism"
   ]
  },
  {
   "cell_type": "code",
   "execution_count": null,
   "metadata": {},
   "outputs": [],
   "source": [
    "def test(a,b):\n",
    "    return a+b"
   ]
  },
  {
   "cell_type": "code",
   "execution_count": null,
   "metadata": {},
   "outputs": [],
   "source": [
    "test(3,4)\n",
    "test(\"avinash\",\"rai\")"
   ]
  },
  {
   "cell_type": "code",
   "execution_count": null,
   "metadata": {},
   "outputs": [],
   "source": [
    "class pwskills:\n",
    "    def student(self):\n",
    "        #pass\n",
    "        print(\"this will give me details about pwskills student\")\n",
    "\n",
    "class datascienece(pwskills):\n",
    "    def student(self):\n",
    "        print(\"this will give me details about data science student\")\n",
    "\n",
    "class bigdata(pwskills):\n",
    "    def student(self):\n",
    "        #super().student()\n",
    "        #pwskills.student(self)\n",
    "        print(\"this will give me details about big data student\")\n",
    "\n",
    "\n",
    "student1 = datascienece()\n",
    "student2 = bigdata()\n",
    "student1.student()\n",
    "student2.student()\n"
   ]
  },
  {
   "cell_type": "code",
   "execution_count": null,
   "metadata": {},
   "outputs": [],
   "source": [
    "class bigdata:\n",
    "    def __init__(self, number_of_class, number_of_student):\n",
    "        self.number_of_class = number_of_class\n",
    "        self.number_of_student = number_of_student\n",
    "    \n",
    "    def __add__(self, other):\n",
    "        return bigdata(self.number_of_class+other.number_of_class, self.number_of_student+other.number_of_student)\n",
    "    \n",
    "c1 = bigdata(1,10)\n",
    "c2 = bigdata(2,12)\n",
    "c3 = bigdata(3,14)\n",
    "result = c1+c2+c3\n",
    "#result = result+c3\n",
    "print(result.number_of_class, result.number_of_student)\n"
   ]
  },
  {
   "cell_type": "code",
   "execution_count": null,
   "metadata": {},
   "outputs": [],
   "source": [
    "class datascienece:\n",
    "    def __init__(self, input_number):\n",
    "        self.input_number = input_number\n",
    "\n",
    "    def __add__(self, other):\n",
    "        return datascienece(self.input_number+other.input_number)"
   ]
  },
  {
   "cell_type": "code",
   "execution_count": null,
   "metadata": {},
   "outputs": [],
   "source": [
    "d1 = datascienece(2)\n",
    "d2 = datascienece(3)\n",
    "d3 = datascienece(4)\n",
    "result = d1+d2+d3\n",
    "print(result.input_number)"
   ]
  },
  {
   "cell_type": "code",
   "execution_count": null,
   "metadata": {},
   "outputs": [],
   "source": [
    "class datascienece:\n",
    "    def student(self):\n",
    "        print(\"this will give me details about data science student\")\n",
    "\n",
    "class bigdata:\n",
    "    def student(self):\n",
    "        #super().student()\n",
    "        #pwskills.student(self)\n",
    "        print(\"this will give me details about big data student\")\n",
    "\n",
    "def output_class(class_obj):\n",
    "    return class_obj.student()"
   ]
  },
  {
   "cell_type": "code",
   "execution_count": null,
   "metadata": {},
   "outputs": [],
   "source": [
    "d4 = datascienece()\n",
    "d5 = bigdata()"
   ]
  },
  {
   "cell_type": "code",
   "execution_count": null,
   "metadata": {},
   "outputs": [],
   "source": [
    "output_class(d4)"
   ]
  },
  {
   "cell_type": "code",
   "execution_count": null,
   "metadata": {},
   "outputs": [],
   "source": [
    "output_class(d5)"
   ]
  },
  {
   "cell_type": "code",
   "execution_count": null,
   "metadata": {},
   "outputs": [],
   "source": [
    "class pwskills:\n",
    "    def student(self):\n",
    "        return \"this is a pwskills student\"\n",
    "\n",
    "class datascienece(pwskills):\n",
    "    def student(self):\n",
    "        print(\"this will give me details about data science student\")\n",
    "    "
   ]
  },
  {
   "cell_type": "code",
   "execution_count": null,
   "metadata": {},
   "outputs": [],
   "source": [
    "s1 = datascienece()\n",
    "s1.student()"
   ]
  },
  {
   "cell_type": "code",
   "execution_count": null,
   "metadata": {},
   "outputs": [],
   "source": [
    "#Encapsulation"
   ]
  },
  {
   "cell_type": "code",
   "execution_count": null,
   "metadata": {},
   "outputs": [],
   "source": [
    "class test:\n",
    "    def __init__(self):\n",
    "        self.__x =\"avinash\"\n",
    "    \n",
    "    def __test_meth(self):\n",
    "        return \"this is just a test method\"\n",
    "\n",
    "    def access_var(self):\n",
    "        return self.__x\n",
    "    \n",
    "    def access_func(self):\n",
    "        return self.__test_meth()\n",
    "    \n",
    "    def update_var(self, data):\n",
    "        self.__x = data"
   ]
  },
  {
   "cell_type": "code",
   "execution_count": null,
   "metadata": {},
   "outputs": [],
   "source": [
    "t1 = test()\n",
    "t1.update_var(\"Rai\")"
   ]
  },
  {
   "cell_type": "code",
   "execution_count": null,
   "metadata": {},
   "outputs": [],
   "source": [
    "t1.access_var()"
   ]
  },
  {
   "cell_type": "code",
   "execution_count": null,
   "metadata": {},
   "outputs": [],
   "source": [
    "t1.access_func()"
   ]
  },
  {
   "cell_type": "code",
   "execution_count": null,
   "metadata": {},
   "outputs": [],
   "source": [
    "class bank:\n",
    "    def __init__(self, account_number, balance):\n",
    "        self._account_number = account_number\n",
    "        self.__balance = balance\n",
    "    \n",
    "    def chk_balance(self, password):\n",
    "        if password == \"testpass\":\n",
    "            return self.__balance\n",
    "        else:\n",
    "            return \"incorrect password\"\n",
    "\n",
    "avinash = bank(312, 123)\n",
    "avinash.chk_balance(\"testpass\")"
   ]
  },
  {
   "cell_type": "code",
   "execution_count": null,
   "metadata": {},
   "outputs": [],
   "source": [
    "class queue:\n",
    "    def __init__(self):\n",
    "        self._queue = []\n",
    "\n",
    "    def enqueue(self, data):\n",
    "        self._queue.append(data)\n",
    "    \n",
    "    def  dequeue(self):\n",
    "        if self._queue :\n",
    "            return self._queue.pop(0)\n",
    "        else:\n",
    "            print(\"its empty\")\n",
    "\n",
    "    def showdata(self):\n",
    "        return self._queue\n",
    "\n",
    "q1 = queue()\n",
    "q1.dequeue()"
   ]
  },
  {
   "cell_type": "code",
   "execution_count": null,
   "metadata": {},
   "outputs": [],
   "source": [
    "q1.enqueue(40)"
   ]
  },
  {
   "cell_type": "code",
   "execution_count": null,
   "metadata": {},
   "outputs": [],
   "source": [
    "q1.showdata()"
   ]
  },
  {
   "cell_type": "code",
   "execution_count": null,
   "metadata": {},
   "outputs": [],
   "source": [
    "#abstraction"
   ]
  },
  {
   "cell_type": "code",
   "execution_count": null,
   "metadata": {},
   "outputs": [],
   "source": [
    "class pwskills:\n",
    "    def student_details(self):\n",
    "        return \"this will give you a student details\""
   ]
  },
  {
   "cell_type": "code",
   "execution_count": null,
   "metadata": {},
   "outputs": [],
   "source": [
    "from abc import ABC, abstractmethod\n",
    "class pwskills(ABC):\n",
    "\n",
    "    @abstractmethod\n",
    "    def databaseconnect(self):\n",
    "        pass\n",
    "    @abstractmethod\n",
    "    def chk_users_enrollment(self, user_mailid):\n",
    "        pass\n",
    "    @abstractmethod\n",
    "    def chk_completed_lecture(self, user_id, class_id):\n",
    "        pass\n",
    "    @abstractmethod\n",
    "    def chk_lab_uses(self, user_id):\n",
    "        pass\n",
    "    @abstractmethod\n",
    "    def chk_internship(self,user_id):\n",
    "        pass"
   ]
  },
  {
   "cell_type": "code",
   "execution_count": null,
   "metadata": {},
   "outputs": [],
   "source": [
    "class databaseconnect(pwskills):\n",
    "    def databaseconnect(self):\n",
    "        print(\"this is a implementation of database connect\")\n",
    "    def chk_users_enrollment(self, user_mailid):\n",
    "        return \"test\"\n",
    "    def chk_completed_lecture(self, user_id, class_id):\n",
    "        return \"test\"\n",
    "    def chk_lab_uses(self, user_id):\n",
    "        return \"test\"\n",
    "    def chk_internship(self,user_id):\n",
    "        return \"test\""
   ]
  },
  {
   "cell_type": "code",
   "execution_count": null,
   "metadata": {},
   "outputs": [],
   "source": [
    "db1 = databaseconnect()\n",
    "db1.databaseconnect()"
   ]
  },
  {
   "cell_type": "code",
   "execution_count": null,
   "metadata": {},
   "outputs": [],
   "source": [
    "class calculation :\n",
    "\n",
    "    @staticmethod\n",
    "    def add(x,y):\n",
    "        return x+y\n",
    "    \n",
    "    @staticmethod\n",
    "    def subtract(x,y):\n",
    "        return x-y\n",
    "    \n",
    "    def div(self,x,y):\n",
    "        return x/y"
   ]
  },
  {
   "cell_type": "code",
   "execution_count": null,
   "metadata": {},
   "outputs": [],
   "source": [
    "class cal(calculation):\n",
    "    def add (x,y):\n",
    "        return x*y"
   ]
  },
  {
   "cell_type": "code",
   "execution_count": null,
   "metadata": {},
   "outputs": [],
   "source": [
    "c2= cal()\n",
    "c2.add(5,4)"
   ]
  },
  {
   "cell_type": "code",
   "execution_count": null,
   "metadata": {},
   "outputs": [],
   "source": [
    "cal.add(3,4)"
   ]
  },
  {
   "cell_type": "code",
   "execution_count": 170,
   "metadata": {},
   "outputs": [],
   "source": [
    "class file_ops:\n",
    "    def __init__(self, filename):\n",
    "        self.filename =filename\n",
    "\n",
    "    def read_file(self):\n",
    "        with open(self.filename, 'r') as file:\n",
    "            return file.read()\n",
    "    \n",
    "    def write_file(self, data):\n",
    "        with open (self.filename, \"w\") as file:\n",
    "            file.write(data)"
   ]
  },
  {
   "cell_type": "code",
   "execution_count": 175,
   "metadata": {},
   "outputs": [],
   "source": [
    "op_file_1 = file_ops(\"avinash.txt\")\n",
    "op_file_1.write_file(\"test data\")"
   ]
  },
  {
   "cell_type": "code",
   "execution_count": 176,
   "metadata": {},
   "outputs": [],
   "source": [
    "op_file_2 = file_ops(\"kapil.txt\")\n",
    "op_file_2.write_file(\"this is kapil file\")"
   ]
  },
  {
   "cell_type": "code",
   "execution_count": 177,
   "metadata": {},
   "outputs": [
    {
     "data": {
      "text/plain": [
       "'test data'"
      ]
     },
     "execution_count": 177,
     "metadata": {},
     "output_type": "execute_result"
    }
   ],
   "source": [
    "op_file_1.read_file()"
   ]
  },
  {
   "cell_type": "code",
   "execution_count": 178,
   "metadata": {},
   "outputs": [],
   "source": [
    "# composition"
   ]
  },
  {
   "cell_type": "code",
   "execution_count": 180,
   "metadata": {},
   "outputs": [],
   "source": [
    "class pwskills:\n",
    "    def student(self):\n",
    "        return \"student details\"\n",
    "\n",
    "class datascienece:\n",
    "    def __init__(self):\n",
    "        self.student = pwskills()"
   ]
  },
  {
   "cell_type": "code",
   "execution_count": 182,
   "metadata": {},
   "outputs": [
    {
     "data": {
      "text/plain": [
       "'student details'"
      ]
     },
     "execution_count": 182,
     "metadata": {},
     "output_type": "execute_result"
    }
   ],
   "source": [
    "ds = datascienece()\n",
    "ds.student.student()"
   ]
  },
  {
   "cell_type": "code",
   "execution_count": 185,
   "metadata": {},
   "outputs": [],
   "source": [
    "class data:\n",
    "    def __init__(self, mentor_name):\n",
    "        self.mentor_name = mentor_name\n",
    "\n",
    "class webdev:\n",
    "    def __init__(self,mentor,lecture_name):\n",
    "        self.mentor = mentor\n",
    "        self.lecture_name = lecture_name\n"
   ]
  },
  {
   "cell_type": "code",
   "execution_count": 189,
   "metadata": {},
   "outputs": [],
   "source": [
    "d = data(\"sudh\")\n",
    "w = webdev(d,\"css\")"
   ]
  },
  {
   "cell_type": "code",
   "execution_count": 187,
   "metadata": {},
   "outputs": [
    {
     "data": {
      "text/plain": [
       "'sudh'"
      ]
     },
     "execution_count": 187,
     "metadata": {},
     "output_type": "execute_result"
    }
   ],
   "source": [
    "d.mentor_name"
   ]
  },
  {
   "cell_type": "code",
   "execution_count": 188,
   "metadata": {},
   "outputs": [
    {
     "data": {
      "text/plain": [
       "'krish'"
      ]
     },
     "execution_count": 188,
     "metadata": {},
     "output_type": "execute_result"
    }
   ],
   "source": [
    "w.mentor"
   ]
  },
  {
   "cell_type": "code",
   "execution_count": 190,
   "metadata": {},
   "outputs": [
    {
     "data": {
      "text/plain": [
       "'sudh'"
      ]
     },
     "execution_count": 190,
     "metadata": {},
     "output_type": "execute_result"
    }
   ],
   "source": [
    "w.mentor.mentor_name"
   ]
  },
  {
   "cell_type": "code",
   "execution_count": null,
   "metadata": {},
   "outputs": [],
   "source": []
  }
 ],
 "metadata": {
  "kernelspec": {
   "display_name": "Python 3",
   "language": "python",
   "name": "python3"
  },
  "language_info": {
   "codemirror_mode": {
    "name": "ipython",
    "version": 3
   },
   "file_extension": ".py",
   "mimetype": "text/x-python",
   "name": "python",
   "nbconvert_exporter": "python",
   "pygments_lexer": "ipython3",
   "version": "3.11.6"
  }
 },
 "nbformat": 4,
 "nbformat_minor": 2
}
