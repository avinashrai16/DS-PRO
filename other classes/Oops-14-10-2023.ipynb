{
 "cells": [
  {
   "cell_type": "code",
   "execution_count": null,
   "metadata": {},
   "outputs": [],
   "source": [
    "class pwskils :\n",
    "\n",
    "    def __init__(self, mentor):\n",
    "        self.mentor = mentor\n",
    "    \n",
    "    def mentor_name(self):\n",
    "        print(self.mentor)\n",
    "\n",
    "class datascience(pwskils):\n",
    "    def __init__(self, mentor, mentor_mail_id):\n",
    "        self.mentor = mentor\n",
    "        self.mentor_mail_id = mentor_mail_id\n",
    "    \n",
    "    def show_info(self):\n",
    "        print(self.mentor, self.mentor_mail_id)"
   ]
  },
  {
   "cell_type": "code",
   "execution_count": null,
   "metadata": {},
   "outputs": [],
   "source": [
    "python_basic = datascience(\"avinash\",\"avinashrai16@gmail.com\")"
   ]
  },
  {
   "cell_type": "code",
   "execution_count": null,
   "metadata": {},
   "outputs": [],
   "source": [
    "python_basic.show_info()"
   ]
  },
  {
   "cell_type": "code",
   "execution_count": null,
   "metadata": {},
   "outputs": [],
   "source": [
    "python_basic.mentor_name()"
   ]
  },
  {
   "cell_type": "code",
   "execution_count": null,
   "metadata": {},
   "outputs": [],
   "source": [
    "class pwskils :\n",
    "\n",
    "    def __init__(self, mentor):\n",
    "        self.mentor = mentor\n",
    "    \n",
    "    def mentor_name(self):\n",
    "        print(self.mentor)\n",
    "\n",
    "class datascience(pwskils):\n",
    "    def __init__(self, mentor, mentor_mail_id):\n",
    "        #self.mentor = mentor\n",
    "        super().__init__(mentor)\n",
    "        self.mentor_mail_id = mentor_mail_id\n",
    "    \n",
    "    def show_info(self):\n",
    "        super().mentor_name()\n",
    "        #print(self.mentor, self.mentor_mail_id)"
   ]
  },
  {
   "cell_type": "code",
   "execution_count": null,
   "metadata": {},
   "outputs": [],
   "source": [
    "python_basic = datascience(\"avinash\",\"avinashrai16@gmail.com\")"
   ]
  },
  {
   "cell_type": "code",
   "execution_count": null,
   "metadata": {},
   "outputs": [],
   "source": [
    "python_basic.show_info()"
   ]
  },
  {
   "cell_type": "code",
   "execution_count": null,
   "metadata": {},
   "outputs": [],
   "source": [
    "python_basic.mentor_name()"
   ]
  },
  {
   "cell_type": "code",
   "execution_count": null,
   "metadata": {},
   "outputs": [],
   "source": [
    "class human:\n",
    "    def __init__(self):\n",
    "        pass\n",
    "\n",
    "    def eat(self):\n",
    "       print(\"print the eat method from human\")\n",
    "    "
   ]
  },
  {
   "cell_type": "code",
   "execution_count": null,
   "metadata": {},
   "outputs": [],
   "source": [
    "class male(human):\n",
    "\n",
    "    def __init__(self,name):\n",
    "        self.name = name\n",
    "\n",
    "    def eat(self):\n",
    "        super().eat()\n",
    "        print(self.name)\n",
    "        "
   ]
  },
  {
   "cell_type": "code",
   "execution_count": null,
   "metadata": {},
   "outputs": [],
   "source": [
    "avinash = male(\"avinash\")"
   ]
  },
  {
   "cell_type": "code",
   "execution_count": null,
   "metadata": {},
   "outputs": [],
   "source": [
    "avinash.eat()"
   ]
  },
  {
   "cell_type": "code",
   "execution_count": null,
   "metadata": {},
   "outputs": [],
   "source": [
    "class fileopener:\n",
    "\n",
    "    def __init__(self,filename):\n",
    "        self.filename = filename\n",
    "\n",
    "    def open_file(self):\n",
    "        print(\"this will open the file\", self.filename)\n",
    "    \n",
    "    def __del__(self):\n",
    "        print(\"close my file\")"
   ]
  },
  {
   "cell_type": "code",
   "execution_count": null,
   "metadata": {},
   "outputs": [],
   "source": [
    "f1 = fileopener(\"f1.txt\")"
   ]
  },
  {
   "cell_type": "code",
   "execution_count": null,
   "metadata": {},
   "outputs": [],
   "source": [
    "f1.open_file()\n",
    "del f1"
   ]
  },
  {
   "cell_type": "code",
   "execution_count": null,
   "metadata": {},
   "outputs": [],
   "source": [
    "import time\n",
    "class timer:\n",
    "    def __init__(self):\n",
    "        self.start_time = time.time()\n",
    "    \n",
    "    def task(self):\n",
    "        time_spent = time.time() - self.start_time\n",
    "        print(time_spent)\n",
    "\n",
    "    def __del__(self):\n",
    "        time_spent = time.time() - self.start_time\n",
    "        print(time_spent)\n",
    "    \n",
    "    def __str__(self):\n",
    "        #return(\"this is my class time\")\n",
    "        return \"this is my class time\""
   ]
  },
  {
   "cell_type": "code",
   "execution_count": null,
   "metadata": {},
   "outputs": [],
   "source": [
    "t1 = timer()"
   ]
  },
  {
   "cell_type": "code",
   "execution_count": null,
   "metadata": {},
   "outputs": [],
   "source": [
    "del t1"
   ]
  },
  {
   "cell_type": "code",
   "execution_count": null,
   "metadata": {},
   "outputs": [],
   "source": [
    "t1.task()"
   ]
  },
  {
   "cell_type": "code",
   "execution_count": 1,
   "metadata": {},
   "outputs": [],
   "source": [
    "def test(func):\n",
    "    def inner_test():\n",
    "        print(\"this is the start of my inner test\")\n",
    "        func()\n",
    "        print(\"this is the end of my inner test\")\n",
    "    \n",
    "    return inner_test\n",
    "\n",
    "@test\n",
    "def test1():\n",
    "    print(\"this is my test1\")"
   ]
  },
  {
   "cell_type": "code",
   "execution_count": 2,
   "metadata": {},
   "outputs": [
    {
     "name": "stdout",
     "output_type": "stream",
     "text": [
      "this is the start of my inner test\n",
      "this is my test1\n",
      "this is the end of my inner test\n"
     ]
    }
   ],
   "source": [
    "test1()"
   ]
  },
  {
   "cell_type": "code",
   "execution_count": null,
   "metadata": {},
   "outputs": [],
   "source": [
    "test(avinash)"
   ]
  },
  {
   "cell_type": "code",
   "execution_count": null,
   "metadata": {},
   "outputs": [],
   "source": [
    "import time\n",
    "def print_list(l):\n",
    "    for i in l :\n",
    "        print(i)"
   ]
  },
  {
   "cell_type": "code",
   "execution_count": null,
   "metadata": {},
   "outputs": [],
   "source": [
    "def print_key(d):\n",
    "    print(d.keys())"
   ]
  },
  {
   "cell_type": "code",
   "execution_count": 6,
   "metadata": {},
   "outputs": [],
   "source": [
    "import time\n",
    "def find_time(func):\n",
    "    def calculate_time(*args):\n",
    "        start_time = time.time()\n",
    "        func(*args)\n",
    "        end_time = time.time()\n",
    "        total_time = end_time - start_time\n",
    "        print(total_time)\n",
    "    \n",
    "    return calculate_time"
   ]
  },
  {
   "cell_type": "code",
   "execution_count": 7,
   "metadata": {},
   "outputs": [],
   "source": [
    "@find_time\n",
    "def print_key(d):\n",
    "    print(d.keys())"
   ]
  },
  {
   "cell_type": "code",
   "execution_count": 8,
   "metadata": {},
   "outputs": [
    {
     "name": "stdout",
     "output_type": "stream",
     "text": [
      "dict_keys(['key1', 'key2'])\n",
      "0.0009675025939941406\n"
     ]
    }
   ],
   "source": [
    "print_key({\"key1\":\"value1\",\"key2\":\"value2\"})"
   ]
  },
  {
   "cell_type": "code",
   "execution_count": null,
   "metadata": {},
   "outputs": [],
   "source": [
    "@find_time\n",
    "def print_list(l):\n",
    "    for i in l :\n",
    "        print(i)"
   ]
  },
  {
   "cell_type": "code",
   "execution_count": null,
   "metadata": {},
   "outputs": [],
   "source": [
    "print_list([1,2,3,4,5])"
   ]
  },
  {
   "cell_type": "code",
   "execution_count": 92,
   "metadata": {},
   "outputs": [],
   "source": [
    "import logging\n",
    "def log_fun(func):\n",
    "    def log_inner(*args):\n",
    "        logging.basicConfig(filename=\"test.log\",level=logging.INFO)\n",
    "        logging.info(\"this is the start of my function\")\n",
    "        func(*args)\n",
    "        logging.info(\"this is the end of my function\")\n",
    "    return log_inner"
   ]
  },
  {
   "cell_type": "code",
   "execution_count": 95,
   "metadata": {},
   "outputs": [],
   "source": [
    "@find_time\n",
    "@log_fun\n",
    "def print_list(l):\n",
    "    for i in l :\n",
    "        print(i)"
   ]
  },
  {
   "cell_type": "code",
   "execution_count": 96,
   "metadata": {},
   "outputs": [
    {
     "name": "stdout",
     "output_type": "stream",
     "text": [
      "1\n",
      "2\n",
      "3\n",
      "4\n",
      "5\n",
      "0.0010173320770263672\n"
     ]
    }
   ],
   "source": [
    "print_list([1,2,3,4,5])"
   ]
  },
  {
   "cell_type": "code",
   "execution_count": 105,
   "metadata": {},
   "outputs": [],
   "source": [
    "class test_class:\n",
    "    def __init__(self, subject):\n",
    "        self.__subject = subject  # single underscore is protected , double underscore is private and no underscore is public\n"
   ]
  },
  {
   "cell_type": "code",
   "execution_count": 106,
   "metadata": {},
   "outputs": [],
   "source": [
    "s1 = test_class(\"data science\")"
   ]
  },
  {
   "cell_type": "code",
   "execution_count": 107,
   "metadata": {},
   "outputs": [
    {
     "data": {
      "text/plain": [
       "'data science'"
      ]
     },
     "execution_count": 107,
     "metadata": {},
     "output_type": "execute_result"
    }
   ],
   "source": [
    "s1._test_class__subject"
   ]
  },
  {
   "cell_type": "code",
   "execution_count": 123,
   "metadata": {},
   "outputs": [],
   "source": [
    "class test_class:\n",
    "    def __init__(self, subject):\n",
    "        self.__subject = subject  # single underscore is protected, double underscore is private, and no underscore is public\n",
    "    \n",
    "    @property\n",
    "    def subject1(self):\n",
    "        return self.__subject\n",
    "    \n",
    "    @subject1.setter\n",
    "    def subject1(self,subject):\n",
    "        self.__subject = subject\n",
    "\n",
    "    @subject1.getter\n",
    "    def subject1(self):\n",
    "        return self.__subject"
   ]
  },
  {
   "cell_type": "code",
   "execution_count": 125,
   "metadata": {},
   "outputs": [],
   "source": [
    "s2 = test_class(\"python\")"
   ]
  },
  {
   "cell_type": "code",
   "execution_count": 126,
   "metadata": {},
   "outputs": [],
   "source": [
    "s2.subject1 = \"test subject\""
   ]
  },
  {
   "cell_type": "code",
   "execution_count": 127,
   "metadata": {},
   "outputs": [
    {
     "data": {
      "text/plain": [
       "'test subject'"
      ]
     },
     "execution_count": 127,
     "metadata": {},
     "output_type": "execute_result"
    }
   ],
   "source": [
    "s2.subject1"
   ]
  },
  {
   "cell_type": "code",
   "execution_count": 10,
   "metadata": {},
   "outputs": [],
   "source": [
    "class pwskils1 :\n",
    "\n",
    "    def __init__(self, mentor):\n",
    "        self.mentor = mentor\n",
    "        print(\"call in main class\")\n",
    "    \n",
    "    def mentor_name(self):\n",
    "        print(self.mentor)\n",
    "\n",
    "\n",
    "class datascience(pwskils1):\n",
    "    def __init__(self, mentor, mentor_mail_id):\n",
    "        pwskils1.__init__(self,mentor)\n",
    "        self.mentor_mail_id = mentor_mail_id\n",
    "    \n",
    "    def show_info(self):\n",
    "        super().mentor_name()\n",
    "        #print(self.mentor, self.mentor_mail_id)"
   ]
  },
  {
   "cell_type": "code",
   "execution_count": 11,
   "metadata": {},
   "outputs": [
    {
     "name": "stdout",
     "output_type": "stream",
     "text": [
      "call in main class\n"
     ]
    }
   ],
   "source": [
    "temp = datascience(\"avinash\",\"avinashrai16@gmail.com\")"
   ]
  },
  {
   "cell_type": "code",
   "execution_count": null,
   "metadata": {},
   "outputs": [],
   "source": []
  }
 ],
 "metadata": {
  "kernelspec": {
   "display_name": "Python 3",
   "language": "python",
   "name": "python3"
  },
  "language_info": {
   "codemirror_mode": {
    "name": "ipython",
    "version": 3
   },
   "file_extension": ".py",
   "mimetype": "text/x-python",
   "name": "python",
   "nbconvert_exporter": "python",
   "pygments_lexer": "ipython3",
   "version": "3.11.6"
  }
 },
 "nbformat": 4,
 "nbformat_minor": 2
}
