{
 "cells": [
  {
   "cell_type": "code",
   "execution_count": null,
   "metadata": {},
   "outputs": [],
   "source": [
    "n = 19\n",
    "index = 1\n",
    "while index <=10 :\n",
    "    print (n*index)\n",
    "    index += 1\n"
   ]
  },
  {
   "cell_type": "code",
   "execution_count": 2,
   "metadata": {},
   "outputs": [
    {
     "name": "stdout",
     "output_type": "stream",
     "text": [
      "before start\n"
     ]
    }
   ],
   "source": [
    "stop  = False\n",
    "while stop == False:\n",
    "    print (\"before start\")\n",
    "    stop = True"
   ]
  },
  {
   "cell_type": "code",
   "execution_count": 7,
   "metadata": {},
   "outputs": [
    {
     "name": "stdout",
     "output_type": "stream",
     "text": [
      "welcome\n"
     ]
    }
   ],
   "source": [
    "login_attempt_counter=0\n",
    "max_tries_allowed=3\n",
    "pass_to_match = \"123\"\n",
    "while login_attempt_counter < max_tries_allowed:\n",
    "    password_input = input(\"enter ur password\")\n",
    "    if(password_input == pass_to_match):\n",
    "        print(\"welcome\")\n",
    "        break\n",
    "    else:\n",
    "        login_attempt_counter += 1\n",
    "        print(f\"wrong password, left with {max_tries_allowed-login_attempt_counter} attempt\")\n",
    "        if(login_attempt_counter==max_tries_allowed):\n",
    "            print(\"account has been locked out, try after 24 hours\")"
   ]
  },
  {
   "cell_type": "code",
   "execution_count": 9,
   "metadata": {},
   "outputs": [
    {
     "name": "stdout",
     "output_type": "stream",
     "text": [
      "18\n"
     ]
    }
   ],
   "source": [
    "num = 23456\n",
    "sum = 0\n",
    "def sum_of_digits(num):\n",
    "    if(num<=9):\n",
    "        return num\n",
    "    else:\n",
    "        return num%10 + sum_of_digits(num//10)\n",
    "print (sum_of_digits(657))"
   ]
  },
  {
   "cell_type": "code",
   "execution_count": 11,
   "metadata": {},
   "outputs": [
    {
     "data": {
      "text/plain": [
       "7"
      ]
     },
     "execution_count": 11,
     "metadata": {},
     "output_type": "execute_result"
    }
   ],
   "source": [
    "l = [3,4,5,7,6]\n",
    "\n",
    "def get_max_item(list1):\n",
    "    if(len(list1)==1):\n",
    "        return list1[0]\n",
    "    else:\n",
    "        return max(list1[0],get_max_item(list1[1:]))\n",
    "\n",
    "get_max_item(l)"
   ]
  },
  {
   "cell_type": "code",
   "execution_count": null,
   "metadata": {},
   "outputs": [],
   "source": []
  }
 ],
 "metadata": {
  "kernelspec": {
   "display_name": "Python 3",
   "language": "python",
   "name": "python3"
  },
  "language_info": {
   "codemirror_mode": {
    "name": "ipython",
    "version": 3
   },
   "file_extension": ".py",
   "mimetype": "text/x-python",
   "name": "python",
   "nbconvert_exporter": "python",
   "pygments_lexer": "ipython3",
   "version": "3.11.6"
  }
 },
 "nbformat": 4,
 "nbformat_minor": 2
}
