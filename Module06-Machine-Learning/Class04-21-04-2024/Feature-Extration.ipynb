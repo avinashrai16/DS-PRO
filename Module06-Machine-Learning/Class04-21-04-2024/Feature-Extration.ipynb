{
 "cells": [
  {
   "cell_type": "markdown",
   "metadata": {},
   "source": [
    "-------------\n",
    "    Feature Extraction\n",
    "-------------------"
   ]
  },
  {
   "cell_type": "markdown",
   "metadata": {},
   "source": [
    "**Process of selecting and extracting the relevant feature from the raw data**"
   ]
  },
  {
   "cell_type": "markdown",
   "metadata": {},
   "source": [
    "Feature extraction is the process of transforming raw data into a format that is more suitable for analysis or model training. It involves selecting and creating new features (also known as predictors or independent variables) from the original data, aiming to capture relevant information while reducing dimensionality or noise.\n",
    "\n",
    "Here's a breakdown of the feature extraction process:\n",
    "\n",
    "1. **Data Collection**: Gather raw data from various sources, such as sensors, databases, or text documents.\n",
    "\n",
    "2. **Preprocessing**: Clean the data by handling missing values, outliers, and noise. Standardize or normalize numerical features to bring them to a similar scale. This step ensures that the data is suitable for further processing.\n",
    "\n",
    "3. **Feature Selection**: Choose a subset of relevant features from the original dataset. Feature selection methods include univariate feature selection, recursive feature elimination, and feature importance ranking based on machine learning models.\n",
    "\n",
    "4. **Feature Transformation**: Transform the selected features to create new representations that capture essential information. Techniques such as PCA (Principal Component Analysis), LDA (Linear Discriminant Analysis), and t-SNE (t-distributed Stochastic Neighbor Embedding) can be used for dimensionality reduction and visualization.\n",
    "\n",
    "5. **Feature Engineering**: Create new features based on domain knowledge or insights about the data. This may involve combining existing features, creating interaction terms, or extracting patterns from text, images, or time-series data.\n",
    "\n",
    "6. **Feature Scaling**: Scale or normalize the features to ensure that they have similar ranges. Common scaling methods include Min-Max scaling and standardization (Z-score normalization).\n",
    "\n",
    "7. **Validation**: Evaluate the performance of the extracted features using appropriate metrics and validation techniques, such as cross-validation or holdout validation.\n",
    "\n",
    "Feature extraction plays a crucial role in machine learning and data analysis, as it can improve model performance, reduce overfitting, and enhance interpretability. By extracting meaningful features from raw data, practitioners can build more accurate and robust predictive models for various tasks, including classification, regression, clustering, and anomaly detection."
   ]
  },
  {
   "cell_type": "markdown",
   "metadata": {},
   "source": [
    "-----------\n",
    "    The curse of dimensionality\n",
    "-----------"
   ]
  },
  {
   "cell_type": "markdown",
   "metadata": {},
   "source": [
    "The curse of dimensionality encompasses challenges associated with high-dimensional data, \n",
    "\n",
    "including increased sparsity, \n",
    "computational complexity, \n",
    "overfitting, \n",
    "greater sample size requirements, a\n",
    "nd diminished performance of distance-based methods. \n",
    "\n",
    "In response, practitioners often employ techniques such as \n",
    "dimensionality reduction, \n",
    "feature selection, \n",
    "and regularization to mitigate these challenges. \n",
    "Dimensionality reduction methods like PCA and t-SNE reduce dimensions while preserving information, feature selection selects relevant features, and regularization penalizes overly complex models, collectively improving the efficiency, effectiveness, and interpretability of machine learning models in high-dimensional spaces."
   ]
  },
  {
   "cell_type": "markdown",
   "metadata": {},
   "source": [
    "----------\n",
    "    Feature Scaling\n",
    "------------"
   ]
  },
  {
   "cell_type": "markdown",
   "metadata": {},
   "source": [
    "Feature scaling is a preprocessing technique used to standardize or normalize the range of features in a dataset, ensuring that they have similar scales. This is crucial for many machine learning algorithms, particularly those that are distance-based or gradient-based, as it helps prevent features with larger scales from dominating those with smaller scales. Common methods of feature scaling include Min-Max scaling, where features are scaled to a specified range (e.g., between 0 and 1), and standardization (Z-score normalization), which transforms features to have a mean of 0 and a standard deviation of 1. By scaling features, practitioners can improve the convergence speed of optimization algorithms, enhance model performance, and facilitate the interpretation of model coefficients."
   ]
  },
  {
   "cell_type": "markdown",
   "metadata": {},
   "source": [
    "<img src=\"feature-scaling-techniques.png\" width=\"650\">"
   ]
  },
  {
   "cell_type": "markdown",
   "metadata": {},
   "source": [
    "<img src=\"feature-scaling-example.png\" width=\"750\">"
   ]
  },
  {
   "cell_type": "markdown",
   "metadata": {},
   "source": [
    "-----------"
   ]
  },
  {
   "cell_type": "markdown",
   "metadata": {},
   "source": [
    "<img src=\"feature-scaling-example-standard.png\" width=\"750\">"
   ]
  },
  {
   "cell_type": "markdown",
   "metadata": {},
   "source": [
    "**As distribution remain same the prediction remains same hence scaling is optional**"
   ]
  },
  {
   "cell_type": "markdown",
   "metadata": {},
   "source": [
    "-------------\n",
    "    selecting the relevant/right feature\n",
    "----------------"
   ]
  },
  {
   "cell_type": "markdown",
   "metadata": {},
   "source": [
    "Techniques for doing feature selection :\n",
    "1. Filter method\n",
    "2. Embedded method\n",
    "3. Wrapper method"
   ]
  },
  {
   "cell_type": "markdown",
   "metadata": {},
   "source": [
    "**Filter method**"
   ]
  },
  {
   "cell_type": "markdown",
   "metadata": {},
   "source": [
    "The filter method for feature selection involves selecting features based on their statistical properties or relevance to the target variable, independent of the machine learning model. Here's how it works:\n",
    "\n",
    "1. **Statistical Tests**: Use statistical tests such as ANOVA F-test, chi-square test, or mutual information to quantify the relationship between each feature and the target variable. Features with higher scores or p-values below a specified threshold are considered more relevant.\n",
    "\n",
    "2. **Ranking Features**: Rank features based on their individual scores obtained from the statistical tests. Features with higher rankings are more likely to be informative for the prediction task.\n",
    "\n",
    "3. **Feature Subset Selection**: Select a subset of top-ranked features based on predefined criteria, such as selecting the top k features or features above a certain threshold score.\n",
    "\n",
    "4. **Independence of Models**: Unlike wrapper methods, which rely on the performance of a specific machine learning model, filter methods assess feature relevance independently of the model. This makes filter methods computationally efficient and less prone to overfitting.\n",
    "\n",
    "5. **Preprocessing**: Filter methods are typically applied during the preprocessing stage before model training, helping to reduce the dimensionality of the feature space and improve model interpretability.\n",
    "\n",
    "Despite their simplicity and efficiency, filter methods may overlook feature interactions and dependencies, leading to suboptimal feature subsets. Therefore, they are often used in combination with other feature selection techniques, such as wrapper methods or dimensionality reduction techniques, to achieve more robust feature selection."
   ]
  },
  {
   "cell_type": "markdown",
   "metadata": {},
   "source": [
    "----------\n",
    "    Data Encoding\n",
    "-------------"
   ]
  },
  {
   "cell_type": "markdown",
   "metadata": {},
   "source": [
    "Data encoding, also known as data transformation or data encoding, **is the process of converting categorical or textual data into numerical representations that machine learning algorithms can understand**. Here are some common methods of data encoding:\n",
    "\n",
    "1. **Label Encoding**: This method assigns a unique integer to each category in a categorical variable. For example, if a variable has categories \"red,\" \"green,\" and \"blue,\" they might be encoded as 0, 1, and 2, respectively. Label encoding is suitable for ordinal categorical variables with a natural ordering.\n",
    "\n",
    "2. **One-Hot Encoding**: One-hot encoding represents each category in a categorical variable as a binary vector. Each category becomes a binary feature, where 1 indicates the presence of the category and 0 indicates absence. This method is suitable for nominal categorical variables without a natural ordering.\n",
    "\n",
    "3. **Ordinal Encoding**: Ordinal encoding assigns integers to categories based on their ordinal relationship. For example, categories like \"low,\" \"medium,\" and \"high\" might be encoded as 0, 1, and 2, respectively. Ordinal encoding preserves the ordinal relationship between categories.\n",
    "\n",
    "4. **Binary Encoding**: Binary encoding converts each category into binary code and represents them as binary digits. For example, if there are 4 categories, each category may be represented by a 2-bit binary code (00, 01, 10, 11). This method reduces the dimensionality compared to one-hot encoding while preserving some information.\n",
    "\n",
    "5. **Frequency Encoding**: Frequency encoding replaces each category with its frequency of occurrence in the dataset. This method captures the distributional information of categories but may lead to overfitting if categories with very low frequencies are encoded.\n",
    "\n",
    "6. **Target Encoding**: Target encoding replaces each category with the mean or other statistic of the target variable for that category. This method captures the relationship between categories and the target variable but may cause data leakage if not applied carefully.\n",
    "\n",
    "7. **Hashing Encoding**: Hashing encoding uses hash functions to convert categories into numerical representations. This method reduces the dimensionality of the feature space but may lead to collisions where different categories are mapped to the same numerical value.\n",
    "\n",
    "The choice of encoding method depends on the nature of the categorical variables, the size of the dataset, and the requirements of the machine learning algorithm. It's essential to choose an appropriate encoding method to ensure that categorical data can be effectively utilized in the modeling process."
   ]
  },
  {
   "cell_type": "markdown",
   "metadata": {},
   "source": []
  }
 ],
 "metadata": {
  "kernelspec": {
   "display_name": "Python 3",
   "language": "python",
   "name": "python3"
  },
  "language_info": {
   "codemirror_mode": {
    "name": "ipython",
    "version": 3
   },
   "file_extension": ".py",
   "mimetype": "text/x-python",
   "name": "python",
   "nbconvert_exporter": "python",
   "pygments_lexer": "ipython3",
   "version": "3.11.9"
  }
 },
 "nbformat": 4,
 "nbformat_minor": 2
}
