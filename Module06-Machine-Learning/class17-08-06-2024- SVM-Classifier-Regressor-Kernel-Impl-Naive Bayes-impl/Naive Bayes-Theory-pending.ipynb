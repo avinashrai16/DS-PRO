{
 "cells": [
  {
   "cell_type": "markdown",
   "metadata": {},
   "source": [
    "### Naive Bayes is used only for classification"
   ]
  },
  {
   "cell_type": "markdown",
   "metadata": {},
   "source": [
    "Naive Bayes is a family of simple and effective probabilistic classifiers based on applying Bayes' theorem **with strong (naive) independence assumptions between the features**"
   ]
  },
  {
   "cell_type": "markdown",
   "metadata": {},
   "source": [
    "Bayes’ Theorem is used to determine the conditional probability of an event. It was named after an English statistician, Thomas Bayes who discovered this formula in 1763. Bayes Theorem is a very important theorem in mathematics, that laid the foundation of a unique statistical inference approach called the Bayes’ inference. It is used to find the probability of an event, based on prior knowledge of conditions that might be related to that event"
   ]
  },
  {
   "cell_type": "markdown",
   "metadata": {},
   "source": [
    "For example, if we want to find the probability that a white marble drawn at random came from the first bag, given that a white marble has already been drawn, and there are three bags each containing some white and black marbles, then we can use Bayes’ Theorem."
   ]
  },
  {
   "cell_type": "markdown",
   "metadata": {},
   "source": [
    "Bayes theorem (also known as the Bayes Rule or Bayes Law) is used to determine the conditional probability of event A when event B has already occurred.\n",
    "\n",
    "The general statement of Bayes’ theorem is “The conditional probability of an event A, given the occurrence of another event B, is equal to the product of the event of B, given A and the probability of A divided by the probability of event B.” i.e."
   ]
  },
  {
   "cell_type": "markdown",
   "metadata": {},
   "source": [
    "**P(A|B) = P(B|A)P(A) / P(B)**\n",
    "\n",
    "where,\n",
    "\n",
    "P(A) and P(B) are the probabilities of events A and B\n",
    "\n",
    "P(A|B) is the probability of event A when event B happens\n",
    "\n",
    "P(B|A) is the probability of event B when A happens"
   ]
  },
  {
   "cell_type": "markdown",
   "metadata": {},
   "source": [
    "<img src=\"bayes-theorem-2.jpg\" width=\"550\">"
   ]
  },
  {
   "cell_type": "markdown",
   "metadata": {},
   "source": [
    "Based on the probability calculated for each class and the class with highest probability will be predicted"
   ]
  },
  {
   "cell_type": "markdown",
   "metadata": {},
   "source": [
    "**Advantages:**\n",
    "* Simplicity: Easy to understand and implement.\n",
    "* Efficiency: Requires a small amount of training data to estimate the parameters necessary for classification.\n",
    "* Scalability: Handles large numbers of features well.\n",
    "* Performance: Often performs well even when the independence assumption is not true.\n",
    "\n",
    "**Disadvantages**:\n",
    "* Independence Assumption: The assumption that all features are independent is rarely true in real-life applications.\n",
    "* Zero Probability: If a categorical variable has a category in the test data that was not present in the training data, the model assigns zero probability to that category."
   ]
  },
  {
   "cell_type": "markdown",
   "metadata": {},
   "source": [
    "    Example"
   ]
  },
  {
   "cell_type": "markdown",
   "metadata": {},
   "source": [
    "<img src=\"outlook-data.webp\" width=\"500\">"
   ]
  },
  {
   "attachments": {
    "image.png": {
     "image/png": "[encoded data removed]"
    }
   },
   "cell_type": "markdown",
   "metadata": {},
   "source": [
    "![image.png](attachment:image.png)\n"
   ]
  },
  {
   "cell_type": "markdown",
   "metadata": {},
   "source": [
    "    Check in the class note for this"
   ]
  },
  {
   "cell_type": "markdown",
   "metadata": {
    "vscode": {
     "languageId": "html"
    }
   },
   "source": [
    "Variants of Naive Bayes:\n",
    "\n",
    "* **Bernoulli Naive Bayes**\n",
    "\n",
    "Suitable for: Binary/boolean data.\n",
    "\n",
    "Assumption: Features are binary (0s and 1s), indicating the absence or presence of a feature.\n",
    "\n",
    "<u>Real-life Problem: Text Classification</u>\n",
    "* Scenario: Classifying documents into different categories (e.g., sports, politics, technology) based on the presence or absence of certain keywords.\n",
    "* Reason: Bernoulli Naive Bayes works well with binary features indicating the presence or absence of words."
   ]
  },
  {
   "cell_type": "markdown",
   "metadata": {},
   "source": [
    "* **Multinomial Naive Bayes**\n",
    "\n",
    "Suitable for: Discrete data, especially count data.\n",
    "\n",
    "Assumption: Features represent the frequency or count of occurrences of events.\n",
    "\n",
    "<u>Real-life Problem: Spam Detection</u>\n",
    "\n",
    "* Scenario: Classifying emails as spam or not spam based on the frequency of words in the email content.\n",
    "* Reason: The features (word counts) are discrete, and Multinomial Naive Bayes is well-suited for handling count data."
   ]
  },
  {
   "cell_type": "markdown",
   "metadata": {},
   "source": [
    "**Multinomial Naive Bayes and Bernoulli Naive Bayes will be used in Deep Learning**"
   ]
  },
  {
   "cell_type": "markdown",
   "metadata": {},
   "source": [
    "* **Gaussian Naive Bayes**\n",
    "\n",
    "Suitable for: Continuous data.\n",
    "\n",
    "Assumption: Features follow a normal (Gaussian) distribution.\n",
    "\n",
    "<u>Real-life Problem: Medical Diagnosis</u>\n",
    "\n",
    "* Scenario: Predicting the likelihood of a patient having a particular disease based on continuous features such as blood pressure, cholesterol levels, and body temperature.\n",
    "* Reason: Medical measurements like these often follow a Gaussian distribution, making Gaussian Naive Bayes suitable."
   ]
  }
 ],
 "metadata": {
  "language_info": {
   "name": "python"
  }
 },
 "nbformat": 4,
 "nbformat_minor": 2
}
