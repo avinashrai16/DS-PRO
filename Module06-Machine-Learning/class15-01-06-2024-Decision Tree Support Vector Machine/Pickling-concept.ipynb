{
 "cells": [
  {
   "cell_type": "markdown",
   "metadata": {
    "vscode": {
     "languageId": "plaintext"
    }
   },
   "source": [
    "Pickle in Python"
   ]
  },
  {
   "cell_type": "markdown",
   "metadata": {},
   "source": [
    "The pickle module in Python is used for serializing and deserializing Python objects. Serialization, also known as \"pickling,\" is the process of converting a Python object into a byte stream, which can then be saved to a file or transmitted over a network. Deserialization, or \"unpickling,\" is the reverse process: converting a byte stream back into a Python object.\n",
    "\n",
    "Here are the basic operations you can perform with the pickle module:\n",
    "\n",
    "Pickling (Serialization)\n",
    "To pickle an object, you use the pickle.dump() method. This method writes the serialized representation of the object to a file."
   ]
  },
  {
   "cell_type": "code",
   "execution_count": 1,
   "metadata": {},
   "outputs": [],
   "source": [
    "import pickle\n",
    "\n",
    "# Example object to pickle\n",
    "data = {'key': 'value', 'number': 42}\n",
    "\n",
    "# Pickle the object to a file\n",
    "with open('data.pkl', 'wb') as file:\n",
    "    pickle.dump(data, file)\n"
   ]
  },
  {
   "cell_type": "markdown",
   "metadata": {},
   "source": [
    "Unpickling (Deserialization)\n",
    "To unpickle an object, you use the pickle.load() method. This method reads the byte stream from the file and converts it back into a Python object."
   ]
  },
  {
   "cell_type": "code",
   "execution_count": 2,
   "metadata": {},
   "outputs": [
    {
     "name": "stdout",
     "output_type": "stream",
     "text": [
      "{'key': 'value', 'number': 42}\n"
     ]
    }
   ],
   "source": [
    "import pickle\n",
    "\n",
    "# Unpickle the object from a file\n",
    "with open('data.pkl', 'rb') as file:\n",
    "    data = pickle.load(file)\n",
    "\n",
    "print(data)  # Output: {'key': 'value', 'number': 42}\n"
   ]
  },
  {
   "cell_type": "markdown",
   "metadata": {},
   "source": [
    "Pickling to a String\n",
    "Sometimes, you might want to pickle an object to a byte string instead of a file. This can be done using the pickle.dumps() method. Similarly, pickle.loads() can be used to unpickle an object from a byte string."
   ]
  },
  {
   "cell_type": "code",
   "execution_count": 3,
   "metadata": {},
   "outputs": [
    {
     "name": "stdout",
     "output_type": "stream",
     "text": [
      "{'key': 'value', 'number': 42}\n"
     ]
    }
   ],
   "source": [
    "import pickle\n",
    "\n",
    "# Example object to pickle\n",
    "data = {'key': 'value', 'number': 42}\n",
    "\n",
    "# Pickle the object to a byte string\n",
    "byte_data = pickle.dumps(data)\n",
    "\n",
    "# Unpickle the object from the byte string\n",
    "data = pickle.loads(byte_data)\n",
    "\n",
    "print(data)  # Output: {'key': 'value', 'number': 42}\n"
   ]
  },
  {
   "cell_type": "markdown",
   "metadata": {},
   "source": [
    "***Another way for doing pickling code***"
   ]
  },
  {
   "cell_type": "code",
   "execution_count": null,
   "metadata": {},
   "outputs": [],
   "source": [
    "# import pickle as pickle\n",
    "# pickle.dump(regression_model,open(\"regression_model.pkl\",\"wb\"))\n",
    "# pickle.dump(X_train,open(\"X_train.pkl\",\"wb\"))\n",
    "\n",
    "\n",
    "# import pickle as pickle\n",
    "# regression_model_from_pkl = pickle.load(open(\"regression_model.pkl\",\"rb\"))\n",
    "# X_train = pickle.load(open(\"X_train.pkl\",\"rb\"))\n",
    "# regression_model_from_pkl.predict(X_train)"
   ]
  },
  {
   "cell_type": "markdown",
   "metadata": {},
   "source": [
    "Important Considerations\n",
    "\n",
    "***Security***: Be cautious when unpickling data from an untrusted source. Unpickling arbitrary data can execute arbitrary code, which can lead to security vulnerabilities.\n",
    "\n",
    "***Compatibility***: Pickled data is specific to the version of Python and the libraries used. If the class definitions change, pickled objects may not unpickle correctly.\n",
    "\n",
    "***Efficiency***: While pickle is convenient, it may not be the most efficient or compact form of serialization for large objects or data structures. Other formats like JSON, XML, or protocol buffers might be more suitable for some use cases."
   ]
  },
  {
   "cell_type": "markdown",
   "metadata": {},
   "source": [
    "    Example: Custom Classes\n",
    "\n",
    "You can also pickle and unpickle instances of custom classes. Here’s an example:"
   ]
  },
  {
   "cell_type": "code",
   "execution_count": 5,
   "metadata": {},
   "outputs": [
    {
     "name": "stdout",
     "output_type": "stream",
     "text": [
      "MyClass(10)\n"
     ]
    }
   ],
   "source": [
    "import pickle\n",
    "\n",
    "class MyClass:\n",
    "    def __init__(self, value):\n",
    "        self.value = value\n",
    "\n",
    "    def __repr__(self):\n",
    "        return f'MyClass({self.value})'\n",
    "\n",
    "# Create an instance of the class\n",
    "obj = MyClass(10)\n",
    "\n",
    "# Pickle the instance to a file\n",
    "with open('class.pkl', 'wb') as file:\n",
    "    pickle.dump(obj, file)\n",
    "\n",
    "# Unpickle the instance from the file\n",
    "with open('class.pkl', 'rb') as file:\n",
    "    loaded_obj = pickle.load(file)\n",
    "\n",
    "print(loaded_obj)  # Output: MyClass(10)\n"
   ]
  },
  {
   "cell_type": "markdown",
   "metadata": {},
   "source": [
    "***Summary***\n",
    "\n",
    "Pickling: pickle.dump(obj, file) or pickle.dumps(obj)\n",
    "Unpickling: pickle.load(file) or pickle.loads(byte_data)\n",
    "The pickle module is a powerful tool for object serialization in Python, useful for saving program state, sharing data between processes, or transmitting data over a network."
   ]
  },
  {
   "cell_type": "markdown",
   "metadata": {},
   "source": [
    "    "
   ]
  }
 ],
 "metadata": {
  "kernelspec": {
   "display_name": "Python 3",
   "language": "python",
   "name": "python3"
  },
  "language_info": {
   "codemirror_mode": {
    "name": "ipython",
    "version": 3
   },
   "file_extension": ".py",
   "mimetype": "text/x-python",
   "name": "python",
   "nbconvert_exporter": "python",
   "pygments_lexer": "ipython3",
   "version": "3.11.9"
  }
 },
 "nbformat": 4,
 "nbformat_minor": 2
}
