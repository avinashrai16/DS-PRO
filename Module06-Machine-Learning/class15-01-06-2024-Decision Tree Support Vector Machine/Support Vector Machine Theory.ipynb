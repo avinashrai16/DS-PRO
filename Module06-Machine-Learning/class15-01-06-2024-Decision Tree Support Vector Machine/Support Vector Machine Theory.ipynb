{
 "cells": [
  {
   "cell_type": "markdown",
   "metadata": {},
   "source": [
    "</h2><b>Support Vector Machine(SVM) will be used for classification (SVC) and Regression (SVR)</b></h2>"
   ]
  },
  {
   "cell_type": "markdown",
   "metadata": {},
   "source": [
    "<a href=\"https://www.analyticsvidhya.com/blog/2021/10/support-vector-machinessvm-a-complete-guide-for-beginners/\">SMV Introduction (Web Link)</a>"
   ]
  },
  {
   "cell_type": "markdown",
   "metadata": {},
   "source": [
    "<h1>Important Terms</h1>\n",
    "Now let’s define two main terms which will be repeated again and again in this article:\n",
    "\n",
    "* Support Vectors: These are the points that are closest to the hyperplane. A separating line will be defined with the help of these data points.\n",
    "\n",
    "* Margin: it is the distance between the hyperplane and the observations closest to the hyperplane (support vectors). In SVM large margin is considered a good margin. There are two types of margins hard margin and soft margin. "
   ]
  },
  {
   "cell_type": "markdown",
   "metadata": {},
   "source": [
    "<img src=\"SVM.png\">"
   ]
  },
  {
   "cell_type": "markdown",
   "metadata": {},
   "source": [
    "<h2>How Does Support Vector Machine Work?</h2>"
   ]
  },
  {
   "cell_type": "markdown",
   "metadata": {},
   "source": [
    "***Support Vector Machines (SVMs)*** are powerful supervised learning models used for classification and regression tasks. They work by finding the hyperplane that best separates the classes of data in the feature space. Let's explore SVMs in the context of both classification and regression, including an example dataset and conceptual calculations."
   ]
  },
  {
   "cell_type": "markdown",
   "metadata": {},
   "source": [
    "*Support Vector Machine for Classification (SVC)*\n",
    "\n",
    "Concept\n",
    "\n",
    "* Hyperplane: A decision boundary that separates different classes. In a two-dimensional space, it's a line; in a three-dimensional space, it's a plane; and in higher dimensions, it's a hyperplane.\n",
    "* Margin: The distance between the hyperplane and the closest data points from each class. SVM aims to maximize this margin.\n",
    "* Support Vectors: The data points that are closest to the hyperplane and influence its position and orientation."
   ]
  },
  {
   "cell_type": "markdown",
   "metadata": {},
   "source": [
    "*Support Vector Machine for Regression (SVR)*\n",
    "\n",
    "Concept\n",
    "\n",
    "* Margin of Tolerance (ε): Unlike classification, where we aim to separate classes, in regression, SVM tries to fit as many data points as possible within a margin of tolerance around the hyperplane.\n",
    "* Slack Variables: These variables allow for some flexibility by permitting data points to lie outside the margin in case the data is not perfectly linear."
   ]
  },
  {
   "cell_type": "markdown",
   "metadata": {},
   "source": [
    "<!DOCTYPE html>\n",
    "<html lang=\"en\">\n",
    "<head>\n",
    "<meta charset=\"UTF-8\">\n",
    "<meta name=\"viewport\" content=\"width=device-width, initial-scale=1.0\">\n",
    "<title>Support Vector Machine (SVM)</title>\n",
    "<style>\n",
    "body {\n",
    "font-family: Arial, sans-serif;\n",
    "line-height: 1.6;\n",
    "}\n",
    "h1, h2, h3 {\n",
    "color: #333;\n",
    "}\n",
    "table {\n",
    "width: 100%;\n",
    "border-collapse: collapse;\n",
    "margin-bottom: 20px;\n",
    "}\n",
    "table, th, td {\n",
    "border: 1px solid #ddd;\n",
    "}\n",
    "th, td {\n",
    "padding: 8px;\n",
    "text-align: left;\n",
    "}\n",
    "th {\n",
    "background-color: #f4f4f4;\n",
    "}\n",
    ".formula {\n",
    "background-color: #f9f9f9;\n",
    "border-left: 4px solid #ccc;\n",
    "padding: 10px;\n",
    "margin: 20px 0;\n",
    "font-family: \"Courier New\", Courier, monospace;\n",
    "}\n",
    ".section {\n",
    "margin-bottom: 30px;\n",
    "}\n",
    "</style>\n",
    "</head>\n",
    "<body>\n",
    "\n",
    "<h1>Support Vector Machine (SVM)</h1>\n",
    "\n",
    "<div class=\"section\">\n",
    "<h2>SVM for Classification</h2>\n",
    "<p>Support Vector Machines (SVMs) are used for classification tasks by finding the optimal hyperplane that best separates the classes in the feature space.</p>\n",
    "\n",
    "<h3>Example Dataset</h3>\n",
    "<table>\n",
    "<tr>\n",
    "<th>x1</th>\n",
    "<th>x2</th>\n",
    "<th>Class</th>\n",
    "</tr>\n",
    "<tr><td>1</td><td>2</td><td>A</td></tr>\n",
    "<tr><td>2</td><td>3</td><td>A</td></tr>\n",
    "<tr><td>3</td><td>3</td><td>B</td></tr>\n",
    "<tr><td>4</td><td>5</td><td>B</td></tr>\n",
    "<tr><td>5</td><td>5</td><td>A</td></tr>\n",
    "<tr><td>6</td><td>6</td><td>B</td></tr>\n",
    "</table>\n",
    "\n",
    "<h3>Key Concepts</h3>\n",
    "<p><strong>Hyperplane:</strong> A decision boundary that separates different classes. In a two-dimensional space, it's a line; in a three-dimensional space, it's a plane; and in higher dimensions, it's a hyperplane.</p>\n",
    "<p><strong>Margin:</strong> The distance between the hyperplane and the closest data points from each class. SVM aims to maximize this margin.</p>\n",
    "<p><strong>Support Vectors:</strong> The data points that are closest to the hyperplane and influence its position and orientation.</p>\n",
    "\n",
    "<h3>Finding the Optimal Hyperplane</h3>\n",
    "<p>The SVM algorithm identifies the hyperplane that best separates the classes while maximizing the margin. Let's assume the hyperplane equation is \\( w_1 x_1 + w_2 x_2 + b = 0 \\).</p>\n",
    "</div>\n",
    "\n",
    "<div class=\"section\">\n",
    "<h2>SVM for Regression (SVR)</h2>\n",
    "<p>Support Vector Machines can also be used for regression tasks (SVR). The goal is to fit as many data points as possible within a margin of tolerance around the hyperplane.</p>\n",
    "\n",
    "<h3>Example Dataset</h3>\n",
    "<table>\n",
    "<tr>\n",
    "<th>House Size (sq ft)</th>\n",
    "<th>Price ($)</th>\n",
    "</tr>\n",
    "<tr><td>600</td><td>150,000</td></tr>\n",
    "<tr><td>800</td><td>180,000</td></tr>\n",
    "<tr><td>1000</td><td>200,000</td></tr>\n",
    "<tr><td>1200</td><td>220,000</td></tr>\n",
    "<tr><td>1400</td><td>240,000</td></tr>\n",
    "<tr><td>1600</td><td>280,000</td></tr>\n",
    "<tr><td>1800</td><td>300,000</td></tr>\n",
    "<tr><td>2000</td><td>320,000</td></tr>\n",
    "<tr><td>2200</td><td>340,000</td></tr>\n",
    "<tr><td>2400</td><td>360,000</td></tr>\n",
    "</table>\n",
    "\n",
    "<h3>Key Concepts</h3>\n",
    "<p><strong>Margin of Tolerance (ε):</strong> In SVR, we aim to fit as many data points as possible within a margin of tolerance around the hyperplane.</p>\n",
    "<p><strong>Slack Variables:</strong> These variables allow for some flexibility by permitting data points to lie outside the margin in case the data is not perfectly linear.</p>\n",
    "\n",
    "<h3>Fitting the SVR Model</h3>\n",
    "<p>The SVR algorithm fits a hyperplane (in this case, a line) that predicts the house prices. It also defines margins (tolerance ε) within which most data points should lie.</p>\n",
    "\n",
    "<h3>Predicting Prices</h3>\n",
    "<p>Given a new house size, the SVR model predicts the price based on the fitted line and the defined margins. For example, for a house size of 1800 sq ft, the predicted price would be around $300,000.</p>\n",
    "</div>\n",
    "\n",
    "<div class=\"section\">\n",
    "<h2>Final Notes</h2>\n",
    "<p>Support Vector Machines are versatile and powerful models for both classification and regression tasks. They work by finding the optimal hyperplane that best separates the data (classification) or fits the data within a margin of tolerance (regression). By using support vectors, SVMs ensure robustness and high performance, especially in high-dimensional spaces.</p>\n",
    "</div>\n",
    "\n",
    "</body>\n",
    "</html>"
   ]
  }
 ],
 "metadata": {
  "kernelspec": {
   "display_name": "Python 3",
   "language": "python",
   "name": "python3"
  },
  "language_info": {
   "codemirror_mode": {
    "name": "ipython",
    "version": 3
   },
   "file_extension": ".py",
   "mimetype": "text/x-python",
   "name": "python",
   "nbconvert_exporter": "python",
   "pygments_lexer": "ipython3",
   "version": "3.11.9"
  }
 },
 "nbformat": 4,
 "nbformat_minor": 2
}
