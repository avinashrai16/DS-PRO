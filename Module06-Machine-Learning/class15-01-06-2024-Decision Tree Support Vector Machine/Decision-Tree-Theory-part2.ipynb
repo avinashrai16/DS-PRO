{
 "cells": [
  {
   "cell_type": "markdown",
   "metadata": {},
   "source": [
    "    Decision Tress is a greedy algorithm\n",
    "\n",
    "As we need to divide the leaf node to the highest purity which may lead to overfitting.\n",
    "As per the partice we need to have some bias in the model to avoid overfitting condition:\n",
    "\n",
    "\n",
    "hence following methods are applied.\n",
    "\n",
    "* Pre Pruning\n",
    "* Post Pruning\n",
    "* Ensemble"
   ]
  },
  {
   "cell_type": "markdown",
   "metadata": {},
   "source": [
    "***Parameter to create a decision tree and avoid overfitting :***\n",
    "* Gini/Entropy calculation\n",
    "* max_depth : Maximum depth of tree , how much should be the depth of the tree and this can be decided with hyperparameter tunning and cross validation or with Visualization of tree and decide the depth\n",
    "* Minimum sample leaf:  no of samples needed to be considered on a leaf node (default is 1)\n",
    "* Minimum sample split: The minimum no of sample a node must contain to consider a split\n",
    "* Max feature"
   ]
  },
  {
   "cell_type": "markdown",
   "metadata": {},
   "source": [
    "***Post Pruning***\n",
    "\n",
    "Construct entire decision tree until leaf node\n",
    "Prune the decision tree\n",
    "Method used : Visualization\n",
    "\n",
    "Cons : works only for small dataset as for huge dataset visualization will become more complex and time consuming\n",
    "\n",
    "Hence in industry Post Pruning is avoided and Pre pruning is preferred."
   ]
  },
  {
   "cell_type": "markdown",
   "metadata": {},
   "source": [
    "***Pre Pruning***\n",
    "\n",
    "Limit the growth of decision tree\n",
    "Do hyperparameter tuning to find the best parameters "
   ]
  },
  {
   "cell_type": "markdown",
   "metadata": {},
   "source": []
  }
 ],
 "metadata": {
  "kernelspec": {
   "display_name": "Python 3",
   "language": "python",
   "name": "python3"
  },
  "language_info": {
   "name": "python",
   "version": "3.11.9"
  }
 },
 "nbformat": 4,
 "nbformat_minor": 2
}
