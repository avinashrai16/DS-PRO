{
 "cells": [
  {
   "cell_type": "markdown",
   "metadata": {},
   "source": [
    "<u>***Definition***</u>\n",
    "(meaning)\n",
    "*ensemble : a set of things that go together to form a whole*\n",
    "\n",
    "Ensemble methods in machine learning combine predictions from multiple models to improve overall performance, robustness, and generalization. By aggregating the outputs of diverse algorithms or multiple instances of the same algorithm, ensembles reduce the risk of overfitting and increase accuracy. Common ensemble techniques include bagging, boosting, and stacking. They are primarily used in supervised learning tasks like classification and regression.\n",
    "Ensemble methods are primarily used for supervised learning."
   ]
  },
  {
   "cell_type": "markdown",
   "metadata": {},
   "source": [
    "Ensemble methods combine multiple machine learning models to improve performance and robustness. Here is a chart summarizing popular ensemble algorithms ordered from low to high complexity:\n",
    "\n",
    "| Algorithm                      | Type                | When to Use                                                                                 | Pros                                                                                          | Cons                                                                                       |\n",
    "|--------------------------------|---------------------|---------------------------------------------------------------------------------------------|-----------------------------------------------------------------------------------------------|--------------------------------------------------------------------------------------------|\n",
    "| **Bagging (Bootstrap Aggregating)** | Classification/Regression | Reduce variance and overfitting, base models are high-variance (e.g., decision trees)        | Reduces overfitting, improves stability and accuracy                                          | Computationally intensive, less interpretable                                              |\n",
    "| **Random Forest**              | Classification/Regression | Large datasets, need robustness and accuracy, reduce overfitting compared to single trees    | Reduces overfitting, handles missing values well, scalable                                    | Less interpretable than single trees, computationally intensive                           |\n",
    "| **Boosting (e.g., AdaBoost)**  | Classification/Regression | Improve weak learners, focus on difficult cases                                              | Can significantly improve performance of weak models                                           | Prone to overfitting, sensitive to noisy data, longer training times                      |\n",
    "| **Gradient Boosting (GBM)**    | Classification/Regression | High prediction accuracy, handling complex relationships                                     | High accuracy, handles missing data well                                                      | Prone to overfitting, longer training times, complex parameter tuning                     |\n",
    "| **XGBoost**                    | Classification/Regression | Need for efficiency and scalability in gradient boosting                                      | Faster training, better performance due to optimizations                                       | Complex parameter tuning, prone to overfitting                                            |\n",
    "| **LightGBM**                   | Classification/Regression | Large datasets, high-dimensional data, faster training required                               | Efficient, faster training than GBM, high accuracy                                            | Sensitive to hyperparameters, prone to overfitting                                        |\n",
    "| **CatBoost**                   | Classification/Regression | Categorical features handling, need for fast training and high accuracy                       | Handles categorical data well, robust, high accuracy                                          | Complex parameter tuning, longer training times                                           |\n",
    "| **Stacking**                   | Classification/Regression | Leverage strengths of different models, complex relationships                                | Can achieve high accuracy by combining multiple model types                                   | Complex implementation, computationally intensive, difficult to interpret                 |\n",
    "| **Voting**                     | Classification      | Combine predictions from multiple models, improve accuracy                                    | Simple to implement, improves robustness                                                      | Less flexible than other ensemble methods, assumes models are independent                 |\n",
    "| **Blending**                   | Classification/Regression | Leverage multiple models, reduce overfitting by training on a validation set                  | Can improve performance and reduce overfitting                                                | Requires careful setup of training and validation sets, computationally intensive         |\n",
    "\n",
    "### Detailed Explanations\n",
    "\n",
    "1. **Bagging (Bootstrap Aggregating)**\n",
    "   - **When to use**: To reduce variance and prevent overfitting with high-variance models like decision trees.\n",
    "   - **Pros**: Improves stability and accuracy by combining multiple models trained on different subsets of the data.\n",
    "   - **Cons**: Computationally intensive, resulting model is less interpretable.\n",
    "\n",
    "2. **Random Forest**\n",
    "   - **When to use**: For large datasets, needing robustness, accuracy, and reduction of overfitting compared to single decision trees.\n",
    "   - **Pros**: Handles overfitting better, works well with missing data, scalable.\n",
    "   - **Cons**: Less interpretable than single decision trees, computationally intensive.\n",
    "\n",
    "3. **Boosting (e.g., AdaBoost)**\n",
    "   - **When to use**: To improve weak learners by focusing on difficult cases in the training set.\n",
    "   - **Pros**: Significantly improves performance of weak models.\n",
    "   - **Cons**: Can be prone to overfitting, sensitive to noisy data, longer training times.\n",
    "\n",
    "4. **Gradient Boosting (GBM)**\n",
    "   - **When to use**: When high prediction accuracy is required, and complex relationships are present.\n",
    "   - **Pros**: High accuracy, handles missing data well.\n",
    "   - **Cons**: Prone to overfitting, longer training times, requires careful parameter tuning.\n",
    "\n",
    "5. **XGBoost**\n",
    "   - **When to use**: When efficiency and scalability in gradient boosting are needed.\n",
    "   - **Pros**: Faster training, better performance due to various optimizations.\n",
    "   - **Cons**: Complex parameter tuning, still prone to overfitting.\n",
    "\n",
    "6. **LightGBM**\n",
    "   - **When to use**: For large datasets and high-dimensional data, requiring faster training.\n",
    "   - **Pros**: Highly efficient, faster training, high accuracy.\n",
    "   - **Cons**: Sensitive to hyperparameters, prone to overfitting.\n",
    "\n",
    "7. **CatBoost**\n",
    "   - **When to use**: When handling categorical features effectively is necessary, requiring fast training and high accuracy.\n",
    "   - **Pros**: Handles categorical data well, robust, high accuracy.\n",
    "   - **Cons**: Complex parameter tuning, longer training times.\n",
    "\n",
    "8. **Stacking**\n",
    "   - **When to use**: To leverage the strengths of different models for complex relationships.\n",
    "   - **Pros**: Can achieve high accuracy by combining predictions from multiple model types.\n",
    "   - **Cons**: Complex implementation, computationally intensive, difficult to interpret.\n",
    "\n",
    "9. **Voting**\n",
    "   - **When to use**: To combine predictions from multiple models to improve accuracy.\n",
    "   - **Pros**: Simple to implement, improves robustness by averaging predictions.\n",
    "   - **Cons**: Less flexible than other ensemble methods, assumes models are independent.\n",
    "\n",
    "10. **Blending**\n",
    "    - **When to use**: To leverage multiple models and reduce overfitting by training on a validation set.\n",
    "    - **Pros**: Can improve performance and reduce overfitting.\n",
    "    - **Cons**: Requires careful setup of training and validation sets, computationally intensive.\n",
    "\n",
    "This chart should help in selecting the appropriate ensemble method based on the complexity of the problem, dataset characteristics, and other considerations."
   ]
  },
  {
   "cell_type": "markdown",
   "metadata": {},
   "source": [
    "----------------"
   ]
  },
  {
   "cell_type": "markdown",
   "metadata": {},
   "source": [
    "## Parallel Techniques of Ensembles\n",
    "    Bagging"
   ]
  },
  {
   "cell_type": "markdown",
   "metadata": {},
   "source": [
    "Ensemble parallel techniques involve combining multiple machine learning models that are trained independently and then aggregating their predictions. This approach is designed to improve performance, accuracy, and robustness. "
   ]
  },
  {
   "cell_type": "markdown",
   "metadata": {},
   "source": [
    "## Sequential Techniques of Ensembles\n",
    "    Boosting\n",
    "\n",
    "Sequential ensemble techniques involve combining multiple models in a sequence where each model is trained to correct the errors of its predecessor. These techniques aim to reduce bias and improve predictive performance by focusing on difficult-to-predict instances.\n",
    "    Boosting"
   ]
  },
  {
   "cell_type": "markdown",
   "metadata": {},
   "source": [
    "<img src=\"Ensemble-Type.jpg\" width=\"550\">"
   ]
  },
  {
   "cell_type": "markdown",
   "metadata": {},
   "source": [
    "-----------------------------------------------------------------------\n",
    "-----------------------------------------------------"
   ]
  },
  {
   "cell_type": "markdown",
   "metadata": {},
   "source": [
    "## Bagging (Custom Bagging)\n",
    "\n",
    "***Custom Bagging in Classification***\n",
    "\n",
    "Custom bagging, also known as bootstrap aggregating, is a technique that involves creating multiple subsets of the original dataset through random sampling with replacement. Each subset is then used to train a separate base model, and the final prediction is often aggregated over these models. Here’s a detailed explanation of custom bagging:\n",
    "\n",
    "### Steps Involved in Custom Bagging for Classification:\n",
    "1. **Bootstrap Sampling**:\n",
    "   - **Process**: Randomly sample \\( N \\) instances (where \\( N \\) is the size of the original dataset) with replacement to create \\( B \\) different bootstrap samples.\n",
    "   - **Purpose**: Each bootstrap sample is a subset of the original data, potentially containing duplicate instances and missing some original instances.\n",
    "\n",
    "2. **Model Training**:\n",
    "   - **Process**: Train a base model on each of the \\( B \\) bootstrap samples independently.\n",
    "   - **Types of Models**: Typically, the base model can be any machine learning model suitable for the problem at hand, such as decision trees, SVMs, or neural networks.\n",
    "\n",
    "3. **Prediction Aggregation**:\n",
    "   - **Process**: Combine the predictions from all \\( B \\) models to make a final prediction.\n",
    "   - **Methods of Aggregation**:\n",
    "     - **Classification**: Use majority voting to decide the final class label.\n",
    "     - **Regression**: Take the average of the predicted values.\n",
    "\n",
    "4. **Implementation Considerations**:\n",
    "   - **Parallelization**: Since each model is trained independently on different subsets, custom bagging can be parallelized to speed up computation.\n",
    "   - **Hyperparameter Tuning**: It may involve tuning hyperparameters specific to the base model and the number of bootstrap samples \\( B \\).\n",
    "   - **Ensemble Size**: The number of models \\( B \\) should be chosen carefully to balance between variance reduction and computational efficiency.\n",
    "\n",
    "### Advantages of Custom Bagging:\n",
    "\n",
    "- **Reduces Variance**: By training multiple models on different subsets of data, custom bagging reduces the risk of overfitting and improves model generalization.\n",
    "  \n",
    "- **Robustness**: It enhances the robustness of predictions by averaging or voting over multiple models, thereby smoothing out individual model biases.\n",
    "\n",
    "- **Parallelization**: Allows for efficient use of computational resources by training models in parallel on different subsets of data.\n",
    "\n",
    "### Example Application:\n",
    "\n",
    "Suppose you have a dataset with 1000 instances. To apply custom bagging:\n",
    "\n",
    "1. **Bootstrap Sampling**: Create \\( B \\) (e.g., 100) bootstrap samples, each containing 1000 instances randomly sampled with replacement from the original dataset.\n",
    "\n",
    "2. **Model Training**: Train a decision tree classifier on each bootstrap sample independently, resulting in \\( B \\) decision tree models.\n",
    "\n",
    "3. **Prediction Aggregation**: For a new instance, aggregate the predictions of all \\( B \\) decision trees to obtain the final prediction (e.g., majority voting for classification).\n",
    "\n",
    "Custom bagging is a versatile technique widely used to improve the performance and robustness of machine learning models, especially in scenarios where ensemble methods are beneficial, such as high-dimensional data or datasets with complex relationships.\n"
   ]
  },
  {
   "attachments": {
    "image-2.png": {
     "image/png": "[encoded data removed]"
    },
    "image.png": {
     "image/png": "[encoded data removed]"
    }
   },
   "cell_type": "markdown",
   "metadata": {},
   "source": [
    "***Custom bagging in regression***\n",
    "\n",
    "Custom bagging in regression follows a similar principle to its classification counterpart but is tailored for predicting continuous numerical outcomes. Here’s a detailed explanation of custom bagging in regression:\n",
    "\n",
    "### Steps Involved in Custom Bagging for Regression:\n",
    "\n",
    "1. **Bootstrap Sampling**:\n",
    "   - **Process**: Randomly sample \\( N \\) instances (where \\( N \\) is the size of the original dataset) with replacement to create \\( B \\) different bootstrap samples.\n",
    "   - **Purpose**: Each bootstrap sample is a subset of the original data, potentially containing duplicate instances and missing some original instances.\n",
    "\n",
    "2. **Model Training**:\n",
    "   - **Process**: Train a base regression model on each of the \\( B \\) bootstrap samples independently.\n",
    "   - **Types of Models**: Common choices include linear regression, decision trees, support vector regression, or neural networks, depending on the dataset characteristics and the problem at hand.\n",
    "\n",
    "3. **Prediction Aggregation**:\n",
    "   - **Process**: Combine the predictions from all \\( B \\) models to make a final prediction.\n",
    "   - **Aggregation Method**: Take the average of the predicted values from all models.\n",
    "\n",
    "     - ![image.png](attachment:image.png)\n",
    "   \n",
    "   - **Other Methods**: Weighted averaging or median could also be used depending on the situation.\n",
    "\n",
    "4. **Implementation Considerations**:\n",
    "   - **Parallelization**: Each model can be trained independently on different subsets, allowing for efficient use of computational resources.\n",
    "   - **Hyperparameter Tuning**: Tuning of hyperparameters such as model complexity and number of bootstrap samples \\( B \\) is crucial for optimal performance.\n",
    "   - **Ensemble Size**: The number of models \\( B \\) should be chosen carefully to balance between variance reduction and computational efficiency.\n",
    "\n",
    "### Advantages of Custom Bagging in Regression:\n",
    "\n",
    "- **Reduces Variance**: By averaging predictions from multiple models trained on different subsets of data, custom bagging reduces the variance of the final prediction, leading to improved model generalization.\n",
    "  \n",
    "- **Robustness**: It improves prediction robustness by smoothing out individual model biases and noise in the data.\n",
    "\n",
    "- **Flexibility**: Allows flexibility in choosing different regression models as base learners, depending on the problem's requirements and characteristics of the dataset.\n",
    "\n",
    "### Example Application:\n",
    "\n",
    "Suppose you have a dataset with housing prices and various features. To apply custom bagging for regression:\n",
    "\n",
    "1. **Bootstrap Sampling**: Create \\( B \\) (e.g., 100) bootstrap samples, each containing randomly selected instances with replacement from the original dataset.\n",
    "\n",
    "2. **Model Training**: Train a regression model (e.g., decision tree regressor) on each bootstrap sample independently, resulting in \\( B \\) regression models.\n",
    "\n",
    "3. **Prediction Aggregation**: For a new instance (e.g., a new house with given features), aggregate the predictions of all \\( B \\) regression models to obtain the final predicted price.\n",
    "   \n",
    "   ![image-2.png](attachment:image-2.png)\n",
    "\n",
    "Custom bagging in regression is effective in scenarios where ensemble methods are beneficial, such as dealing with noisy data, handling outliers, or improving predictive accuracy by leveraging the strengths of multiple models. It offers a practical approach to enhancing regression models' performance without requiring complex adjustments to the underlying algorithms."
   ]
  },
  {
   "cell_type": "markdown",
   "metadata": {},
   "source": []
  }
 ],
 "metadata": {
  "language_info": {
   "name": "python"
  }
 },
 "nbformat": 4,
 "nbformat_minor": 2
}
