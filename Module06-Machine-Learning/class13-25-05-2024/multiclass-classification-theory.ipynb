{
 "cells": [
  {
   "cell_type": "markdown",
   "metadata": {},
   "source": [
    "Multi-class classification is a type of classification problem where the goal is to assign an instance to one of three or more classes. This contrasts with binary classification, where the goal is to assign an instance to one of two classes."
   ]
  },
  {
   "cell_type": "markdown",
   "metadata": {},
   "source": [
    "***One-vs-Rest (OvR)***: This is a strategy where the multi-class classification problem is broken down into multiple binary classification problems. For instance, if there are three classes (A, B, and C), the algorithm will create three separate classifiers:\n",
    "\n",
    "One to distinguish class A from classes B and C.\n",
    "One to distinguish class B from classes A and C.\n",
    "One to distinguish class C from classes A and B."
   ]
  },
  {
   "cell_type": "markdown",
   "metadata": {},
   "source": [
    "<img src=\"one-vs-rest.png\" width=\"450\">"
   ]
  },
  {
   "cell_type": "markdown",
   "metadata": {},
   "source": [
    "disadvantages: A binary classification model is trained for each class so it it computationally expensive."
   ]
  },
  {
   "cell_type": "markdown",
   "metadata": {},
   "source": [
    "***Multinomial | Softmax Regression***\n",
    "\n",
    "Many multi-class classification algorithms use the softmax function in their output layer to assign probabilities to each class. The class with the highest probability is chosen as the predicted class."
   ]
  },
  {
   "cell_type": "markdown",
   "metadata": {},
   "source": [
    "\n",
    "Multinomial Logistic Regression\n",
    "One common algorithm for multinomial classification is Multinomial Logistic Regression, often simply referred to as \"softmax regression\" in the context of neural networks.\n",
    "\n",
    "Key Concepts:\n",
    "\n",
    "**Multinomial Logistic Regression:** This is an extension of binary logistic regression to handle multi-class problems. Instead of using a single logistic function, it uses the softmax function to predict the probability of each class.\n",
    "\n",
    "\n",
    "**Softmax Function:** The softmax function converts raw scores (logits) from the linear model into probabilities. The formula for the softmax function for class\n",
    "\n",
    "<img src = \"soft-max-function.webp\" width=\"350\"> \n",
    "\n",
    "\n",
    "    Where K is no of classes in the data set\n",
    "\n",
    "**Loss Function:** The loss function used in multinomial logistic regression is the cross-entropy loss, which measures the difference between the true class labels and the predicted probabilities.\n",
    "\n",
    "<img src=\"multinomial-regression-cost-function.png\" width=\"450\">"
   ]
  },
  {
   "cell_type": "markdown",
   "metadata": {},
   "source": []
  }
 ],
 "metadata": {
  "language_info": {
   "name": "python"
  }
 },
 "nbformat": 4,
 "nbformat_minor": 2
}
