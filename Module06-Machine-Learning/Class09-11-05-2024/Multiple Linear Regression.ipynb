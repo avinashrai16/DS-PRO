{
 "cells": [
  {
   "cell_type": "markdown",
   "metadata": {},
   "source": [
    "Multiple linear regression predicts an outcome using two or more predictor variables by fitting a linear equation to observed data.\n",
    "\n",
    "Predicting house prices based on variables like square footage, number of bedrooms, and location using multiple linear regression."
   ]
  },
  {
   "cell_type": "markdown",
   "metadata": {
    "vscode": {
     "languageId": "plaintext"
    }
   },
   "source": [
    "<img src=\"MLR notation1.jpg\" width=\"450\">"
   ]
  },
  {
   "cell_type": "markdown",
   "metadata": {},
   "source": [
    "<img src=\"multiple_linear_regression_and_visualization.png\" width=\"450\"> "
   ]
  },
  {
   "cell_type": "markdown",
   "metadata": {},
   "source": [
    "MLR will have a hyper plane not a best fit line as there are more than one independent feature"
   ]
  },
  {
   "cell_type": "markdown",
   "metadata": {},
   "source": [
    "<img src=\"multiple_linear_regression_por_brittle.gif\" width=\"350\">"
   ]
  },
  {
   "cell_type": "markdown",
   "metadata": {},
   "source": [
    "**MLR equation prediction**\n",
    "\n",
    "    Predicted Car Price = 3 - 0.52xAge of Car + 2.5xRPM\n",
    "\n",
    "- **Intercept beta_0**: The intercept term is 3. This suggests that when both the age of the car and RPM are zero, the predicted car price is $3 (units of currency). However, keep in mind that interpreting the intercept in the context of the predictors is not always meaningful, especially if the predictors cannot logically be zero.\n",
    "\n",
    "- **Coefficient for Age of Car beta_1**: The coefficient for the age of the car is -0.52. This means that, holding RPM constant, for each additional unit increase in the age of the car, the predicted car price decreases by $0.52. In other words, older cars tend to have lower prices, assuming all else remains constant.\n",
    "\n",
    "- **Coefficient for RPM beta_2**: The coefficient for RPM is 2.5. This indicates that, holding the age of the car constant, for each additional unit increase in RPM, the predicted car price increases by $2.5. This suggests that cars with higher RPM values tend to have higher prices, assuming all other factors are constant.\n",
    "\n",
    "Remember, when interpreting coefficients in a multiple linear regression, it's essential to consider the context of the data and the units of measurement for each variable. Additionally, assumptions such as linearity, independence, and normality should be assessed to ensure the validity of the regression model."
   ]
  },
  {
   "cell_type": "markdown",
   "metadata": {},
   "source": [
    "**Simple Linear Interpretation**\n",
    "\n",
    "    Predicted Height=3+0.52×Weight\n",
    "\n",
    "**Intercept (𝛽0)**: \n",
    "The intercept term is 3. This suggests that when weight is zero, the predicted height is 3 units (which could be inches, centimeters, etc.). However, since it's not practically meaningful for someone to have zero weight, interpreting the intercept in this context may not be very relevant.\n",
    "\n",
    "**Coefficient for Weight (𝛽1)**: \n",
    "The coefficient for weight is 0.52. This means that, for each additional unit increase in weight (which could be in pounds, kilograms, etc.), the predicted height increases by 0.52 units (which could be inches, centimeters, etc.). In other words, there's a positive association between weight and height in this model.\n",
    "\n",
    "Keep in mind that while this equation suggests a relationship between weight and height, it's essential to remember that correlation does not imply causation. Other factors not included in this model might influence height, and individual variation can also play a significant role. Additionally, the interpretation of the intercept should be done cautiously, considering the context of the data."
   ]
  },
  {
   "cell_type": "markdown",
   "metadata": {},
   "source": []
  }
 ],
 "metadata": {
  "language_info": {
   "name": "python"
  }
 },
 "nbformat": 4,
 "nbformat_minor": 2
}
