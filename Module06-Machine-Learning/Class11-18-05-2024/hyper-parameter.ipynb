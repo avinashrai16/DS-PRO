{
 "cells": [
  {
   "cell_type": "markdown",
   "metadata": {},
   "source": [
    "    Hyper Parameter\n",
    "\n",
    "\n",
    "    Hyperparameters are parameters whose values control the learning process and determine the values of model parameters that a learning algorithm ends up learning. The prefix ‘hyper_’ suggests that they are ‘top-level’ parameters that control the learning process and the model parameters that result from it.\n",
    "\n",
    "\n",
    "    Hyperparameters are parameters that govern the training process of machine learning models and must be set before the training starts. They are different from model parameters, which are learned from the training data. Proper tuning of hyperparameters is crucial for the performance of the machine learning model. Below, I will discuss some common hyperparameters in various machine learning algorithms and strategies for hyperparameter tuning.\n",
    "\n",
    "    External configuration of the model that are not learned from the data but are set prior to training process\n",
    "\n",
    "    The process of setting up the optimized hyper parameter values is called hyper parameter tunning\n",
    "    Hyperparameter tuning is a crucial step in the machine learning pipeline. Effective tuning can significantly improve the model's performance and generalization capability."
   ]
  },
  {
   "cell_type": "markdown",
   "metadata": {},
   "source": [
    "-----------------------"
   ]
  },
  {
   "cell_type": "markdown",
   "metadata": {},
   "source": [
    "    Hyperparameter tunning with CV\n",
    "\n",
    "1. Grid search CV\n",
    "2. Randomized search CV"
   ]
  },
  {
   "cell_type": "markdown",
   "metadata": {},
   "source": [
    "<img src=\"grid-serach-random-search-cv.png\" width=\"450\">"
   ]
  },
  {
   "cell_type": "markdown",
   "metadata": {},
   "source": [
    "    Grid search CV\n",
    "\n",
    "All possible combination of hyper parameter is taken and grid shape is created\n",
    "once we have all the combination,for each combination will be pass through K fold CV process and scoring will be done and highest will be picked.\n",
    "\n",
    "Cross-Validation and GridSearchCV\n",
    "In GridSearchCV, along with Grid Search, cross-validation is also performed. Cross-Validation is used while training the model. As we know that before training the model with data, we divide the data into two parts – train data and test data. In cross-validation, the process divides the train data further into two parts – the train data and the validation data.\n",
    "\n",
    "The most popular type of Cross-validation is K-fold Cross-Validation. It is an iterative process that divides the train data into k partitions. Each iteration keeps one partition for testing and the remaining k-1 partitions for training the model. The next iteration will set the next partition as test data and the remaining k-1 as train data and so on. In each iteration, it will record the performance of the model and at the end give the average of all the performance. Thus, it is also a time-consuming process.\n",
    "\n",
    "Thus, GridSearch along with cross-validation takes huge time cumulatively to evaluate the best hyperparameters."
   ]
  },
  {
   "cell_type": "markdown",
   "metadata": {},
   "source": [
    "    Randomized search CV\n",
    "\n",
    "This approach will not see all the possible combination\n",
    "out of all possible combination only select some random combination\n",
    "\n",
    "\n",
    "Grid Search and Randomized Search are two widely used techniques in Hyperparameter Tuning. Grid Search exhaustively searches through every combination of the hyperparameter values specified. In contrast to Grid Search, not all given parameter values are tried out in Randomized Search. Rather a fixed number of parameter settings is sampled from the specified distributions. Sampling without replacement is performed if all parameters are presented as a list. Sampling with replacement is used if at least one parameter is given as a distribution. How the sampling will be done in a Randomized Search can be specified beforehand. For each hyperparameter, either a distribution over possible values or a list of discrete values (to be sampled uniformly) can be specified. For the hyperparameters having continuous values, a continuous distribution should be specified to take full advantage of the randomization. The major benefit of this search is a decreased processing time."
   ]
  },
  {
   "cell_type": "markdown",
   "metadata": {},
   "source": [
    "if data is small instead of train test split we can use K-Fold cross validation"
   ]
  },
  {
   "cell_type": "markdown",
   "metadata": {},
   "source": []
  }
 ],
 "metadata": {
  "language_info": {
   "name": "python"
  }
 },
 "nbformat": 4,
 "nbformat_minor": 2
}
