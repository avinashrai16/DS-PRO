{
 "cells": [
  {
   "cell_type": "markdown",
   "metadata": {},
   "source": [
    "Eigenvalues and eigenvectors are concepts from linear algebra that play a fundamental role in various mathematical and computational applications. Here's a brief explanation:\n",
    "\n",
    "**Eigenvalues:** For a square matrix A, an eigenvalue (𝜆) is a scalar such that when the matrix \n",
    "A is multiplied by a corresponding eigenvector, the result is a scaled version of that eigenvector. \n",
    "Mathematically,\n",
    "\n",
    "it can be represented as:\n",
    "\n",
    "**𝐴𝑣=𝜆𝑣**\n",
    "Where:\n",
    "A is the square matrix.\n",
    "v is the eigenvector.\n",
    "λ is the eigenvalue.\n",
    "Eigenvalues capture the scaling factor by which the eigenvector is stretched or shrunk when operated on by the matrix A.\n",
    "\n",
    "**Eigenvectors:** Eigenvectors (𝑣) are non-zero vectors that, when multiplied by a square matrix, result in a scaled version of themselves, as described by the equation above. Each eigenvalue has a corresponding eigenvector.\n",
    "Eigenvectors associated with distinct eigenvalues are linearly independent, which means they point in different directions. Eigenvectors corresponding to the same eigenvalue may be linearly dependent.\n",
    "\n",
    "Eigenvalues and eigenvectors are essential in various areas such as physics, engineering, data analysis, and machine learning. They are used in solving systems of differential equations, understanding dynamic systems' behavior, **dimensionality reduction techniques like Principal Component Analysis (PCA)**, and more."
   ]
  },
  {
   "cell_type": "markdown",
   "metadata": {},
   "source": [
    "<iframe width=\"420\" height=\"345\" src=\"https://www.youtube.com/watch?v=pZ6mMVEE89g&t=4s\">\n",
    "</iframe>"
   ]
  },
  {
   "cell_type": "code",
   "execution_count": 1,
   "metadata": {},
   "outputs": [
    {
     "name": "stdout",
     "output_type": "stream",
     "text": [
      "Eigenvalues: [1.38196601 3.61803399]\n",
      "Eigenvectors: [[-0.85065081 -0.52573111]\n",
      " [ 0.52573111 -0.85065081]]\n"
     ]
    }
   ],
   "source": [
    "import numpy as np\n",
    "\n",
    "# Define a square matrix\n",
    "A = np.array([[2, 1],\n",
    "              [1, 3]])\n",
    "\n",
    "# Compute eigenvalues and eigenvectors\n",
    "eigenvalues, eigenvectors = np.linalg.eig(A)\n",
    "\n",
    "print(\"Eigenvalues:\", eigenvalues)\n",
    "print(\"Eigenvectors:\", eigenvectors)\n"
   ]
  },
  {
   "cell_type": "code",
   "execution_count": null,
   "metadata": {},
   "outputs": [],
   "source": []
  }
 ],
 "metadata": {
  "kernelspec": {
   "display_name": "Python 3",
   "language": "python",
   "name": "python3"
  },
  "language_info": {
   "codemirror_mode": {
    "name": "ipython",
    "version": 3
   },
   "file_extension": ".py",
   "mimetype": "text/x-python",
   "name": "python",
   "nbconvert_exporter": "python",
   "pygments_lexer": "ipython3",
   "version": "3.11.9"
  }
 },
 "nbformat": 4,
 "nbformat_minor": 2
}
