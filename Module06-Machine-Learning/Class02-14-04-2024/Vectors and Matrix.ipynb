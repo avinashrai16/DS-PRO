{
 "cells": [
  {
   "cell_type": "markdown",
   "metadata": {
    "tags": [
     "parameters"
    ]
   },
   "source": [
    "vectors are mathematical objects that have magnitude and direction. They are used to organize and store objects and object collections."
   ]
  },
  {
   "cell_type": "markdown",
   "metadata": {},
   "source": [
    "    Vector"
   ]
  },
  {
   "cell_type": "markdown",
   "metadata": {},
   "source": [
    "<img src=\"https://mathinsight.org/media/image/image/vector.png\" width=\"350\">"
   ]
  },
  {
   "cell_type": "markdown",
   "metadata": {},
   "source": [
    "<img src=\"https://www.storyofmathematics.com/wp-content/uploads/2020/09/Practice-Questions_Question-11_Column-Vector-PQ-300x259.png.webp\">"
   ]
  },
  {
   "cell_type": "markdown",
   "metadata": {},
   "source": [
    "    Magnitude of Vector"
   ]
  },
  {
   "cell_type": "markdown",
   "metadata": {},
   "source": [
    "<img src=\"https://thirdspacelearning.com/wp-content/uploads/2024/01/Magnitude-of-a-vector-us-what-is-image.png\" width=\"550\">"
   ]
  },
  {
   "cell_type": "markdown",
   "metadata": {},
   "source": [
    "    Vector basic operations"
   ]
  },
  {
   "cell_type": "markdown",
   "metadata": {},
   "source": [
    "<img src=\"vectors-operations1.png\" width=\"450\">"
   ]
  },
  {
   "cell_type": "markdown",
   "metadata": {},
   "source": [
    "    unit vector"
   ]
  },
  {
   "cell_type": "markdown",
   "metadata": {},
   "source": [
    "<img src =\"https://www.wikihow.com/images/thumb/8/8a/Find-Unit-Vector-Step-1.jpg/v4-460px-Find-Unit-Vector-Step-1.jpg.webp\">"
   ]
  },
  {
   "cell_type": "markdown",
   "metadata": {},
   "source": [
    "<img src=\"https://www.onlinemathlearning.com/image-files/xunit-vector.png.pagespeed.ic.Z4Ql0GPQbe.png\">"
   ]
  },
  {
   "cell_type": "markdown",
   "metadata": {},
   "source": [
    "    Linear Algebra"
   ]
  },
  {
   "cell_type": "markdown",
   "metadata": {},
   "source": [
    "Addition of Matrix\n",
    "\n",
    "<img src=\"https://media.geeksforgeeks.org/wp-content/uploads/20230608165718/Matrix-Addition.png\">"
   ]
  },
  {
   "cell_type": "markdown",
   "metadata": {},
   "source": [
    "Matrix Multiplication\n",
    "\n",
    "<img src=\"https://d138zd1ktt9iqe.cloudfront.net/media/seo_landing_files/rule-of-multiplication-of-matrices-1627879112.png\">"
   ]
  },
  {
   "cell_type": "markdown",
   "metadata": {},
   "source": [
    "<img src =\"https://www.programmingsimplified.com/images/c/matrix-multiplication.png\">"
   ]
  },
  {
   "cell_type": "markdown",
   "metadata": {},
   "source": [
    "    Determinant of a Matrix\n",
    "\n",
    "The determinant of a square matrix is a scalar value representing the volume scaling factor of the linear transformation represented by the matrix, crucial for solving systems of linear equations and understanding properties of transformations."
   ]
  },
  {
   "cell_type": "markdown",
   "metadata": {},
   "source": [
    "<img src=\"https://dcvp84mxptlac.cloudfront.net/diagrams2/equation-3-determinant-of-a-3x3-matrix.png\" width=\"350\">"
   ]
  },
  {
   "cell_type": "markdown",
   "metadata": {},
   "source": [
    "The determinant of a matrix has several important uses:\n",
    "\n",
    "1. **Invertibility**: A square matrix is invertible (non-singular) if and only if its determinant is non-zero. This property is essential for solving systems of linear equations and finding the inverse of a matrix.\n",
    "\n",
    "2. **Geometric Interpretation**: The absolute value of the determinant represents the scaling factor of the linear transformation represented by the matrix. It determines how much the transformation enlarges or shrinks volumes in space. This is crucial in geometry, computer graphics, and computer vision for understanding transformations like rotations, translations, and scaling.\n",
    "\n",
    "3. **Area and Volume Calculations**: In two and three dimensions, the determinant can be used to calculate the area of parallelograms and the volume of parallelepipeds formed by vectors. This is useful in various fields, including physics, engineering, and computational geometry.\n",
    "\n",
    "4. **Eigenvalues and Eigenvectors**: The determinant plays a key role in computing eigenvalues and eigenvectors of a matrix, which are important for understanding the behavior of linear transformations and solving systems of differential equations in physics and engineering.\n",
    "\n",
    "Overall, the determinant of a matrix is a fundamental concept in linear algebra with wide-ranging applications in mathematics, science, and engineering."
   ]
  },
  {
   "cell_type": "markdown",
   "metadata": {},
   "source": [
    "    Inverse of a Matrix"
   ]
  },
  {
   "cell_type": "markdown",
   "metadata": {},
   "source": [
    "The inverse of Matrix is the matrix that on multiplying with the original matrix results in an identity matrix. For any matrix A, its inverse is denoted as A-1\n",
    "\n",
    "<img src=\"https://media.geeksforgeeks.org/wp-content/uploads/20230605154328/inverse-of-matrix.png\">"
   ]
  },
  {
   "cell_type": "markdown",
   "metadata": {},
   "source": []
  }
 ],
 "metadata": {
  "language_info": {
   "name": "python"
  }
 },
 "nbformat": 4,
 "nbformat_minor": 2
}
