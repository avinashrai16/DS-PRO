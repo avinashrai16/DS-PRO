{
 "cells": [
  {
   "cell_type": "markdown",
   "metadata": {},
   "source": [
    "So before building the model we perform few steps on the given data :\n",
    "Ex:  MIssing value treatment , one hot encoding scaling etc.\n",
    "So in Sciket there is a concept of pipeline in which the data transformation takes place in sequences\n",
    "\n",
    "EDA is not part of Pipeline"
   ]
  },
  {
   "cell_type": "markdown",
   "metadata": {},
   "source": [
    "<img src=\"pipeline.png\" width=\"550\">"
   ]
  },
  {
   "cell_type": "markdown",
   "metadata": {},
   "source": []
  }
 ],
 "metadata": {
  "language_info": {
   "name": "python"
  }
 },
 "nbformat": 4,
 "nbformat_minor": 2
}
