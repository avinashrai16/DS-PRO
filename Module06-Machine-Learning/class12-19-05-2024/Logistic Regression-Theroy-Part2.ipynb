{
 "cells": [
  {
   "cell_type": "markdown",
   "metadata": {},
   "source": [
    "    Why Logistic regression not Logistic classification?\n",
    "\n",
    "Logistic pattern follows regression equation and sigmoid logistic function hence it is called regression not classification\n",
    "\n",
    "<img src=\"Logistic-regression-equation.png\" width=\"400\">"
   ]
  },
  {
   "cell_type": "markdown",
   "metadata": {},
   "source": [
    "Mathematical calculation :\n",
    "\n",
    "<img src=\"log-reg.png\" width=\"\">"
   ]
  },
  {
   "cell_type": "markdown",
   "metadata": {},
   "source": [
    "As the value of beta one increases the LHS increases and it decreases as the beta one decreases so it shows a linear relationship (monotonic)\n"
   ]
  }
 ],
 "metadata": {
  "language_info": {
   "name": "python"
  }
 },
 "nbformat": 4,
 "nbformat_minor": 2
}
