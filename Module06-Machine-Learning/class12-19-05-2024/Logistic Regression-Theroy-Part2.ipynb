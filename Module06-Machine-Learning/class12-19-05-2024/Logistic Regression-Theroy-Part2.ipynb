{
 "cells": [
  {
   "cell_type": "markdown",
   "metadata": {},
   "source": [
    "    Why Logistic regression not Logistic classification?\n",
    "\n",
    "Logistic pattern follows regression equation and sigmoid logistic function hence it is called regression not classification\n",
    "\n",
    "<img src=\"Logistic-regression-equation.png\" width=\"400\">"
   ]
  },
  {
   "cell_type": "markdown",
   "metadata": {},
   "source": [
    "        Attach notes from class here"
   ]
  },
  {
   "cell_type": "markdown",
   "metadata": {},
   "source": [
    "As the value of beta one increases the LHS increases and it decreases as the beta one decreases so it shows a linear relationship (monotonic)\n"
   ]
  }
 ],
 "metadata": {
  "language_info": {
   "name": "python"
  }
 },
 "nbformat": 4,
 "nbformat_minor": 2
}
