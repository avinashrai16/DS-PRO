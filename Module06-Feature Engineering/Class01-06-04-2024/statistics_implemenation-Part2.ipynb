{
 "cells": [
  {
   "cell_type": "markdown",
   "metadata": {},
   "source": [
    "-------------\n",
    "    A/B testing( Practical implementation of two sample test)\n",
    "------------\n",
    "\n",
    "The idea of A/B testing is to present different content to different variants (user groups), gather their reactions and user behaviour and use the results to build product or marketing strategies in the future.\n",
    "\n",
    "<img src = \"https://miro.medium.com/v2/resize:fit:828/format:webp/1*aPUSwnuyUsxF_ACHuxiDlA.png\" width=\"850\" height=\"450\">\n",
    "\n",
    "In AB test A: Test Group(on which we start the test of offer) B : Control group (there is no offer for this group)\n",
    "\n",
    "Test the change in behavior of these group buyer."
   ]
  },
  {
   "cell_type": "code",
   "execution_count": 5,
   "metadata": {},
   "outputs": [
    {
     "data": {
      "text/plain": [
       "[1, 2, 3, 4, 5]"
      ]
     },
     "execution_count": 5,
     "metadata": {},
     "output_type": "execute_result"
    }
   ],
   "source": [
    "data = [1,2,3,4,5]\n",
    "data"
   ]
  },
  {
   "cell_type": "code",
   "execution_count": 6,
   "metadata": {},
   "outputs": [],
   "source": [
    "import pandas as pd\n",
    "import numpy as np\n",
    "import seaborn as sns\n",
    "import statistics \n",
    "import math\n",
    "import scipy.stats as stats"
   ]
  },
  {
   "cell_type": "code",
   "execution_count": 7,
   "metadata": {},
   "outputs": [
    {
     "data": {
      "text/plain": [
       "3.0"
      ]
     },
     "execution_count": 7,
     "metadata": {},
     "output_type": "execute_result"
    }
   ],
   "source": [
    "# measure of central tendency\n",
    "# mean , median, mode\n",
    "np.mean(data)\n"
   ]
  },
  {
   "cell_type": "code",
   "execution_count": 8,
   "metadata": {},
   "outputs": [
    {
     "data": {
      "text/html": [
       "<div>\n",
       "<style scoped>\n",
       "    .dataframe tbody tr th:only-of-type {\n",
       "        vertical-align: middle;\n",
       "    }\n",
       "\n",
       "    .dataframe tbody tr th {\n",
       "        vertical-align: top;\n",
       "    }\n",
       "\n",
       "    .dataframe thead th {\n",
       "        text-align: right;\n",
       "    }\n",
       "</style>\n",
       "<table border=\"1\" class=\"dataframe\">\n",
       "  <thead>\n",
       "    <tr style=\"text-align: right;\">\n",
       "      <th></th>\n",
       "      <th>total_bill</th>\n",
       "      <th>tip</th>\n",
       "      <th>sex</th>\n",
       "      <th>smoker</th>\n",
       "      <th>day</th>\n",
       "      <th>time</th>\n",
       "      <th>size</th>\n",
       "    </tr>\n",
       "  </thead>\n",
       "  <tbody>\n",
       "    <tr>\n",
       "      <th>0</th>\n",
       "      <td>16.99</td>\n",
       "      <td>1.01</td>\n",
       "      <td>Female</td>\n",
       "      <td>No</td>\n",
       "      <td>Sun</td>\n",
       "      <td>Dinner</td>\n",
       "      <td>2</td>\n",
       "    </tr>\n",
       "    <tr>\n",
       "      <th>1</th>\n",
       "      <td>10.34</td>\n",
       "      <td>1.66</td>\n",
       "      <td>Male</td>\n",
       "      <td>No</td>\n",
       "      <td>Sun</td>\n",
       "      <td>Dinner</td>\n",
       "      <td>3</td>\n",
       "    </tr>\n",
       "    <tr>\n",
       "      <th>2</th>\n",
       "      <td>21.01</td>\n",
       "      <td>3.50</td>\n",
       "      <td>Male</td>\n",
       "      <td>No</td>\n",
       "      <td>Sun</td>\n",
       "      <td>Dinner</td>\n",
       "      <td>3</td>\n",
       "    </tr>\n",
       "    <tr>\n",
       "      <th>3</th>\n",
       "      <td>23.68</td>\n",
       "      <td>3.31</td>\n",
       "      <td>Male</td>\n",
       "      <td>No</td>\n",
       "      <td>Sun</td>\n",
       "      <td>Dinner</td>\n",
       "      <td>2</td>\n",
       "    </tr>\n",
       "    <tr>\n",
       "      <th>4</th>\n",
       "      <td>24.59</td>\n",
       "      <td>3.61</td>\n",
       "      <td>Female</td>\n",
       "      <td>No</td>\n",
       "      <td>Sun</td>\n",
       "      <td>Dinner</td>\n",
       "      <td>4</td>\n",
       "    </tr>\n",
       "    <tr>\n",
       "      <th>...</th>\n",
       "      <td>...</td>\n",
       "      <td>...</td>\n",
       "      <td>...</td>\n",
       "      <td>...</td>\n",
       "      <td>...</td>\n",
       "      <td>...</td>\n",
       "      <td>...</td>\n",
       "    </tr>\n",
       "    <tr>\n",
       "      <th>239</th>\n",
       "      <td>29.03</td>\n",
       "      <td>5.92</td>\n",
       "      <td>Male</td>\n",
       "      <td>No</td>\n",
       "      <td>Sat</td>\n",
       "      <td>Dinner</td>\n",
       "      <td>3</td>\n",
       "    </tr>\n",
       "    <tr>\n",
       "      <th>240</th>\n",
       "      <td>27.18</td>\n",
       "      <td>2.00</td>\n",
       "      <td>Female</td>\n",
       "      <td>Yes</td>\n",
       "      <td>Sat</td>\n",
       "      <td>Dinner</td>\n",
       "      <td>2</td>\n",
       "    </tr>\n",
       "    <tr>\n",
       "      <th>241</th>\n",
       "      <td>22.67</td>\n",
       "      <td>2.00</td>\n",
       "      <td>Male</td>\n",
       "      <td>Yes</td>\n",
       "      <td>Sat</td>\n",
       "      <td>Dinner</td>\n",
       "      <td>2</td>\n",
       "    </tr>\n",
       "    <tr>\n",
       "      <th>242</th>\n",
       "      <td>17.82</td>\n",
       "      <td>1.75</td>\n",
       "      <td>Male</td>\n",
       "      <td>No</td>\n",
       "      <td>Sat</td>\n",
       "      <td>Dinner</td>\n",
       "      <td>2</td>\n",
       "    </tr>\n",
       "    <tr>\n",
       "      <th>243</th>\n",
       "      <td>18.78</td>\n",
       "      <td>3.00</td>\n",
       "      <td>Female</td>\n",
       "      <td>No</td>\n",
       "      <td>Thur</td>\n",
       "      <td>Dinner</td>\n",
       "      <td>2</td>\n",
       "    </tr>\n",
       "  </tbody>\n",
       "</table>\n",
       "<p>244 rows × 7 columns</p>\n",
       "</div>"
      ],
      "text/plain": [
       "     total_bill   tip     sex smoker   day    time  size\n",
       "0         16.99  1.01  Female     No   Sun  Dinner     2\n",
       "1         10.34  1.66    Male     No   Sun  Dinner     3\n",
       "2         21.01  3.50    Male     No   Sun  Dinner     3\n",
       "3         23.68  3.31    Male     No   Sun  Dinner     2\n",
       "4         24.59  3.61  Female     No   Sun  Dinner     4\n",
       "..          ...   ...     ...    ...   ...     ...   ...\n",
       "239       29.03  5.92    Male     No   Sat  Dinner     3\n",
       "240       27.18  2.00  Female    Yes   Sat  Dinner     2\n",
       "241       22.67  2.00    Male    Yes   Sat  Dinner     2\n",
       "242       17.82  1.75    Male     No   Sat  Dinner     2\n",
       "243       18.78  3.00  Female     No  Thur  Dinner     2\n",
       "\n",
       "[244 rows x 7 columns]"
      ]
     },
     "execution_count": 8,
     "metadata": {},
     "output_type": "execute_result"
    }
   ],
   "source": [
    "df = sns.load_dataset(\"tips\")\n",
    "df"
   ]
  },
  {
   "cell_type": "code",
   "execution_count": 9,
   "metadata": {},
   "outputs": [
    {
     "data": {
      "text/plain": [
       "19.78594262295082"
      ]
     },
     "execution_count": 9,
     "metadata": {},
     "output_type": "execute_result"
    }
   ],
   "source": [
    "df['total_bill'].mean()"
   ]
  },
  {
   "cell_type": "code",
   "execution_count": 10,
   "metadata": {},
   "outputs": [
    {
     "data": {
      "text/plain": [
       "[1, 2, 3, 4, 5]"
      ]
     },
     "execution_count": 10,
     "metadata": {},
     "output_type": "execute_result"
    }
   ],
   "source": [
    "[1, 2, 3, 4, 5]"
   ]
  },
  {
   "cell_type": "code",
   "execution_count": 11,
   "metadata": {},
   "outputs": [
    {
     "data": {
      "text/html": [
       "<div>\n",
       "<style scoped>\n",
       "    .dataframe tbody tr th:only-of-type {\n",
       "        vertical-align: middle;\n",
       "    }\n",
       "\n",
       "    .dataframe tbody tr th {\n",
       "        vertical-align: top;\n",
       "    }\n",
       "\n",
       "    .dataframe thead th {\n",
       "        text-align: right;\n",
       "    }\n",
       "</style>\n",
       "<table border=\"1\" class=\"dataframe\">\n",
       "  <thead>\n",
       "    <tr style=\"text-align: right;\">\n",
       "      <th></th>\n",
       "      <th>total_bill</th>\n",
       "      <th>tip</th>\n",
       "      <th>size</th>\n",
       "    </tr>\n",
       "  </thead>\n",
       "  <tbody>\n",
       "    <tr>\n",
       "      <th>count</th>\n",
       "      <td>244.000000</td>\n",
       "      <td>244.000000</td>\n",
       "      <td>244.000000</td>\n",
       "    </tr>\n",
       "    <tr>\n",
       "      <th>mean</th>\n",
       "      <td>19.785943</td>\n",
       "      <td>2.998279</td>\n",
       "      <td>2.569672</td>\n",
       "    </tr>\n",
       "    <tr>\n",
       "      <th>std</th>\n",
       "      <td>8.902412</td>\n",
       "      <td>1.383638</td>\n",
       "      <td>0.951100</td>\n",
       "    </tr>\n",
       "    <tr>\n",
       "      <th>min</th>\n",
       "      <td>3.070000</td>\n",
       "      <td>1.000000</td>\n",
       "      <td>1.000000</td>\n",
       "    </tr>\n",
       "    <tr>\n",
       "      <th>25%</th>\n",
       "      <td>13.347500</td>\n",
       "      <td>2.000000</td>\n",
       "      <td>2.000000</td>\n",
       "    </tr>\n",
       "    <tr>\n",
       "      <th>50%</th>\n",
       "      <td>17.795000</td>\n",
       "      <td>2.900000</td>\n",
       "      <td>2.000000</td>\n",
       "    </tr>\n",
       "    <tr>\n",
       "      <th>75%</th>\n",
       "      <td>24.127500</td>\n",
       "      <td>3.562500</td>\n",
       "      <td>3.000000</td>\n",
       "    </tr>\n",
       "    <tr>\n",
       "      <th>max</th>\n",
       "      <td>50.810000</td>\n",
       "      <td>10.000000</td>\n",
       "      <td>6.000000</td>\n",
       "    </tr>\n",
       "  </tbody>\n",
       "</table>\n",
       "</div>"
      ],
      "text/plain": [
       "       total_bill         tip        size\n",
       "count  244.000000  244.000000  244.000000\n",
       "mean    19.785943    2.998279    2.569672\n",
       "std      8.902412    1.383638    0.951100\n",
       "min      3.070000    1.000000    1.000000\n",
       "25%     13.347500    2.000000    2.000000\n",
       "50%     17.795000    2.900000    2.000000\n",
       "75%     24.127500    3.562500    3.000000\n",
       "max     50.810000   10.000000    6.000000"
      ]
     },
     "execution_count": 11,
     "metadata": {},
     "output_type": "execute_result"
    }
   ],
   "source": [
    "df.describe()"
   ]
  },
  {
   "cell_type": "code",
   "execution_count": 12,
   "metadata": {},
   "outputs": [
    {
     "data": {
      "text/plain": [
       "[1, 2, 3, 4, 5]"
      ]
     },
     "execution_count": 12,
     "metadata": {},
     "output_type": "execute_result"
    }
   ],
   "source": [
    "data"
   ]
  },
  {
   "cell_type": "code",
   "execution_count": 13,
   "metadata": {},
   "outputs": [
    {
     "data": {
      "text/plain": [
       "3.0"
      ]
     },
     "execution_count": 13,
     "metadata": {},
     "output_type": "execute_result"
    }
   ],
   "source": [
    "np.median(data)"
   ]
  },
  {
   "cell_type": "code",
   "execution_count": 14,
   "metadata": {},
   "outputs": [],
   "source": [
    "data = [1, 2, 3, 4, 500]"
   ]
  },
  {
   "cell_type": "code",
   "execution_count": 15,
   "metadata": {},
   "outputs": [
    {
     "data": {
      "text/plain": [
       "102.0"
      ]
     },
     "execution_count": 15,
     "metadata": {},
     "output_type": "execute_result"
    }
   ],
   "source": [
    "np.mean(data)"
   ]
  },
  {
   "cell_type": "code",
   "execution_count": 16,
   "metadata": {},
   "outputs": [
    {
     "data": {
      "text/plain": [
       "3.0"
      ]
     },
     "execution_count": 16,
     "metadata": {},
     "output_type": "execute_result"
    }
   ],
   "source": [
    "np.median(data)"
   ]
  },
  {
   "cell_type": "code",
   "execution_count": 17,
   "metadata": {},
   "outputs": [],
   "source": [
    "# so mean is inflated by outliers but median not"
   ]
  },
  {
   "cell_type": "code",
   "execution_count": 18,
   "metadata": {},
   "outputs": [
    {
     "data": {
      "text/plain": [
       "17.795"
      ]
     },
     "execution_count": 18,
     "metadata": {},
     "output_type": "execute_result"
    }
   ],
   "source": [
    "np.median(df.total_bill)"
   ]
  },
  {
   "cell_type": "code",
   "execution_count": 19,
   "metadata": {},
   "outputs": [],
   "source": [
    "data = [1,2,3,3,3,3,4,500]"
   ]
  },
  {
   "cell_type": "code",
   "execution_count": 20,
   "metadata": {},
   "outputs": [
    {
     "data": {
      "text/plain": [
       "3"
      ]
     },
     "execution_count": 20,
     "metadata": {},
     "output_type": "execute_result"
    }
   ],
   "source": [
    "statistics.mode(data)"
   ]
  },
  {
   "cell_type": "code",
   "execution_count": 21,
   "metadata": {},
   "outputs": [
    {
     "data": {
      "text/plain": [
       "[1, 2, 3, 3, 3, 3, 4, 500]"
      ]
     },
     "execution_count": 21,
     "metadata": {},
     "output_type": "execute_result"
    }
   ],
   "source": [
    "data"
   ]
  },
  {
   "cell_type": "code",
   "execution_count": 22,
   "metadata": {},
   "outputs": [
    {
     "data": {
      "text/plain": [
       "array([2.75])"
      ]
     },
     "execution_count": 22,
     "metadata": {},
     "output_type": "execute_result"
    }
   ],
   "source": [
    "np.percentile(data,[25]) # 25 percentage of the data below 2.75"
   ]
  },
  {
   "cell_type": "code",
   "execution_count": 23,
   "metadata": {},
   "outputs": [
    {
     "data": {
      "text/plain": [
       "array([  2.75,   3.  ,   3.25, 361.12, 395.84, 430.56, 465.28, 500.  ])"
      ]
     },
     "execution_count": 23,
     "metadata": {},
     "output_type": "execute_result"
    }
   ],
   "source": [
    "np.percentile(data,[25,50,75,96,97,98,99,100])"
   ]
  },
  {
   "cell_type": "code",
   "execution_count": 24,
   "metadata": {},
   "outputs": [
    {
     "data": {
      "text/plain": [
       "[1, 2, 3, 3, 3, 3, 4, 500]"
      ]
     },
     "execution_count": 24,
     "metadata": {},
     "output_type": "execute_result"
    }
   ],
   "source": [
    "data"
   ]
  },
  {
   "cell_type": "code",
   "execution_count": 25,
   "metadata": {},
   "outputs": [],
   "source": [
    "data.append(-500)"
   ]
  },
  {
   "cell_type": "code",
   "execution_count": 26,
   "metadata": {},
   "outputs": [
    {
     "data": {
      "text/plain": [
       "[1, 2, 3, 3, 3, 3, 4, 500, -500]"
      ]
     },
     "execution_count": 26,
     "metadata": {},
     "output_type": "execute_result"
    }
   ],
   "source": [
    "data"
   ]
  },
  {
   "cell_type": "code",
   "execution_count": 27,
   "metadata": {},
   "outputs": [],
   "source": [
    "data = [1, 2, 3, 3, 3, 3, 4, 20, -20]"
   ]
  },
  {
   "cell_type": "code",
   "execution_count": 28,
   "metadata": {},
   "outputs": [
    {
     "data": {
      "text/plain": [
       "<Axes: >"
      ]
     },
     "execution_count": 28,
     "metadata": {},
     "output_type": "execute_result"
    },
    {
     "data": {
      "image/png": "[encoded data removed]",
      "text/plain": [
       "<Figure size 640x480 with 1 Axes>"
      ]
     },
     "metadata": {},
     "output_type": "display_data"
    }
   ],
   "source": [
    "sns.boxplot(data=data)"
   ]
  },
  {
   "cell_type": "code",
   "execution_count": 29,
   "metadata": {},
   "outputs": [
    {
     "data": {
      "text/plain": [
       "[1, 2, 3, 3, 3, 3, 4, 20, -20]"
      ]
     },
     "execution_count": 29,
     "metadata": {},
     "output_type": "execute_result"
    }
   ],
   "source": [
    "# measures of dispersion\n",
    "# std deviation and variance\n",
    "\n",
    "data"
   ]
  },
  {
   "cell_type": "code",
   "execution_count": 30,
   "metadata": {},
   "outputs": [
    {
     "data": {
      "text/plain": [
       "90.76543209876543"
      ]
     },
     "execution_count": 30,
     "metadata": {},
     "output_type": "execute_result"
    }
   ],
   "source": [
    "np.var(data)"
   ]
  },
  {
   "cell_type": "code",
   "execution_count": 31,
   "metadata": {},
   "outputs": [
    {
     "data": {
      "text/plain": [
       "9.527089382322673"
      ]
     },
     "execution_count": 31,
     "metadata": {},
     "output_type": "execute_result"
    }
   ],
   "source": [
    "np.std(data)"
   ]
  },
  {
   "cell_type": "code",
   "execution_count": 32,
   "metadata": {},
   "outputs": [
    {
     "data": {
      "text/plain": [
       "102.11111111111111"
      ]
     },
     "execution_count": 32,
     "metadata": {},
     "output_type": "execute_result"
    }
   ],
   "source": [
    "statistics.variance(data) # sample variance where sample = n-1"
   ]
  },
  {
   "cell_type": "code",
   "execution_count": 33,
   "metadata": {},
   "outputs": [
    {
     "data": {
      "text/plain": [
       "90.76543209876543"
      ]
     },
     "execution_count": 33,
     "metadata": {},
     "output_type": "execute_result"
    }
   ],
   "source": [
    "statistics.pvariance(data) # variance for entire population"
   ]
  },
  {
   "cell_type": "code",
   "execution_count": 34,
   "metadata": {},
   "outputs": [
    {
     "data": {
      "text/plain": [
       "9.527089382322673"
      ]
     },
     "execution_count": 34,
     "metadata": {},
     "output_type": "execute_result"
    }
   ],
   "source": [
    "math.sqrt(statistics.pvariance(data)) # square root of variance is std deviation"
   ]
  },
  {
   "cell_type": "code",
   "execution_count": 35,
   "metadata": {},
   "outputs": [
    {
     "data": {
      "text/html": [
       "<div>\n",
       "<style scoped>\n",
       "    .dataframe tbody tr th:only-of-type {\n",
       "        vertical-align: middle;\n",
       "    }\n",
       "\n",
       "    .dataframe tbody tr th {\n",
       "        vertical-align: top;\n",
       "    }\n",
       "\n",
       "    .dataframe thead th {\n",
       "        text-align: right;\n",
       "    }\n",
       "</style>\n",
       "<table border=\"1\" class=\"dataframe\">\n",
       "  <thead>\n",
       "    <tr style=\"text-align: right;\">\n",
       "      <th></th>\n",
       "      <th>total_bill</th>\n",
       "      <th>tip</th>\n",
       "      <th>sex</th>\n",
       "      <th>smoker</th>\n",
       "      <th>day</th>\n",
       "      <th>time</th>\n",
       "      <th>size</th>\n",
       "    </tr>\n",
       "  </thead>\n",
       "  <tbody>\n",
       "    <tr>\n",
       "      <th>0</th>\n",
       "      <td>16.99</td>\n",
       "      <td>1.01</td>\n",
       "      <td>Female</td>\n",
       "      <td>No</td>\n",
       "      <td>Sun</td>\n",
       "      <td>Dinner</td>\n",
       "      <td>2</td>\n",
       "    </tr>\n",
       "    <tr>\n",
       "      <th>1</th>\n",
       "      <td>10.34</td>\n",
       "      <td>1.66</td>\n",
       "      <td>Male</td>\n",
       "      <td>No</td>\n",
       "      <td>Sun</td>\n",
       "      <td>Dinner</td>\n",
       "      <td>3</td>\n",
       "    </tr>\n",
       "    <tr>\n",
       "      <th>2</th>\n",
       "      <td>21.01</td>\n",
       "      <td>3.50</td>\n",
       "      <td>Male</td>\n",
       "      <td>No</td>\n",
       "      <td>Sun</td>\n",
       "      <td>Dinner</td>\n",
       "      <td>3</td>\n",
       "    </tr>\n",
       "    <tr>\n",
       "      <th>3</th>\n",
       "      <td>23.68</td>\n",
       "      <td>3.31</td>\n",
       "      <td>Male</td>\n",
       "      <td>No</td>\n",
       "      <td>Sun</td>\n",
       "      <td>Dinner</td>\n",
       "      <td>2</td>\n",
       "    </tr>\n",
       "    <tr>\n",
       "      <th>4</th>\n",
       "      <td>24.59</td>\n",
       "      <td>3.61</td>\n",
       "      <td>Female</td>\n",
       "      <td>No</td>\n",
       "      <td>Sun</td>\n",
       "      <td>Dinner</td>\n",
       "      <td>4</td>\n",
       "    </tr>\n",
       "    <tr>\n",
       "      <th>...</th>\n",
       "      <td>...</td>\n",
       "      <td>...</td>\n",
       "      <td>...</td>\n",
       "      <td>...</td>\n",
       "      <td>...</td>\n",
       "      <td>...</td>\n",
       "      <td>...</td>\n",
       "    </tr>\n",
       "    <tr>\n",
       "      <th>239</th>\n",
       "      <td>29.03</td>\n",
       "      <td>5.92</td>\n",
       "      <td>Male</td>\n",
       "      <td>No</td>\n",
       "      <td>Sat</td>\n",
       "      <td>Dinner</td>\n",
       "      <td>3</td>\n",
       "    </tr>\n",
       "    <tr>\n",
       "      <th>240</th>\n",
       "      <td>27.18</td>\n",
       "      <td>2.00</td>\n",
       "      <td>Female</td>\n",
       "      <td>Yes</td>\n",
       "      <td>Sat</td>\n",
       "      <td>Dinner</td>\n",
       "      <td>2</td>\n",
       "    </tr>\n",
       "    <tr>\n",
       "      <th>241</th>\n",
       "      <td>22.67</td>\n",
       "      <td>2.00</td>\n",
       "      <td>Male</td>\n",
       "      <td>Yes</td>\n",
       "      <td>Sat</td>\n",
       "      <td>Dinner</td>\n",
       "      <td>2</td>\n",
       "    </tr>\n",
       "    <tr>\n",
       "      <th>242</th>\n",
       "      <td>17.82</td>\n",
       "      <td>1.75</td>\n",
       "      <td>Male</td>\n",
       "      <td>No</td>\n",
       "      <td>Sat</td>\n",
       "      <td>Dinner</td>\n",
       "      <td>2</td>\n",
       "    </tr>\n",
       "    <tr>\n",
       "      <th>243</th>\n",
       "      <td>18.78</td>\n",
       "      <td>3.00</td>\n",
       "      <td>Female</td>\n",
       "      <td>No</td>\n",
       "      <td>Thur</td>\n",
       "      <td>Dinner</td>\n",
       "      <td>2</td>\n",
       "    </tr>\n",
       "  </tbody>\n",
       "</table>\n",
       "<p>244 rows × 7 columns</p>\n",
       "</div>"
      ],
      "text/plain": [
       "     total_bill   tip     sex smoker   day    time  size\n",
       "0         16.99  1.01  Female     No   Sun  Dinner     2\n",
       "1         10.34  1.66    Male     No   Sun  Dinner     3\n",
       "2         21.01  3.50    Male     No   Sun  Dinner     3\n",
       "3         23.68  3.31    Male     No   Sun  Dinner     2\n",
       "4         24.59  3.61  Female     No   Sun  Dinner     4\n",
       "..          ...   ...     ...    ...   ...     ...   ...\n",
       "239       29.03  5.92    Male     No   Sat  Dinner     3\n",
       "240       27.18  2.00  Female    Yes   Sat  Dinner     2\n",
       "241       22.67  2.00    Male    Yes   Sat  Dinner     2\n",
       "242       17.82  1.75    Male     No   Sat  Dinner     2\n",
       "243       18.78  3.00  Female     No  Thur  Dinner     2\n",
       "\n",
       "[244 rows x 7 columns]"
      ]
     },
     "execution_count": 35,
     "metadata": {},
     "output_type": "execute_result"
    }
   ],
   "source": [
    "df"
   ]
  },
  {
   "cell_type": "code",
   "execution_count": 36,
   "metadata": {},
   "outputs": [
    {
     "data": {
      "text/html": [
       "<div>\n",
       "<style scoped>\n",
       "    .dataframe tbody tr th:only-of-type {\n",
       "        vertical-align: middle;\n",
       "    }\n",
       "\n",
       "    .dataframe tbody tr th {\n",
       "        vertical-align: top;\n",
       "    }\n",
       "\n",
       "    .dataframe thead th {\n",
       "        text-align: right;\n",
       "    }\n",
       "</style>\n",
       "<table border=\"1\" class=\"dataframe\">\n",
       "  <thead>\n",
       "    <tr style=\"text-align: right;\">\n",
       "      <th></th>\n",
       "      <th>total_bill</th>\n",
       "      <th>tip</th>\n",
       "      <th>size</th>\n",
       "    </tr>\n",
       "  </thead>\n",
       "  <tbody>\n",
       "    <tr>\n",
       "      <th>total_bill</th>\n",
       "      <td>1.000000</td>\n",
       "      <td>0.675734</td>\n",
       "      <td>0.598315</td>\n",
       "    </tr>\n",
       "    <tr>\n",
       "      <th>tip</th>\n",
       "      <td>0.675734</td>\n",
       "      <td>1.000000</td>\n",
       "      <td>0.489299</td>\n",
       "    </tr>\n",
       "    <tr>\n",
       "      <th>size</th>\n",
       "      <td>0.598315</td>\n",
       "      <td>0.489299</td>\n",
       "      <td>1.000000</td>\n",
       "    </tr>\n",
       "  </tbody>\n",
       "</table>\n",
       "</div>"
      ],
      "text/plain": [
       "            total_bill       tip      size\n",
       "total_bill    1.000000  0.675734  0.598315\n",
       "tip           0.675734  1.000000  0.489299\n",
       "size          0.598315  0.489299  1.000000"
      ]
     },
     "execution_count": 36,
     "metadata": {},
     "output_type": "execute_result"
    }
   ],
   "source": [
    "# relationship b/w two feature\n",
    "# correlation and covariance\n",
    "df[['total_bill','tip','size']].corr()"
   ]
  },
  {
   "cell_type": "code",
   "execution_count": 37,
   "metadata": {},
   "outputs": [
    {
     "data": {
      "text/html": [
       "<div>\n",
       "<style scoped>\n",
       "    .dataframe tbody tr th:only-of-type {\n",
       "        vertical-align: middle;\n",
       "    }\n",
       "\n",
       "    .dataframe tbody tr th {\n",
       "        vertical-align: top;\n",
       "    }\n",
       "\n",
       "    .dataframe thead th {\n",
       "        text-align: right;\n",
       "    }\n",
       "</style>\n",
       "<table border=\"1\" class=\"dataframe\">\n",
       "  <thead>\n",
       "    <tr style=\"text-align: right;\">\n",
       "      <th></th>\n",
       "      <th>total_bill</th>\n",
       "      <th>tip</th>\n",
       "      <th>size</th>\n",
       "    </tr>\n",
       "  </thead>\n",
       "  <tbody>\n",
       "    <tr>\n",
       "      <th>total_bill</th>\n",
       "      <td>1.000000</td>\n",
       "      <td>0.675734</td>\n",
       "      <td>0.598315</td>\n",
       "    </tr>\n",
       "    <tr>\n",
       "      <th>tip</th>\n",
       "      <td>0.675734</td>\n",
       "      <td>1.000000</td>\n",
       "      <td>0.489299</td>\n",
       "    </tr>\n",
       "    <tr>\n",
       "      <th>size</th>\n",
       "      <td>0.598315</td>\n",
       "      <td>0.489299</td>\n",
       "      <td>1.000000</td>\n",
       "    </tr>\n",
       "  </tbody>\n",
       "</table>\n",
       "</div>"
      ],
      "text/plain": [
       "            total_bill       tip      size\n",
       "total_bill    1.000000  0.675734  0.598315\n",
       "tip           0.675734  1.000000  0.489299\n",
       "size          0.598315  0.489299  1.000000"
      ]
     },
     "execution_count": 37,
     "metadata": {},
     "output_type": "execute_result"
    }
   ],
   "source": [
    "df.corr(numeric_only=True)\n",
    "# where there is one unit increase in total bill then there is 67% chance that tip will be increased.\n",
    "# tip and size has a positive relationship with total bill"
   ]
  },
  {
   "cell_type": "code",
   "execution_count": 38,
   "metadata": {},
   "outputs": [
    {
     "data": {
      "text/plain": [
       "<Axes: >"
      ]
     },
     "execution_count": 38,
     "metadata": {},
     "output_type": "execute_result"
    },
    {
     "data": {
      "image/png": "[encoded data removed]",
      "text/plain": [
       "<Figure size 640x480 with 2 Axes>"
      ]
     },
     "metadata": {},
     "output_type": "display_data"
    }
   ],
   "source": [
    "sns.heatmap(df.corr(numeric_only=True),annot=True)"
   ]
  },
  {
   "cell_type": "code",
   "execution_count": 39,
   "metadata": {},
   "outputs": [
    {
     "data": {
      "text/html": [
       "<div>\n",
       "<style scoped>\n",
       "    .dataframe tbody tr th:only-of-type {\n",
       "        vertical-align: middle;\n",
       "    }\n",
       "\n",
       "    .dataframe tbody tr th {\n",
       "        vertical-align: top;\n",
       "    }\n",
       "\n",
       "    .dataframe thead th {\n",
       "        text-align: right;\n",
       "    }\n",
       "</style>\n",
       "<table border=\"1\" class=\"dataframe\">\n",
       "  <thead>\n",
       "    <tr style=\"text-align: right;\">\n",
       "      <th></th>\n",
       "      <th>total_bill</th>\n",
       "      <th>tip</th>\n",
       "      <th>size</th>\n",
       "    </tr>\n",
       "  </thead>\n",
       "  <tbody>\n",
       "    <tr>\n",
       "      <th>total_bill</th>\n",
       "      <td>79.252939</td>\n",
       "      <td>8.323502</td>\n",
       "      <td>5.065983</td>\n",
       "    </tr>\n",
       "    <tr>\n",
       "      <th>tip</th>\n",
       "      <td>8.323502</td>\n",
       "      <td>1.914455</td>\n",
       "      <td>0.643906</td>\n",
       "    </tr>\n",
       "    <tr>\n",
       "      <th>size</th>\n",
       "      <td>5.065983</td>\n",
       "      <td>0.643906</td>\n",
       "      <td>0.904591</td>\n",
       "    </tr>\n",
       "  </tbody>\n",
       "</table>\n",
       "</div>"
      ],
      "text/plain": [
       "            total_bill       tip      size\n",
       "total_bill   79.252939  8.323502  5.065983\n",
       "tip           8.323502  1.914455  0.643906\n",
       "size          5.065983  0.643906  0.904591"
      ]
     },
     "execution_count": 39,
     "metadata": {},
     "output_type": "execute_result"
    }
   ],
   "source": [
    "# covariance\n",
    "df.cov(numeric_only=True)"
   ]
  },
  {
   "cell_type": "code",
   "execution_count": 40,
   "metadata": {},
   "outputs": [
    {
     "data": {
      "text/plain": [
       "<seaborn.axisgrid.PairGrid at 0x231619c2890>"
      ]
     },
     "execution_count": 40,
     "metadata": {},
     "output_type": "execute_result"
    },
    {
     "data": {
      "image/png": "[encoded data removed]",
      "text/plain": [
       "<Figure size 750x750 with 12 Axes>"
      ]
     },
     "metadata": {},
     "output_type": "display_data"
    }
   ],
   "source": [
    "sns.pairplot(df)"
   ]
  },
  {
   "cell_type": "code",
   "execution_count": 41,
   "metadata": {},
   "outputs": [
    {
     "data": {
      "text/plain": [
       "<Axes: ylabel='Count'>"
      ]
     },
     "execution_count": 41,
     "metadata": {},
     "output_type": "execute_result"
    },
    {
     "data": {
      "image/png": "[encoded data removed]",
      "text/plain": [
       "<Figure size 640x480 with 1 Axes>"
      ]
     },
     "metadata": {},
     "output_type": "display_data"
    }
   ],
   "source": [
    "sns.histplot(data,kde=True)"
   ]
  },
  {
   "cell_type": "code",
   "execution_count": 42,
   "metadata": {},
   "outputs": [
    {
     "data": {
      "text/plain": [
       "<Axes: xlabel='total_bill', ylabel='Count'>"
      ]
     },
     "execution_count": 42,
     "metadata": {},
     "output_type": "execute_result"
    },
    {
     "data": {
      "image/png": "[encoded data removed]",
      "text/plain": [
       "<Figure size 640x480 with 1 Axes>"
      ]
     },
     "metadata": {},
     "output_type": "display_data"
    }
   ],
   "source": [
    "sns.histplot(df.total_bill, kde=True)"
   ]
  },
  {
   "cell_type": "code",
   "execution_count": 43,
   "metadata": {},
   "outputs": [],
   "source": [
    "data1 = np.random.normal(0.5, 0.2, 1000)"
   ]
  },
  {
   "cell_type": "code",
   "execution_count": 44,
   "metadata": {},
   "outputs": [
    {
     "name": "stderr",
     "output_type": "stream",
     "text": [
      "C:\\Users\\avina\\AppData\\Local\\Temp\\ipykernel_18512\\1727590720.py:1: UserWarning: \n",
      "\n",
      "`distplot` is a deprecated function and will be removed in seaborn v0.14.0.\n",
      "\n",
      "Please adapt your code to use either `displot` (a figure-level function with\n",
      "similar flexibility) or `histplot` (an axes-level function for histograms).\n",
      "\n",
      "For a guide to updating your code to use the new functions, please see\n",
      "https://gist.github.com/mwaskom/de44147ed2974457ad6372750bbe5751\n",
      "\n",
      "  sns.distplot(data1)\n"
     ]
    },
    {
     "data": {
      "text/plain": [
       "<Axes: ylabel='Density'>"
      ]
     },
     "execution_count": 44,
     "metadata": {},
     "output_type": "execute_result"
    },
    {
     "data": {
      "image/png": "[encoded data removed]",
      "text/plain": [
       "<Figure size 640x480 with 1 Axes>"
      ]
     },
     "metadata": {},
     "output_type": "display_data"
    }
   ],
   "source": [
    "sns.distplot(data1)"
   ]
  },
  {
   "cell_type": "code",
   "execution_count": 45,
   "metadata": {},
   "outputs": [],
   "source": [
    "population = np.random.randint(10, 20, 50)"
   ]
  },
  {
   "cell_type": "code",
   "execution_count": 46,
   "metadata": {},
   "outputs": [
    {
     "data": {
      "text/plain": [
       "array([11, 15, 12, 19, 13, 16, 14, 18, 16, 15, 16, 15, 11, 17, 15, 18, 16,\n",
       "       19, 16, 11, 13, 12, 19, 18, 15, 15, 19, 16, 10, 10, 17, 10, 14, 10,\n",
       "       16, 14, 17, 17, 17, 18, 18, 17, 13, 15, 16, 14, 14, 18, 18, 13])"
      ]
     },
     "execution_count": 46,
     "metadata": {},
     "output_type": "execute_result"
    }
   ],
   "source": [
    "population"
   ]
  },
  {
   "cell_type": "code",
   "execution_count": 47,
   "metadata": {},
   "outputs": [
    {
     "data": {
      "text/plain": [
       "50"
      ]
     },
     "execution_count": 47,
     "metadata": {},
     "output_type": "execute_result"
    }
   ],
   "source": [
    "len(population)"
   ]
  },
  {
   "cell_type": "code",
   "execution_count": 48,
   "metadata": {},
   "outputs": [
    {
     "data": {
      "text/plain": [
       "16"
      ]
     },
     "execution_count": 48,
     "metadata": {},
     "output_type": "execute_result"
    }
   ],
   "source": [
    "statistics.mode(population)"
   ]
  },
  {
   "cell_type": "code",
   "execution_count": 49,
   "metadata": {},
   "outputs": [
    {
     "data": {
      "text/plain": [
       "15.12"
      ]
     },
     "execution_count": 49,
     "metadata": {},
     "output_type": "execute_result"
    }
   ],
   "source": [
    "np.mean(population)"
   ]
  },
  {
   "cell_type": "code",
   "execution_count": 50,
   "metadata": {},
   "outputs": [],
   "source": [
    "# random sample from data"
   ]
  },
  {
   "cell_type": "code",
   "execution_count": 51,
   "metadata": {},
   "outputs": [],
   "source": [
    "sample1 = np.random.choice(population , 20)\n",
    "sample2 = np.random.choice(population , 20)\n",
    "sample3 = np.random.choice(population , 20)\n",
    "sample4 = np.random.choice(population , 20)"
   ]
  },
  {
   "cell_type": "code",
   "execution_count": 52,
   "metadata": {},
   "outputs": [],
   "source": [
    "mean_of_samples = []\n",
    "all_samples = [sample1,sample2,sample3,sample4]\n",
    "for sample in all_samples:\n",
    "    mean_of_samples.append(np.mean(sample))"
   ]
  },
  {
   "cell_type": "code",
   "execution_count": 53,
   "metadata": {},
   "outputs": [
    {
     "data": {
      "text/plain": [
       "[14.95, 15.25, 14.25, 14.55]"
      ]
     },
     "execution_count": 53,
     "metadata": {},
     "output_type": "execute_result"
    }
   ],
   "source": [
    "mean_of_samples"
   ]
  },
  {
   "cell_type": "code",
   "execution_count": 54,
   "metadata": {},
   "outputs": [],
   "source": [
    "# central limit theorem >> the sample mean will be approximated to normal distribution given sample size >= 30 \n",
    "#and no fo samples should be sufficiently large"
   ]
  },
  {
   "cell_type": "code",
   "execution_count": 55,
   "metadata": {},
   "outputs": [],
   "source": [
    "population = np.random.binomial(10, 0.5, 10000)"
   ]
  },
  {
   "cell_type": "code",
   "execution_count": 56,
   "metadata": {},
   "outputs": [
    {
     "data": {
      "text/plain": [
       "array([6, 5, 6, ..., 4, 5, 3])"
      ]
     },
     "execution_count": 56,
     "metadata": {},
     "output_type": "execute_result"
    }
   ],
   "source": [
    "population"
   ]
  },
  {
   "cell_type": "code",
   "execution_count": 57,
   "metadata": {},
   "outputs": [
    {
     "name": "stderr",
     "output_type": "stream",
     "text": [
      "C:\\Users\\avina\\AppData\\Local\\Temp\\ipykernel_18512\\2958836585.py:1: UserWarning: \n",
      "\n",
      "`distplot` is a deprecated function and will be removed in seaborn v0.14.0.\n",
      "\n",
      "Please adapt your code to use either `displot` (a figure-level function with\n",
      "similar flexibility) or `histplot` (an axes-level function for histograms).\n",
      "\n",
      "For a guide to updating your code to use the new functions, please see\n",
      "https://gist.github.com/mwaskom/de44147ed2974457ad6372750bbe5751\n",
      "\n",
      "  sns.distplot(population)\n"
     ]
    },
    {
     "data": {
      "text/plain": [
       "<Axes: ylabel='Density'>"
      ]
     },
     "execution_count": 57,
     "metadata": {},
     "output_type": "execute_result"
    },
    {
     "data": {
      "image/png": "[encoded data removed]",
      "text/plain": [
       "<Figure size 640x480 with 1 Axes>"
      ]
     },
     "metadata": {},
     "output_type": "display_data"
    }
   ],
   "source": [
    "sns.distplot(population)"
   ]
  },
  {
   "cell_type": "code",
   "execution_count": 58,
   "metadata": {},
   "outputs": [],
   "source": [
    "sample_size = 3000\n",
    "\n",
    "mean_of_samples = []\n",
    "\n",
    "for i in range(1,10000):\n",
    "    sample = np.random.choice(population, size=sample_size)\n",
    "    mean_of_samples.append(np.mean(sample))"
   ]
  },
  {
   "cell_type": "code",
   "execution_count": 59,
   "metadata": {},
   "outputs": [
    {
     "data": {
      "text/plain": [
       "[5.0,\n",
       " 5.006666666666667,\n",
       " 5.041,\n",
       " 5.008333333333334,\n",
       " 4.988333333333333,\n",
       " 4.978,\n",
       " 4.984,\n",
       " 4.963,\n",
       " 5.063,\n",
       " 5.005333333333334,\n",
       " 4.989,\n",
       " 4.971333333333333,\n",
       " 5.0183333333333335,\n",
       " 4.972,\n",
       " 5.006333333333333,\n",
       " 4.999333333333333,\n",
       " 5.046333333333333,\n",
       " 5.026,\n",
       " 5.019666666666667,\n",
       " 5.089,\n",
       " 5.021333333333334,\n",
       " 4.983666666666666,\n",
       " 5.022,\n",
       " 5.011333333333333,\n",
       " 5.0536666666666665,\n",
       " 5.0216666666666665,\n",
       " 4.976,\n",
       " 5.002,\n",
       " 5.002666666666666,\n",
       " 5.046666666666667,\n",
       " 5.023,\n",
       " 5.007333333333333,\n",
       " 4.918,\n",
       " 5.066,\n",
       " 5.0103333333333335,\n",
       " 5.014666666666667,\n",
       " 5.017666666666667,\n",
       " 5.031333333333333,\n",
       " 5.031333333333333,\n",
       " 5.001666666666667,\n",
       " 5.009333333333333,\n",
       " 5.0056666666666665,\n",
       " 5.006666666666667,\n",
       " 5.010666666666666,\n",
       " 4.991666666666666,\n",
       " 5.001,\n",
       " 4.988,\n",
       " 5.002,\n",
       " 5.004,\n",
       " 5.049333333333333,\n",
       " 5.019,\n",
       " 5.085,\n",
       " 5.052666666666667,\n",
       " 5.020333333333333,\n",
       " 5.001333333333333,\n",
       " 5.007666666666666,\n",
       " 5.026,\n",
       " 5.041666666666667,\n",
       " 5.041,\n",
       " 5.058666666666666,\n",
       " 5.089333333333333,\n",
       " 5.020333333333333,\n",
       " 4.985333333333333,\n",
       " 4.975333333333333,\n",
       " 4.993333333333333,\n",
       " 5.028,\n",
       " 5.056333333333333,\n",
       " 5.011,\n",
       " 5.031666666666666,\n",
       " 5.0103333333333335,\n",
       " 4.998,\n",
       " 5.076,\n",
       " 4.974,\n",
       " 5.005,\n",
       " 5.014,\n",
       " 5.007666666666666,\n",
       " 5.001666666666667,\n",
       " 5.041,\n",
       " 5.001,\n",
       " 5.041333333333333,\n",
       " 5.040333333333334,\n",
       " 5.024333333333334,\n",
       " 5.023,\n",
       " 5.032,\n",
       " 5.001,\n",
       " 5.055666666666666,\n",
       " 4.998333333333333,\n",
       " 4.975333333333333,\n",
       " 4.972,\n",
       " 5.051666666666667,\n",
       " 4.979333333333333,\n",
       " 4.993666666666667,\n",
       " 4.969333333333333,\n",
       " 5.000333333333334,\n",
       " 5.028,\n",
       " 4.993,\n",
       " 4.951,\n",
       " 5.001333333333333,\n",
       " 5.012333333333333,\n",
       " 4.992333333333334,\n",
       " 4.988333333333333,\n",
       " 4.956,\n",
       " 4.988,\n",
       " 5.039666666666666,\n",
       " 5.024333333333334,\n",
       " 5.023666666666666,\n",
       " 5.015666666666666,\n",
       " 5.03,\n",
       " 5.013333333333334,\n",
       " 4.970666666666666,\n",
       " 5.045333333333334,\n",
       " 5.032666666666667,\n",
       " 5.028333333333333,\n",
       " 5.035333333333333,\n",
       " 4.995666666666667,\n",
       " 4.973333333333334,\n",
       " 5.0296666666666665,\n",
       " 4.983,\n",
       " 5.003,\n",
       " 5.028333333333333,\n",
       " 4.975333333333333,\n",
       " 5.052333333333333,\n",
       " 5.034,\n",
       " 5.009666666666667,\n",
       " 4.992333333333334,\n",
       " 5.058,\n",
       " 5.019,\n",
       " 4.998,\n",
       " 5.050333333333334,\n",
       " 5.050666666666666,\n",
       " 4.982,\n",
       " 4.972,\n",
       " 5.012,\n",
       " 4.996666666666667,\n",
       " 5.044666666666667,\n",
       " 5.029333333333334,\n",
       " 4.993666666666667,\n",
       " 5.000666666666667,\n",
       " 5.011,\n",
       " 4.999,\n",
       " 5.042333333333334,\n",
       " 4.9816666666666665,\n",
       " 5.013333333333334,\n",
       " 4.974666666666667,\n",
       " 5.024666666666667,\n",
       " 5.013333333333334,\n",
       " 4.964666666666667,\n",
       " 5.023,\n",
       " 5.025333333333333,\n",
       " 4.998666666666667,\n",
       " 5.009,\n",
       " 5.031666666666666,\n",
       " 5.016,\n",
       " 4.995,\n",
       " 4.975333333333333,\n",
       " 5.013,\n",
       " 4.990666666666667,\n",
       " 4.955333333333333,\n",
       " 5.033333333333333,\n",
       " 4.964333333333333,\n",
       " 5.022,\n",
       " 5.042333333333334,\n",
       " 5.042666666666666,\n",
       " 5.0456666666666665,\n",
       " 4.987,\n",
       " 5.043666666666667,\n",
       " 4.999333333333333,\n",
       " 5.016666666666667,\n",
       " 4.983666666666666,\n",
       " 4.979333333333333,\n",
       " 5.014333333333333,\n",
       " 5.003666666666667,\n",
       " 4.986,\n",
       " 5.000666666666667,\n",
       " 5.030666666666667,\n",
       " 4.993333333333333,\n",
       " 4.990333333333333,\n",
       " 5.001,\n",
       " 5.024333333333334,\n",
       " 5.022,\n",
       " 5.011666666666667,\n",
       " 4.993333333333333,\n",
       " 5.019333333333333,\n",
       " 5.005,\n",
       " 4.996333333333333,\n",
       " 4.98,\n",
       " 4.996666666666667,\n",
       " 5.001666666666667,\n",
       " 4.965333333333334,\n",
       " 4.997333333333334,\n",
       " 5.024666666666667,\n",
       " 5.096,\n",
       " 4.979333333333333,\n",
       " 5.033,\n",
       " 4.964333333333333,\n",
       " 5.041,\n",
       " 5.057333333333333,\n",
       " 5.021333333333334,\n",
       " 5.033,\n",
       " 4.999666666666666,\n",
       " 5.072333333333333,\n",
       " 5.002666666666666,\n",
       " 4.987333333333333,\n",
       " 4.986,\n",
       " 5.030333333333333,\n",
       " 4.971,\n",
       " 5.0216666666666665,\n",
       " 5.045,\n",
       " 5.004,\n",
       " 5.049,\n",
       " 5.009666666666667,\n",
       " 4.962,\n",
       " 4.968,\n",
       " 5.006666666666667,\n",
       " 5.023666666666666,\n",
       " 5.011333333333333,\n",
       " 5.017,\n",
       " 5.005,\n",
       " 5.020333333333333,\n",
       " 5.008333333333334,\n",
       " 5.015666666666666,\n",
       " 5.046333333333333,\n",
       " 4.974333333333333,\n",
       " 4.9736666666666665,\n",
       " 5.052333333333333,\n",
       " 5.022333333333333,\n",
       " 5.0183333333333335,\n",
       " 5.0103333333333335,\n",
       " 4.967666666666666,\n",
       " 5.005,\n",
       " 5.061333333333334,\n",
       " 4.970666666666666,\n",
       " 4.986666666666666,\n",
       " 4.9976666666666665,\n",
       " 5.043333333333333,\n",
       " 5.003,\n",
       " 4.994,\n",
       " 5.000333333333334,\n",
       " 4.977666666666667,\n",
       " 5.036666666666667,\n",
       " 4.9656666666666665,\n",
       " 4.995,\n",
       " 5.039666666666666,\n",
       " 5.035333333333333,\n",
       " 4.969333333333333,\n",
       " 4.975,\n",
       " 5.0296666666666665,\n",
       " 5.004333333333333,\n",
       " 5.008,\n",
       " 5.0136666666666665,\n",
       " 5.0343333333333335,\n",
       " 5.067333333333333,\n",
       " 4.976333333333334,\n",
       " 4.986666666666666,\n",
       " 4.994,\n",
       " 4.973333333333334,\n",
       " 4.979333333333333,\n",
       " 5.039,\n",
       " 5.003,\n",
       " 4.981,\n",
       " 4.997333333333334,\n",
       " 5.008333333333334,\n",
       " 4.993,\n",
       " 5.041333333333333,\n",
       " 4.9623333333333335,\n",
       " 4.977666666666667,\n",
       " 4.976,\n",
       " 5.039666666666666,\n",
       " 4.968666666666667,\n",
       " 5.021,\n",
       " 5.067,\n",
       " 5.022,\n",
       " 4.96,\n",
       " 4.952,\n",
       " 4.995333333333333,\n",
       " 4.991333333333333,\n",
       " 5.024666666666667,\n",
       " 4.985,\n",
       " 5.044,\n",
       " 5.016,\n",
       " 4.964333333333333,\n",
       " 4.993,\n",
       " 5.002666666666666,\n",
       " 4.976666666666667,\n",
       " 4.991,\n",
       " 4.987666666666667,\n",
       " 5.009,\n",
       " 5.052666666666667,\n",
       " 4.9783333333333335,\n",
       " 4.984333333333334,\n",
       " 5.0456666666666665,\n",
       " 4.966333333333333,\n",
       " 4.965,\n",
       " 5.022666666666667,\n",
       " 4.980666666666667,\n",
       " 5.03,\n",
       " 5.039333333333333,\n",
       " 5.010666666666666,\n",
       " 5.061333333333334,\n",
       " 5.004,\n",
       " 5.017,\n",
       " 4.954666666666666,\n",
       " 5.023,\n",
       " 4.969666666666667,\n",
       " 5.042333333333334,\n",
       " 5.0376666666666665,\n",
       " 5.011333333333333,\n",
       " 4.983333333333333,\n",
       " 4.9896666666666665,\n",
       " 5.036333333333333,\n",
       " 5.035,\n",
       " 5.026,\n",
       " 5.0103333333333335,\n",
       " 5.023,\n",
       " 4.995333333333333,\n",
       " 5.022333333333333,\n",
       " 5.013,\n",
       " 4.999,\n",
       " 5.084666666666666,\n",
       " 5.019333333333333,\n",
       " 4.993333333333333,\n",
       " 5.005333333333334,\n",
       " 4.937333333333333,\n",
       " 4.989,\n",
       " 5.043666666666667,\n",
       " 5.018666666666666,\n",
       " 5.014333333333333,\n",
       " 5.031333333333333,\n",
       " 4.9896666666666665,\n",
       " 5.036,\n",
       " 4.966666666666667,\n",
       " 5.002666666666666,\n",
       " 5.049333333333333,\n",
       " 5.04,\n",
       " 5.005333333333334,\n",
       " 5.0136666666666665,\n",
       " 4.983,\n",
       " 4.996,\n",
       " 5.001,\n",
       " 5.037333333333334,\n",
       " 4.990666666666667,\n",
       " 5.012,\n",
       " 5.031,\n",
       " 5.024333333333334,\n",
       " 5.021,\n",
       " 4.988666666666667,\n",
       " 5.013,\n",
       " 5.0216666666666665,\n",
       " 4.992666666666667,\n",
       " 4.964,\n",
       " 4.9656666666666665,\n",
       " 5.025333333333333,\n",
       " 4.985333333333333,\n",
       " 5.084333333333333,\n",
       " 5.035666666666667,\n",
       " 4.959,\n",
       " 5.029333333333334,\n",
       " 5.009333333333333,\n",
       " 5.02,\n",
       " 4.992333333333334,\n",
       " 4.999,\n",
       " 5.023,\n",
       " 4.96,\n",
       " 5.007333333333333,\n",
       " 5.016333333333334,\n",
       " 4.995,\n",
       " 4.984,\n",
       " 4.968333333333334,\n",
       " 5.056,\n",
       " 4.991666666666666,\n",
       " 4.965333333333334,\n",
       " 4.968666666666667,\n",
       " 4.999666666666666,\n",
       " 4.962666666666666,\n",
       " 4.971666666666667,\n",
       " 5.017333333333333,\n",
       " 5.013333333333334,\n",
       " 5.015666666666666,\n",
       " 5.025333333333333,\n",
       " 5.023333333333333,\n",
       " 4.996666666666667,\n",
       " 5.039,\n",
       " 5.018666666666666,\n",
       " 5.048333333333333,\n",
       " 5.037333333333334,\n",
       " 4.993,\n",
       " 5.06,\n",
       " 5.033666666666667,\n",
       " 4.990666666666667,\n",
       " 5.011333333333333,\n",
       " 5.024333333333334,\n",
       " 4.989333333333334,\n",
       " 4.991333333333333,\n",
       " 4.937333333333333,\n",
       " 5.013,\n",
       " 5.006666666666667,\n",
       " 4.967333333333333,\n",
       " 5.065333333333333,\n",
       " 5.034666666666666,\n",
       " 5.025,\n",
       " 5.002666666666666,\n",
       " 4.959333333333333,\n",
       " 5.004666666666667,\n",
       " 4.968333333333334,\n",
       " 4.9816666666666665,\n",
       " 5.027,\n",
       " 5.009666666666667,\n",
       " 4.997,\n",
       " 5.009,\n",
       " 5.0456666666666665,\n",
       " 4.9863333333333335,\n",
       " 4.995666666666667,\n",
       " 5.024333333333334,\n",
       " 4.996,\n",
       " 5.04,\n",
       " 5.028333333333333,\n",
       " 4.956,\n",
       " 4.983333333333333,\n",
       " 4.963333333333333,\n",
       " 4.976,\n",
       " 5.051,\n",
       " 5.01,\n",
       " 4.998666666666667,\n",
       " 4.9976666666666665,\n",
       " 4.979666666666667,\n",
       " 5.014,\n",
       " 5.011,\n",
       " 5.058666666666666,\n",
       " 5.096666666666667,\n",
       " 5.045,\n",
       " 5.035666666666667,\n",
       " 5.0136666666666665,\n",
       " 5.036333333333333,\n",
       " 5.014,\n",
       " 5.030666666666667,\n",
       " 5.018666666666666,\n",
       " 5.031333333333333,\n",
       " 5.054333333333333,\n",
       " 4.961666666666667,\n",
       " 5.004333333333333,\n",
       " 5.035666666666667,\n",
       " 5.047,\n",
       " 5.008,\n",
       " 5.033666666666667,\n",
       " 5.010666666666666,\n",
       " 5.046666666666667,\n",
       " 5.002666666666666,\n",
       " 5.005333333333334,\n",
       " 5.027333333333333,\n",
       " 4.997,\n",
       " 5.0296666666666665,\n",
       " 5.013,\n",
       " 5.058,\n",
       " 4.975,\n",
       " 5.044333333333333,\n",
       " 4.994,\n",
       " 5.005,\n",
       " 4.99,\n",
       " 5.008333333333334,\n",
       " 4.968666666666667,\n",
       " 4.986666666666666,\n",
       " 5.044666666666667,\n",
       " 5.001666666666667,\n",
       " 4.994,\n",
       " 5.042,\n",
       " 5.049333333333333,\n",
       " 4.967666666666666,\n",
       " 5.012,\n",
       " 5.03,\n",
       " 5.005,\n",
       " 4.964,\n",
       " 5.035666666666667,\n",
       " 4.985666666666667,\n",
       " 5.019333333333333,\n",
       " 5.062333333333333,\n",
       " 5.063,\n",
       " 5.014333333333333,\n",
       " 5.0376666666666665,\n",
       " 5.003,\n",
       " 4.977333333333333,\n",
       " 5.050666666666666,\n",
       " 5.009333333333333,\n",
       " 4.9863333333333335,\n",
       " 5.020333333333333,\n",
       " 5.022666666666667,\n",
       " 5.0216666666666665,\n",
       " 5.049,\n",
       " 5.036333333333333,\n",
       " 4.965,\n",
       " 4.981,\n",
       " 4.993,\n",
       " 5.039333333333333,\n",
       " 4.959333333333333,\n",
       " 5.007,\n",
       " 5.02,\n",
       " 4.974333333333333,\n",
       " 4.998,\n",
       " 5.018,\n",
       " 5.022666666666667,\n",
       " 4.978,\n",
       " 5.036333333333333,\n",
       " 4.961666666666667,\n",
       " 4.970666666666666,\n",
       " 5.0136666666666665,\n",
       " 5.053333333333334,\n",
       " 4.994,\n",
       " 5.017666666666667,\n",
       " 4.987333333333333,\n",
       " 5.009666666666667,\n",
       " 5.019666666666667,\n",
       " 5.024,\n",
       " 4.989333333333334,\n",
       " 5.038333333333333,\n",
       " 5.012666666666667,\n",
       " 5.015333333333333,\n",
       " 5.010666666666666,\n",
       " 4.991,\n",
       " 5.014666666666667,\n",
       " 4.987666666666667,\n",
       " 4.998333333333333,\n",
       " 4.979,\n",
       " 5.0,\n",
       " 5.059333333333333,\n",
       " 5.072666666666667,\n",
       " 4.961,\n",
       " 5.064,\n",
       " 5.021,\n",
       " 5.062,\n",
       " 5.038,\n",
       " 4.987,\n",
       " 5.013333333333334,\n",
       " 5.021333333333334,\n",
       " 5.063666666666666,\n",
       " 4.988,\n",
       " 4.984666666666667,\n",
       " 5.035,\n",
       " 4.993666666666667,\n",
       " 4.976666666666667,\n",
       " 5.016,\n",
       " 4.982666666666667,\n",
       " 5.050333333333334,\n",
       " 4.983666666666666,\n",
       " 4.998666666666667,\n",
       " 5.014666666666667,\n",
       " 5.006666666666667,\n",
       " 5.033666666666667,\n",
       " 5.000333333333334,\n",
       " 5.042,\n",
       " 4.996333333333333,\n",
       " 4.9383333333333335,\n",
       " 5.037,\n",
       " 5.023333333333333,\n",
       " 5.047666666666666,\n",
       " 5.001666666666667,\n",
       " 5.040333333333334,\n",
       " 5.048666666666667,\n",
       " 5.009666666666667,\n",
       " 4.965333333333334,\n",
       " 5.018666666666666,\n",
       " 5.055666666666666,\n",
       " 5.002666666666666,\n",
       " 5.021,\n",
       " 4.9816666666666665,\n",
       " 5.0263333333333335,\n",
       " 4.991666666666666,\n",
       " 4.980666666666667,\n",
       " 5.015666666666666,\n",
       " 5.025333333333333,\n",
       " 5.055,\n",
       " 5.0056666666666665,\n",
       " 5.076666666666667,\n",
       " 5.001666666666667,\n",
       " 5.019,\n",
       " 5.050333333333334,\n",
       " 4.974333333333333,\n",
       " 5.024666666666667,\n",
       " 4.985666666666667,\n",
       " 5.02,\n",
       " 5.067333333333333,\n",
       " 5.0,\n",
       " 4.985333333333333,\n",
       " 5.026,\n",
       " 4.987,\n",
       " 4.975333333333333,\n",
       " 5.037,\n",
       " 4.996333333333333,\n",
       " 5.056666666666667,\n",
       " 5.005333333333334,\n",
       " 4.987333333333333,\n",
       " 4.988666666666667,\n",
       " 5.0296666666666665,\n",
       " 5.027333333333333,\n",
       " 4.988666666666667,\n",
       " 5.0343333333333335,\n",
       " 5.021333333333334,\n",
       " 4.988666666666667,\n",
       " 4.9736666666666665,\n",
       " 5.038,\n",
       " 5.017,\n",
       " 5.023333333333333,\n",
       " 5.06,\n",
       " 5.027333333333333,\n",
       " 5.013,\n",
       " 5.049,\n",
       " 5.050333333333334,\n",
       " 5.015333333333333,\n",
       " 5.027333333333333,\n",
       " 5.073,\n",
       " 4.990333333333333,\n",
       " 5.046666666666667,\n",
       " 4.988,\n",
       " 5.048,\n",
       " 5.041666666666667,\n",
       " 4.971,\n",
       " 5.012666666666667,\n",
       " 5.0,\n",
       " 4.989333333333334,\n",
       " 5.041333333333333,\n",
       " 4.998333333333333,\n",
       " 4.937333333333333,\n",
       " 5.011666666666667,\n",
       " 4.929,\n",
       " 5.009,\n",
       " 5.020666666666667,\n",
       " 4.990333333333333,\n",
       " 5.039,\n",
       " 5.001,\n",
       " 4.963666666666667,\n",
       " 4.989333333333334,\n",
       " 5.025333333333333,\n",
       " 5.0343333333333335,\n",
       " 5.029333333333334,\n",
       " 5.026,\n",
       " 4.975666666666666,\n",
       " 5.053,\n",
       " 4.979333333333333,\n",
       " 5.019,\n",
       " 5.016666666666667,\n",
       " 5.048333333333333,\n",
       " 5.048,\n",
       " 4.956,\n",
       " 4.975666666666666,\n",
       " 4.998333333333333,\n",
       " 4.994666666666666,\n",
       " 4.981,\n",
       " 5.025333333333333,\n",
       " 4.992666666666667,\n",
       " 4.974,\n",
       " 4.980666666666667,\n",
       " 5.023,\n",
       " 5.009666666666667,\n",
       " 5.066666666666666,\n",
       " 5.004333333333333,\n",
       " 5.015333333333333,\n",
       " 5.023666666666666,\n",
       " 5.004666666666667,\n",
       " 5.006333333333333,\n",
       " 4.966,\n",
       " 4.982333333333333,\n",
       " 4.9896666666666665,\n",
       " 5.058333333333334,\n",
       " 4.993333333333333,\n",
       " 5.066333333333334,\n",
       " 5.064,\n",
       " 5.023666666666666,\n",
       " 4.984,\n",
       " 4.985333333333333,\n",
       " 5.015,\n",
       " 5.045333333333334,\n",
       " 4.992666666666667,\n",
       " 5.047666666666666,\n",
       " 5.064,\n",
       " 5.005,\n",
       " 5.002666666666666,\n",
       " 4.982,\n",
       " 5.003666666666667,\n",
       " 4.982,\n",
       " 5.013,\n",
       " 4.958333333333333,\n",
       " 5.012,\n",
       " 5.017333333333333,\n",
       " 4.978,\n",
       " 4.971,\n",
       " 4.987333333333333,\n",
       " 5.009666666666667,\n",
       " 5.008333333333334,\n",
       " 5.042333333333334,\n",
       " 5.0103333333333335,\n",
       " 4.966666666666667,\n",
       " 4.951333333333333,\n",
       " 5.009333333333333,\n",
       " 5.039,\n",
       " 4.9863333333333335,\n",
       " 5.040666666666667,\n",
       " 5.022333333333333,\n",
       " 5.007,\n",
       " 4.9703333333333335,\n",
       " 4.991666666666666,\n",
       " 4.989,\n",
       " 5.004,\n",
       " 5.040333333333334,\n",
       " 4.948666666666667,\n",
       " 5.002666666666666,\n",
       " 4.981,\n",
       " 4.97,\n",
       " 5.059333333333333,\n",
       " 5.032,\n",
       " 5.05,\n",
       " 5.026666666666666,\n",
       " 4.955666666666667,\n",
       " 5.000333333333334,\n",
       " 5.030666666666667,\n",
       " 5.041666666666667,\n",
       " 5.042333333333334,\n",
       " 5.042,\n",
       " 5.017666666666667,\n",
       " 5.012333333333333,\n",
       " 5.023666666666666,\n",
       " 4.991666666666666,\n",
       " 4.999,\n",
       " 4.993333333333333,\n",
       " 5.051333333333333,\n",
       " 4.998,\n",
       " 5.038666666666667,\n",
       " 5.006,\n",
       " 5.036,\n",
       " 4.998333333333333,\n",
       " 4.999666666666666,\n",
       " 5.046666666666667,\n",
       " 5.088666666666667,\n",
       " 4.962666666666666,\n",
       " 5.009333333333333,\n",
       " 5.032,\n",
       " 5.003333333333333,\n",
       " 4.988666666666667,\n",
       " 4.970666666666666,\n",
       " 4.975333333333333,\n",
       " 4.964666666666667,\n",
       " 5.046333333333333,\n",
       " 5.040333333333334,\n",
       " 4.979666666666667,\n",
       " 5.017333333333333,\n",
       " 5.003333333333333,\n",
       " 5.001,\n",
       " 5.012666666666667,\n",
       " 4.982666666666667,\n",
       " 5.040666666666667,\n",
       " 5.057333333333333,\n",
       " 5.008666666666667,\n",
       " 4.991333333333333,\n",
       " 5.028,\n",
       " 5.001333333333333,\n",
       " 5.016666666666667,\n",
       " 5.003,\n",
       " 4.967,\n",
       " 5.036,\n",
       " 5.012666666666667,\n",
       " 5.043333333333333,\n",
       " 5.033666666666667,\n",
       " 5.0183333333333335,\n",
       " 4.9703333333333335,\n",
       " 4.971333333333333,\n",
       " 4.999666666666666,\n",
       " 4.993333333333333,\n",
       " 5.076333333333333,\n",
       " 5.011333333333333,\n",
       " 5.015333333333333,\n",
       " 5.0183333333333335,\n",
       " 5.038666666666667,\n",
       " 5.031666666666666,\n",
       " 5.015,\n",
       " 5.0056666666666665,\n",
       " 5.005333333333334,\n",
       " 4.992333333333334,\n",
       " 5.035333333333333,\n",
       " 4.989333333333334,\n",
       " 4.955666666666667,\n",
       " 5.008666666666667,\n",
       " 4.995666666666667,\n",
       " 5.008,\n",
       " 4.953666666666667,\n",
       " 4.984,\n",
       " 4.979333333333333,\n",
       " 5.003,\n",
       " 4.950666666666667,\n",
       " 5.056,\n",
       " 5.023333333333333,\n",
       " 4.979333333333333,\n",
       " 5.012,\n",
       " 4.98,\n",
       " 4.986,\n",
       " 5.009666666666667,\n",
       " 4.9783333333333335,\n",
       " 5.015,\n",
       " 5.027333333333333,\n",
       " 5.003333333333333,\n",
       " 5.019666666666667,\n",
       " 5.025666666666667,\n",
       " 4.948333333333333,\n",
       " 5.061,\n",
       " 4.990333333333333,\n",
       " 5.009333333333333,\n",
       " 4.986666666666666,\n",
       " 5.026666666666666,\n",
       " 5.019333333333333,\n",
       " 4.96,\n",
       " 5.032333333333334,\n",
       " 5.048666666666667,\n",
       " 5.023333333333333,\n",
       " 5.002666666666666,\n",
       " 4.999333333333333,\n",
       " 5.005333333333334,\n",
       " 5.007,\n",
       " 5.07,\n",
       " 5.0056666666666665,\n",
       " 4.999666666666666,\n",
       " 5.000666666666667,\n",
       " 4.996333333333333,\n",
       " 4.991333333333333,\n",
       " 5.0296666666666665,\n",
       " 5.000333333333334,\n",
       " 4.991333333333333,\n",
       " 5.013333333333334,\n",
       " 4.995333333333333,\n",
       " 5.008333333333334,\n",
       " 5.046333333333333,\n",
       " 5.032,\n",
       " 5.034666666666666,\n",
       " 4.967666666666666,\n",
       " 4.998666666666667,\n",
       " 4.995,\n",
       " 5.056,\n",
       " 4.954,\n",
       " 5.0136666666666665,\n",
       " 5.029,\n",
       " 5.023666666666666,\n",
       " 5.006,\n",
       " 5.002,\n",
       " 4.957333333333334,\n",
       " 4.976666666666667,\n",
       " 5.039666666666666,\n",
       " 5.011666666666667,\n",
       " 5.052333333333333,\n",
       " 5.010666666666666,\n",
       " 4.989,\n",
       " 5.043666666666667,\n",
       " 5.062666666666667,\n",
       " 5.051666666666667,\n",
       " 5.030666666666667,\n",
       " 4.998666666666667,\n",
       " 4.993333333333333,\n",
       " 4.995,\n",
       " 5.024,\n",
       " 5.037333333333334,\n",
       " 4.978666666666666,\n",
       " 4.952333333333334,\n",
       " 5.029333333333334,\n",
       " 5.008333333333334,\n",
       " 5.001666666666667,\n",
       " 4.999,\n",
       " 5.026666666666666,\n",
       " 5.008666666666667,\n",
       " 4.99,\n",
       " 4.9366666666666665,\n",
       " 5.0263333333333335,\n",
       " 5.002,\n",
       " 5.016,\n",
       " 5.033,\n",
       " 5.042,\n",
       " 5.0023333333333335,\n",
       " 5.006666666666667,\n",
       " 5.0343333333333335,\n",
       " 5.047666666666666,\n",
       " 5.002,\n",
       " 5.003666666666667,\n",
       " 5.019333333333333,\n",
       " 5.015333333333333,\n",
       " 4.994,\n",
       " 5.028333333333333,\n",
       " 5.034,\n",
       " 5.019666666666667,\n",
       " 4.993,\n",
       " 5.019666666666667,\n",
       " 4.990333333333333,\n",
       " 5.024,\n",
       " 5.007333333333333,\n",
       " 5.022333333333333,\n",
       " 5.025333333333333,\n",
       " 4.935666666666667,\n",
       " 5.001666666666667,\n",
       " 4.982,\n",
       " 4.983666666666666,\n",
       " 5.047666666666666,\n",
       " 4.99,\n",
       " 4.985,\n",
       " 5.054333333333333,\n",
       " 5.007666666666666,\n",
       " 5.009333333333333,\n",
       " 4.997,\n",
       " 5.089333333333333,\n",
       " 4.955333333333333,\n",
       " 4.973333333333334,\n",
       " 4.976666666666667,\n",
       " 5.022,\n",
       " 4.998666666666667,\n",
       " 5.008666666666667,\n",
       " 5.028333333333333,\n",
       " 5.024333333333334,\n",
       " 4.990666666666667,\n",
       " 4.963666666666667,\n",
       " 4.965,\n",
       " 5.034666666666666,\n",
       " 5.01,\n",
       " 4.987,\n",
       " 5.023666666666666,\n",
       " 5.018666666666666,\n",
       " 4.956333333333333,\n",
       " 5.031333333333333,\n",
       " 5.048,\n",
       " 4.9863333333333335,\n",
       " 4.983,\n",
       " 5.017666666666667,\n",
       " 5.047,\n",
       " 5.000333333333334,\n",
       " 5.004666666666667,\n",
       " 5.0263333333333335,\n",
       " 5.010666666666666,\n",
       " 5.018,\n",
       " 4.984333333333334,\n",
       " 5.016666666666667,\n",
       " 5.012,\n",
       " 5.043666666666667,\n",
       " 5.005333333333334,\n",
       " 4.990333333333333,\n",
       " 5.048,\n",
       " 5.041666666666667,\n",
       " 5.005333333333334,\n",
       " 5.021333333333334,\n",
       " 5.033333333333333,\n",
       " 4.995,\n",
       " 5.0616666666666665,\n",
       " 5.000333333333334,\n",
       " 5.0553333333333335,\n",
       " 4.960666666666667,\n",
       " 4.961333333333333,\n",
       " 4.995666666666667,\n",
       " 5.014333333333333,\n",
       " 5.019333333333333,\n",
       " 4.979,\n",
       " 5.018,\n",
       " 5.007,\n",
       " 5.0456666666666665,\n",
       " 5.055666666666666,\n",
       " 5.019,\n",
       " 5.03,\n",
       " 5.008333333333334,\n",
       " 4.984666666666667,\n",
       " 5.04,\n",
       " 5.01,\n",
       " 5.0216666666666665,\n",
       " 5.031666666666666,\n",
       " 5.008666666666667,\n",
       " 4.947666666666667,\n",
       " 4.984666666666667,\n",
       " 5.060333333333333,\n",
       " 4.972,\n",
       " 4.9783333333333335,\n",
       " 4.979333333333333,\n",
       " 4.9736666666666665,\n",
       " 5.057333333333333,\n",
       " 5.05,\n",
       " 5.030333333333333,\n",
       " 5.046333333333333,\n",
       " 5.006333333333333,\n",
       " 5.001333333333333,\n",
       " 4.995666666666667,\n",
       " 5.036333333333333,\n",
       " 5.001333333333333,\n",
       " 5.0,\n",
       " 5.025333333333333,\n",
       " 4.992666666666667,\n",
       " 5.009,\n",
       " 5.015333333333333,\n",
       " 5.014333333333333,\n",
       " 5.002,\n",
       " 5.041333333333333,\n",
       " 4.995666666666667,\n",
       " 4.985,\n",
       " 4.999666666666666,\n",
       " 4.98,\n",
       " 5.003666666666667,\n",
       " 5.029333333333334,\n",
       " 4.967333333333333,\n",
       " 5.025333333333333,\n",
       " 5.019333333333333,\n",
       " 5.017333333333333,\n",
       " 5.0136666666666665,\n",
       " 5.023333333333333,\n",
       " 5.028333333333333,\n",
       " 5.048666666666667,\n",
       " ...]"
      ]
     },
     "execution_count": 59,
     "metadata": {},
     "output_type": "execute_result"
    }
   ],
   "source": [
    "mean_of_samples\n"
   ]
  },
  {
   "cell_type": "code",
   "execution_count": 60,
   "metadata": {},
   "outputs": [
    {
     "name": "stderr",
     "output_type": "stream",
     "text": [
      "C:\\Users\\avina\\AppData\\Local\\Temp\\ipykernel_18512\\1480320140.py:1: UserWarning: \n",
      "\n",
      "`distplot` is a deprecated function and will be removed in seaborn v0.14.0.\n",
      "\n",
      "Please adapt your code to use either `displot` (a figure-level function with\n",
      "similar flexibility) or `histplot` (an axes-level function for histograms).\n",
      "\n",
      "For a guide to updating your code to use the new functions, please see\n",
      "https://gist.github.com/mwaskom/de44147ed2974457ad6372750bbe5751\n",
      "\n",
      "  sns.distplot(mean_of_samples, kde=True, color='Red')\n"
     ]
    },
    {
     "data": {
      "text/plain": [
       "<Axes: ylabel='Density'>"
      ]
     },
     "execution_count": 60,
     "metadata": {},
     "output_type": "execute_result"
    },
    {
     "data": {
      "image/png": "[encoded data removed]",
      "text/plain": [
       "<Figure size 640x480 with 1 Axes>"
      ]
     },
     "metadata": {},
     "output_type": "display_data"
    }
   ],
   "source": [
    "sns.distplot(mean_of_samples, kde=True, color='Red')"
   ]
  },
  {
   "cell_type": "code",
   "execution_count": 61,
   "metadata": {},
   "outputs": [
    {
     "data": {
      "text/plain": [
       "5.009603427009368"
      ]
     },
     "execution_count": 61,
     "metadata": {},
     "output_type": "execute_result"
    }
   ],
   "source": [
    "np.mean(mean_of_samples)"
   ]
  },
  {
   "cell_type": "code",
   "execution_count": 62,
   "metadata": {},
   "outputs": [
    {
     "data": {
      "text/plain": [
       "5.009666666666667"
      ]
     },
     "execution_count": 62,
     "metadata": {},
     "output_type": "execute_result"
    }
   ],
   "source": [
    "np.median(mean_of_samples)"
   ]
  },
  {
   "cell_type": "code",
   "execution_count": 63,
   "metadata": {},
   "outputs": [
    {
     "data": {
      "text/plain": [
       "5.021333333333334"
      ]
     },
     "execution_count": 63,
     "metadata": {},
     "output_type": "execute_result"
    }
   ],
   "source": [
    "statistics.mode(mean_of_samples)"
   ]
  },
  {
   "cell_type": "code",
   "execution_count": 64,
   "metadata": {},
   "outputs": [],
   "source": [
    "# mean = median = mode as above value for normal distribution"
   ]
  },
  {
   "cell_type": "code",
   "execution_count": 65,
   "metadata": {},
   "outputs": [],
   "source": [
    "stats.norm.ppf(q=0.95) # z critical with alpha as 1 -0.95 = 0.05 # 1-q\n",
    "# zcritical for give alpha, ztable\n",
    "z_critical = stats.norm.ppf(q=0.975)"
   ]
  },
  {
   "cell_type": "code",
   "execution_count": 66,
   "metadata": {},
   "outputs": [
    {
     "data": {
      "text/plain": [
       "-1.973994288847133"
      ]
     },
     "execution_count": 66,
     "metadata": {},
     "output_type": "execute_result"
    }
   ],
   "source": [
    "# t distribution\n",
    "# degree of freedom and confidence interval , t table\n",
    "stats.t.ppf(df=24, q=1-0.97)\n",
    "\n"
   ]
  },
  {
   "cell_type": "code",
   "execution_count": 67,
   "metadata": {},
   "outputs": [],
   "source": [
    "margin_of_error = z_critical*np.std(mean_of_samples)/np.sqrt(20)"
   ]
  },
  {
   "cell_type": "code",
   "execution_count": 68,
   "metadata": {},
   "outputs": [
    {
     "data": {
      "text/plain": [
       "0.012619851263282376"
      ]
     },
     "execution_count": 68,
     "metadata": {},
     "output_type": "execute_result"
    }
   ],
   "source": [
    "margin_of_error"
   ]
  },
  {
   "cell_type": "code",
   "execution_count": 69,
   "metadata": {},
   "outputs": [
    {
     "data": {
      "text/plain": [
       "(4.996983575746086, 5.02222327827265)"
      ]
     },
     "execution_count": 69,
     "metadata": {},
     "output_type": "execute_result"
    }
   ],
   "source": [
    "# confidence interval\n",
    "np.mean(mean_of_samples)-margin_of_error, np.mean(mean_of_samples)+margin_of_error"
   ]
  },
  {
   "cell_type": "code",
   "execution_count": 70,
   "metadata": {},
   "outputs": [
    {
     "data": {
      "text/plain": [
       "array([ 0.67339589,  0.72854948,  0.01872615, ...,  1.53066199,\n",
       "       -1.45599698,  0.87581165])"
      ]
     },
     "execution_count": 70,
     "metadata": {},
     "output_type": "execute_result"
    }
   ],
   "source": [
    "# Ztest\n",
    "\n",
    "from numpy.random import randn\n",
    "population = randn(3000)\n",
    "population"
   ]
  },
  {
   "cell_type": "code",
   "execution_count": 71,
   "metadata": {},
   "outputs": [
    {
     "data": {
      "text/plain": [
       "(-0.001307902691853904, 1.0197226572934655)"
      ]
     },
     "execution_count": 71,
     "metadata": {},
     "output_type": "execute_result"
    }
   ],
   "source": [
    "np.mean(population),np.std(population)"
   ]
  },
  {
   "cell_type": "code",
   "execution_count": 72,
   "metadata": {},
   "outputs": [],
   "source": [
    "null_mean = 0.05 # claim\n",
    "\n",
    "# if pvalue <=0.05 -- reject null hypothesis\n",
    "# if pvalue >0.05 -- fail to reject null hypothesis\n",
    "\n",
    "from statsmodels.stats.weightstats import  ztest\n"
   ]
  },
  {
   "cell_type": "code",
   "execution_count": 73,
   "metadata": {},
   "outputs": [
    {
     "name": "stdout",
     "output_type": "stream",
     "text": [
      "fail to reject the H0\n"
     ]
    }
   ],
   "source": [
    "# alternative=\"larger\" means the mean value is larger than null meam\n",
    "zsore , pvalue = ztest(population, value=null_mean, alternative=\"larger\")\n",
    "if pvalue <= 0.05:\n",
    "    print(\"Reject the H0\")\n",
    "else:\n",
    "    print(\"fail to reject the H0\")"
   ]
  },
  {
   "cell_type": "code",
   "execution_count": 74,
   "metadata": {},
   "outputs": [],
   "source": [
    "#A school calculated iq scores of 50 students, the average iq  turned out to be 100. the mean of population iq is 90 \n",
    "#and the std deviation 16. \\\n",
    "#state whether the claim by school \n",
    "#that IQ increases if student study more than avg of school with 5% of significance level\n",
    "\n",
    "#null hypothesis : mean_iq = 90\n",
    "#Alternate: mean_iq > 90"
   ]
  },
  {
   "cell_type": "code",
   "execution_count": 75,
   "metadata": {},
   "outputs": [],
   "source": [
    "#zcritical approach\n",
    "import scipy.stats as stats\n",
    "\n",
    "sample_mean = 100\n",
    "population_mean = 90\n",
    "population_std = 16\n",
    "sample_size = 50\n",
    "alpha = 0.05"
   ]
  },
  {
   "cell_type": "code",
   "execution_count": 76,
   "metadata": {},
   "outputs": [],
   "source": [
    "zscore = (sample_mean - population_mean)/(population_std/np.sqrt(sample_size))"
   ]
  },
  {
   "cell_type": "code",
   "execution_count": 77,
   "metadata": {},
   "outputs": [
    {
     "data": {
      "text/plain": [
       "4.419417382415922"
      ]
     },
     "execution_count": 77,
     "metadata": {},
     "output_type": "execute_result"
    }
   ],
   "source": [
    "zscore"
   ]
  },
  {
   "cell_type": "code",
   "execution_count": 78,
   "metadata": {},
   "outputs": [],
   "source": [
    "#stats module in scipy>>zcritical\n",
    "#percent point function>>inverse of cdf\n",
    "zcritical = stats.norm.ppf(1-alpha)"
   ]
  },
  {
   "cell_type": "code",
   "execution_count": 79,
   "metadata": {},
   "outputs": [
    {
     "data": {
      "text/plain": [
       "1.6448536269514722"
      ]
     },
     "execution_count": 79,
     "metadata": {},
     "output_type": "execute_result"
    }
   ],
   "source": [
    "zcritical"
   ]
  },
  {
   "cell_type": "code",
   "execution_count": 80,
   "metadata": {},
   "outputs": [
    {
     "name": "stdout",
     "output_type": "stream",
     "text": [
      "Reject the h0\n"
     ]
    }
   ],
   "source": [
    "if zscore >= zcritical:\n",
    "    print(\"Reject the h0\")\n",
    "else:\n",
    "    print(\"fail to reject the h0\")"
   ]
  },
  {
   "cell_type": "code",
   "execution_count": 81,
   "metadata": {},
   "outputs": [
    {
     "data": {
      "text/plain": [
       "4.948367312573865e-06"
      ]
     },
     "execution_count": 81,
     "metadata": {},
     "output_type": "execute_result"
    }
   ],
   "source": [
    "#pvalue approach using scipy\n",
    "\n",
    "pvalue = 1-stats.norm.cdf(zscore)\n",
    "pvalue"
   ]
  },
  {
   "cell_type": "code",
   "execution_count": 82,
   "metadata": {},
   "outputs": [
    {
     "name": "stdout",
     "output_type": "stream",
     "text": [
      "Reject the H0\n"
     ]
    }
   ],
   "source": [
    "if pvalue <= alpha:\n",
    "    print(\"Reject the H0\")\n",
    "else:\n",
    "    print(\"Fail to reject H0\")"
   ]
  },
  {
   "cell_type": "code",
   "execution_count": 83,
   "metadata": {},
   "outputs": [],
   "source": [
    "# One sample t test"
   ]
  },
  {
   "cell_type": "code",
   "execution_count": 84,
   "metadata": {},
   "outputs": [],
   "source": [
    "population = np.random.randint(10,50,50)"
   ]
  },
  {
   "cell_type": "code",
   "execution_count": 85,
   "metadata": {},
   "outputs": [
    {
     "data": {
      "text/plain": [
       "array([37, 16, 42, 45, 40, 14, 45, 47, 48, 29, 22, 44, 15, 36, 36, 39, 35,\n",
       "       20, 16, 29, 23, 38, 27, 48, 17, 14, 11, 32, 16, 12, 15, 38, 30, 36,\n",
       "       26, 31, 34, 37, 41, 42, 36, 31, 31, 24, 26, 43, 23, 49, 29, 15])"
      ]
     },
     "execution_count": 85,
     "metadata": {},
     "output_type": "execute_result"
    }
   ],
   "source": [
    "population"
   ]
  },
  {
   "cell_type": "code",
   "execution_count": 86,
   "metadata": {},
   "outputs": [],
   "source": [
    "sample = np.random.choice(population,20)"
   ]
  },
  {
   "cell_type": "code",
   "execution_count": 87,
   "metadata": {},
   "outputs": [
    {
     "data": {
      "text/plain": [
       "30.65"
      ]
     },
     "execution_count": 87,
     "metadata": {},
     "output_type": "execute_result"
    }
   ],
   "source": [
    "np.mean(sample)"
   ]
  },
  {
   "cell_type": "code",
   "execution_count": 88,
   "metadata": {},
   "outputs": [
    {
     "data": {
      "text/plain": [
       "TtestResult(statistic=10.443225041024569, pvalue=2.6054785495813642e-09, df=19)"
      ]
     },
     "execution_count": 88,
     "metadata": {},
     "output_type": "execute_result"
    }
   ],
   "source": [
    "null_value = 25 # the mean population is 25\n",
    "import scipy\n",
    "scipy.stats.ttest_1samp(sample, null_mean)"
   ]
  },
  {
   "cell_type": "code",
   "execution_count": 89,
   "metadata": {},
   "outputs": [],
   "source": [
    "# 2 sample t test"
   ]
  },
  {
   "cell_type": "code",
   "execution_count": 90,
   "metadata": {},
   "outputs": [],
   "source": [
    "sample1 = np.random.choice(population,20)\n",
    "sample2 = np.random.choice(population,20)"
   ]
  },
  {
   "cell_type": "code",
   "execution_count": 91,
   "metadata": {},
   "outputs": [
    {
     "data": {
      "text/plain": [
       "(29.05, 28.1)"
      ]
     },
     "execution_count": 91,
     "metadata": {},
     "output_type": "execute_result"
    }
   ],
   "source": [
    "np.mean(sample1),np.mean(sample2)"
   ]
  },
  {
   "cell_type": "code",
   "execution_count": 92,
   "metadata": {},
   "outputs": [
    {
     "data": {
      "text/plain": [
       "TtestResult(statistic=0.2561530548826404, pvalue=0.7992143150288197, df=38.0)"
      ]
     },
     "execution_count": 92,
     "metadata": {},
     "output_type": "execute_result"
    }
   ],
   "source": [
    "scipy.stats.ttest_ind(sample1,sample2)"
   ]
  },
  {
   "cell_type": "code",
   "execution_count": 93,
   "metadata": {},
   "outputs": [
    {
     "data": {
      "text/plain": [
       "(491.5, 482.75)"
      ]
     },
     "execution_count": 93,
     "metadata": {},
     "output_type": "execute_result"
    }
   ],
   "source": [
    "# paired t test >> two sample from same population at different time interval\n",
    "team_india_first_inning = [350, 375, 400, 425, 450, 475, 500, 525, 550, 575, 600, 625, 650, 675, 380, 405, 430, 455, 480, 505]\n",
    "team_india_second_inning = [310, 330, 360, 390, 420, 440, 470, 510, 540, 570, 610, 640, 670, 395, 425, 455, 485, 515, 545, 575]\n",
    "\n",
    "np.mean(team_india_first_inning),np.mean(team_india_second_inning)"
   ]
  },
  {
   "cell_type": "code",
   "execution_count": 94,
   "metadata": {},
   "outputs": [
    {
     "data": {
      "text/plain": [
       "TtestResult(statistic=0.5197620916192276, pvalue=0.6092322925092784, df=19)"
      ]
     },
     "execution_count": 94,
     "metadata": {},
     "output_type": "execute_result"
    }
   ],
   "source": [
    "import scipy.stats\n",
    "\n",
    "\n",
    "scipy.stats.ttest_rel(team_india_first_inning,team_india_second_inning)"
   ]
  },
  {
   "cell_type": "code",
   "execution_count": 95,
   "metadata": {},
   "outputs": [],
   "source": [
    "# how to know if the data is normally distributed or not ?\n",
    "# make a distribution plot or q-q plot \n",
    "# chk for mean = median = mode\n",
    "# statistical test for chking on data distribution"
   ]
  },
  {
   "cell_type": "code",
   "execution_count": 96,
   "metadata": {},
   "outputs": [],
   "source": [
    "data  =  pd.read_csv(\"https://raw.githubusercontent.com/shrikant-temburwar/Wine-Quality-Dataset/master/winequality-red.csv\",sep=\";\")"
   ]
  },
  {
   "cell_type": "code",
   "execution_count": 97,
   "metadata": {},
   "outputs": [
    {
     "data": {
      "text/html": [
       "<div>\n",
       "<style scoped>\n",
       "    .dataframe tbody tr th:only-of-type {\n",
       "        vertical-align: middle;\n",
       "    }\n",
       "\n",
       "    .dataframe tbody tr th {\n",
       "        vertical-align: top;\n",
       "    }\n",
       "\n",
       "    .dataframe thead th {\n",
       "        text-align: right;\n",
       "    }\n",
       "</style>\n",
       "<table border=\"1\" class=\"dataframe\">\n",
       "  <thead>\n",
       "    <tr style=\"text-align: right;\">\n",
       "      <th></th>\n",
       "      <th>fixed acidity</th>\n",
       "      <th>volatile acidity</th>\n",
       "      <th>citric acid</th>\n",
       "      <th>residual sugar</th>\n",
       "      <th>chlorides</th>\n",
       "      <th>free sulfur dioxide</th>\n",
       "      <th>total sulfur dioxide</th>\n",
       "      <th>density</th>\n",
       "      <th>pH</th>\n",
       "      <th>sulphates</th>\n",
       "      <th>alcohol</th>\n",
       "      <th>quality</th>\n",
       "    </tr>\n",
       "  </thead>\n",
       "  <tbody>\n",
       "    <tr>\n",
       "      <th>0</th>\n",
       "      <td>7.4</td>\n",
       "      <td>0.700</td>\n",
       "      <td>0.00</td>\n",
       "      <td>1.9</td>\n",
       "      <td>0.076</td>\n",
       "      <td>11.0</td>\n",
       "      <td>34.0</td>\n",
       "      <td>0.99780</td>\n",
       "      <td>3.51</td>\n",
       "      <td>0.56</td>\n",
       "      <td>9.4</td>\n",
       "      <td>5</td>\n",
       "    </tr>\n",
       "    <tr>\n",
       "      <th>1</th>\n",
       "      <td>7.8</td>\n",
       "      <td>0.880</td>\n",
       "      <td>0.00</td>\n",
       "      <td>2.6</td>\n",
       "      <td>0.098</td>\n",
       "      <td>25.0</td>\n",
       "      <td>67.0</td>\n",
       "      <td>0.99680</td>\n",
       "      <td>3.20</td>\n",
       "      <td>0.68</td>\n",
       "      <td>9.8</td>\n",
       "      <td>5</td>\n",
       "    </tr>\n",
       "    <tr>\n",
       "      <th>2</th>\n",
       "      <td>7.8</td>\n",
       "      <td>0.760</td>\n",
       "      <td>0.04</td>\n",
       "      <td>2.3</td>\n",
       "      <td>0.092</td>\n",
       "      <td>15.0</td>\n",
       "      <td>54.0</td>\n",
       "      <td>0.99700</td>\n",
       "      <td>3.26</td>\n",
       "      <td>0.65</td>\n",
       "      <td>9.8</td>\n",
       "      <td>5</td>\n",
       "    </tr>\n",
       "    <tr>\n",
       "      <th>3</th>\n",
       "      <td>11.2</td>\n",
       "      <td>0.280</td>\n",
       "      <td>0.56</td>\n",
       "      <td>1.9</td>\n",
       "      <td>0.075</td>\n",
       "      <td>17.0</td>\n",
       "      <td>60.0</td>\n",
       "      <td>0.99800</td>\n",
       "      <td>3.16</td>\n",
       "      <td>0.58</td>\n",
       "      <td>9.8</td>\n",
       "      <td>6</td>\n",
       "    </tr>\n",
       "    <tr>\n",
       "      <th>4</th>\n",
       "      <td>7.4</td>\n",
       "      <td>0.700</td>\n",
       "      <td>0.00</td>\n",
       "      <td>1.9</td>\n",
       "      <td>0.076</td>\n",
       "      <td>11.0</td>\n",
       "      <td>34.0</td>\n",
       "      <td>0.99780</td>\n",
       "      <td>3.51</td>\n",
       "      <td>0.56</td>\n",
       "      <td>9.4</td>\n",
       "      <td>5</td>\n",
       "    </tr>\n",
       "    <tr>\n",
       "      <th>...</th>\n",
       "      <td>...</td>\n",
       "      <td>...</td>\n",
       "      <td>...</td>\n",
       "      <td>...</td>\n",
       "      <td>...</td>\n",
       "      <td>...</td>\n",
       "      <td>...</td>\n",
       "      <td>...</td>\n",
       "      <td>...</td>\n",
       "      <td>...</td>\n",
       "      <td>...</td>\n",
       "      <td>...</td>\n",
       "    </tr>\n",
       "    <tr>\n",
       "      <th>1594</th>\n",
       "      <td>6.2</td>\n",
       "      <td>0.600</td>\n",
       "      <td>0.08</td>\n",
       "      <td>2.0</td>\n",
       "      <td>0.090</td>\n",
       "      <td>32.0</td>\n",
       "      <td>44.0</td>\n",
       "      <td>0.99490</td>\n",
       "      <td>3.45</td>\n",
       "      <td>0.58</td>\n",
       "      <td>10.5</td>\n",
       "      <td>5</td>\n",
       "    </tr>\n",
       "    <tr>\n",
       "      <th>1595</th>\n",
       "      <td>5.9</td>\n",
       "      <td>0.550</td>\n",
       "      <td>0.10</td>\n",
       "      <td>2.2</td>\n",
       "      <td>0.062</td>\n",
       "      <td>39.0</td>\n",
       "      <td>51.0</td>\n",
       "      <td>0.99512</td>\n",
       "      <td>3.52</td>\n",
       "      <td>0.76</td>\n",
       "      <td>11.2</td>\n",
       "      <td>6</td>\n",
       "    </tr>\n",
       "    <tr>\n",
       "      <th>1596</th>\n",
       "      <td>6.3</td>\n",
       "      <td>0.510</td>\n",
       "      <td>0.13</td>\n",
       "      <td>2.3</td>\n",
       "      <td>0.076</td>\n",
       "      <td>29.0</td>\n",
       "      <td>40.0</td>\n",
       "      <td>0.99574</td>\n",
       "      <td>3.42</td>\n",
       "      <td>0.75</td>\n",
       "      <td>11.0</td>\n",
       "      <td>6</td>\n",
       "    </tr>\n",
       "    <tr>\n",
       "      <th>1597</th>\n",
       "      <td>5.9</td>\n",
       "      <td>0.645</td>\n",
       "      <td>0.12</td>\n",
       "      <td>2.0</td>\n",
       "      <td>0.075</td>\n",
       "      <td>32.0</td>\n",
       "      <td>44.0</td>\n",
       "      <td>0.99547</td>\n",
       "      <td>3.57</td>\n",
       "      <td>0.71</td>\n",
       "      <td>10.2</td>\n",
       "      <td>5</td>\n",
       "    </tr>\n",
       "    <tr>\n",
       "      <th>1598</th>\n",
       "      <td>6.0</td>\n",
       "      <td>0.310</td>\n",
       "      <td>0.47</td>\n",
       "      <td>3.6</td>\n",
       "      <td>0.067</td>\n",
       "      <td>18.0</td>\n",
       "      <td>42.0</td>\n",
       "      <td>0.99549</td>\n",
       "      <td>3.39</td>\n",
       "      <td>0.66</td>\n",
       "      <td>11.0</td>\n",
       "      <td>6</td>\n",
       "    </tr>\n",
       "  </tbody>\n",
       "</table>\n",
       "<p>1599 rows × 12 columns</p>\n",
       "</div>"
      ],
      "text/plain": [
       "      fixed acidity  volatile acidity  citric acid  residual sugar  chlorides  \\\n",
       "0               7.4             0.700         0.00             1.9      0.076   \n",
       "1               7.8             0.880         0.00             2.6      0.098   \n",
       "2               7.8             0.760         0.04             2.3      0.092   \n",
       "3              11.2             0.280         0.56             1.9      0.075   \n",
       "4               7.4             0.700         0.00             1.9      0.076   \n",
       "...             ...               ...          ...             ...        ...   \n",
       "1594            6.2             0.600         0.08             2.0      0.090   \n",
       "1595            5.9             0.550         0.10             2.2      0.062   \n",
       "1596            6.3             0.510         0.13             2.3      0.076   \n",
       "1597            5.9             0.645         0.12             2.0      0.075   \n",
       "1598            6.0             0.310         0.47             3.6      0.067   \n",
       "\n",
       "      free sulfur dioxide  total sulfur dioxide  density    pH  sulphates  \\\n",
       "0                    11.0                  34.0  0.99780  3.51       0.56   \n",
       "1                    25.0                  67.0  0.99680  3.20       0.68   \n",
       "2                    15.0                  54.0  0.99700  3.26       0.65   \n",
       "3                    17.0                  60.0  0.99800  3.16       0.58   \n",
       "4                    11.0                  34.0  0.99780  3.51       0.56   \n",
       "...                   ...                   ...      ...   ...        ...   \n",
       "1594                 32.0                  44.0  0.99490  3.45       0.58   \n",
       "1595                 39.0                  51.0  0.99512  3.52       0.76   \n",
       "1596                 29.0                  40.0  0.99574  3.42       0.75   \n",
       "1597                 32.0                  44.0  0.99547  3.57       0.71   \n",
       "1598                 18.0                  42.0  0.99549  3.39       0.66   \n",
       "\n",
       "      alcohol  quality  \n",
       "0         9.4        5  \n",
       "1         9.8        5  \n",
       "2         9.8        5  \n",
       "3         9.8        6  \n",
       "4         9.4        5  \n",
       "...       ...      ...  \n",
       "1594     10.5        5  \n",
       "1595     11.2        6  \n",
       "1596     11.0        6  \n",
       "1597     10.2        5  \n",
       "1598     11.0        6  \n",
       "\n",
       "[1599 rows x 12 columns]"
      ]
     },
     "execution_count": 97,
     "metadata": {},
     "output_type": "execute_result"
    }
   ],
   "source": [
    "data"
   ]
  },
  {
   "cell_type": "code",
   "execution_count": 98,
   "metadata": {},
   "outputs": [],
   "source": [
    "pop = np.random.randn(1000)"
   ]
  },
  {
   "cell_type": "code",
   "execution_count": 99,
   "metadata": {},
   "outputs": [
    {
     "data": {
      "text/plain": [
       "<seaborn.axisgrid.FacetGrid at 0x231668bcf10>"
      ]
     },
     "execution_count": 99,
     "metadata": {},
     "output_type": "execute_result"
    },
    {
     "data": {
      "image/png": "[encoded data removed]",
      "text/plain": [
       "<Figure size 500x500 with 1 Axes>"
      ]
     },
     "metadata": {},
     "output_type": "display_data"
    }
   ],
   "source": [
    "sns.displot(pop)"
   ]
  },
  {
   "cell_type": "code",
   "execution_count": 100,
   "metadata": {},
   "outputs": [
    {
     "data": {
      "text/plain": [
       "ShapiroResult(statistic=0.9987524915788416, pvalue=0.7236865479233643)"
      ]
     },
     "execution_count": 100,
     "metadata": {},
     "output_type": "execute_result"
    }
   ],
   "source": [
    "from scipy import stats\n",
    "stats.shapiro(pop)"
   ]
  },
  {
   "cell_type": "code",
   "execution_count": 101,
   "metadata": {},
   "outputs": [
    {
     "data": {
      "text/plain": [
       "ShapiroResult(statistic=0.9552919890668837, pvalue=1.0219317829705018e-21)"
      ]
     },
     "execution_count": 101,
     "metadata": {},
     "output_type": "execute_result"
    }
   ],
   "source": [
    "stats.shapiro(data['citric acid'])"
   ]
  },
  {
   "cell_type": "code",
   "execution_count": 102,
   "metadata": {},
   "outputs": [],
   "source": [
    "#pvalue is less than 0.05 and hence reject the h0 that the sample is drawn from a normal dist population"
   ]
  },
  {
   "cell_type": "code",
   "execution_count": 103,
   "metadata": {},
   "outputs": [
    {
     "name": "stdout",
     "output_type": "stream",
     "text": [
      "Test Statistic: 0.9560777863217667\n",
      "p-value: 0.4687631372254954\n"
     ]
    }
   ],
   "source": [
    "from scipy.stats import shapiro\n",
    "\n",
    "# Assuming you have a dataset named 'data'\n",
    "data = [350, 375, 400, 425, 450, 475, 500, 525, 550, 575, 600, 625, 650, 675, 380, 405, 430, 455, 480, 505]\n",
    "\n",
    "# Perform Shapiro-Wilk test\n",
    "stat, p = shapiro(data)\n",
    "\n",
    "# Print the test statistic and p-value\n",
    "print(\"Test Statistic:\", stat)\n",
    "print(\"p-value:\", p)\n"
   ]
  },
  {
   "cell_type": "code",
   "execution_count": null,
   "metadata": {},
   "outputs": [],
   "source": []
  }
 ],
 "metadata": {
  "kernelspec": {
   "display_name": "Python 3",
   "language": "python",
   "name": "python3"
  },
  "language_info": {
   "codemirror_mode": {
    "name": "ipython",
    "version": 3
   },
   "file_extension": ".py",
   "mimetype": "text/x-python",
   "name": "python",
   "nbconvert_exporter": "python",
   "pygments_lexer": "ipython3",
   "version": "3.11.9"
  }
 },
 "nbformat": 4,
 "nbformat_minor": 2
}
