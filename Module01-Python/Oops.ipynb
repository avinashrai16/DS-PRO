{
 "cells": [
  {
   "cell_type": "code",
   "execution_count": 37,
   "metadata": {},
   "outputs": [],
   "source": [
    "class bankaccount :\n",
    "\n",
    "    def openaccount(self, name, email_id) :\n",
    "        print (\"open an account by taking name and mail id\")\n",
    "        return name+\":\"+email_id\n",
    "    \n",
    "    def deposit(self, amount ) :\n",
    "        print(\"i am trying to deposit an amount in my account\")\n",
    "    \n",
    "    def withdraw(self, amt_with) :\n",
    "        print(\"withdraw the given amount:\",amt_with)\n",
    "    \n",
    "    def update_details(self, name_update, email_update) :\n",
    "        print(\"this function will update my name and mail id for account\")"
   ]
  },
  {
   "cell_type": "code",
   "execution_count": 38,
   "metadata": {},
   "outputs": [
    {
     "name": "stdout",
     "output_type": "stream",
     "text": [
      "open an account by taking name and mail id\n"
     ]
    },
    {
     "data": {
      "text/plain": [
       "'Avinash Rai:avinashrai16@gmail.com'"
      ]
     },
     "execution_count": 38,
     "metadata": {},
     "output_type": "execute_result"
    }
   ],
   "source": [
    "avinash = bankaccount()\n",
    "avinash.openaccount(\"Avinash Rai\", \"avinashrai16@gmail.com\")"
   ]
  },
  {
   "cell_type": "code",
   "execution_count": 39,
   "metadata": {},
   "outputs": [
    {
     "name": "stdout",
     "output_type": "stream",
     "text": [
      "withdraw the given amount: 10000\n"
     ]
    }
   ],
   "source": [
    "avinash.withdraw(10000)"
   ]
  },
  {
   "cell_type": "code",
   "execution_count": 52,
   "metadata": {},
   "outputs": [],
   "source": [
    "import datetime  \n",
    "\n",
    "class list_ops:\n",
    "  \n",
    "    #a = 10\n",
    "    #list = [2,3,4,5,6,7,8]\n",
    "    \n",
    "    def __init__(self, list):\n",
    "        self.classlist = list\n",
    "        self.createddatetime = cu\n",
    "\n",
    "    def extractfromindex (self,list,index):\n",
    "        return list[index]\n",
    "\n",
    "    def extractrangedata (self,list,start,end):\n",
    "        return list[start:end]\n",
    "    \n",
    "    def extracteven (self,list):\n",
    "        tempList = []\n",
    "        for i in list :\n",
    "            if i%2 == 0 :\n",
    "                tempList.append(i)\n",
    "        return tempList"
   ]
  },
  {
   "cell_type": "code",
   "execution_count": 51,
   "metadata": {},
   "outputs": [
    {
     "data": {
      "text/plain": [
       "[2, 3]"
      ]
     },
     "execution_count": 51,
     "metadata": {},
     "output_type": "execute_result"
    }
   ],
   "source": [
    "first_obj = list_ops()\n",
    "first_obj.extractrangedata ( [2,3,4,5,6,7,8] , 0, 2)"
   ]
  },
  {
   "cell_type": "code",
   "execution_count": 53,
   "metadata": {},
   "outputs": [
    {
     "data": {
      "text/plain": [
       "4"
      ]
     },
     "execution_count": 53,
     "metadata": {},
     "output_type": "execute_result"
    }
   ],
   "source": [
    "second_obj = list_ops([2,3,4,5,6,7,8])\n",
    "second_obj.extractfromindex ( second_obj.classlist , 2)"
   ]
  },
  {
   "cell_type": "code",
   "execution_count": null,
   "metadata": {},
   "outputs": [],
   "source": [
    "class boo"
   ]
  }
 ],
 "metadata": {
  "kernelspec": {
   "display_name": "Python 3",
   "language": "python",
   "name": "python3"
  },
  "language_info": {
   "codemirror_mode": {
    "name": "ipython",
    "version": 3
   },
   "file_extension": ".py",
   "mimetype": "text/x-python",
   "name": "python",
   "nbconvert_exporter": "python",
   "pygments_lexer": "ipython3",
   "version": "3.11.5"
  },
  "orig_nbformat": 4
 },
 "nbformat": 4,
 "nbformat_minor": 2
}
