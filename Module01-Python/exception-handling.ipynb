{
 "cells": [
  {
   "cell_type": "code",
   "execution_count": null,
   "metadata": {},
   "outputs": [],
   "source": [
    "l = [4,5,6,7,8,9,1,2]\n",
    "l1=[]\n",
    "def even_parser(l):\n",
    "    for i in l:\n",
    "        if i%2==0:\n",
    "            l1.append(i)\n",
    "    return l1"
   ]
  },
  {
   "cell_type": "code",
   "execution_count": null,
   "metadata": {},
   "outputs": [],
   "source": [
    "even_parser(l)\n",
    "print(\"print something\")"
   ]
  },
  {
   "cell_type": "code",
   "execution_count": null,
   "metadata": {},
   "outputs": [],
   "source": [
    "try:\n",
    "    a = int(input(\"enter a value for a\"))\n",
    "    b = int(input(\"enter a value for b\"))\n",
    "    c = a/b\n",
    "    print(c)\n",
    "\n",
    "except:\n",
    "    pass\n",
    "print(\"something\")"
   ]
  },
  {
   "cell_type": "code",
   "execution_count": null,
   "metadata": {},
   "outputs": [],
   "source": [
    "l = [4,5,6,7,8,9,1,2]\n",
    "l1=[]\n",
    "def even_parser(l):\n",
    "    try:\n",
    "        for i in l:\n",
    "            if i%2==0:\n",
    "                l1.append(i)\n",
    "        return l1\n",
    "    except:\n",
    "        pass\n",
    "    "
   ]
  },
  {
   "cell_type": "code",
   "execution_count": null,
   "metadata": {},
   "outputs": [],
   "source": [
    "even_parser(4)"
   ]
  },
  {
   "cell_type": "code",
   "execution_count": null,
   "metadata": {},
   "outputs": [],
   "source": [
    "try:\n",
    "    c = 6/0\n",
    "except (ZeroDivisionError,TypeError):\n",
    "    print(\"test\")\n",
    "\"\"\"except ZeroDivisionError as e:\n",
    "    print(e)\n",
    "except TypeError as e:\n",
    "    print(e)\"\"\""
   ]
  },
  {
   "cell_type": "code",
   "execution_count": null,
   "metadata": {},
   "outputs": [],
   "source": [
    "try : \n",
    "    x =5/0\n",
    "except ZeroDivisionError as z:\n",
    "    print(z)\n",
    "    try:\n",
    "        y = int(\"sudh\")\n",
    "    except ValueError as v:\n",
    "        print(v)\n"
   ]
  },
  {
   "cell_type": "code",
   "execution_count": null,
   "metadata": {},
   "outputs": [],
   "source": [
    "try : \n",
    "    x =5/1\n",
    "except ZeroDivisionError as z:\n",
    "    print(z)\n",
    "else:\n",
    "    print(\"this will excute itself once try will excute without any error\")\n",
    "finally:\n",
    "    print(\"this will be executed always\")"
   ]
  },
  {
   "cell_type": "code",
   "execution_count": null,
   "metadata": {},
   "outputs": [],
   "source": [
    "f = open(\"C:/Users/avina/OneDrive/Documents/DataScience/other classes/test.txt\")\n",
    "f.read()"
   ]
  },
  {
   "cell_type": "code",
   "execution_count": 1,
   "metadata": {},
   "outputs": [],
   "source": [
    "import logging "
   ]
  },
  {
   "cell_type": "code",
   "execution_count": 2,
   "metadata": {},
   "outputs": [],
   "source": [
    "logging.basicConfig(filename = \"test-02-11-2023.log\",\n",
    "                    level=logging.INFO, \n",
    "                    format='%(asctime)s : %(levelname)s : %(message)s')"
   ]
  },
  {
   "cell_type": "code",
   "execution_count": 3,
   "metadata": {},
   "outputs": [],
   "source": [
    "logging.debug('This is a debug message')  # This won't be printed due to the log level being set to INFO\n",
    "logging.info('This is an info message')   # This will be printed\n",
    "logging.warning('This is a warning message')  # This will be printed\n",
    "logging.error('This is an error message')  # This will be printed\n",
    "logging.critical('This is a critical message')  # This will be printed"
   ]
  },
  {
   "cell_type": "code",
   "execution_count": null,
   "metadata": {},
   "outputs": [],
   "source": []
  }
 ],
 "metadata": {
  "kernelspec": {
   "display_name": "Python 3",
   "language": "python",
   "name": "python3"
  },
  "language_info": {
   "codemirror_mode": {
    "name": "ipython",
    "version": 3
   },
   "file_extension": ".py",
   "mimetype": "text/x-python",
   "name": "python",
   "nbconvert_exporter": "python",
   "pygments_lexer": "ipython3",
   "version": "3.11.6"
  }
 },
 "nbformat": 4,
 "nbformat_minor": 2
}
