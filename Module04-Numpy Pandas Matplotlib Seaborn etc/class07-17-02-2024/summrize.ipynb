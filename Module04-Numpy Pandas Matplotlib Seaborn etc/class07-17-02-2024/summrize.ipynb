{
 "cells": [
  {
   "cell_type": "code",
   "execution_count": null,
   "metadata": {},
   "outputs": [],
   "source": [
    "# different graphs and use cases\n",
    "# Scatter plot >> to understand relationship between two variable\n",
    "# line chart >> whenever on x axis , we have time component\n",
    "# bar chart  >> for categorical data\n",
    "# count chart >> for categorical data\n",
    "# pie chart >> for the distribution of different unique classes\n",
    "# box plot and violin plot >> to determine outlier\n",
    "# histogram/distribution >> for continuous data\n",
    "# heat map >> to understand the corelation\n",
    "# Pair plot >> all the numerical relationship in one plot\n",
    "# join plot >> relationship and distribution of data\n",
    "# swarm plot/rel plot >> scatter plot\n",
    "#lml plot >> reg line"
   ]
  }
 ],
 "metadata": {
  "language_info": {
   "name": "python"
  }
 },
 "nbformat": 4,
 "nbformat_minor": 2
}
