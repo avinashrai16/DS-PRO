{
 "cells": [
  {
   "cell_type": "markdown",
   "metadata": {},
   "source": [
    "\"\"\"Declare two variables, `x` and `y`, and assign them integer values. Swap the\n",
    "values of these variables without using any temporary variable.\"\"\""
   ]
  },
  {
   "cell_type": "code",
   "execution_count": null,
   "metadata": {},
   "outputs": [],
   "source": [
    "x = 10\n",
    "y = 20\n",
    "x = x+y\n",
    "y = x-y\n",
    "x = x-y\n",
    "print(\"value of x:\",x)\n",
    "print(\"value of y:\",y)"
   ]
  },
  {
   "cell_type": "markdown",
   "metadata": {},
   "source": [
    "\"\"\"Create a program that calculates the area of a rectangle. Take the length and\n",
    "width as inputs from the user and store them in variables. Calculate and\n",
    "display the area.\"\"\""
   ]
  },
  {
   "cell_type": "code",
   "execution_count": null,
   "metadata": {},
   "outputs": [],
   "source": [
    "# taking input for two sides of rectangle\n",
    "side_x = int(input())\n",
    "side_y = int(input())\n",
    "# calculating the area of given rectangle\n",
    "area_of_rectangle = side_x * side_y\n",
    "\n",
    "print(\"area of the rectangle having one side as:\",side_x,\"and other side:\",side_y,\" is:\",area_of_rectangle)"
   ]
  },
  {
   "cell_type": "markdown",
   "metadata": {},
   "source": [
    "\"\"\"Write a Python program that converts temperatures from Celsius to Fahrenheit. Take the temperature in Celsius as input, store it in a variable,\n",
    "convert it to Fahrenheit, and display the result.\"\"\""
   ]
  },
  {
   "cell_type": "code",
   "execution_count": null,
   "metadata": {},
   "outputs": [],
   "source": [
    "# input celsius degree temperature\n",
    "celsius_temp = float(input())\n",
    "\n",
    "# converting celsius degree temperature to Fahrenheit\n",
    "fahrenheit_temp = (celsius_temp*9/5)+32\n",
    "\n",
    "print(\"The Fahrenheit equivalent temperature of \", celsius_temp,\" celsius = \", fahrenheit_temp)"
   ]
  },
  {
   "cell_type": "markdown",
   "metadata": {},
   "source": [
    "Write a Python program that takes a string as input and prints the length of the string."
   ]
  },
  {
   "cell_type": "code",
   "execution_count": null,
   "metadata": {},
   "outputs": [],
   "source": [
    "input_string = input()\n",
    "print(\"length of your input '\"+input_string+\"' is \",len(input_string))"
   ]
  },
  {
   "cell_type": "markdown",
   "metadata": {},
   "source": [
    "Create a program that takes a sentence from the user and counts the number of vowels (a, e, i, o, u) in the string."
   ]
  },
  {
   "cell_type": "code",
   "execution_count": null,
   "metadata": {},
   "outputs": [],
   "source": [
    "# the below code will take the input from the user, then conver the string in lower case for checking the small and capital letters\n",
    "# and will count the vowels\n",
    "sentence_input = input()\n",
    "sentence_input_lower = sentence_input.lower()\n",
    "print(\"as per your input '\"+sentence_input+\"' following are the vowel count \"\n",
    "     ,\"a/A:\",sentence_input_lower.count(\"a\")\n",
    "     ,\"e/E:\",sentence_input_lower.count(\"e\")\n",
    "     ,\"i/I:\",sentence_input_lower.count(\"i\")\n",
    "     ,\"o/O:\",sentence_input_lower.count(\"o\")\n",
    "     ,\"u/U:\",sentence_input_lower.count(\"u\")\n",
    "     )"
   ]
  },
  {
   "cell_type": "markdown",
   "metadata": {},
   "source": [
    "Given a string, reverse the order of characters using string slicing and print the reversed string."
   ]
  },
  {
   "cell_type": "code",
   "execution_count": null,
   "metadata": {},
   "outputs": [],
   "source": [
    "string_to_reverse = input()\n",
    "print(\"input string:\"+string_to_reverse)\n",
    "print(\"reversed string:\"+string_to_reverse[-1::-1])"
   ]
  },
  {
   "cell_type": "markdown",
   "metadata": {},
   "source": [
    "Write a program that takes a string as input and checks if it is a palindrome (reads the same forwards and backwards)."
   ]
  },
  {
   "cell_type": "code",
   "execution_count": null,
   "metadata": {},
   "outputs": [],
   "source": [
    "string_to_check = input()\n",
    "\n",
    "string_to_check_reverse = string_to_check[-1::-1]\n",
    "print(\"input string:\"+string_to_check)\n",
    "print(\"reversed string:\"+string_to_check_reverse)\n",
    "print(\"is given input is palindrome ?\",(string_to_check_reverse == string_to_check))"
   ]
  },
  {
   "cell_type": "markdown",
   "metadata": {},
   "source": [
    "Create a program that takes a string as input and removes all the spaces from\n",
    "it. Print the modified string without spaces."
   ]
  },
  {
   "cell_type": "code",
   "execution_count": null,
   "metadata": {},
   "outputs": [],
   "source": [
    "string_to_remove_spaces = input()\n",
    "print(\"input string:\"+string_to_remove_spaces)\n",
    "print(\"string without space:\"+string_to_remove_spaces.replace(\" \",\"\")) # repalce the space with empty "
   ]
  }
 ],
 "metadata": {
  "kernelspec": {
   "display_name": "Python 3",
   "language": "python",
   "name": "python3"
  },
  "language_info": {
   "codemirror_mode": {
    "name": "ipython",
    "version": 3
   },
   "file_extension": ".py",
   "mimetype": "text/x-python",
   "name": "python",
   "nbconvert_exporter": "python",
   "pygments_lexer": "ipython3",
   "version": "3.11.6"
  }
 },
 "nbformat": 4,
 "nbformat_minor": 2
}
