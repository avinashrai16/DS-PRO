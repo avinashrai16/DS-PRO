{
  "nbformat": 4,
  "nbformat_minor": 0,
  "metadata": {
    "colab": {
      "provenance": [],
      "authorship_tag": "ABX9TyPRBqlFrGcfjgLGdSMzzpMk"
    },
    "kernelspec": {
      "name": "python3",
      "display_name": "Python 3"
    },
    "language_info": {
      "name": "python"
    }
  },
  "cells": [
    {
      "cell_type": "code",
      "execution_count": null,
      "metadata": {
        "colab": {
          "base_uri": "https://localhost:8080/"
        },
        "id": "33l8gXmOqblg",
        "outputId": "fcb73a63-727b-46df-94d2-ac5ac8d6a4b6"
      },
      "outputs": [
        {
          "output_type": "stream",
          "name": "stdout",
          "text": [
            "Element  30  occurs  3  times\n"
          ]
        }
      ],
      "source": [
        "# Problem 1.Given an array of n numbers, give an algorithm which gives the element appearing maximum number of times ?\n",
        "# Approach 1\n",
        "\n",
        "def maxFreq(arr, n):\n",
        "\n",
        "\telement = -1\n",
        "\tcount = 1\n",
        "\n",
        "\tfor i in range(0, n):\n",
        "\t\tif (arr[i] == arr[element]):\n",
        "\t\t\tcount += 1\n",
        "\t\telse:\n",
        "\t\t\tcount -= 1\n",
        "\n",
        "\t\tif (count == 0):\n",
        "\t\t\telement = i\n",
        "\t\t\tcount = 1\n",
        "\n",
        "\treturn arr[element]\n",
        "\n",
        "#\n",
        "arr = [40,30,30, 40, 30 ]\n",
        "n = len(arr)\n",
        "freq = maxFreq(arr, n)\n",
        "count = 0\n",
        "\n",
        "for i in range (n):\n",
        "\t\tif(arr[i] == freq):\n",
        "\t\t\tcount += 1\n",
        "\n",
        "print(\"Element \", maxFreq(arr , n),\n",
        "\t\" occurs \", count, \" times\")\n",
        "\n",
        "\n"
      ]
    },
    {
      "cell_type": "code",
      "source": [
        "# Approach 2\n",
        "\n",
        "def find_most_frequent_element(arr):\n",
        "    # Create a dictionary to store the frequency of each element\n",
        "    frequency_dict = {}\n",
        "\n",
        "    # Initialize variables to keep track of the most frequent element\n",
        "    max_element = None\n",
        "    max_count = 0\n",
        "\n",
        "    # Traverse the array and update the frequency in the dictionary\n",
        "    for num in arr:\n",
        "        if num not in frequency_dict:\n",
        "            frequency_dict[num] = 1\n",
        "        else:\n",
        "            frequency_dict[num] += 1\n",
        "\n",
        "        # Update the maximum element and count if needed\n",
        "        if frequency_dict[num] > max_count:\n",
        "            max_element = num\n",
        "            max_count = frequency_dict[num]\n",
        "\n",
        "    return max_element,max_count\n",
        "\n",
        "# Example usage:\n",
        "arr = [1, 2, 3, 2]\n",
        "result = find_most_frequent_element(arr)\n",
        "print(\"The element appearing maximum number of times is:\", result)\n"
      ],
      "metadata": {
        "id": "GR6vZWta6rHe"
      },
      "execution_count": null,
      "outputs": []
    },
    {
      "cell_type": "code",
      "source": [
        "# Problem 2 : We are given a list of n-1 integers and these integers are in the range of 1 to n . There are no\n",
        "# duplicates in the list. One of the integers is missing in the list. Give an algorithm to find that element Ex:\n",
        "# [1,2,4,6,3,7,8] 5 is the missing num.\n",
        "\n",
        "def find_missing_element(arr):\n",
        "    # Calculate the sum of the first n natural numbers as per range given\n",
        "    n = len(arr)+1 # doing + 1 as we know their is one number less in the array\n",
        "    total_sum = n * (n + 1) // 2 # forrmula for sum of n natural number\n",
        "\n",
        "    # Calculate the sum of the given array\n",
        "    array_sum = 0\n",
        "    for i in arr :\n",
        "        array_sum = array_sum+i\n",
        "\n",
        "    # Find the missing element by subtracting the array sum from the total sum\n",
        "    missing_element = total_sum - array_sum\n",
        "\n",
        "    return missing_element\n",
        "\n",
        "# Example usage:\n",
        "arr = [1, 2, 4, 5, 3, 7, 8]\n",
        "result = find_missing_element(arr)\n",
        "print(\"The missing element is:\", result)\n",
        "\n",
        "\n"
      ],
      "metadata": {
        "id": "CgzqjpBFbsFv"
      },
      "execution_count": null,
      "outputs": []
    },
    {
      "cell_type": "code",
      "source": [
        "# Problem 3 : Given an array of n positive numbers. All numbers occurs even number of times except 1 which\n",
        "# occurs odd number of times. Find that number in O(n) time and O(1) space. Ex: [1,2,3,2,3,1,3]. 3 is repeats odd times.\n",
        "\n",
        "def find_odd_occurrence(arr):\n",
        "    result = 0\n",
        "\n",
        "    # XOR all the elements in the array , using XOR commutative property so for given array  1^2^3^2^3^1^3 = 1^1^2^2^3^3^3 = 0^0^3 = 3\n",
        "    for num in arr:\n",
        "        result = result ^ num\n",
        "        print(result)\n",
        "\n",
        "    return result\n",
        "#\n",
        "# Example usage:\n",
        "arr = [4,2,3,2,3,4,3]\n",
        "result = find_odd_occurrence(arr)\n",
        "print(\"The number occurring odd number of times is:\", result)\n",
        "\n",
        "\n"
      ],
      "metadata": {
        "id": "qVRJJbH5qTvf"
      },
      "execution_count": null,
      "outputs": []
    },
    {
      "cell_type": "code",
      "source": [
        "### ignore this is rough code ####\n",
        "# decimal_number = 2\n",
        "# binary_representation = bin(decimal_number)\n",
        "# print(f\"The binary representation of {decimal_number} is: {binary_representation}\")\n",
        "# print(10^2^2^10)\n",
        "### ignore this is rough code ####\n"
      ],
      "metadata": {
        "id": "Q8EDEL9NYzp-"
      },
      "execution_count": null,
      "outputs": []
    },
    {
      "cell_type": "code",
      "source": [
        "# Problem 4 : Given an array of n elements. Find two elements in the array such that their sum is equal to given element K.\n",
        "\n",
        "#Solution1: Time Complexity O(n^2)\n",
        "\n",
        "arr = [1, 3, 4, 5]\n",
        "\n",
        "def find2Element(arr, k):\n",
        "  current =arr[0]\n",
        "  n = len(arr)\n",
        "  if n == 1 :\n",
        "    return 0\n",
        "  for i in range(1, n+1):\n",
        "    if i < n :\n",
        "      if current+arr[i] == k:\n",
        "        return current, arr[i]\n",
        "  return find2Element(arr[1:], k)\n",
        "\n",
        "temp = find2Element(arr,4)\n",
        "print(temp)\n",
        "\n"
      ],
      "metadata": {
        "id": "1wDIZ0YquMg8"
      },
      "execution_count": null,
      "outputs": []
    },
    {
      "cell_type": "code",
      "source": [
        "# Problem 4 : Given an array of n elements. Find two elements in the array such that their sum is equal to given element K.\n",
        "\n",
        "# approach 2 Time Complexity O(n)\n",
        "def find2Element(arr, k):\n",
        "    element = set()\n",
        "\n",
        "    for num in arr:\n",
        "        complement = k - num\n",
        "        if complement in element:\n",
        "            return complement, num\n",
        "        element.add(num)\n",
        "\n",
        "    return None\n",
        "\n",
        "# function call:\n",
        "arr = [8, 3, 4, 5]\n",
        "k = 17\n",
        "result = find2Element(arr, k)\n",
        "\n",
        "if result:\n",
        "    print(f\"Elements found: {result[0]}, {result[1]}\")\n",
        "else:\n",
        "    print(\"No such elements found.\")\n"
      ],
      "metadata": {
        "id": "pAdGgdXT8eXg"
      },
      "execution_count": null,
      "outputs": []
    },
    {
      "cell_type": "code",
      "source": [
        "# Problem 5 : Given an array of both positive and negative numbers, find two numbers such that their sum is closest to 0.\n",
        "# Ex: [ 1, 60, -10, 70, -80, 85]. Ans : -80, 85\n",
        "\n",
        "# TC O(n^2)\n",
        "\n",
        "def sum_of_nums_close_to_zero(arr, k):\n",
        "  elements = []\n",
        "  current_val = None\n",
        "  n = len(arr)\n",
        "  for i in range(0, n) :\n",
        "    for j in range (i+1, n):\n",
        "        if current_val is None:\n",
        "          elements.append(arr[i])\n",
        "          elements.append(arr[j])\n",
        "          current_val = k- ((arr[i])+(arr[j]))\n",
        "        else:\n",
        "          #print(abs(k - current_val) , abs(k- (arr[i]+arr[j])))\n",
        "          if  abs(k - current_val) > abs(k- (arr[i]+arr[j])):\n",
        "            current_val = k- (arr[i]+arr[j])\n",
        "            elements.clear()\n",
        "            elements.append(arr[i])\n",
        "            elements.append(arr[j])\n",
        "  return elements\n",
        "\n",
        "arr = [ 1, 60, -10, 70, -80, 80 ]\n",
        "result = sum_of_nums_close_to_zero(arr, 0)\n",
        "print(f\"in array {arr} the elements {result} sum is equal to zero or close to zero\")\n"
      ],
      "metadata": {
        "colab": {
          "base_uri": "https://localhost:8080/"
        },
        "id": "wzZ4ExbogpDc",
        "outputId": "a94c0896-273e-4721-8f1f-d461a80377bc"
      },
      "execution_count": null,
      "outputs": [
        {
          "output_type": "stream",
          "name": "stdout",
          "text": [
            "in array [1, 60, -10, 70, -80, 80] the elements [-80, 80] sum is equal to zero or close to zero\n"
          ]
        }
      ]
    },
    {
      "cell_type": "code",
      "source": [
        "# Problem 5 : Given an array of both positive and negative numbers, find two numbers such that their sum is closest to 0.\n",
        "# Ex: [ 1, 60, -10, 70, -80, 85]. Ans : -80, 85\n",
        "\n",
        "# TC O(nlogn) with usage of inbuild sorting method  else it will be O(n^2)\n",
        "\n",
        "def bubble_sort(arr):\n",
        "    n = len(arr)\n",
        "\n",
        "    # Traverse through all array elements\n",
        "    for i in range(n):\n",
        "        # Last i elements are already in place, so we don't need to check them\n",
        "        for j in range(0, n - i - 1):\n",
        "            # Swap if the element found is greater than the next element\n",
        "            if arr[j] > arr[j + 1]:\n",
        "                arr[j], arr[j + 1] = arr[j + 1], arr[j]\n",
        "\n",
        "\n",
        "def closestToZeroPair(arr):\n",
        "    # print(arr)\n",
        "    n = len(arr)\n",
        "\n",
        "    if n < 2:\n",
        "        return None  # There must be at least two elements in the array\n",
        "\n",
        "    arr.sort()  # Sort the array\n",
        "    #bubble_sort(arr)\n",
        "    # print(arr)\n",
        "    left = 0\n",
        "    right = n - 1\n",
        "\n",
        "    closest_sum = float('inf')  # Initialize with positive infinity\n",
        "    closest_pair = None\n",
        "\n",
        "    while left < right:\n",
        "        # print(left, right)\n",
        "        current_sum = arr[left] + arr[right]\n",
        "\n",
        "        if abs(current_sum) < abs(closest_sum):\n",
        "            closest_sum = current_sum\n",
        "            closest_pair = (arr[left], arr[right])\n",
        "\n",
        "        if current_sum < 0:\n",
        "            left += 1\n",
        "        else:\n",
        "            right -= 1\n",
        "\n",
        "    return closest_pair\n",
        "\n",
        "# Example usage:\n",
        "arr = [2,1,4,6, -9]\n",
        "result = closestToZeroPair(arr)\n",
        "\n",
        "if result:\n",
        "    print(f\"Closest pair: {result[0]}, {result[1]}\")\n",
        "else:\n",
        "    print(\"No such pair found.\")\n",
        "\n"
      ],
      "metadata": {
        "id": "6lw7FrI2zqMD"
      },
      "execution_count": null,
      "outputs": []
    },
    {
      "cell_type": "code",
      "source": [
        "# Problem 6 : Given an array of n elements . Find three elements such that their sum is equal to the given number.\n",
        "\n",
        "# solution 1 # time compexity O(n^2)\n",
        "def find3Elements(arr, target):\n",
        "    n = len(arr)\n",
        "\n",
        "    for i in range(n - 2):\n",
        "        element = set()\n",
        "        current_sum = target - arr[i]\n",
        "        # print(\"current_sum\",current_sum)\n",
        "        for j in range(i + 1, n):\n",
        "            complement = current_sum - arr[j]\n",
        "\n",
        "            if complement in element:\n",
        "                return arr[i], arr[j], complement\n",
        "\n",
        "            element.add(arr[j])\n",
        "\n",
        "    return None\n",
        "\n",
        "# code\n",
        "arr = [1, 2, 3, 4, 5, 6, 7, 8, 9]\n",
        "target = 18\n",
        "result = find3Elements(arr, target)\n",
        "\n",
        "if result:\n",
        "    print(f\"Elements found: {result[0]}, {result[1]}, {result[2]}\")\n",
        "else:\n",
        "    print(\"No such elements found.\")\n",
        "\n"
      ],
      "metadata": {
        "id": "0PmdWHv8G6e-"
      },
      "execution_count": null,
      "outputs": []
    },
    {
      "cell_type": "code",
      "source": [
        "# Problem 7 : Given an array of n elements . Find three elements i, j, k in the array such that i * i + j * j = k*k.\n",
        "\n",
        "# Time Complexity O(n^2)\n",
        "def find_pythagorean_triplet(arr):\n",
        "    n = len(arr)\n",
        "    squared_set = set(x * x for x in arr)\n",
        "\n",
        "    for i in range(n):\n",
        "        for j in range(i + 1, n):\n",
        "            sum_of_squares = arr[i] * arr[i] + arr[j] * arr[j]\n",
        "            if sum_of_squares in squared_set:\n",
        "                # Triplet found\n",
        "                k = int(sum_of_squares ** 0.5)\n",
        "                return arr[i], arr[j], k\n",
        "\n",
        "    # No triplet found\n",
        "    return None\n",
        "\n",
        "# Example usage\n",
        "arr = [3, 1, 4, 6, 5]\n",
        "result = find_pythagorean_triplet(arr)\n",
        "\n",
        "if result:\n",
        "    print(\"Pythagorean triplet found:\", result)\n",
        "else:\n",
        "    print(\"No Pythagorean triplet found.\")\n",
        "\n"
      ],
      "metadata": {
        "id": "n5AitW2zNV6H"
      },
      "execution_count": null,
      "outputs": []
    },
    {
      "cell_type": "code",
      "source": [
        "# Problem 8 : An element is a majority if it appears more than n/2 times. Give an algorithm takes an array of n\n",
        "# element as argument and identifies a majority (if it exists).\n",
        "\n",
        "# solution 1\n",
        "#time complexity : O(nlog n)\n",
        "\n",
        "def major_element(arr):\n",
        "\n",
        "  arr.sort() # O(nlog n)\n",
        "  n = len(arr)\n",
        "  current = None\n",
        "  count = 0\n",
        "  main_item = set()\n",
        "  main_count = 0\n",
        "  for i in range(0, n): # O(n)\n",
        "    # start\n",
        "    if current is None:\n",
        "      current = arr[i]\n",
        "      count = 1\n",
        "    else:\n",
        "      # if count > current/2 this condtion is being checked twice as to cover the last element count\n",
        "      if current == arr[i]: # if elelemnt is same as the current\n",
        "        count += 1\n",
        "        if count > len(arr)//2: # if count is more than n/2 add that in the list\n",
        "            main_item.add(current)\n",
        "      else:\n",
        "        if count > len(arr)//2: # if count is more than n/2 add that in the list\n",
        "            main_item.add(current)\n",
        "        # set the current and count as item differes from prevous one\n",
        "        current = arr[i]\n",
        "        count = 1\n",
        "\n",
        "  return main_item\n",
        "\n",
        "arr1 = [2,2,3,3,3]\n",
        "print(f\"elements in array {arr1} which has majority are {major_element(arr1)}\")\n",
        "\n"
      ],
      "metadata": {
        "colab": {
          "base_uri": "https://localhost:8080/"
        },
        "id": "RJGpPyxowzz6",
        "outputId": "3b8f56d3-81f8-4205-aa5e-b01a93b0506a"
      },
      "execution_count": null,
      "outputs": [
        {
          "output_type": "stream",
          "name": "stdout",
          "text": [
            "elements in array [2, 2, 3, 3, 3] which has majority are {3}\n"
          ]
        }
      ]
    },
    {
      "cell_type": "code",
      "source": [
        "# Problem 8 : An element is a majority if it appears more than n/2 times. Give an algorithm takes an array of n # element as argument and identifies a majority (if it exists).\n",
        "\n",
        "# case 2 if there is only one element which has count more than n/2 times\n",
        "#time complexity : O(n)\n",
        "\n",
        "def find_majority_element(arr):\n",
        "    element = None\n",
        "    count = 0\n",
        "\n",
        "    # Step 1: Find an item which has higest occurences\n",
        "    for num in arr: #O(n)\n",
        "        if count == 0:\n",
        "            element = num\n",
        "        if num == element:\n",
        "          count += 1\n",
        "        else:\n",
        "          count -= 1\n",
        "    # Step 2: Verify if the candidate is a majority element\n",
        "    count = 0\n",
        "    for num in arr: # O(n)\n",
        "      if num == element:\n",
        "          count += 1\n",
        "    if count > len(arr) // 2:\n",
        "        return element\n",
        "    else:\n",
        "        return None\n",
        "\n",
        "#usage\n",
        "arr = [3, 3, 4, 2, 4, 4, 2,4,4]\n",
        "result = find_majority_element(arr)\n",
        "\n",
        "if result is not None:\n",
        "    print(\"Majority element:\", result)\n",
        "else:\n",
        "    print(\"No majority element found.\")\n"
      ],
      "metadata": {
        "id": "wjvKIdY67lr6"
      },
      "execution_count": null,
      "outputs": []
    },
    {
      "cell_type": "code",
      "source": [
        "# Problem 9 : Given n × n matrix, and in each row all 1’s are followed by 0’s. Find the row with the maximum number of 0’s.\n",
        "\n",
        "\n",
        "\n",
        "def find_max_zeros_row(matrix):\n",
        "    max_zeros_row = -1\n",
        "    max_zeros_count = -1\n",
        "\n",
        "    for i in range(len(matrix)):\n",
        "        # Find the index of the first occurrence of 0 in the row\n",
        "        zeros_count = matrix[i].index(0)\n",
        "\n",
        "        # Count the number of zeros in the row using the index\n",
        "        zeros_count = len(matrix[i]) - zeros_count\n",
        "\n",
        "        if zeros_count > max_zeros_count:\n",
        "            max_zeros_count = zeros_count\n",
        "            max_zeros_row = i\n",
        "\n",
        "    return max_zeros_row\n",
        "\n",
        "# Example usage:\n",
        "matrix = [\n",
        "    [1, 1, 1, 0, 0],\n",
        "    [1, 1, 0, 0, 0],\n",
        "    [1, 1, 1, 1, 0],\n",
        "    [1, 1, 0, 0, 0],\n",
        "    [1, 1, 1, 1, 0]\n",
        "]\n",
        "\n",
        "result = find_max_zeros_row(matrix)\n",
        "print(\"Row with the maximum number of zeros:\", result)\n"
      ],
      "metadata": {
        "id": "kYxxybanF1YF"
      },
      "execution_count": null,
      "outputs": []
    },
    {
      "cell_type": "code",
      "source": [
        "# Problem 10 : Sort an array of 0’s, 1’s and 2’s [or R’s, G’s and B’s]: Given an array A[] consisting of 0’s, 1’s and\n",
        "# 2’s, give an algorithm for sorting A[].The algorithm should put all 0’s first, then all 1’s and finally all 2’s at the\n",
        "# end. Example Input = {0,1,1,0,1,2,1,2,0,0,0,1}, Output = {0,0,0,0,0,1,1,1,1,1,2,2}\n",
        "\n",
        "# Solution 1\n",
        "# Time complexity O(n)\n",
        "def arrangeZeroOneTwo(arr):\n",
        "    zero_index = 0\n",
        "    for i in range(0, len(arr)):  # arrange zeros first\n",
        "        if arr[i] == 0:\n",
        "            arr[i], arr[zero_index] = arr[zero_index], arr[i]\n",
        "            zero_index += 1\n",
        "\n",
        "    # start of one will from the end of zero index\n",
        "    one_index = zero_index\n",
        "    for i in range(0, len(arr)):\n",
        "        if arr[i] == 1:\n",
        "            arr[i], arr[one_index] = arr[one_index], arr[i]\n",
        "            one_index += 1\n",
        "    print(arr)\n",
        "\n",
        "\n",
        "arr1 = [0,1,1,0,1,2,1,2,0,0,0,1]\n",
        "\n",
        "arrangeZeroOneTwo(arr1)\n"
      ],
      "metadata": {
        "colab": {
          "base_uri": "https://localhost:8080/"
        },
        "id": "WhKemrPeOqEV",
        "outputId": "c0ceaae7-672f-4d6d-fcab-3ec174cc57b0"
      },
      "execution_count": 1,
      "outputs": [
        {
          "output_type": "stream",
          "name": "stdout",
          "text": [
            "[0, 0, 0, 0, 0, 1, 1, 1, 1, 1, 2, 2]\n"
          ]
        }
      ]
    },
    {
      "cell_type": "code",
      "source": [
        "# Problem 10 : Sort an array of 0’s, 1’s and 2’s [or R’s, G’s and B’s]: Given an array A[] consisting of 0’s, 1’s and\n",
        "# 2’s, give an algorithm for sorting A[].The algorithm should put all 0’s first, then all 1’s and finally all 2’s at the\n",
        "# end. Example Input = {0,1,1,0,1,2,1,2,0,0,0,1}, Output = {0,0,0,0,0,1,1,1,1,1,2,2}\n",
        "\n",
        "# Solution 2\n",
        "# Time complexity O(n)\n",
        "\n",
        "def arrangeZeroOneTwo(arr):\n",
        "    low, mid, high = 0, 0, len(arr) - 1\n",
        "\n",
        "    while mid <= high:\n",
        "        if arr[mid] == 0:\n",
        "            arr[low], arr[mid] = arr[mid], arr[low]\n",
        "            low += 1\n",
        "            mid += 1\n",
        "        elif arr[mid] == 1:\n",
        "            mid += 1\n",
        "        else:\n",
        "            arr[mid], arr[high] = arr[high], arr[mid]\n",
        "            high -= 1\n",
        "\n",
        "# usage:\n",
        "arr = [0, 1, 1, 0, 1, 2, 1, 2, 0, 0, 0, 1]\n",
        "arrangeZeroOneTwo(arr)\n",
        "\n",
        "print(\"Sorted array:\", arr)\n"
      ],
      "metadata": {
        "colab": {
          "base_uri": "https://localhost:8080/"
        },
        "id": "EUo8tSzF1VKK",
        "outputId": "a991e649-a530-466d-c453-1d8f9652cd02"
      },
      "execution_count": 2,
      "outputs": [
        {
          "output_type": "stream",
          "name": "stdout",
          "text": [
            "Sorted array: [0, 0, 0, 0, 0, 1, 1, 1, 1, 1, 2, 2]\n"
          ]
        }
      ]
    }
  ]
}